{
 "cells": [
  {
   "cell_type": "markdown",
   "metadata": {},
   "source": [
    "1. Выберите те наборы векторов, которые являются линейно независимыми (один вектор тоже считается набором).\n",
    " - (1,0), (0,1) (+)\n",
    " - (1, 0), (0, 1), (-1, 1) (-)\n",
    " - (1, 0) (+) ?\n",
    " - (1, 0), (1, 1) (+)"
   ]
  },
  {
   "cell_type": "markdown",
   "metadata": {},
   "source": [
    "2. Чему равна манхэттенская норма вектора a = (-1, 2, -1)?\n",
    " - 4"
   ]
  },
  {
   "cell_type": "markdown",
   "metadata": {},
   "source": [
    "3. Чему равно скалярное произведение векторов a=(1, 2, 3) и b=(-3, 1, 1)?\n",
    " - 2\n"
   ]
  },
  {
   "cell_type": "markdown",
   "metadata": {},
   "source": [
    "4. В пространствах какой размерности можно выбрать k линейно независимых векторов?\n",
    " - k (+)\n",
    " - k-1 (-)\n",
    " - k+1 (+)"
   ]
  },
  {
   "cell_type": "markdown",
   "metadata": {},
   "source": [
    "5. Какие из нижеприведенных команд корректно отработают и создадут вектор?\n",
    " - b = numpy.array(1, 2, 3, 4, 5, dtype=float) (-)\n",
    " - b = numpy.array([1, 2, 3, 4, 5], dtype=float) (+) \n",
    " - c = numpy.array([False, False, True]) (+)\n",
    " - f = numpy.arange(1, 2, 0.3, dtype=float) (+)"
   ]
  },
  {
   "cell_type": "code",
   "execution_count": 13,
   "metadata": {},
   "outputs": [],
   "source": [
    "import numpy\n",
    "from scipy import spatial"
   ]
  },
  {
   "cell_type": "code",
   "execution_count": 8,
   "metadata": {},
   "outputs": [],
   "source": [
    "b = numpy.array([1, 2, 3, 4, 5], dtype=float)\n",
    "c = numpy.array([False, False, True])\n",
    "f = numpy.arange(1, 2, 0.3, dtype=float)"
   ]
  },
  {
   "cell_type": "markdown",
   "metadata": {},
   "source": [
    "6. Пусть даны два вектора a = numpy.array([6, 3, -5]) и b = numpy.array([-1, 0, 7]). Какая из следующих команд считает евклидово расстояние между этими векторами?\n",
    " - scipy.spatial.distance.cdist(a[numpy.newaxis, :], b[numpy.newaxis, :], metric='euclidean')\n",
    "   $$ 14,213 $$"
   ]
  },
  {
   "cell_type": "code",
   "execution_count": 11,
   "metadata": {},
   "outputs": [],
   "source": [
    "a = numpy.array([6, 3, -5]) \n",
    "b = numpy.array([-1, 0, 7])"
   ]
  },
  {
   "cell_type": "code",
   "execution_count": 20,
   "metadata": {},
   "outputs": [
    {
     "name": "stdout",
     "output_type": "stream",
     "text": [
      "[[14.2126704]]\n",
      "1.2955324534752801\n",
      "[[ 7.  6.  1.]\n",
      " [ 4.  3.  4.]\n",
      " [ 4.  5. 12.]]\n"
     ]
    }
   ],
   "source": [
    "print scipy.spatial.distance.cdist(a[numpy.newaxis, :], b[numpy.newaxis, :], metric='euclidean')\n",
    "print numpy.linalg.norm(a, ord=2) - numpy.linalg.norm(b, ord=2)\n",
    "# print scipy.spatial.distance.cdist(b, a, metric='euclidean')\n",
    "print scipy.spatial.distance.cdist(a[:, numpy.newaxis], b[:, numpy.newaxis], metric='euclidean')"
   ]
  },
  {
   "cell_type": "markdown",
   "metadata": {},
   "source": [
    "7. Пусть даны два вектора a = numpy.array([0, -1, 11]) и b = numpy.array([3, 7, 2]). Какие из следующих команд считают скалярное произведение этих векторов?\n",
    " - a * b (-)  \n",
    " - numpy.dot(a, b) / numpy.linalg.norm(a) / numpy.linalg.norm(b) (-)  \n",
    " - numpy.dot(a, b) (+)  \n",
    " - b.dot(a) (+)  "
   ]
  },
  {
   "cell_type": "markdown",
   "metadata": {},
   "source": [
    "8. Пусть дан вектор a = numpy.array([8, 10, -1, 0, 0]). Какие из следующих команд преобразуют вектор a к вектор-столбцу?\n",
    " - a = a[numpy.newaxis, :] (-)  \n",
    " - a = a[:, numpy.newaxis] (+)  \n",
    " - a = a.reshape((1, 5)) (-)  \n",
    " - a = a.reshape((5, 1)) (+)  "
   ]
  },
  {
   "cell_type": "code",
   "execution_count": 21,
   "metadata": {},
   "outputs": [],
   "source": [
    "a = numpy.array([8, 10, -1, 0, 0])"
   ]
  },
  {
   "cell_type": "code",
   "execution_count": 27,
   "metadata": {},
   "outputs": [
    {
     "name": "stdout",
     "output_type": "stream",
     "text": [
      "(5L,)\n",
      "(1L, 5L)\n",
      "(5L, 1L)\n",
      "(1L, 5L)\n",
      "(5L, 1L)\n"
     ]
    }
   ],
   "source": [
    "print a.shape\n",
    "print a[numpy.newaxis, :].shape\n",
    "print  a[:, numpy.newaxis].shape\n",
    "print a.reshape((1, 5)).shape\n",
    "print a.reshape((5, 1)).shape"
   ]
  },
  {
   "cell_type": "code",
   "execution_count": null,
   "metadata": {},
   "outputs": [],
   "source": []
  }
 ],
 "metadata": {
  "kernelspec": {
   "display_name": "Python 2",
   "language": "python",
   "name": "python2"
  },
  "language_info": {
   "codemirror_mode": {
    "name": "ipython",
    "version": 2
   },
   "file_extension": ".py",
   "mimetype": "text/x-python",
   "name": "python",
   "nbconvert_exporter": "python",
   "pygments_lexer": "ipython2",
   "version": "2.7.15"
  }
 },
 "nbformat": 4,
 "nbformat_minor": 2
}
