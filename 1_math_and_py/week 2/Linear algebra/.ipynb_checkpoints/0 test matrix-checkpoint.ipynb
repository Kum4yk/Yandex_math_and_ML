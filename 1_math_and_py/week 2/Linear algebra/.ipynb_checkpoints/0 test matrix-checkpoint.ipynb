{
 "cells": [
  {
   "cell_type": "code",
   "execution_count": 1,
   "metadata": {},
   "outputs": [],
   "source": [
    "import numpy as np"
   ]
  },
  {
   "cell_type": "markdown",
   "metadata": {},
   "source": [
    "1. Выберите матрицу, которая подойдет для описания левой части системы из двух уравнений с неизвестными x и z:  \n",
    "\n",
    "$$ \\begin{equation*}\n",
    " \\begin{cases}\n",
    "   2x + 5z = 1, \n",
    "   \\\\\n",
    "   x - z = 2\n",
    " \\end{cases}\n",
    "\\end{equation*} $$\n",
    "  \n",
    "  -  $  \\begin{pmatrix}\n",
    "  3& 5\\\\\n",
    "  1& -1\n",
    "\\end{pmatrix} $\n"
   ]
  },
  {
   "cell_type": "markdown",
   "metadata": {},
   "source": [
    "2. Чему равен ранг следующей матрицы?  \n",
    "$$ \\begin{pmatrix}\n",
    "  1& 0& 1\\\\\n",
    "  1& 2& 2\n",
    "\\end{pmatrix} $$\n",
    " -  2\n"
   ]
  },
  {
   "cell_type": "markdown",
   "metadata": {},
   "source": [
    "3. Сколько решений может иметь система линейных уравнений?\n",
    " - Ни одного (+)\n",
    " - Одно  (+)\n",
    " - Больше одного, но конечное число  (-)\n",
    " - Бесконечное число (+)   "
   ]
  },
  {
   "cell_type": "markdown",
   "metadata": {},
   "source": [
    "4. К каким классам относится следующая матрица?\n",
    "$$ \\begin{pmatrix}\n",
    "  1& 2\\\\\n",
    "  1& 2\n",
    "\\end{pmatrix} $$\n",
    " - Диагональная\n",
    " - Ортогональная\n",
    " - Симметричная"
   ]
  },
  {
   "cell_type": "markdown",
   "metadata": {},
   "source": [
    "5. Какое из следующих утверждений правильно характеризует собственные векторы?  \n",
    " - Собственный вектор матрицы задает направление, вдоль которого соответствующее линейное преобразование действует как сжатие или растяжение"
   ]
  },
  {
   "cell_type": "markdown",
   "metadata": {},
   "source": [
    "6. Какие из нижеприведенных команд корректно отработают и создадут двумерный массив? \n",
    " - e = np.arange(1, 13, 2).reshape((3, 2)) (+)  \n",
    " - d = np.ones((10, 10)) (+)  \n",
    " - b = np.eye(2, 3) (+)  \n",
    " - c = np.eye((4, 5)) (-)  \n",
    " - a = np.array([4, 3, 2], [2, 9, 1], [3, 1, 9]) (-)  "
   ]
  },
  {
   "cell_type": "markdown",
   "metadata": {},
   "source": [
    "7. Пусть создан массив с помощью команды a = np.eye(4, 5). Что вернет операция a[[0, 3], [1, 3]]?  \n",
    " - Одномерный массив с числами 0 и 1."
   ]
  },
  {
   "cell_type": "code",
   "execution_count": 10,
   "metadata": {},
   "outputs": [
    {
     "name": "stdout",
     "output_type": "stream",
     "text": [
      "[[1. 0. 0. 0. 0.]\n",
      " [0. 1. 0. 0. 0.]\n",
      " [0. 0. 1. 0. 0.]\n",
      " [0. 0. 0. 1. 0.]]\n",
      "[0. 1.]\n"
     ]
    }
   ],
   "source": [
    "a = np.eye(4, 5)\n",
    "print a\n",
    "print a[[0, 3], [1, 3]]"
   ]
  }
 ],
 "metadata": {
  "kernelspec": {
   "display_name": "Python 2",
   "language": "python",
   "name": "python2"
  },
  "language_info": {
   "codemirror_mode": {
    "name": "ipython",
    "version": 2
   },
   "file_extension": ".py",
   "mimetype": "text/x-python",
   "name": "python",
   "nbconvert_exporter": "python",
   "pygments_lexer": "ipython2",
   "version": "2.7.15"
  }
 },
 "nbformat": 4,
 "nbformat_minor": 2
}
