{
 "cells": [
  {
   "cell_type": "markdown",
   "metadata": {},
   "source": [
    "# Решение оптимизационных задач в SciPy"
   ]
  },
  {
   "cell_type": "code",
   "execution_count": 1,
   "metadata": {
    "collapsed": true
   },
   "outputs": [],
   "source": [
    "from scipy import optimize"
   ]
  },
  {
   "cell_type": "code",
   "execution_count": 2,
   "metadata": {},
   "outputs": [
    {
     "name": "stdout",
     "output_type": "stream",
     "text": [
      "0.0\n"
     ]
    }
   ],
   "source": [
    "def f(x):   # The rosenbrock function\n",
    "    return .5*(1 - x[0])**2 + (x[1] - x[0]**2)**2\n",
    "    \n",
    "print f([1, 1])"
   ]
  },
  {
   "cell_type": "code",
   "execution_count": 3,
   "metadata": {},
   "outputs": [
    {
     "name": "stdout",
     "output_type": "stream",
     "text": [
      "[ 0.99999324  1.00001283]\n"
     ]
    }
   ],
   "source": [
    "result = optimize.brute(f, ((-5, 5), (-5, 5)))\n",
    "print result"
   ]
  },
  {
   "cell_type": "code",
   "execution_count": 4,
   "metadata": {},
   "outputs": [
    {
     "name": "stdout",
     "output_type": "stream",
     "text": [
      "    nfev: 1803\n",
      " success: True\n",
      "     fun: 1.9180451127782141e-20\n",
      "       x: array([ 1.,  1.])\n",
      " message: 'Optimization terminated successfully.'\n",
      "     nit: 59\n"
     ]
    }
   ],
   "source": [
    "print optimize.differential_evolution(f, ((-5, 5), (-5, 5)))"
   ]
  },
  {
   "cell_type": "code",
   "execution_count": 5,
   "metadata": {},
   "outputs": [],
   "source": [
    "import numpy as np\n",
    "\n",
    "def g(x):\n",
    "        return np.array((-2*.5*(1 - x[0]) - 4*x[0]*(x[1] - x[0]**2), 2*(x[1] - x[0]**2)))"
   ]
  },
  {
   "cell_type": "code",
   "execution_count": 6,
   "metadata": {},
   "outputs": [
    {
     "name": "stdout",
     "output_type": "stream",
     "text": [
      "2.38418579102e-07\n"
     ]
    }
   ],
   "source": [
    "print optimize.check_grad(f, g, [2, 2])"
   ]
  },
  {
   "cell_type": "code",
   "execution_count": 7,
   "metadata": {},
   "outputs": [
    {
     "name": "stdout",
     "output_type": "stream",
     "text": [
      "Optimization terminated successfully.\n",
      "         Current function value: 0.000000\n",
      "         Iterations: 16\n",
      "         Function evaluations: 24\n",
      "         Gradient evaluations: 24\n",
      "[ 1.00000017  1.00000026]\n"
     ]
    }
   ],
   "source": [
    "print optimize.fmin_bfgs(f, [2, 2], fprime=g)"
   ]
  },
  {
   "cell_type": "code",
   "execution_count": 8,
   "metadata": {},
   "outputs": [
    {
     "name": "stdout",
     "output_type": "stream",
     "text": [
      "   status: 0\n",
      "  success: True\n",
      "     njev: 24\n",
      "     nfev: 96\n",
      " hess_inv: array([[ 0.98632031,  1.97824298],\n",
      "       [ 1.97824298,  4.46512254]])\n",
      "      fun: 9.536835216356594e-15\n",
      "        x: array([ 1.00000007,  1.00000005])\n",
      "  message: 'Optimization terminated successfully.'\n",
      "      jac: array([  4.74151523e-07,  -1.53924328e-07])\n"
     ]
    }
   ],
   "source": [
    "print optimize.minimize(f, [2, 2])"
   ]
  },
  {
   "cell_type": "code",
   "execution_count": 9,
   "metadata": {},
   "outputs": [
    {
     "name": "stdout",
     "output_type": "stream",
     "text": [
      "   status: 0\n",
      "  success: True\n",
      "     njev: 24\n",
      "     nfev: 96\n",
      " hess_inv: array([[ 0.98632031,  1.97824298],\n",
      "       [ 1.97824298,  4.46512254]])\n",
      "      fun: 9.536835216356594e-15\n",
      "        x: array([ 1.00000007,  1.00000005])\n",
      "  message: 'Optimization terminated successfully.'\n",
      "      jac: array([  4.74151523e-07,  -1.53924328e-07])\n"
     ]
    }
   ],
   "source": [
    "print optimize.minimize(f, [2, 2], method='BFGS')"
   ]
  },
  {
   "cell_type": "code",
   "execution_count": 10,
   "metadata": {},
   "outputs": [
    {
     "name": "stdout",
     "output_type": "stream",
     "text": [
      "  status: 0\n",
      "    nfev: 91\n",
      " success: True\n",
      "     fun: 1.2311995365407462e-10\n",
      "       x: array([ 0.99998568,  0.99996682])\n",
      " message: 'Optimization terminated successfully.'\n",
      "     nit: 46\n"
     ]
    }
   ],
   "source": [
    "print optimize.minimize(f, [2, 2], method='Nelder-Mead')"
   ]
  }
 ],
 "metadata": {
  "kernelspec": {
   "display_name": "Python 2",
   "language": "python",
   "name": "python2"
  },
  "language_info": {
   "codemirror_mode": {
    "name": "ipython",
    "version": 2
   },
   "file_extension": ".py",
   "mimetype": "text/x-python",
   "name": "python",
   "nbconvert_exporter": "python",
   "pygments_lexer": "ipython2",
   "version": "2.7.16"
  }
 },
 "nbformat": 4,
 "nbformat_minor": 1
}
