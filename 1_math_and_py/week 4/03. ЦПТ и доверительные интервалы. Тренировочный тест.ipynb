{
 "cells": [
  {
   "cell_type": "markdown",
   "metadata": {},
   "source": [
    "01. Метеостанция, находящаяся в ботаническом саду Сиднея, регистрирует количество выпадающих осадков с 1885 года. Среднее годовое количество осадков за период с 1885 по 2015 включительно составляет 1197.69 мм, выборочная дисперсия — 116182.2.\n",
    "\n",
    "    Считая, что годовое количество осадков — случайная величина, не меняющаяся во времени и имеющая нормальное распределение, постройте интервал, который с вероятностью 99.7% будет содержать количество осадков, которые выпадут в 2016 году. Чему равна его верхняя граница? Округлите ответ до двух знаков после десятичной точки.\n",
    "    \n",
    "    ___\n",
    "Правило трёх сигм, доверительный интервал: среднее $\\pm$ 3*СКО\n",
    "$$\\overline{X_n} \\pm 3 \\cdot \\sigma$$\n",
    "   "
   ]
  },
  {
   "cell_type": "markdown",
   "metadata": {},
   "source": []
  },
  {
   "cell_type": "code",
   "execution_count": 2,
   "metadata": {},
   "outputs": [
    {
     "name": "stdout",
     "output_type": "stream",
     "text": [
      "[175.12, 2220.26]\n"
     ]
    }
   ],
   "source": [
    "disp = 116182.2\n",
    "x_mean = 1197.69\n",
    "sigma = disp ** 0.5\n",
    "print(f\"[{round(x_mean - 3 * sigma, 2)}, {round(x_mean + 3 * sigma, 2)}]\")"
   ]
  },
  {
   "cell_type": "markdown",
   "metadata": {},
   "source": [
    "___\n",
    "2. Оцените значение параметра $\\overline{\\sigma_n}$ — среднеквадратического отклонения нормального распределения, которым, согласно центральной предельной теореме, можно аппроксимировать распределение среднего количества осадков за год из предыдущей задачи. Округлите ответ до двух знаков после десятичной точки.\n",
    "\n",
    "___  \n",
    "По ЦПТ дисперсия выборки для среднего: \n",
    "$$ \\frac{\\text{истинная дисперсия}}{\\text{объём выборки}} \\approx \\frac{\\text{дисперсия выборки}}{\\text{объём выборки}} $$\n",
    "[В видео со второй минуты](https://www.coursera.org/learn/mathematics-and-python/lecture/3B3ic/tsientral-naia-priediel-naia-tieoriema)"
   ]
  },
  {
   "cell_type": "code",
   "execution_count": 5,
   "metadata": {},
   "outputs": [
    {
     "data": {
      "text/plain": [
       "29.78"
      ]
     },
     "execution_count": 5,
     "metadata": {},
     "output_type": "execute_result"
    }
   ],
   "source": [
    "n = 2015 - 1885 + 1\n",
    "disp_mean = disp / n\n",
    "sigma_mean = (disp_mean)**0.5\n",
    "round(sigma_mean, 2)"
   ]
  },
  {
   "cell_type": "markdown",
   "metadata": {},
   "source": [
    "___\n",
    "3. Постройте приближённый 99.7% доверительный интервал для среднего количества осадков за год. Чему равен верхний доверительный предел? Округлите ответ до двух знаков после десятичной точки."
   ]
  },
  {
   "cell_type": "code",
   "execution_count": 6,
   "metadata": {},
   "outputs": [
    {
     "name": "stdout",
     "output_type": "stream",
     "text": [
      "[1108.35, 1287.03]\n"
     ]
    }
   ],
   "source": [
    "print(f\"[{round(x_mean - 3 * sigma_mean, 2)}, {round(x_mean + 3 * sigma_mean, 2)}]\")"
   ]
  }
 ],
 "metadata": {
  "kernelspec": {
   "display_name": "Python 3",
   "language": "python",
   "name": "python3"
  },
  "language_info": {
   "codemirror_mode": {
    "name": "ipython",
    "version": 3
   },
   "file_extension": ".py",
   "mimetype": "text/x-python",
   "name": "python",
   "nbconvert_exporter": "python",
   "pygments_lexer": "ipython3",
   "version": "3.6.8"
  }
 },
 "nbformat": 4,
 "nbformat_minor": 2
}
