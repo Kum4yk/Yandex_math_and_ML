{
 "cells": [
  {
   "cell_type": "code",
   "execution_count": 1,
   "metadata": {},
   "outputs": [],
   "source": [
    "import bs4\n",
    "import requests"
   ]
  },
  {
   "cell_type": "markdown",
   "metadata": {},
   "source": [
    "### Чтобы продемонстрировать, что вы разобрались, как использовать requests и beautiful soup, распарсите: а) из статьи https://en.wikipedia.org/wiki/Bias-variance_tradeoff все заголовки верхнего уровня;"
   ]
  },
  {
   "cell_type": "code",
   "execution_count": 89,
   "metadata": {},
   "outputs": [],
   "source": [
    "first_url = \"https://en.wikipedia.org/wiki/Bias-variance_tradeoff\"\n",
    "headers = [\"h1\", \"h2\", \"h3\", \"h4\", \"h5\", \"h6\"]   # все заголовки\n",
    "h1 = \"h1\"  # заголовок самого верхнего уровня"
   ]
  },
  {
   "cell_type": "code",
   "execution_count": 90,
   "metadata": {},
   "outputs": [
    {
     "data": {
      "text/plain": [
       "<Response [200]>"
      ]
     },
     "execution_count": 90,
     "metadata": {},
     "output_type": "execute_result"
    }
   ],
   "source": [
    "req = requests.get(first_url)\n",
    "req"
   ]
  },
  {
   "cell_type": "code",
   "execution_count": 91,
   "metadata": {},
   "outputs": [],
   "source": [
    "parser_1 = bs4.BeautifulSoup(req.text)"
   ]
  },
  {
   "cell_type": "markdown",
   "metadata": {},
   "source": [
    "#### Заголовки самого верхнего уровня h1:"
   ]
  },
  {
   "cell_type": "code",
   "execution_count": 92,
   "metadata": {},
   "outputs": [
    {
     "name": "stdout",
     "output_type": "stream",
     "text": [
      "Bias–variance tradeoff\n"
     ]
    }
   ],
   "source": [
    "for head in parser_1.find_all(h1):\n",
    "    print(head.text)"
   ]
  },
  {
   "cell_type": "markdown",
   "metadata": {},
   "source": [
    "#### Поиск заголовков h1-h6:"
   ]
  },
  {
   "cell_type": "code",
   "execution_count": 102,
   "metadata": {
    "scrolled": false
   },
   "outputs": [
    {
     "name": "stdout",
     "output_type": "stream",
     "text": [
      "Уровень заголовка: h1; текст заголовка: Bias–variance tradeof\n",
      "\n",
      "Уровень заголовка: h2; текст заголовка: Content\n",
      "\n",
      "Уровень заголовка: h2; текст заголовка: Motivation\n",
      "\n",
      "Уровень заголовка: h2; текст заголовка: Bias–variance decomposition of squared error\n",
      "\n",
      "Уровень заголовка: h3; текст заголовка: Derivation\n",
      "\n",
      "Уровень заголовка: h2; текст заголовка: Application to regression\n",
      "\n",
      "Уровень заголовка: h2; текст заголовка: Application to classification\n",
      "\n",
      "Уровень заголовка: h2; текст заголовка: Application to reinforcement learning\n",
      "\n",
      "Уровень заголовка: h2; текст заголовка: Approaches\n",
      "\n",
      "Уровень заголовка: h3; текст заголовка: k-nearest neighbors\n",
      "\n",
      "Уровень заголовка: h2; текст заголовка: Application to human learning\n",
      "\n",
      "Уровень заголовка: h2; текст заголовка: See also\n",
      "\n",
      "Уровень заголовка: h2; текст заголовка: References\n",
      "\n",
      "Уровень заголовка: h2; текст заголовка: Navigation men\n",
      "\n",
      "Уровень заголовка: h3; текст заголовка: \n",
      "Personal tools\n",
      "\n",
      "Уровень заголовка: h3; текст заголовка: \n",
      "Namespaces\n",
      "\n",
      "Уровень заголовка: h3; текст заголовка: \n",
      "Variants\n",
      "\n",
      "Уровень заголовка: h3; текст заголовка: \n",
      "Views\n",
      "\n",
      "Уровень заголовка: h3; текст заголовка: \n",
      "More\n",
      "\n",
      "Уровень заголовка: h3; текст заголовка: \n",
      "Search\n",
      "\n",
      "Уровень заголовка: h3; текст заголовка: \n",
      "Navigation\n",
      "\n",
      "Уровень заголовка: h3; текст заголовка: \n",
      "Contribute\n",
      "\n",
      "Уровень заголовка: h3; текст заголовка: \n",
      "Tools\n",
      "\n",
      "Уровень заголовка: h3; текст заголовка: \n",
      "Print/export\n",
      "\n",
      "Уровень заголовка: h3; текст заголовка: \n",
      "Languages\n",
      "\n"
     ]
    }
   ],
   "source": [
    "for line in parser_1.find_all(headers):\n",
    "    i = line.text.find(\"[edit]\")  # проще руками почистить\n",
    "    print(f\"Уровень заголовка: {line.name}; текст заголовка: {line.text[:i]}\\n\")"
   ]
  },
  {
   "cell_type": "markdown",
   "metadata": {},
   "source": [
    "### б) со страницы https://en.wikipedia.org/wiki/Category:Machine_learning_algorithms названия всех статей в категории Machine Learning Algorithms"
   ]
  },
  {
   "cell_type": "code",
   "execution_count": 28,
   "metadata": {},
   "outputs": [],
   "source": [
    "second_url = \"https://en.wikipedia.org/wiki/Category:Machine_learning_algorithms\""
   ]
  },
  {
   "cell_type": "code",
   "execution_count": 30,
   "metadata": {},
   "outputs": [],
   "source": [
    "req = requests.get(second_url)"
   ]
  },
  {
   "cell_type": "code",
   "execution_count": 31,
   "metadata": {},
   "outputs": [],
   "source": [
    "parser = bs4.BeautifulSoup(req.text)"
   ]
  },
  {
   "cell_type": "markdown",
   "metadata": {},
   "source": [
    "На странице находим нужный класс, в нём статьи находим по ссылкам."
   ]
  },
  {
   "cell_type": "code",
   "execution_count": 87,
   "metadata": {
    "scrolled": false
   },
   "outputs": [
    {
     "name": "stdout",
     "output_type": "stream",
     "text": [
      "Adagrad \n",
      "\n",
      "Algorithms of Oppression \n",
      "\n",
      "Almeida–Pineda recurrent backpropagation \n",
      "\n",
      "Augmented Analytics \n",
      "\n",
      "Backpropagation \n",
      "\n",
      "Bioz \n",
      "\n",
      "Bootstrap aggregating \n",
      "\n",
      "Cancer Likelihood in Plasma \n",
      "\n",
      "CN2 algorithm \n",
      "\n",
      "Constructing skill trees \n",
      "\n",
      "Deep reinforcement learning \n",
      "\n",
      "Dehaene–Changeux model \n",
      "\n",
      "Diffusion map \n",
      "\n",
      "Dominance-based rough set approach \n",
      "\n",
      "Dynamic time warping \n",
      "\n",
      "Elastic net regularization \n",
      "\n",
      "Error-driven learning \n",
      "\n",
      "Evolutionary multimodal optimization \n",
      "\n",
      "Expectation–maximization algorithm \n",
      "\n",
      "Extremal Ensemble Learning \n",
      "\n",
      "FastICA \n",
      "\n",
      "Forward–backward algorithm \n",
      "\n",
      "GeneRec \n",
      "\n",
      "Genetic Algorithm for Rule Set Production \n",
      "\n",
      "Growing self-organizing map \n",
      "\n",
      "Hyper basis function network \n",
      "\n",
      "IDistance \n",
      "\n",
      "Incremental learning \n",
      "\n",
      "K-nearest neighbors algorithm \n",
      "\n",
      "Kernel methods for vector output \n",
      "\n",
      "Kernel principal component analysis \n",
      "\n",
      "Label propagation algorithm \n",
      "\n",
      "Lasso (statistics) \n",
      "\n",
      "Leabra \n",
      "\n",
      "Linde–Buzo–Gray algorithm \n",
      "\n",
      "Local outlier factor \n",
      "\n",
      "Logic learning machine \n",
      "\n",
      "LogitBoost \n",
      "\n",
      "Loss functions for classification \n",
      "\n",
      "Manifold alignment \n",
      "\n",
      "Minimum redundancy feature selection \n",
      "\n",
      "Mixture of experts \n",
      "\n",
      "Multiple kernel learning \n",
      "\n",
      "Non-negative matrix factorization \n",
      "\n",
      "Online machine learning \n",
      "\n",
      "Out-of-bag error \n",
      "\n",
      "Prefrontal cortex basal ganglia working memory \n",
      "\n",
      "Prototype methods \n",
      "\n",
      "PVLV \n",
      "\n",
      "Q-learning \n",
      "\n",
      "Quadratic unconstrained binary optimization \n",
      "\n",
      "Query-level feature \n",
      "\n",
      "Quickprop \n",
      "\n",
      "Radial basis function network \n",
      "\n",
      "Randomized weighted majority algorithm \n",
      "\n",
      "Repeated incremental pruning to produce error reduction (RIPPER) \n",
      "\n",
      "Rprop \n",
      "\n",
      "Rule-based machine learning \n",
      "\n",
      "Skill chaining \n",
      "\n",
      "Sparse PCA \n",
      "\n",
      "State–action–reward–state–action \n",
      "\n",
      "Stochastic gradient descent \n",
      "\n",
      "Structured kNN \n",
      "\n",
      "T-distributed stochastic neighbor embedding \n",
      "\n",
      "Triplet loss \n",
      "\n",
      "Wake-sleep algorithm \n",
      "\n",
      "Weighted majority algorithm (machine learning) \n",
      "\n",
      "Zero-shot learning \n",
      "\n"
     ]
    }
   ],
   "source": [
    "for link in parser.find(class_=\"mw-category\").find_all(\"a\"):\n",
    "    print(link.text, \"\\n\")"
   ]
  }
 ],
 "metadata": {
  "kernelspec": {
   "display_name": "Python 3",
   "language": "python",
   "name": "python3"
  },
  "language_info": {
   "codemirror_mode": {
    "name": "ipython",
    "version": 3
   },
   "file_extension": ".py",
   "mimetype": "text/x-python",
   "name": "python",
   "nbconvert_exporter": "python",
   "pygments_lexer": "ipython3",
   "version": "3.7.3"
  }
 },
 "nbformat": 4,
 "nbformat_minor": 2
}
