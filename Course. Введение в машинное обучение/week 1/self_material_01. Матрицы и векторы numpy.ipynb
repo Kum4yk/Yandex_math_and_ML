{
 "cells": [
  {
   "cell_type": "code",
   "execution_count": 1,
   "metadata": {},
   "outputs": [],
   "source": [
    "import numpy as np"
   ]
  },
  {
   "cell_type": "markdown",
   "metadata": {},
   "source": [
    "#### Генерация случайной матрицы\n",
    "\n",
    "Сгенерируйте матрицу, состоящую из 1000 строк и 50 столбцов, элементы которой являются случайными из нормального распределения N(1,100).\n",
    "\n",
    "Функция для генерации чисел из нормального распределения: np.random.normal\n",
    "\n",
    "Параметры:\n",
    " - loc: среднее нормального распределения (в нашем случае 1)\n",
    " - scale: стандартное отклонение нормального распределения (в нашем случае 10)\n",
    " - size: размер матрицы (в нашем случае (1000, 50))"
   ]
  },
  {
   "cell_type": "code",
   "execution_count": 4,
   "metadata": {},
   "outputs": [
    {
     "data": {
      "text/plain": [
       "array([[  7.21358182,  -3.91320161,  -1.79997609, -12.86542696,\n",
       "          2.46320271,   6.17891631,   1.15227932,   2.47087933,\n",
       "          8.11750624,  -4.84459954,  -3.42530848,   4.03745266,\n",
       "          5.13718326,  -4.5958427 ,  -6.25757848,   5.45442466,\n",
       "         -2.79898225,  -0.43516047,   9.03409018,   2.949198  ,\n",
       "          6.73124012,   8.88170372, -15.21170594,  11.23486065,\n",
       "        -12.56601912,   3.30513686,   1.19644045,  -3.95884719,\n",
       "         -8.80034147,   0.58023004, -16.99933795,   7.53980524,\n",
       "         13.17585103,   3.69090766,  -1.94503742,  -6.73284807,\n",
       "         18.40985149,   4.58428382,  -3.39259223,  15.2431128 ,\n",
       "          2.67808376,   2.28236664,  13.61987705,   2.01888515,\n",
       "         12.98472021,   6.37644892,  -0.44406445,  12.89118968,\n",
       "         11.37180909,  -8.59501902]])"
      ]
     },
     "execution_count": 4,
     "metadata": {},
     "output_type": "execute_result"
    }
   ],
   "source": [
    "X = np.random.normal(loc=1, scale=10, size=(100, 50))\n",
    "X[:1]"
   ]
  },
  {
   "cell_type": "markdown",
   "metadata": {},
   "source": [
    "#### Нормировка матрицы\n",
    "\n",
    "Произведите нормировку матрицы из предыдущего задания: вычтите из каждого столбца его среднее значение, а затем поделите на его стандартное отклонение.\n",
    "\n",
    "Функция для вычисления среднего: np.mean\n",
    "\n",
    "Функция для вычисления стандартного отклонения: np.std\n",
    "\n",
    "Первый параметр — матрица, для которой производятся вычисления. Также полезным будет параметр axis, который указывает, по какому измерению вычисляются среднее и стандартное отклонение (если axis=0, то по столбцам, если axis=1, то по строкам; если его не указывать, то данные величины будут вычислены по всей матрице)."
   ]
  },
  {
   "cell_type": "code",
   "execution_count": 9,
   "metadata": {},
   "outputs": [
    {
     "name": "stdout",
     "output_type": "stream",
     "text": [
      "50\n",
      "50\n"
     ]
    }
   ],
   "source": [
    "means = np.mean(X, axis=0)\n",
    "print(len(means))\n",
    "\n",
    "stds = np.std(X, axis=0)\n",
    "print(len(stds))"
   ]
  },
  {
   "cell_type": "code",
   "execution_count": 10,
   "metadata": {},
   "outputs": [
    {
     "data": {
      "text/plain": [
       "array([[ 0.73800746, -0.53693229, -0.33394756, -1.47579996,  0.21331709,\n",
       "         0.40725935,  0.06834701,  0.16342285,  0.7033988 , -0.44100871,\n",
       "        -0.43383769,  0.40498965,  0.40009491, -0.56340861, -0.64107   ,\n",
       "         0.66686165, -0.30969136, -0.04121279,  0.65176789,  0.25107281,\n",
       "         0.57994429,  0.92684273, -1.76269868,  0.90887794, -1.27563559,\n",
       "         0.37206861,  0.10716973, -0.54783185, -0.91684342, -0.02894537,\n",
       "        -1.62751929,  0.74911194,  1.34011224,  0.12342595, -0.50876535,\n",
       "        -0.93421392,  1.89624293,  0.42657759, -0.43753284,  1.22061794,\n",
       "        -0.00646847,  0.22635521,  1.28303841,  0.19431892,  1.26918893,\n",
       "         0.53985001, -0.22524358,  1.20292352,  1.09418638, -0.91757888]])"
      ]
     },
     "execution_count": 10,
     "metadata": {},
     "output_type": "execute_result"
    }
   ],
   "source": [
    "X_norm = (X - means) / stds\n",
    "X_norm[:1]"
   ]
  },
  {
   "cell_type": "markdown",
   "metadata": {},
   "source": [
    "#### Операции над элементами матрицы\n",
    "\n",
    "Выведите для заданной матрицы номера строк, сумма элементов в которых превосходит 10.\n",
    "\n",
    "Функция для подсчета суммы: np.sum\n",
    "\n",
    "Аргументы аналогичны функциям np.mean и np.std.\n",
    "\n",
    "К матрицам можно применять логические операции, которые будут применяться поэлементно. Соответственно, результатом такой операции будет матрица такого же размера, в ячейках которой будет записано либо True, либо False. Индексы элементов со значением True можно получить с помощью функции np.nonzero."
   ]
  },
  {
   "cell_type": "code",
   "execution_count": 17,
   "metadata": {},
   "outputs": [
    {
     "data": {
      "text/plain": [
       "(6, 3)"
      ]
     },
     "execution_count": 17,
     "metadata": {},
     "output_type": "execute_result"
    }
   ],
   "source": [
    "np.array: Z = np.array([[4, 5, 0], \n",
    "             [1, 9, 3],              \n",
    "             [5, 1, 1],\n",
    "             [3, 3, 3], \n",
    "             [9, 9, 9], \n",
    "             [4, 7, 1]])\n",
    "Z.shape"
   ]
  },
  {
   "cell_type": "code",
   "execution_count": 18,
   "metadata": {},
   "outputs": [
    {
     "data": {
      "text/plain": [
       "array([ 9, 13,  7,  9, 27, 12])"
      ]
     },
     "execution_count": 18,
     "metadata": {},
     "output_type": "execute_result"
    }
   ],
   "source": [
    "res = np.sum(Z, axis=1)\n",
    "res"
   ]
  },
  {
   "cell_type": "code",
   "execution_count": 19,
   "metadata": {},
   "outputs": [
    {
     "data": {
      "text/plain": [
       "(array([1, 4, 5], dtype=int64),)"
      ]
     },
     "execution_count": 19,
     "metadata": {},
     "output_type": "execute_result"
    }
   ],
   "source": [
    "np.nonzero( res > 10)  # indexes"
   ]
  },
  {
   "cell_type": "code",
   "execution_count": 23,
   "metadata": {},
   "outputs": [
    {
     "data": {
      "text/plain": [
       "array([False,  True, False, False,  True,  True])"
      ]
     },
     "execution_count": 23,
     "metadata": {},
     "output_type": "execute_result"
    }
   ],
   "source": [
    "res > 10"
   ]
  },
  {
   "cell_type": "code",
   "execution_count": 22,
   "metadata": {
    "scrolled": true
   },
   "outputs": [
    {
     "data": {
      "text/plain": [
       "array([13, 27, 12])"
      ]
     },
     "execution_count": 22,
     "metadata": {},
     "output_type": "execute_result"
    }
   ],
   "source": [
    "res[res > 10]  # values"
   ]
  },
  {
   "cell_type": "markdown",
   "metadata": {},
   "source": [
    "#### Объединение матриц\n",
    "\n",
    "Сгенерируйте две единичные матрицы (т.е. с единицами на диагонали) размера 3x3. Соедините две матрицы в одну размера 6x3.\n",
    "\n",
    "Функция для генерации единичной матрицы: np.eye\n",
    "\n",
    "Аргумент: число строк (или, что эквивалентно, столбцов).\n",
    "\n",
    "Функция для вертикальной стыковки матриц: np.vstack((A, B))"
   ]
  },
  {
   "cell_type": "code",
   "execution_count": 25,
   "metadata": {},
   "outputs": [
    {
     "name": "stdout",
     "output_type": "stream",
     "text": [
      "[[1. 0. 0.]\n",
      " [0. 1. 0.]\n",
      " [0. 0. 1.]]\n",
      "[[1. 0. 0.]\n",
      " [0. 1. 0.]\n",
      " [0. 0. 1.]]\n"
     ]
    }
   ],
   "source": [
    "A = np.eye(3)\n",
    "B = np.eye(3)\n",
    "print(A)\n",
    "print(B)"
   ]
  },
  {
   "cell_type": "code",
   "execution_count": 26,
   "metadata": {
    "scrolled": true
   },
   "outputs": [
    {
     "data": {
      "text/plain": [
       "array([[1., 0., 0.],\n",
       "       [0., 1., 0.],\n",
       "       [0., 0., 1.],\n",
       "       [1., 0., 0.],\n",
       "       [0., 1., 0.],\n",
       "       [0., 0., 1.]])"
      ]
     },
     "execution_count": 26,
     "metadata": {},
     "output_type": "execute_result"
    }
   ],
   "source": [
    "np.vstack((A, B))"
   ]
  }
 ],
 "metadata": {
  "kernelspec": {
   "display_name": "Python 3",
   "language": "python",
   "name": "python3"
  },
  "language_info": {
   "codemirror_mode": {
    "name": "ipython",
    "version": 3
   },
   "file_extension": ".py",
   "mimetype": "text/x-python",
   "name": "python",
   "nbconvert_exporter": "python",
   "pygments_lexer": "ipython3",
   "version": "3.6.8"
  }
 },
 "nbformat": 4,
 "nbformat_minor": 2
}
