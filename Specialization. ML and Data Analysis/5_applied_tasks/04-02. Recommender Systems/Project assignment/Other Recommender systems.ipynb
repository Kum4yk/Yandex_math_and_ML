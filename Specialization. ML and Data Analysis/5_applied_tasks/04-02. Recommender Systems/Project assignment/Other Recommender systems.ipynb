{
 "cells": [
  {
   "cell_type": "markdown",
   "metadata": {},
   "source": [
    "# Recommender systems"
   ]
  },
  {
   "cell_type": "markdown",
   "metadata": {},
   "source": [
    "***Описание задачи***\n",
    "\n",
    "Небольшой интернет-магазин попросил вас добавить ранжирование товаров в блок \"Смотрели ранее\" - в нём теперь надо показывать не последние просмотренные пользователем товары, а те товары из просмотренных, которые он наиболее вероятно купит. Качество вашего решения будет оцениваться по количеству покупок в сравнении с прошлым решением в ходе А/В теста, т.к. по доходу от продаж статзначимость будет достигаться дольше из-за разброса цен. Таким образом, ничего заранее не зная про корреляцию оффлайновых и онлайновых метрик качества, в начале проекта вы можете лишь постараться оптимизировать recall@k и precision@k.\n",
    "\n",
    "Это задание посвящено построению простых бейзлайнов для этой задачи: ранжирование просмотренных товаров по частоте просмотров и по частоте покупок. Эти бейзлайны, с одной стороны, могут помочь вам грубо оценить возможный эффект от ранжирования товаров в блоке - например, чтобы вписать какие-то числа в коммерческое предложение заказчику, а с другой стороны, могут оказаться самым хорошим вариантом, если данных очень мало (недостаточно для обучения даже простых моделей)."
   ]
  },
  {
   "cell_type": "markdown",
   "metadata": {},
   "source": [
    "***Входные данные***\n",
    "\n",
    "Вам дается две выборки с пользовательскими сессиями - id-шниками просмотренных и id-шниками купленных товаров. Одна выборка будет использоваться для обучения (оценки популярностей товаров), а другая - для теста.\n",
    "\n",
    "В файлах записаны сессии по одной в каждой строке. Формат сессии: id просмотренных товаров через , затем идёт ; после чего следуют id купленных товаров (если такие имеются), разделённые запятой. Например, 1,2,3,4; или 1,2,3,4;5,6.\n",
    "\n",
    "Гарантируется, что среди id купленных товаров все различные."
   ]
  },
  {
   "cell_type": "markdown",
   "metadata": {},
   "source": [
    "***Важно:***\n",
    "\n",
    "Сессии, в которых пользователь ничего не купил, исключаем из оценки качества.\n",
    "Если товар не встречался в обучающей выборке, его популярность равна 0.\n",
    "Рекомендуем разные товары. И их число должно быть не больше, чем количество различных просмотренных пользователем товаров.\n",
    "Рекомендаций всегда не больше, чем минимум из двух чисел: количество просмотренных пользователем товаров и k в recall@k / precision@k."
   ]
  },
  {
   "cell_type": "markdown",
   "metadata": {},
   "source": [
    "***Задание***\n",
    "\n",
    "1. На обучении постройте частоты появления id в просмотренных и в купленных (id может несколько раз появляться в просмотренных, все появления надо учитывать)\n",
    "2. Реализуйте два алгоритма рекомендаций:\n",
    "    * сортировка просмотренных id по популярности (частота появления в просмотренных),\n",
    "    * сортировка просмотренных id по покупаемости (частота появления в покупках).\n",
    "3. Для данных алгоритмов выпишите через пробел AverageRecall@1, AveragePrecision@1, AverageRecall@5, AveragePrecision@5 на обучающей и тестовых выборках, округляя до 2 знака после запятой. Это будут ваши ответы в этом задании. Посмотрите, как они соотносятся друг с другом. Где качество получилось выше? Значимо ли это различие? Обратите внимание на различие качества на обучающей и тестовой выборке в случае рекомендаций по частотам покупки.\n",
    "\n",
    "Если частота одинаковая, то сортировать нужно по возрастанию момента просмотра (чем раньше появился в просмотренных, тем больше приоритет)"
   ]
  },
  {
   "cell_type": "code",
   "execution_count": 1,
   "metadata": {
    "collapsed": true
   },
   "outputs": [],
   "source": [
    "from __future__ import division, print_function\n",
    "\n",
    "import numpy as np\n",
    "import pandas as pd\n",
    "\n",
    "from IPython.core.interactiveshell import InteractiveShell\n",
    "InteractiveShell.ast_node_interactivity = \"all\""
   ]
  },
  {
   "cell_type": "markdown",
   "metadata": {},
   "source": [
    "#### 1. Reading sessions train and test datasets."
   ]
  },
  {
   "cell_type": "code",
   "execution_count": 2,
   "metadata": {},
   "outputs": [],
   "source": [
    "# Reading train and test data\n",
    "with open('coursera_sessions_train.txt', 'r') as f:\n",
    "    sess_train = f.read().splitlines()\n",
    "with open('coursera_sessions_test.txt', 'r') as f:\n",
    "    sess_test = f.read().splitlines()"
   ]
  },
  {
   "cell_type": "markdown",
   "metadata": {},
   "source": [
    "#### 2. Split datasets by looks and purchases."
   ]
  },
  {
   "cell_type": "code",
   "execution_count": 3,
   "metadata": {},
   "outputs": [],
   "source": [
    "# Create train array splitted by looks (look_items) and purchases (pur_items)\n",
    "sess_train_lp = []\n",
    "for sess in sess_train:\n",
    "    look_items, pur_items = sess.split(';')\n",
    "    look_items = map(int, look_items.split(','))\n",
    "    if len(pur_items) > 0:\n",
    "        pur_items = map(int, pur_items.split(','))\n",
    "    else:\n",
    "        pur_items = []\n",
    "    sess_train_lp.append([look_items, pur_items])\n",
    "    \n",
    "# Create test array splitted by looks (look_items) and purchases (pur_items)\n",
    "sess_test_lp = []\n",
    "for sess in sess_test:\n",
    "    look_items, pur_items = sess.split(';')\n",
    "    look_items = map(int, look_items.split(','))\n",
    "    if len(pur_items) > 0:\n",
    "        pur_items = map(int, pur_items.split(','))\n",
    "    else:\n",
    "        pur_items = []\n",
    "    sess_test_lp.append([look_items, pur_items])"
   ]
  },
  {
   "cell_type": "markdown",
   "metadata": {},
   "source": [
    "#### 3. Create and sort arrays of unique ids counters for looks and purchases for train dataset."
   ]
  },
  {
   "cell_type": "code",
   "execution_count": 4,
   "metadata": {},
   "outputs": [],
   "source": [
    "# Array of looks\n",
    "sess_train_l = [row[0] for row in sess_train_lp]\n",
    "sess_train_l_np = np.array( [id_n for sess in sess_train_l for id_n in sess] )\n",
    "\n",
    "# Array of unique ids and looks in train data\n",
    "sess_train_l_cnt = np.transpose(np.unique(sess_train_l_np, return_counts=True))"
   ]
  },
  {
   "cell_type": "code",
   "execution_count": 5,
   "metadata": {},
   "outputs": [
    {
     "data": {
      "text/plain": [
       "array([[     0,      6],\n",
       "       [     1,      6],\n",
       "       [     2,      9],\n",
       "       ..., \n",
       "       [102804,      1],\n",
       "       [102805,      1],\n",
       "       [102806,      1]], dtype=int64)"
      ]
     },
     "execution_count": 5,
     "metadata": {},
     "output_type": "execute_result"
    }
   ],
   "source": [
    "sess_train_l_cnt"
   ]
  },
  {
   "cell_type": "code",
   "execution_count": 6,
   "metadata": {},
   "outputs": [],
   "source": [
    "# Array of purchases\n",
    "sess_train_p = [row[1] for row in sess_train_lp]\n",
    "sess_train_p_np = np.array( [id_n for sess in sess_train_p for id_n in sess] )\n",
    "\n",
    "# Array of unique ids and purchases in train dataset\n",
    "sess_train_p_cnt = np.transpose(np.unique(sess_train_p_np, return_counts=True))"
   ]
  },
  {
   "cell_type": "code",
   "execution_count": 7,
   "metadata": {},
   "outputs": [
    {
     "data": {
      "text/plain": [
       "array([[     5,      1],\n",
       "       [     6,      2],\n",
       "       [     7,      2],\n",
       "       ..., \n",
       "       [102417,      1],\n",
       "       [102462,      1],\n",
       "       [102646,      1]], dtype=int64)"
      ]
     },
     "execution_count": 7,
     "metadata": {},
     "output_type": "execute_result"
    }
   ],
   "source": [
    "sess_train_p_cnt"
   ]
  },
  {
   "cell_type": "code",
   "execution_count": 8,
   "metadata": {},
   "outputs": [],
   "source": [
    "# Sorting arrays of looks and purchases by counts\n",
    "sess_train_l_cnt = sess_train_l_cnt[sess_train_l_cnt[:,1].argsort()][::-1]\n",
    "sess_train_p_cnt = sess_train_p_cnt[sess_train_p_cnt[:,1].argsort()][::-1]"
   ]
  },
  {
   "cell_type": "markdown",
   "metadata": {},
   "source": [
    "#### 4. Calculating metrics for train dataset with suggestions based on looks."
   ]
  },
  {
   "cell_type": "code",
   "execution_count": 9,
   "metadata": {
    "collapsed": true
   },
   "outputs": [],
   "source": [
    "def prec_rec_metrics(session, reccomendations, k):\n",
    "    purchase = 0\n",
    "    for ind in reccomendations:\n",
    "        if ind in session:\n",
    "            purchase += 1 \n",
    "    precision = purchase / k\n",
    "    recall = purchase / len(session)\n",
    "    return(precision, recall)"
   ]
  },
  {
   "cell_type": "code",
   "execution_count": 10,
   "metadata": {},
   "outputs": [],
   "source": [
    "# Calculate metrics for train dataset, suggestions based on looks\n",
    "prec_at_1_tr_l, rec_at_1_tr_l = [], []\n",
    "prec_at_5_tr_l, rec_at_5_tr_l = [], []\n",
    "k1, k5 = 1, 5\n",
    "for i, sess_p in enumerate(sess_train_p):\n",
    "    # skip sessions without purchases\n",
    "    if sess_p == []: continue\n",
    "    \n",
    "    # looks ids\n",
    "    sess_l = sess_train_l[i]\n",
    "\n",
    "    # sorted looks ids indices in sess_train_l_cnt array\n",
    "    # sort in accordance with looks counts\n",
    "    l_ind_sess = []\n",
    "    for j in range(len(sess_l)):\n",
    "        l_ind_sess.append(np.where(sess_train_l_cnt[:,0] == sess_l[j])[0][0])\n",
    "    l_ind_sess_sorted = np.unique(l_ind_sess)\n",
    "    \n",
    "    # k1 recommendations\n",
    "    num_of_recs_k1 = min(k1, len(sess_l))\n",
    "    if num_of_recs_k1 == 0: continue\n",
    "    recs_k1 = sess_train_l_cnt[l_ind_sess_sorted[:num_of_recs_k1],0]\n",
    "    \n",
    "    # k1 metrics\n",
    "    prec_1, rec_1 = prec_rec_metrics(sess_p, recs_k1, k1)\n",
    "    prec_at_1_tr_l.append(prec_1)\n",
    "    rec_at_1_tr_l.append(rec_1)\n",
    "    \n",
    "    # k5 recommendations\n",
    "    num_of_recs_k5 = min(k5, len(sess_l))\n",
    "    if num_of_recs_k5 == 0: continue\n",
    "    recs_k5 = sess_train_l_cnt[l_ind_sess_sorted[:num_of_recs_k5],0]\n",
    "    \n",
    "    # k5 metrics\n",
    "    prec_5, rec_5 = prec_rec_metrics(sess_p, recs_k5, k5)\n",
    "    prec_at_5_tr_l.append(prec_5)\n",
    "    rec_at_5_tr_l.append(rec_5)"
   ]
  },
  {
   "cell_type": "code",
   "execution_count": 11,
   "metadata": {},
   "outputs": [],
   "source": [
    "avg_prec_at_1_tr_l = np.mean(prec_at_1_tr_l)\n",
    "avg_rec_at_1_tr_l = np.mean(rec_at_1_tr_l)\n",
    "avg_prec_at_5_tr_l = np.mean(prec_at_5_tr_l)\n",
    "avg_rec_at_5_tr_l = np.mean(rec_at_5_tr_l)"
   ]
  },
  {
   "cell_type": "code",
   "execution_count": 12,
   "metadata": {},
   "outputs": [
    {
     "name": "stdout",
     "output_type": "stream",
     "text": [
      "Answer 1: 0.44 0.51 0.83 0.21\n"
     ]
    }
   ],
   "source": [
    "with open('ans1.txt', 'w') as f:\n",
    "    r1 = '%.2f' % round(avg_rec_at_1_tr_l, 2)\n",
    "    p1 = '%.2f' % round(avg_prec_at_1_tr_l, 2)\n",
    "    r5 = '%.2f' % round(avg_rec_at_5_tr_l, 2)\n",
    "    p5 = '%.2f' % round(avg_prec_at_5_tr_l, 2)\n",
    "    ans1 = ' '.join([r1, p1, r5, p5])\n",
    "    print('Answer 1:', ans1)\n",
    "    f.write(ans1)"
   ]
  },
  {
   "cell_type": "markdown",
   "metadata": {},
   "source": [
    "#### 5. Calculating metrics for train dataset with suggestions based on purchases."
   ]
  },
  {
   "cell_type": "code",
   "execution_count": 13,
   "metadata": {},
   "outputs": [],
   "source": [
    "# Calculate metrics for train dataset, suggestions based on purchases\n",
    "prec_at_1_tr_p, rec_at_1_tr_p = [], []\n",
    "prec_at_5_tr_p, rec_at_5_tr_p = [], []\n",
    "k1, k5 = 1, 5\n",
    "\n",
    "for i, sess_p in enumerate(sess_train_p):\n",
    "    # skip sessions without purchases\n",
    "    if sess_p == []: continue\n",
    "    \n",
    "    # looks ids\n",
    "    sess_l = sess_train_l[i]\n",
    "\n",
    "    # sorted looks ids indices in sess_train_p_cnt array\n",
    "    # sort in accordance with purchases counts\n",
    "    l_ind_sess = []\n",
    "    for j in range(len(sess_l)):\n",
    "        if sess_l[j] not in sess_train_p_cnt[:,0]: continue\n",
    "        l_ind_sess.append(np.where(sess_train_p_cnt[:,0] == sess_l[j])[0][0])\n",
    "    l_ind_sess_sorted = np.unique(l_ind_sess)\n",
    "    \n",
    "    # k1 recommendations\n",
    "    num_of_recs_k1 = min(k1, len(sess_l), len(l_ind_sess_sorted))\n",
    "    if num_of_recs_k1 == 0: continue\n",
    "    recs_k1 = sess_train_p_cnt[l_ind_sess_sorted[:num_of_recs_k1],0]\n",
    "    \n",
    "    # k1 metrics\n",
    "    prec_1, rec_1 = prec_rec_metrics(sess_p, recs_k1, k1)\n",
    "    prec_at_1_tr_p.append(prec_1)\n",
    "    rec_at_1_tr_p.append(rec_1)\n",
    "    \n",
    "    # k5 recommendations\n",
    "    num_of_recs_k5 = min(k5, len(sess_l), len(l_ind_sess_sorted))\n",
    "    if num_of_recs_k5 == 0: continue\n",
    "    recs_k5 = sess_train_p_cnt[l_ind_sess_sorted[:num_of_recs_k5],0]\n",
    "    \n",
    "    # k5 metrics\n",
    "    prec_5, rec_5 = prec_rec_metrics(sess_p, recs_k5, k5)\n",
    "    prec_at_5_tr_p.append(prec_5)\n",
    "    rec_at_5_tr_p.append(rec_5)"
   ]
  },
  {
   "cell_type": "code",
   "execution_count": 14,
   "metadata": {
    "collapsed": true
   },
   "outputs": [],
   "source": [
    "avg_prec_at_1_tr_p = np.mean(prec_at_1_tr_p)\n",
    "avg_rec_at_1_tr_p = np.mean(rec_at_1_tr_p)\n",
    "avg_prec_at_5_tr_p = np.mean(prec_at_5_tr_p)\n",
    "avg_rec_at_5_tr_p = np.mean(rec_at_5_tr_p)"
   ]
  },
  {
   "cell_type": "code",
   "execution_count": 15,
   "metadata": {},
   "outputs": [
    {
     "name": "stdout",
     "output_type": "stream",
     "text": [
      "Answer 2: 0.68 0.79 0.93 0.25\n"
     ]
    }
   ],
   "source": [
    "with open('ans2.txt', 'w') as f:\n",
    "    r1 = '%.2f' % round(avg_rec_at_1_tr_p, 2)\n",
    "    p1 = '%.2f' % round(avg_prec_at_1_tr_p, 2)\n",
    "    r5 = '%.2f' % round(avg_rec_at_5_tr_p, 2)\n",
    "    p5 = '%.2f' % round(avg_prec_at_5_tr_p, 2)\n",
    "    ans2 = ' '.join([r1, p1, r5, p5])\n",
    "    print('Answer 2:', ans2)\n",
    "    f.write(ans2)"
   ]
  },
  {
   "cell_type": "markdown",
   "metadata": {},
   "source": [
    "#### 6. Create and sort arrays of unique ids counters for looks and purchases for test dataset."
   ]
  },
  {
   "cell_type": "code",
   "execution_count": 17,
   "metadata": {
    "collapsed": true
   },
   "outputs": [],
   "source": [
    "# Array of looks\n",
    "sess_test_l = [row[0] for row in sess_test_lp]\n",
    "sess_test_l_np = np.array( [id_n for sess in sess_test_l for id_n in sess] )\n",
    "\n",
    "# Array of unique ids and looks in train data\n",
    "#sess_test_l_cnt = np.transpose(np.unique(sess_test_l_np, return_counts=True))"
   ]
  },
  {
   "cell_type": "code",
   "execution_count": 18,
   "metadata": {},
   "outputs": [
    {
     "data": {
      "text/plain": [
       "array([     6,      7,      8, ..., 102807, 102808, 102809])"
      ]
     },
     "execution_count": 18,
     "metadata": {},
     "output_type": "execute_result"
    }
   ],
   "source": [
    "sess_test_l_np\n",
    "#sess_test_l_cnt"
   ]
  },
  {
   "cell_type": "code",
   "execution_count": 19,
   "metadata": {
    "collapsed": true
   },
   "outputs": [],
   "source": [
    "# Array of purchases\n",
    "sess_test_p = [row[1] for row in sess_test_lp]\n",
    "sess_test_p_np = np.array( [id_n for sess in sess_test_p for id_n in sess] )\n",
    "\n",
    "# Array of unique ids and purchases in train dataset\n",
    "#sess_test_p_cnt = np.transpose(np.unique(sess_test_p_np, return_counts=True))"
   ]
  },
  {
   "cell_type": "code",
   "execution_count": 20,
   "metadata": {},
   "outputs": [
    {
     "data": {
      "text/plain": [
       "array([   66,    63,   162, ..., 44430, 49815, 21841])"
      ]
     },
     "execution_count": 20,
     "metadata": {},
     "output_type": "execute_result"
    }
   ],
   "source": [
    "sess_test_p_np\n",
    "#sess_test_p_cnt"
   ]
  },
  {
   "cell_type": "code",
   "execution_count": 21,
   "metadata": {
    "collapsed": true
   },
   "outputs": [],
   "source": [
    "# Sorting arrays of looks and purchases by counts\n",
    "#sess_train_l_cnt = sess_train_l_cnt[sess_train_l_cnt[:,1].argsort()][::-1]\n",
    "#sess_train_p_cnt = sess_train_p_cnt[sess_train_p_cnt[:,1].argsort()][::-1]"
   ]
  },
  {
   "cell_type": "markdown",
   "metadata": {},
   "source": [
    "#### 7. Calculating metrics for test dataset with suggestions based on looks."
   ]
  },
  {
   "cell_type": "code",
   "execution_count": 103,
   "metadata": {
    "scrolled": true
   },
   "outputs": [],
   "source": [
    "# Calculate metrics for test dataset, suggestions based on looks\n",
    "prec_at_1_tst_l, rec_at_1_tst_l = [], []\n",
    "prec_at_5_tst_l, rec_at_5_tst_l = [], []\n",
    "k1, k5 = 1, 5\n",
    "\n",
    "for i, sess_p in enumerate(sess_test_p):\n",
    "    # skip sessions without purchases\n",
    "    if sess_p == []: continue\n",
    "    \n",
    "    # looks ids\n",
    "    sess_l = sess_test_l[i]\n",
    "\n",
    "    # sorted looks ids indices in sess_train_l_cnt array\n",
    "    # sort in accordance with looks counts\n",
    "    l_ind_sess = []\n",
    "    new_ids = []\n",
    "    for j in range(len(sess_l)):\n",
    "        if sess_l[j] not in sess_train_l_cnt[:,0]:\n",
    "            new_ids.append(sess_l[j])\n",
    "            continue\n",
    "        l_ind_sess.append(np.where(sess_train_l_cnt[:,0] == sess_l[j])[0][0])\n",
    "    l_ind_sess_sorted = np.unique(l_ind_sess)\n",
    "    \n",
    "    # k1 recommendations\n",
    "    num_of_recs_k1 = min(k1, len(sess_l))\n",
    "    if num_of_recs_k1 == 0: continue\n",
    "    if l_ind_sess != []:\n",
    "        recs_k1 = sess_train_l_cnt[l_ind_sess_sorted[:num_of_recs_k1],0]\n",
    "    else:\n",
    "        recs_k1 = []\n",
    "    recs_k1 = np.concatenate((np.array(recs_k1, dtype='int64'), np.unique(np.array(new_ids, dtype='int64'))))[:num_of_recs_k1]\n",
    "    #recs_k1\n",
    "    \n",
    "    # k1 metrics\n",
    "    prec_1, rec_1 = prec_rec_metrics(sess_p, recs_k1, k1)\n",
    "    prec_at_1_tst_l.append(prec_1)\n",
    "    rec_at_1_tst_l.append(rec_1)\n",
    "    \n",
    "    # k5 recommendations\n",
    "    num_of_recs_k5 = min(k5, len(sess_l))\n",
    "    if num_of_recs_k5 == 0: continue\n",
    "    if l_ind_sess != []:\n",
    "        recs_k5 = sess_train_l_cnt[l_ind_sess_sorted[:num_of_recs_k5],0]\n",
    "    else:\n",
    "        recs_k5 = []\n",
    "    recs_k5 = np.concatenate((np.array(recs_k5, dtype='int64'), np.unique(np.array(new_ids, dtype='int64'))))[:num_of_recs_k5]\n",
    "    #recs_k5\n",
    "    \n",
    "    # k5 metrics\n",
    "    prec_5, rec_5 = prec_rec_metrics(sess_p, recs_k5, k5)\n",
    "    prec_at_5_tst_l.append(prec_5)\n",
    "    rec_at_5_tst_l.append(rec_5)"
   ]
  },
  {
   "cell_type": "code",
   "execution_count": 104,
   "metadata": {
    "collapsed": true
   },
   "outputs": [],
   "source": [
    "avg_prec_at_1_tst_l = np.mean(prec_at_1_tst_l)\n",
    "avg_rec_at_1_tst_l = np.mean(rec_at_1_tst_l)\n",
    "avg_prec_at_5_tst_l = np.mean(prec_at_5_tst_l)\n",
    "avg_rec_at_5_tst_l = np.mean(rec_at_5_tst_l)"
   ]
  },
  {
   "cell_type": "code",
   "execution_count": 105,
   "metadata": {},
   "outputs": [
    {
     "name": "stdout",
     "output_type": "stream",
     "text": [
      "Answer 3: 0.42 0.48 0.80 0.20\n"
     ]
    }
   ],
   "source": [
    "with open('ans3.txt', 'w') as f:\n",
    "    r1 = '%.2f' % round(avg_rec_at_1_tst_l, 2)\n",
    "    p1 = '%.2f' % round(avg_prec_at_1_tst_l, 2)\n",
    "    r5 = '%.2f' % round(avg_rec_at_5_tst_l, 2)\n",
    "    p5 = '%.2f' % round(avg_prec_at_5_tst_l, 2)\n",
    "    ans3 = ' '.join([r1, p1, r5, p5])\n",
    "    print('Answer 3:', ans3)\n",
    "    f.write(ans3)"
   ]
  },
  {
   "cell_type": "markdown",
   "metadata": {},
   "source": [
    "#### 8. Calculating metrics for test dataset with suggestions based on purchases."
   ]
  },
  {
   "cell_type": "code",
   "execution_count": 109,
   "metadata": {
    "collapsed": true
   },
   "outputs": [],
   "source": [
    "def uniquifier(seq):\n",
    "    seen = set()\n",
    "    return [x for x in seq if not (x in seen or seen.add(x))]"
   ]
  },
  {
   "cell_type": "code",
   "execution_count": 110,
   "metadata": {
    "scrolled": true
   },
   "outputs": [],
   "source": [
    "# Calculate metrics for test dataset, suggestions based on purchases\n",
    "prec_at_1_tst_p, rec_at_1_tst_p = [], []\n",
    "prec_at_5_tst_p, rec_at_5_tst_p = [], []\n",
    "k1, k5 = 1, 5\n",
    "for i, sess_p in enumerate(sess_test_p):\n",
    "    # skip sessions without purchases\n",
    "    if sess_p == []: continue\n",
    "    \n",
    "    # looks ids\n",
    "    sess_l = sess_test_l[i]\n",
    "\n",
    "    # sorted looks ids indices in sess_train_p_cnt array\n",
    "    # sort in accordance with purchases counts\n",
    "    l_ind_sess = []\n",
    "    new_ids = []\n",
    "    for j in range(len(sess_l)):\n",
    "        if sess_l[j] not in sess_train_p_cnt[:,0]:\n",
    "            new_ids.append(sess_l[j])\n",
    "            continue\n",
    "        l_ind_sess.append(np.where(sess_train_p_cnt[:,0] == sess_l[j])[0][0])\n",
    "    l_ind_sess_sorted = np.unique(l_ind_sess)\n",
    "    \n",
    "    # k1 recommendations\n",
    "    num_of_recs_k1 = min(k1, len(sess_l))\n",
    "    if num_of_recs_k1 == 0: continue\n",
    "    if l_ind_sess != []:\n",
    "        recs_k1 = sess_train_p_cnt[l_ind_sess_sorted[:num_of_recs_k1],0]\n",
    "    else:\n",
    "        recs_k1 = []\n",
    "    recs_k1 = np.concatenate((np.array(recs_k1, dtype='int64'), np.array(uniquifier(np.array(new_ids, dtype='int64')))))[:num_of_recs_k1]\n",
    "    \n",
    "    # k1 metrics\n",
    "    prec_1, rec_1 = prec_rec_metrics(sess_p, recs_k1, k1)\n",
    "    prec_at_1_tst_p.append(prec_1)\n",
    "    rec_at_1_tst_p.append(rec_1)\n",
    "    \n",
    "    # k5 recommendations\n",
    "    num_of_recs_k5 = min(k5, len(sess_l))\n",
    "    if num_of_recs_k5 == 0: continue\n",
    "    if l_ind_sess != []:\n",
    "        recs_k5 = sess_train_p_cnt[l_ind_sess_sorted[:num_of_recs_k5],0]\n",
    "    else:\n",
    "        recs_k5 = []\n",
    "    recs_k5 = np.concatenate((np.array(recs_k5, dtype='int64'), np.array(uniquifier(np.array(new_ids, dtype='int64')))))[:num_of_recs_k5]\n",
    "    \n",
    "    # k5 metrics\n",
    "    prec_5, rec_5 = prec_rec_metrics(sess_p, recs_k5, k5)\n",
    "    prec_at_5_tst_p.append(prec_5)\n",
    "    rec_at_5_tst_p.append(rec_5)"
   ]
  },
  {
   "cell_type": "code",
   "execution_count": 111,
   "metadata": {
    "collapsed": true
   },
   "outputs": [],
   "source": [
    "avg_prec_at_1_tst_p = np.mean(prec_at_1_tst_p)\n",
    "avg_rec_at_1_tst_p = np.mean(rec_at_1_tst_p)\n",
    "avg_prec_at_5_tst_p = np.mean(prec_at_5_tst_p)\n",
    "avg_rec_at_5_tst_p = np.mean(rec_at_5_tst_p)"
   ]
  },
  {
   "cell_type": "code",
   "execution_count": 112,
   "metadata": {},
   "outputs": [
    {
     "name": "stdout",
     "output_type": "stream",
     "text": [
      "Answer 4: 0.46 0.52 0.82 0.21\n"
     ]
    }
   ],
   "source": [
    "with open('ans4.txt', 'w') as f:\n",
    "    r1 = '%.2f' % round(avg_rec_at_1_tst_p, 2)\n",
    "    p1 = '%.2f' % round(avg_prec_at_1_tst_p, 2)\n",
    "    r5 = '%.2f' % round(avg_rec_at_5_tst_p, 2)\n",
    "    p5 = '%.2f' % round(avg_prec_at_5_tst_p, 2)\n",
    "    ans4 = ' '.join([r1, p1, r5, p5])\n",
    "    print('Answer 4:', ans4)\n",
    "    f.write(ans4)"
   ]
  }
 ],
 "metadata": {
  "kernelspec": {
   "display_name": "Python 2",
   "language": "python",
   "name": "python2"
  },
  "language_info": {
   "codemirror_mode": {
    "name": "ipython",
    "version": 2
   },
   "file_extension": ".py",
   "mimetype": "text/x-python",
   "name": "python",
   "nbconvert_exporter": "python",
   "pygments_lexer": "ipython2",
   "version": "2.7.13"
  }
 },
 "nbformat": 4,
 "nbformat_minor": 2
}
