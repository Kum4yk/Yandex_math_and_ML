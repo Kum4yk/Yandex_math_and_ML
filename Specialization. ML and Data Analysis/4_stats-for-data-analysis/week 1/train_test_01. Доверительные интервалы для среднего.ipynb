{
 "cells": [
  {
   "cell_type": "code",
   "execution_count": 143,
   "metadata": {},
   "outputs": [],
   "source": [
    "import pandas as pd\n",
    "import numpy as np\n",
    "from scipy import stats\n",
    "import matplotlib.pyplot as plt\n",
    "from statsmodels.stats.weightstats import _tconfint_generic"
   ]
  },
  {
   "cell_type": "markdown",
   "metadata": {},
   "source": [
    "1. **Пусть $X∼F(x)$ — случайная величина с произвольным распределением, неизвестным математическим ожиданием $EX$ и известной дисперсией $DX$. Как выглядит доверительный интервал для $EX$ с приближённым уровнем доверия $100(1-\\alpha)$%?**\n",
    "\n",
    "$$ \\overline{X}_n \\pm z _{1 - \\frac{a}{2}} \\sqrt{\\frac{DX}{n}} $$\n",
    "\n",
    "---\n",
    "---"
   ]
  },
  {
   "cell_type": "markdown",
   "metadata": {},
   "source": [
    "2. **Для 61 большого города в Англии и Уэльсе известны средняя годовая смертность на 100000 населения (по данным 1958–1964) и концентрация кальция в питьевой воде (в частях на миллион). Чем выше концентрация кальция, тем жёстче вода. Города дополнительно поделены на северные и южные.**\n",
    "\n",
    "    **Постройте 95% доверительный интервал для средней годовой смертности в больших городах. Чему равна его нижняя граница? Округлите ответ до 4 знаков после десятичной точки.**\n",
    "\n",
    "    **Будьте осторожны при использовании метода std()! Дело в том, что у объекта numpy он по умолчанию вычисляется как $\\sqrt{ \\frac{1}{n} \\sum \\limits_{i = 1}^n (X_i - \\overline{X})^2 }$, а у объекта pandas — как $\\sqrt{ \\frac{1}{n-1} \\sum \\limits_{i = 1}^n (X_i - \\overline{X})^2 }$.**\n",
    "    \n",
    "    **Нас интересует только второй вариант, несмещённая оценка стандартного отклонения.**\n",
    "    \n",
    "    **Чтобы не думать всё время о том, правильно ли вычисляется в вашем случае std(), можно всегда использовать std(ddof=1) (ddof — difference in degrees of freedom), тогда нормировка всегда будет на n-1.**"
   ]
  },
  {
   "cell_type": "code",
   "execution_count": 105,
   "metadata": {},
   "outputs": [],
   "source": [
    "df = pd.read_csv(\"water.txt\", sep=\"\\t\")\n",
    "df.drop(\"town\", axis=1, inplace=True)"
   ]
  },
  {
   "cell_type": "code",
   "execution_count": 142,
   "metadata": {},
   "outputs": [
    {
     "data": {
      "text/html": [
       "<div>\n",
       "<style scoped>\n",
       "    .dataframe tbody tr th:only-of-type {\n",
       "        vertical-align: middle;\n",
       "    }\n",
       "\n",
       "    .dataframe tbody tr th {\n",
       "        vertical-align: top;\n",
       "    }\n",
       "\n",
       "    .dataframe thead th {\n",
       "        text-align: right;\n",
       "    }\n",
       "</style>\n",
       "<table border=\"1\" class=\"dataframe\">\n",
       "  <thead>\n",
       "    <tr style=\"text-align: right;\">\n",
       "      <th></th>\n",
       "      <th>location</th>\n",
       "      <th>mortality</th>\n",
       "      <th>hardness</th>\n",
       "    </tr>\n",
       "  </thead>\n",
       "  <tbody>\n",
       "    <tr>\n",
       "      <th>0</th>\n",
       "      <td>South</td>\n",
       "      <td>1247</td>\n",
       "      <td>105</td>\n",
       "    </tr>\n",
       "  </tbody>\n",
       "</table>\n",
       "</div>"
      ],
      "text/plain": [
       "  location  mortality  hardness\n",
       "0    South       1247       105"
      ]
     },
     "execution_count": 142,
     "metadata": {},
     "output_type": "execute_result"
    }
   ],
   "source": [
    "df.head(1)"
   ]
  },
  {
   "cell_type": "code",
   "execution_count": 129,
   "metadata": {},
   "outputs": [
    {
     "name": "stdout",
     "output_type": "stream",
     "text": [
      "1524.1475409836066\n",
      "[1476.0833, 1572.2117]\n",
      "[1476.0833, 1572.2117]\n"
     ]
    }
   ],
   "source": [
    "std = df.mortality.std(ddof=1) \n",
    "n = df.shape[0]\n",
    "std_mean = std / n**0.5\n",
    "mean = df.mortality.mean()\n",
    "\n",
    "t = stats.t.ppf(1 - 0.05/2, n-1)  # используем распределение Стьюдента\n",
    "\n",
    "answ = list(\n",
    "    map(\n",
    "        lambda x: round(x, 4),\n",
    "        (df.mortality.mean()  - t * std_mean, \n",
    "         df.mortality.mean()  + t * std_mean)\n",
    "    )\n",
    ")\n",
    "\n",
    "print(mean)\n",
    "print(answ)\n",
    "\n",
    "answ = list(map(\n",
    "    lambda x: round(x, 4),\n",
    "    _tconfint_generic(mean, std_mean,\n",
    "                      n - 1, 0.05, 'two-sided')\n",
    "    )\n",
    ")\n",
    "print(answ)"
   ]
  },
  {
   "cell_type": "markdown",
   "metadata": {},
   "source": [
    "3. **На данных из предыдущего вопроса постройте 95% доверительный интервал для средней годовой смертности по всем южным городам. Чему равна его верхняя граница? Округлите ответ до 4 знаков после десятичной точки.**"
   ]
  },
  {
   "cell_type": "code",
   "execution_count": 114,
   "metadata": {},
   "outputs": [],
   "source": [
    "south = df[df.location == \"South\"]"
   ]
  },
  {
   "cell_type": "code",
   "execution_count": 130,
   "metadata": {},
   "outputs": [
    {
     "name": "stdout",
     "output_type": "stream",
     "text": [
      "[1320.1517, 1433.4636]\n"
     ]
    }
   ],
   "source": [
    "south\n",
    "n_s = south.shape[0]\n",
    "std_mean_s = south.mortality.std(ddof=1) / n_s**0.5\n",
    "mean_s = south.mortality.mean()\n",
    "n_s, std_mean_s, mean_s\n",
    "\n",
    "answ_s = list(map(\n",
    "    lambda x: round(x, 4),\n",
    "    _tconfint_generic(mean_s, std_mean_s, n_s - 1, 0.05, 'two-sided')\n",
    "    )\n",
    ")\n",
    "print(answ_s)\n"
   ]
  },
  {
   "cell_type": "markdown",
   "metadata": {},
   "source": [
    "4. **На тех же данных постройте 95% доверительный интервал для средней годовой смертности по всем северным городам. Пересекается ли этот интервал с предыдущим? Как вы думаете, какой из этого можно сделать вывод?**\n",
    "\n",
    "\n",
    "- Интервалы пересекаются; видимо, средняя смертность на севере и на юге существенно разная\n",
    "\n",
    "\n",
    "- Интервалы пересекаются; похоже, средняя смертность на севере и на юге одинаковая\n",
    "\n",
    "\n",
    "- **Интервалы не пересекаются; видимо, средняя смертность на севере и на юге существенно разная**\n",
    "\n",
    "\n",
    "- Интервалы не пересекаются; похоже, средняя смертность на севере и на юге одинаковая"
   ]
  },
  {
   "cell_type": "code",
   "execution_count": 126,
   "metadata": {},
   "outputs": [],
   "source": [
    "north = df[df.location == \"North\"]"
   ]
  },
  {
   "cell_type": "code",
   "execution_count": 147,
   "metadata": {},
   "outputs": [
    {
     "name": "stdout",
     "output_type": "stream",
     "text": [
      "[1586.5605, 1680.6395]\n"
     ]
    }
   ],
   "source": [
    "n_n = north.shape[0]\n",
    "std_mean_n = north.mortality.std(ddof=1) / n_n**0.5\n",
    "mean_n = north.mortality.mean()\n",
    "\n",
    "answ_n = list(map(\n",
    "    lambda x: round(x, 4),\n",
    "    _tconfint_generic(mean_n, std_mean_n, n_n - 1, 0.05, 'two-sided')\n",
    "    )\n",
    ")\n",
    "print(answ_n)"
   ]
  },
  {
   "cell_type": "code",
   "execution_count": 151,
   "metadata": {
    "scrolled": false
   },
   "outputs": [
    {
     "data": {
      "image/png": "[encoded data removed]",
      "text/plain": [
       "<Figure size 600x400 with 1 Axes>"
      ]
     },
     "metadata": {
      "needs_background": "light"
     },
     "output_type": "display_data"
    }
   ],
   "source": [
    "plt.figure(dpi=100)\n",
    "plt.plot(answ_n, [1, 1], label=\"North\", linewidth=4)\n",
    "plt.scatter(mean_n, 1, linewidth=4)\n",
    "\n",
    "plt.plot(answ_s, [2, 2], label=\"South\", linewidth=4)\n",
    "plt.scatter(mean_s, 2, linewidth=4)\n",
    "plt.legend(fontsize=14);"
   ]
  },
  {
   "cell_type": "markdown",
   "metadata": {},
   "source": [
    "---\n",
    "---"
   ]
  },
  {
   "cell_type": "markdown",
   "metadata": {},
   "source": [
    "**5. Пересекаются ли 95% доверительные интервалы для средней жёсткости воды в северных и южных городах?**\n",
    "\n",
    "\n",
    "- **Не пересекаются**\n",
    "\n",
    "\n",
    "- Пересекаются\n"
   ]
  },
  {
   "cell_type": "code",
   "execution_count": 145,
   "metadata": {},
   "outputs": [
    {
     "data": {
      "text/plain": [
       "[[53.4672, 86.0713], [21.4225, 39.3775]]"
      ]
     },
     "execution_count": 145,
     "metadata": {},
     "output_type": "execute_result"
    }
   ],
   "source": [
    "hard = []\n",
    "for data in (south, north):\n",
    "    hard.append(\n",
    "        list(\n",
    "            map(\n",
    "                lambda x: round(x, 4),\n",
    "                _tconfint_generic(\n",
    "                    data.hardness.mean(),\n",
    "                    data.hardness.std(ddof=1) / data.shape[0]**0.5,\n",
    "                    data.shape[0] - 1,\n",
    "                    0.05, 'two-sided')\n",
    "            )\n",
    "        )\n",
    "    )\n",
    "hard"
   ]
  },
  {
   "cell_type": "code",
   "execution_count": 153,
   "metadata": {},
   "outputs": [
    {
     "data": {
      "image/png": "[encoded data removed]",
      "text/plain": [
       "<Figure size 600x400 with 1 Axes>"
      ]
     },
     "metadata": {
      "needs_background": "light"
     },
     "output_type": "display_data"
    }
   ],
   "source": [
    "plt.figure(dpi=100)\n",
    "plt.plot(hard[1], [1, 1], label=\"North\", linewidth=4)\n",
    "plt.plot(hard[0], [2, 2], label=\"South\", linewidth=4)\n",
    "plt.legend(fontsize=14);"
   ]
  },
  {
   "cell_type": "markdown",
   "metadata": {},
   "source": [
    "\n",
    "---\n",
    "---"
   ]
  },
  {
   "cell_type": "markdown",
   "metadata": {},
   "source": [
    "**6. Вспомним формулу доверительного интервала для среднего нормально распределённой случайной величины с дисперсией $\\sigma^2$:**\n",
    "\n",
    "$$ \\overline{X}_n \\pm z _{1 - \\frac{a}{2}} \\frac{\\sigma}{\\sqrt{n}} $$\n",
    "\n",
    "\n",
    "   **При $\\sigma=1$ какой нужен объём выборки, чтобы на уровне доверия 95% оценить среднее с точностью $\\pm 0.1$?**\n",
    "\n",
    "$$ err = Z_{1-\\frac{\\alpha}{2}} \\frac{\\sigma}{\\sqrt{n}}$$\n",
    "$$ 0.1 = Z_{0.975} * \\frac{1}{\\sqrt{n}} $$\n",
    "$$n = (Z_{0.975} / 0.1) ^ 2$$\n"
   ]
  },
  {
   "cell_type": "code",
   "execution_count": 43,
   "metadata": {},
   "outputs": [
    {
     "data": {
      "text/plain": [
       "(1.959963984540054, 385)"
      ]
     },
     "execution_count": 43,
     "metadata": {},
     "output_type": "execute_result"
    }
   ],
   "source": [
    "#Z 1 - alpha / 2\n",
    "error = 0.1\n",
    "Z_num = stats.norm.ppf(1 - 0.05/2)\n",
    "n = np.ceil((Z_num / 0.1)**2)\n",
    "Z_num, int(n)"
   ]
  },
  {
   "cell_type": "markdown",
   "metadata": {},
   "source": [
    "**7. Объём выборки, необходимый для построения доверительного интервала заданной ширины:**\n",
    "\n",
    "\n",
    "- уменьшается с ростом $\\alpha$\n",
    "\n",
    "\n",
    "- увеличивается с ростом дисперсии выборки\n",
    "\n",
    "\n",
    "-  увеличивается с уменьшением требуемой ширины"
   ]
  },
  {
   "cell_type": "markdown",
   "metadata": {},
   "source": []
  }
 ],
 "metadata": {
  "kernelspec": {
   "display_name": "Python 3",
   "language": "python",
   "name": "python3"
  },
  "language_info": {
   "codemirror_mode": {
    "name": "ipython",
    "version": 3
   },
   "file_extension": ".py",
   "mimetype": "text/x-python",
   "name": "python",
   "nbconvert_exporter": "python",
   "pygments_lexer": "ipython3",
   "version": "3.6.8"
  }
 },
 "nbformat": 4,
 "nbformat_minor": 2
}
