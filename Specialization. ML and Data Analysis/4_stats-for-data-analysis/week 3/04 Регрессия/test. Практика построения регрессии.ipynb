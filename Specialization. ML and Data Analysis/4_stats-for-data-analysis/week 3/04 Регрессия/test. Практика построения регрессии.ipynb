{
 "cells": [
  {
   "cell_type": "code",
   "execution_count": 179,
   "metadata": {},
   "outputs": [],
   "source": [
    "import pandas as pd"
   ]
  },
  {
   "cell_type": "markdown",
   "metadata": {},
   "source": [
    "### 1\n",
    "Давайте проанализируем данные опроса 4361 женщин из Ботсваны:  \n",
    "<br>  \n",
    "<center>botswana.tsv </center>\n",
    "   \n",
    "    \n",
    "О каждой из них мы знаем:\n",
    "- сколько детей она родила (признак ceb)\n",
    "- возраст (age)\n",
    "- длительность получения образования (educ)\n",
    "- религиозная принадлежность (religion)\n",
    "- идеальное, по её мнению, количество детей в семье (idlnchld)\n",
    "- была ли она когда-нибудь замужем (evermarr)\n",
    "- возраст первого замужества (agefm)\n",
    "- длительность получения образования мужем (heduc)\n",
    "- знает ли она о методах контрацепции (knowmeth)\n",
    "- использует ли она методы контрацепции (usemeth)\n",
    "- живёт ли она в городе (urban)\n",
    "- есть ли у неё электричество, радио, телевизор и велосипед (electric, radio, tv, bicycle)\n",
    "- Давайте научимся оценивать количество детей ceb по остальным признакам.\n",
    "\n",
    "Загрузите данные и внимательно изучите их. Сколько разных значений принимает признак religion?"
   ]
  },
  {
   "cell_type": "code",
   "execution_count": 180,
   "metadata": {},
   "outputs": [],
   "source": [
    "df = pd.read_csv(\"botswana.tsv\", sep=\"\\t\")"
   ]
  },
  {
   "cell_type": "code",
   "execution_count": 181,
   "metadata": {},
   "outputs": [
    {
     "data": {
      "text/plain": [
       "4"
      ]
     },
     "execution_count": 181,
     "metadata": {},
     "output_type": "execute_result"
    }
   ],
   "source": [
    "df.religion.unique().shape[0]"
   ]
  },
  {
   "cell_type": "markdown",
   "metadata": {},
   "source": [
    "---\n",
    "### 2\n",
    "Во многих признаках есть пропущенные значения. Сколько объектов из 4361 останется, если выбросить все, содержащие пропуски?"
   ]
  },
  {
   "cell_type": "code",
   "execution_count": 182,
   "metadata": {},
   "outputs": [
    {
     "data": {
      "text/plain": [
       "1834"
      ]
     },
     "execution_count": 182,
     "metadata": {},
     "output_type": "execute_result"
    }
   ],
   "source": [
    "df.dropna().shape[0]"
   ]
  },
  {
   "cell_type": "markdown",
   "metadata": {},
   "source": [
    "---\n",
    "### 3\n",
    "\n",
    "В разных признаках пропуски возникают по разным причинам и должны обрабатываться по-разному.\n",
    "\n",
    "Например, в признаке **agefm** пропуски стоят только там, где **evermarr=0**, то есть, они соответствуют женщинам, никогда не выходившим замуж. Таким образом, для этого признака **NaN** соответствует значению \"не применимо\".\n",
    "\n",
    "В подобных случаях, когда признак $x_1$ на части объектов в принципе не может принимать никакие значения, рекомендуется поступать так:\n",
    "\n",
    "- создать новый бинарный признак \n",
    "\n",
    "\\begin{equation}\n",
    "x_2 =\n",
    "\\begin{cases}\n",
    "1, & x_1=\\text{ 'не применимо'}, \\\\\n",
    "0, & \\text{иначе};\n",
    "\\end{cases}\n",
    "\\end{equation}\n",
    "\n",
    "\n",
    "- заменить \"не применимо\" в $x_1$ на произвольную константу $c$, которая среди других значений $x_1$ не встречается.\n",
    "\n",
    "\n",
    "Теперь, когда мы построим регрессию на оба признака и получим модель вида\n",
    "\n",
    "$$ y=\\beta_0 + \\beta_1 x_1 + \\beta_2 x_2,$$ \n",
    "\n",
    "на тех объектах, где $x_1$ было измерено, регрессионное уравнение примет вид\n",
    "\n",
    "$$y=\\beta_0 + \\beta_1 x,$$ \n",
    "  \n",
    "было \"не применимо\", получится\n",
    "\n",
    "$$ y=\\beta_0 + \\beta_1 c + \\beta_2.$$\n",
    "\n",
    "\n",
    "Выбор $c$ влияет только на значение и интерпретацию $\\beta_2$, но не $\\beta_1$.\n",
    "\n",
    "---\n",
    "\n",
    "Давайте используем этот метод для обработки пропусков в **agefm** и **heduc**.\n",
    "\n",
    "\n",
    "1. Создайте признак **nevermarr**, равный единице там, где в **agefm** пропуски.\n",
    "\n",
    "\n",
    "2. Удалите признак **evermarr** — в сумме с **nevermarr** он даёт константу, значит, в нашей матрице $X$ будет мультиколлинеарность.\n",
    "\n",
    "\n",
    "3. Замените *NaN* в признаке **agefm** на $c_{agefm}=0$. \n",
    "\n",
    "\n",
    "4. У объектов, где **nevermarr** = 1, замените NaN в признаке **heduc** на $c_{heduc\\_1}=-1$ (ноль использовать нельзя, так как он уже встречается у некоторых объектов выборки).\n",
    "\n",
    "\n",
    "Сколько осталось пропущенных значений в признаке heduc?"
   ]
  },
  {
   "cell_type": "code",
   "execution_count": 183,
   "metadata": {},
   "outputs": [],
   "source": [
    "# Создайте признак nevermarr, равный единице там, где в agefm пропуски\n",
    "\n",
    "df[\"nevermarr\"] = 0\n",
    "df.loc[df.agefm.isna(), \"nevermarr\"] = 1  # можно отобразить evermarr"
   ]
  },
  {
   "cell_type": "code",
   "execution_count": 184,
   "metadata": {},
   "outputs": [],
   "source": [
    "# Удалите признак evermarr \n",
    "df.drop(\"evermarr\", axis=1, inplace=True)"
   ]
  },
  {
   "cell_type": "code",
   "execution_count": 185,
   "metadata": {},
   "outputs": [],
   "source": [
    "# Замените NaN в признаке agefm на 0\n",
    "df.agefm.fillna(0, inplace=True)"
   ]
  },
  {
   "cell_type": "code",
   "execution_count": 186,
   "metadata": {},
   "outputs": [],
   "source": [
    "# У объектов, где nevermarr = 1, замените NaN в признаке heduc на -1\n",
    "df.loc[df.nevermarr == 1, \"heduc\"] = -1"
   ]
  },
  {
   "cell_type": "code",
   "execution_count": 187,
   "metadata": {},
   "outputs": [
    {
     "data": {
      "text/plain": [
       "False    4238\n",
       "True      123\n",
       "Name: heduc, dtype: int64"
      ]
     },
     "execution_count": 187,
     "metadata": {},
     "output_type": "execute_result"
    }
   ],
   "source": [
    "# Сколько осталось пропущенных значений в признаке heduc\n",
    "df.heduc.isna().value_counts()"
   ]
  },
  {
   "cell_type": "markdown",
   "metadata": {},
   "source": [
    "---\n",
    "### 4\n",
    "Избавимся от оставшихся пропусков.\n",
    "\n",
    "Для признаков **idlnchld**, **heduc** и **usemeth** проведите операцию, аналогичную предыдущей: создайте индикаторы пропусков по этим признакам (idlnchld_noans, heduc_noans, usemeth_noans), замените пропуски на нехарактерные значения \n",
    "- $c_{idlnchld}=-1$,  \n",
    "- $c_{heduc\\_2}=-2$ (значение -1 мы уже использовали), \n",
    "- $c_{usemeth}=-1$.\n",
    "\n",
    "Остались только пропуски в признаках knowmeth, electric, radio, tv и bicycle. Их очень мало, так что удалите объекты, на которых их значения пропущены.\n",
    "\n",
    "Какого размера теперь наша матрица данных? Умножьте количество строк на количество всех столбцов (включая отклик ceb)."
   ]
  },
  {
   "cell_type": "code",
   "execution_count": 188,
   "metadata": {},
   "outputs": [],
   "source": [
    "df[\"idlnchld_noans\"] = 0\n",
    "df.loc[df.idlnchld.isna(), \"idlnchld_noans\"] = 1\n",
    "\n",
    "df[\"heduc_noans\"] = 0\n",
    "df.loc[df.heduc.isna(), \"heduc_noans\"] = 1\n",
    "\n",
    "df[\"usemeth_noans\"] = 0\n",
    "df.loc[df.usemeth.isna(), \"usemeth_noans\"] = 1"
   ]
  },
  {
   "cell_type": "code",
   "execution_count": 189,
   "metadata": {},
   "outputs": [],
   "source": [
    "for name, value in zip([\"idlnchld\", \"heduc\", \"usemeth\"], (-1, -2, -1)):\n",
    "    df[name].fillna(value, inplace=True)"
   ]
  },
  {
   "cell_type": "code",
   "execution_count": 190,
   "metadata": {},
   "outputs": [],
   "source": [
    "df.dropna(inplace=True)"
   ]
  },
  {
   "cell_type": "code",
   "execution_count": 191,
   "metadata": {},
   "outputs": [
    {
     "data": {
      "text/plain": [
       "78264"
      ]
     },
     "execution_count": 191,
     "metadata": {},
     "output_type": "execute_result"
    }
   ],
   "source": [
    "df.shape[0] * df.shape[1]"
   ]
  },
  {
   "cell_type": "markdown",
   "metadata": {},
   "source": [
    "---\n",
    "### 5\n",
    "Постройте регрессию количества детей ceb на все имеющиеся признаки методом smf.ols, как в разобранном до этого примере. Какой получился коэффициент детерминации $R^2$? Округлите до трёх знаков после десятичной точки."
   ]
  },
  {
   "cell_type": "code",
   "execution_count": 192,
   "metadata": {},
   "outputs": [
    {
     "data": {
      "text/html": [
       "<div>\n",
       "<style scoped>\n",
       "    .dataframe tbody tr th:only-of-type {\n",
       "        vertical-align: middle;\n",
       "    }\n",
       "\n",
       "    .dataframe tbody tr th {\n",
       "        vertical-align: top;\n",
       "    }\n",
       "\n",
       "    .dataframe thead th {\n",
       "        text-align: right;\n",
       "    }\n",
       "</style>\n",
       "<table border=\"1\" class=\"dataframe\">\n",
       "  <thead>\n",
       "    <tr style=\"text-align: right;\">\n",
       "      <th></th>\n",
       "      <th>ceb</th>\n",
       "      <th>age</th>\n",
       "      <th>educ</th>\n",
       "      <th>religion</th>\n",
       "      <th>idlnchld</th>\n",
       "      <th>knowmeth</th>\n",
       "      <th>usemeth</th>\n",
       "      <th>agefm</th>\n",
       "      <th>heduc</th>\n",
       "      <th>urban</th>\n",
       "      <th>electric</th>\n",
       "      <th>radio</th>\n",
       "      <th>tv</th>\n",
       "      <th>bicycle</th>\n",
       "      <th>nevermarr</th>\n",
       "      <th>idlnchld_noans</th>\n",
       "      <th>heduc_noans</th>\n",
       "      <th>usemeth_noans</th>\n",
       "    </tr>\n",
       "  </thead>\n",
       "  <tbody>\n",
       "    <tr>\n",
       "      <th>0</th>\n",
       "      <td>0</td>\n",
       "      <td>18</td>\n",
       "      <td>10</td>\n",
       "      <td>catholic</td>\n",
       "      <td>4.0</td>\n",
       "      <td>1.0</td>\n",
       "      <td>1.0</td>\n",
       "      <td>0.0</td>\n",
       "      <td>-1.0</td>\n",
       "      <td>1</td>\n",
       "      <td>1.0</td>\n",
       "      <td>1.0</td>\n",
       "      <td>1.0</td>\n",
       "      <td>1.0</td>\n",
       "      <td>1</td>\n",
       "      <td>0</td>\n",
       "      <td>0</td>\n",
       "      <td>0</td>\n",
       "    </tr>\n",
       "  </tbody>\n",
       "</table>\n",
       "</div>"
      ],
      "text/plain": [
       "   ceb  age  educ  religion  idlnchld  knowmeth  usemeth  agefm  heduc  urban  \\\n",
       "0    0   18    10  catholic       4.0       1.0      1.0    0.0   -1.0      1   \n",
       "\n",
       "   electric  radio   tv  bicycle  nevermarr  idlnchld_noans  heduc_noans  \\\n",
       "0       1.0    1.0  1.0      1.0          1               0            0   \n",
       "\n",
       "   usemeth_noans  \n",
       "0              0  "
      ]
     },
     "execution_count": 192,
     "metadata": {},
     "output_type": "execute_result"
    }
   ],
   "source": [
    "df.head(1)"
   ]
  },
  {
   "cell_type": "code",
   "execution_count": 193,
   "metadata": {},
   "outputs": [],
   "source": [
    "import statsmodels.formula.api as smf"
   ]
  },
  {
   "cell_type": "code",
   "execution_count": 194,
   "metadata": {},
   "outputs": [
    {
     "name": "stdout",
     "output_type": "stream",
     "text": [
      "                            OLS Regression Results                            \n",
      "==============================================================================\n",
      "Dep. Variable:                    ceb   R-squared:                       0.644\n",
      "Model:                            OLS   Adj. R-squared:                  0.643\n",
      "Method:                 Least Squares   F-statistic:                     412.5\n",
      "Date:                Thu, 07 Nov 2019   Prob (F-statistic):               0.00\n",
      "Time:                        18:38:59   Log-Likelihood:                -7732.1\n",
      "No. Observations:                4348   AIC:                         1.550e+04\n",
      "Df Residuals:                    4328   BIC:                         1.563e+04\n",
      "Df Model:                          19                                         \n",
      "Covariance Type:            nonrobust                                         \n",
      "==========================================================================================\n",
      "                             coef    std err          t      P>|t|      [0.025      0.975]\n",
      "------------------------------------------------------------------------------------------\n",
      "Intercept                 -1.0263      0.212     -4.835      0.000      -1.443      -0.610\n",
      "religion[T.other]         -0.0830      0.083     -1.001      0.317      -0.245       0.080\n",
      "religion[T.protestant]    -0.0149      0.082     -0.181      0.857      -0.176       0.146\n",
      "religion[T.spirit]        -0.0191      0.077     -0.248      0.804      -0.171       0.132\n",
      "age                        0.1703      0.003     51.891      0.000       0.164       0.177\n",
      "educ                      -0.0724      0.007     -9.843      0.000      -0.087      -0.058\n",
      "idlnchld                   0.0760      0.011      6.923      0.000       0.054       0.098\n",
      "knowmeth                   0.5564      0.121      4.580      0.000       0.318       0.795\n",
      "usemeth                    0.6473      0.048     13.424      0.000       0.553       0.742\n",
      "agefm                     -0.0604      0.007     -9.213      0.000      -0.073      -0.048\n",
      "heduc                     -0.0551      0.008     -6.838      0.000      -0.071      -0.039\n",
      "urban                     -0.2137      0.047     -4.527      0.000      -0.306      -0.121\n",
      "electric                  -0.2685      0.077     -3.479      0.001      -0.420      -0.117\n",
      "radio                     -0.0235      0.051     -0.461      0.645      -0.123       0.076\n",
      "tv                        -0.1451      0.093     -1.566      0.118      -0.327       0.037\n",
      "bicycle                    0.2139      0.050      4.260      0.000       0.115       0.312\n",
      "nevermarr                 -2.2393      0.148    -15.143      0.000      -2.529      -1.949\n",
      "idlnchld_noans             0.6539      0.153      4.286      0.000       0.355       0.953\n",
      "heduc_noans               -0.8724      0.145     -6.026      0.000      -1.156      -0.589\n",
      "usemeth_noans              0.7652      0.196      3.910      0.000       0.382       1.149\n",
      "==============================================================================\n",
      "Omnibus:                      224.411   Durbin-Watson:                   1.887\n",
      "Prob(Omnibus):                  0.000   Jarque-Bera (JB):              859.014\n",
      "Skew:                           0.003   Prob(JB):                    2.93e-187\n",
      "Kurtosis:                       5.178   Cond. No.                         361.\n",
      "==============================================================================\n",
      "\n",
      "Warnings:\n",
      "[1] Standard Errors assume that the covariance matrix of the errors is correctly specified.\n"
     ]
    }
   ],
   "source": [
    "formula = \"ceb ~ \" + \" + \".join(df.columns[1:])\n",
    "res = smf.ols(formula=formula, data=df)\n",
    "fitted = res.fit()\n",
    "print(fitted.summary())"
   ]
  },
  {
   "cell_type": "code",
   "execution_count": 195,
   "metadata": {},
   "outputs": [
    {
     "data": {
      "text/plain": [
       "0.644"
      ]
     },
     "execution_count": 195,
     "metadata": {},
     "output_type": "execute_result"
    }
   ],
   "source": [
    "0.644"
   ]
  },
  {
   "cell_type": "markdown",
   "metadata": {},
   "source": [
    "---\n",
    "### 6\n",
    "Обратите внимание, что для признака *religion* в модели автоматически создалось несколько бинарных фиктивных переменных. Сколько их?"
   ]
  },
  {
   "cell_type": "code",
   "execution_count": 196,
   "metadata": {},
   "outputs": [
    {
     "data": {
      "text/plain": [
       "3"
      ]
     },
     "execution_count": 196,
     "metadata": {},
     "output_type": "execute_result"
    }
   ],
   "source": [
    "3"
   ]
  },
  {
   "cell_type": "markdown",
   "metadata": {},
   "source": [
    "---\n",
    "### 7\n",
    "Проверьте критерием Бройша-Пагана гомоскедастичность ошибки в построенной модели. Выполняется ли она?\n",
    "\n",
    "Если ошибка гетероскедастична, перенастройте модель, сделав поправку Уайта типа HC1.\n",
    "\n",
    "\n",
    "- Ошибка гомоскедастична, $p>0.05$\n",
    "\n",
    "\n",
    "- Ошибка гетероскедастична, $p\\leq0.05$, нужно делать поправку Уайта $\\checkmark$\n",
    "\n"
   ]
  },
  {
   "cell_type": "code",
   "execution_count": 197,
   "metadata": {},
   "outputs": [],
   "source": [
    "import statsmodels.stats.api as sms"
   ]
  },
  {
   "cell_type": "code",
   "execution_count": 198,
   "metadata": {},
   "outputs": [
    {
     "name": "stdout",
     "output_type": "stream",
     "text": [
      "Breusch-Pagan test: p=0.000000\n"
     ]
    }
   ],
   "source": [
    "print('Breusch-Pagan test: p=%f' % sms.het_breuschpagan(fitted.resid, fitted.model.exog)[1])"
   ]
  },
  {
   "cell_type": "markdown",
   "metadata": {},
   "source": [
    "---\n",
    "### 8\n",
    "Удалите из модели незначимые признаки **religion**, **radio** и **tv**. Проверьте гомоскедастичность ошибки, при необходимости сделайте поправку Уайта.\n",
    "\n",
    "Не произошло ли значимого ухудшения модели после удаления этой группы признаков? Проверьте с помощью критерия Фишера. Чему равен его достигаемый уровень значимости? Округлите до четырёх цифр после десятичной точки.\n",
    "\n",
    "Если достигаемый уровень значимости получился маленький, верните все удалённые признаки; если он достаточно велик, оставьте модель без религии, тв и радио."
   ]
  },
  {
   "cell_type": "code",
   "execution_count": 199,
   "metadata": {},
   "outputs": [],
   "source": [
    "df2 = df.drop([\"religion\", \"radio\", \"tv\"], axis=1)"
   ]
  },
  {
   "cell_type": "code",
   "execution_count": 200,
   "metadata": {},
   "outputs": [],
   "source": [
    "formula_2 = \"ceb ~ \" + \" + \".join(df2.columns[1:])"
   ]
  },
  {
   "cell_type": "code",
   "execution_count": 201,
   "metadata": {},
   "outputs": [],
   "source": [
    "fitted_1 = smf.ols(formula=formula, data=df).fit(cov_type='HC1')\n",
    "fitted_2 = smf.ols(formula=formula_2, data=df).fit(cov_type='HC1')"
   ]
  },
  {
   "cell_type": "code",
   "execution_count": 203,
   "metadata": {},
   "outputs": [
    {
     "name": "stdout",
     "output_type": "stream",
     "text": [
      "F=0.919236, p=0.467231, k1=5.000000 ; deleted 3 features\n",
      "0.4672\n"
     ]
    },
    {
     "name": "stderr",
     "output_type": "stream",
     "text": [
      "D:\\Anaconda3\\envs\\py36_R\\lib\\site-packages\\statsmodels\\regression\\linear_model.py:2018: InvalidTestWarning: F test for comparison is likely invalid with robust covariance, proceeding anyway\n",
      "  InvalidTestWarning)\n"
     ]
    }
   ],
   "source": [
    "res = fitted.compare_f_test(fitted_2)\n",
    "print(\"F=%f, p=%f, k1=%f\" % res, \"; deleted 3 features\")\n",
    "print(round(res[1], 4))"
   ]
  },
  {
   "cell_type": "markdown",
   "metadata": {},
   "source": [
    "---\n",
    "### 9\n",
    "Признак usemeth_noans значим по критерию Стьюдента, то есть, при его удалении модель значимо ухудшится. Но вообще-то отдельно его удалять нельзя: из-за того, что мы перекодировали пропуски в usemeth произвольно выбранным значением $c_{usemeth }=-1$, удалять *usemeth_noans* и _usemeth_ можно только вместе.\n",
    "\n",
    "Удалите из текущей модели *usemeth_noans* и _usemeth_. Проверьте критерием Фишера гипотезу о том, что качество модели не ухудшилось. Введите номер первой значащей цифры в достигаемом уровне значимости (например, если вы получили $ 5.5\\times10^{-8}$, нужно ввести 8).\n",
    "\n",
    "Если достигаемый уровень значимости получился маленький, верните удалённые признаки; если он достаточно велик, оставьте модель без _usemeth_ и *usemeth_noans*."
   ]
  },
  {
   "cell_type": "code",
   "execution_count": 204,
   "metadata": {},
   "outputs": [
    {
     "data": {
      "text/plain": [
       "'ceb ~ age + educ + idlnchld + knowmeth + agefm + heduc + urban + electric + bicycle + nevermarr + idlnchld_noans + heduc_noans'"
      ]
     },
     "execution_count": 204,
     "metadata": {},
     "output_type": "execute_result"
    }
   ],
   "source": [
    "cols_3 = ['age', 'educ', 'idlnchld', 'knowmeth', 'agefm',\n",
    "       'heduc', 'urban', 'electric', 'bicycle', 'nevermarr', 'idlnchld_noans',\n",
    "       'heduc_noans']\n",
    "formula_3 = \"ceb ~ \" + \" + \".join(cols_3)\n",
    "formula_3"
   ]
  },
  {
   "cell_type": "code",
   "execution_count": 205,
   "metadata": {},
   "outputs": [],
   "source": [
    "fitted_3 = smf.ols(formula=formula_3, data=df).fit(cov_type='HC1')"
   ]
  },
  {
   "cell_type": "code",
   "execution_count": 206,
   "metadata": {},
   "outputs": [
    {
     "name": "stderr",
     "output_type": "stream",
     "text": [
      "D:\\Anaconda3\\envs\\py36_R\\lib\\site-packages\\statsmodels\\regression\\linear_model.py:2018: InvalidTestWarning: F test for comparison is likely invalid with robust covariance, proceeding anyway\n",
      "  InvalidTestWarning)\n"
     ]
    },
    {
     "data": {
      "text/plain": [
       "(92.89058230109713, 3.155200948040263e-40, 2.0)"
      ]
     },
     "execution_count": 206,
     "metadata": {},
     "output_type": "execute_result"
    }
   ],
   "source": [
    "fitted_2.compare_f_test(fitted_3)"
   ]
  },
  {
   "cell_type": "code",
   "execution_count": 207,
   "metadata": {
    "scrolled": true
   },
   "outputs": [
    {
     "data": {
      "text/plain": [
       "40"
      ]
     },
     "execution_count": 207,
     "metadata": {},
     "output_type": "execute_result"
    }
   ],
   "source": [
    "40"
   ]
  },
  {
   "cell_type": "code",
   "execution_count": 208,
   "metadata": {
    "scrolled": false
   },
   "outputs": [
    {
     "name": "stdout",
     "output_type": "stream",
     "text": [
      "                            OLS Regression Results                            \n",
      "==============================================================================\n",
      "Dep. Variable:                    ceb   R-squared:                       0.644\n",
      "Model:                            OLS   Adj. R-squared:                  0.643\n",
      "Method:                 Least Squares   F-statistic:                     463.4\n",
      "Date:                Thu, 07 Nov 2019   Prob (F-statistic):               0.00\n",
      "Time:                        18:39:01   Log-Likelihood:                -7734.5\n",
      "No. Observations:                4348   AIC:                         1.550e+04\n",
      "Df Residuals:                    4333   BIC:                         1.559e+04\n",
      "Df Model:                          14                                         \n",
      "Covariance Type:                  HC1                                         \n",
      "==================================================================================\n",
      "                     coef    std err          z      P>|z|      [0.025      0.975]\n",
      "----------------------------------------------------------------------------------\n",
      "Intercept         -1.0698      0.258     -4.152      0.000      -1.575      -0.565\n",
      "age                0.1702      0.004     38.746      0.000       0.162       0.179\n",
      "educ              -0.0729      0.007    -10.311      0.000      -0.087      -0.059\n",
      "idlnchld           0.0770      0.014      5.323      0.000       0.049       0.105\n",
      "knowmeth           0.5610      0.174      3.224      0.001       0.220       0.902\n",
      "usemeth            0.6516      0.052     12.571      0.000       0.550       0.753\n",
      "agefm             -0.0606      0.010     -6.192      0.000      -0.080      -0.041\n",
      "heduc             -0.0573      0.009     -6.440      0.000      -0.075      -0.040\n",
      "urban             -0.2190      0.045     -4.814      0.000      -0.308      -0.130\n",
      "electric          -0.3207      0.063     -5.076      0.000      -0.445      -0.197\n",
      "bicycle            0.2046      0.048      4.279      0.000       0.111       0.298\n",
      "nevermarr         -2.2501      0.202    -11.158      0.000      -2.645      -1.855\n",
      "idlnchld_noans     0.6565      0.216      3.043      0.002       0.234       1.079\n",
      "heduc_noans       -0.8853      0.191     -4.638      0.000      -1.259      -0.511\n",
      "usemeth_noans      0.7732      0.212      3.639      0.000       0.357       1.190\n",
      "==============================================================================\n",
      "Omnibus:                      224.096   Durbin-Watson:                   1.886\n",
      "Prob(Omnibus):                  0.000   Jarque-Bera (JB):              856.760\n",
      "Skew:                           0.004   Prob(JB):                    9.06e-187\n",
      "Kurtosis:                       5.175   Cond. No.                         345.\n",
      "==============================================================================\n",
      "\n",
      "Warnings:\n",
      "[1] Standard Errors are heteroscedasticity robust (HC1)\n"
     ]
    }
   ],
   "source": [
    "print(fitted_2.summary())"
   ]
  },
  {
   "cell_type": "markdown",
   "metadata": {},
   "source": [
    "---\n",
    "### 10\n",
    "Посмотрите на доверительные интервалы для коэффициентов итоговой модели (не забудьте использовать поправку Уайта, если есть гетероскедастичность ошибки) и выберите правильные выводы.\n",
    "\n",
    "\n",
    "- У женщин, знакомых с методами контрацепции **knowmeth**, при прочих равных в среднем на 0.6 ребёнка меньше (p=0.001, 95% доверительный интервал для разницы между средними — [-0.9, -0.2]) **(нет, так как коэф положительный)**\n",
    "\n",
    "\n",
    "- У женщин, не знающих, какое количество детей идеально (**idlnchld_noans**), в среднем на 0.66 ребёнка больше (p=0.002, 95% доверительный интервал — [0.2, 1.1])\n",
    "\n",
    "\n",
    "-  женщин, никогда не выходивших замуж (**nevermarr**), при прочих равных в среднем на 2.3 ребёнка меньше (p<0.001, 95% доверительный интервал для разницы между средними — [-2.6, -1.9]) $\\large\\checkmark$ \n",
    "\n",
    "\n",
    "- С увеличением возраста женщины на 1 год среднее количество детей возрастает на 0.17 (p<0.001, 95% доверительный интервал — [0.16, 0.18]) $\\large\\checkmark$\n",
    "\n",
    "\n",
    "- У женщин, не знающих, какое количество детей идеально (**idlnchld_noans**), в среднем на \n",
    "$$ β_{idlnchld\\_noans}+c_{idlnchld}β_{idlnchld} ≈ 0.58 $$ детей больше *$\\large\\checkmark$"
   ]
  }
 ],
 "metadata": {
  "kernelspec": {
   "display_name": "Python 3",
   "language": "python",
   "name": "python3"
  },
  "language_info": {
   "codemirror_mode": {
    "name": "ipython",
    "version": 3
   },
   "file_extension": ".py",
   "mimetype": "text/x-python",
   "name": "python",
   "nbconvert_exporter": "python",
   "pygments_lexer": "ipython3",
   "version": "3.6.8"
  }
 },
 "nbformat": 4,
 "nbformat_minor": 2
}
