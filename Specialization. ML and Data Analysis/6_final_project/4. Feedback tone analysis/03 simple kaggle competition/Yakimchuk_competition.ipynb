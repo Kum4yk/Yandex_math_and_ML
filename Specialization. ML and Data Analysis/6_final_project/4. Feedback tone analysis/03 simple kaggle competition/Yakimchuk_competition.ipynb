{
 "cells": [
  {
   "cell_type": "markdown",
   "metadata": {},
   "source": [
    "В этом задании вам нужно воспользоваться опытом предыдущих недель, чтобы побить бейзлайн в соревновании по сентимент-анализу отзывов на товары на Kaggle Inclass:\n",
    "\n",
    "https://www.kaggle.com/c/simplesentiment"
   ]
  },
  {
   "cell_type": "code",
   "execution_count": 74,
   "metadata": {},
   "outputs": [],
   "source": [
    "import pandas as pd\n",
    "from sklearn.svm import LinearSVC\n",
    "from sklearn.model_selection import cross_val_score, train_test_split\n",
    "from sklearn.linear_model import LogisticRegression\n",
    "from sklearn.feature_extraction.text import CountVectorizer, TfidfVectorizer\n",
    "from sklearn.pipeline import Pipeline\n",
    "from sklearn.metrics import accuracy_score\n",
    "import warnings\n",
    "from nltk.corpus import movie_reviews\n",
    "warnings.filterwarnings('ignore')\n",
    "%matplotlib inline"
   ]
  },
  {
   "cell_type": "code",
   "execution_count": 75,
   "metadata": {},
   "outputs": [],
   "source": [
    "def create_pipeline(vectorizer, classifier):\n",
    "    return Pipeline(\n",
    "        [(\"vectorizer\", vectorizer),\n",
    "         (\"classifier\", classifier)]\n",
    "        )\n",
    "\n",
    "def get_X_y():\n",
    "    X = []\n",
    "    for field in (\"neg\", \"pos\"):\n",
    "        tmp = movie_reviews.fileids(field)\n",
    "        X.extend([\" \". join(movie_reviews.words(fileids=[f])) for f in tmp])\n",
    "    y = [0] * 1000 + [1] * 1000\n",
    "    return X, y"
   ]
  },
  {
   "cell_type": "code",
   "execution_count": 6,
   "metadata": {},
   "outputs": [
    {
     "data": {
      "text/html": [
       "<div>\n",
       "<style scoped>\n",
       "    .dataframe tbody tr th:only-of-type {\n",
       "        vertical-align: middle;\n",
       "    }\n",
       "\n",
       "    .dataframe tbody tr th {\n",
       "        vertical-align: top;\n",
       "    }\n",
       "\n",
       "    .dataframe thead th {\n",
       "        text-align: right;\n",
       "    }\n",
       "</style>\n",
       "<table border=\"1\" class=\"dataframe\">\n",
       "  <thead>\n",
       "    <tr style=\"text-align: right;\">\n",
       "      <th></th>\n",
       "      <th>0</th>\n",
       "      <th>1</th>\n",
       "    </tr>\n",
       "  </thead>\n",
       "  <tbody>\n",
       "    <tr>\n",
       "      <td>0</td>\n",
       "      <td>2 . take around 10,000 640x480 pictures .</td>\n",
       "      <td>1</td>\n",
       "    </tr>\n",
       "    <tr>\n",
       "      <td>1</td>\n",
       "      <td>i downloaded a trial version of computer assoc...</td>\n",
       "      <td>1</td>\n",
       "    </tr>\n",
       "    <tr>\n",
       "      <td>2</td>\n",
       "      <td>the wrt54g plus the hga7t is a perfect solutio...</td>\n",
       "      <td>1</td>\n",
       "    </tr>\n",
       "    <tr>\n",
       "      <td>3</td>\n",
       "      <td>i dont especially like how music files are uns...</td>\n",
       "      <td>0</td>\n",
       "    </tr>\n",
       "    <tr>\n",
       "      <td>4</td>\n",
       "      <td>i was using the cheapie pail ... and it worked...</td>\n",
       "      <td>1</td>\n",
       "    </tr>\n",
       "  </tbody>\n",
       "</table>\n",
       "</div>"
      ],
      "text/plain": [
       "                                                   0  1\n",
       "0          2 . take around 10,000 640x480 pictures .  1\n",
       "1  i downloaded a trial version of computer assoc...  1\n",
       "2  the wrt54g plus the hga7t is a perfect solutio...  1\n",
       "3  i dont especially like how music files are uns...  0\n",
       "4  i was using the cheapie pail ... and it worked...  1"
      ]
     },
     "execution_count": 6,
     "metadata": {},
     "output_type": "execute_result"
    }
   ],
   "source": [
    "# считываем данные\n",
    "\n",
    "data = pd.read_csv(\"../data/products_sentiment_train.tsv\", sep='\\t', header=None)\n",
    "data.head() "
   ]
  },
  {
   "cell_type": "markdown",
   "metadata": {},
   "source": [
    "Смотрим на распределение классов и наличие пропущенных значений."
   ]
  },
  {
   "cell_type": "code",
   "execution_count": 18,
   "metadata": {},
   "outputs": [
    {
     "data": {
      "text/plain": [
       "1    1274\n",
       "0     726\n",
       "Name: 1, dtype: int64"
      ]
     },
     "execution_count": 18,
     "metadata": {},
     "output_type": "execute_result"
    }
   ],
   "source": [
    "data[1].value_counts()"
   ]
  },
  {
   "cell_type": "code",
   "execution_count": 19,
   "metadata": {},
   "outputs": [
    {
     "data": {
      "text/plain": [
       "(2000, 2)"
      ]
     },
     "execution_count": 19,
     "metadata": {},
     "output_type": "execute_result"
    }
   ],
   "source": [
    "data.shape"
   ]
  },
  {
   "cell_type": "markdown",
   "metadata": {},
   "source": [
    "Будем делать кросс валидацию (cv = 5) с итоговой проверкой на тестовой выборке. "
   ]
  },
  {
   "cell_type": "code",
   "execution_count": 23,
   "metadata": {},
   "outputs": [],
   "source": [
    "X_train, X_test, y_train, y_test = train_test_split(data[0], data[1], test_size=0.25)"
   ]
  },
  {
   "cell_type": "markdown",
   "metadata": {},
   "source": [
    "В качестве классификатора и векторайзера будем использовать то что рассмотрели в прошлых неделях:\n",
    "- LogisticRegression\n",
    "- LinearSVC  \n",
    "\n",
    "и\n",
    "- CountVectorizer\n",
    "- TfidfVectorizer\n",
    "\n",
    "Так как нет явно преобладающего класса в выборках, и нам одинаково важно корректно оценивать как положительные так и отрицательные отзывы, в качестве метрики будем использовать accuracy"
   ]
  },
  {
   "cell_type": "markdown",
   "metadata": {},
   "source": [
    "Для начала рассмотрим решения из коробки"
   ]
  },
  {
   "cell_type": "code",
   "execution_count": 66,
   "metadata": {
    "scrolled": true
   },
   "outputs": [],
   "source": [
    "columns = [\"cv_score\", \"train_score\", \"test_score\"]\n",
    "result = []\n",
    "names = []\n",
    "\n",
    "for vec in (CountVectorizer, TfidfVectorizer):\n",
    "    for clf in (LogisticRegression, LinearSVC):\n",
    "        \n",
    "        names.append(vec.__name__  + \" \" +  clf.__name__)\n",
    "        pipeline = create_pipeline(vec(), clf())\n",
    "        \n",
    "        # scoring=\"ROC-AUC\"\n",
    "        cv_score = cross_val_score(pipeline, X_train, y_train, cv=5).mean() \n",
    "        pipeline.fit(X_train, y_train)\n",
    "        train_score = accuracy_score(y_train, pipeline.predict(X_train))\n",
    "        test_score = accuracy_score(y_test, pipeline.predict(X_test))\n",
    "        \n",
    "        result.append([cv_score, train_score, test_score])"
   ]
  },
  {
   "cell_type": "code",
   "execution_count": 71,
   "metadata": {},
   "outputs": [
    {
     "data": {
      "text/html": [
       "<div>\n",
       "<style scoped>\n",
       "    .dataframe tbody tr th:only-of-type {\n",
       "        vertical-align: middle;\n",
       "    }\n",
       "\n",
       "    .dataframe tbody tr th {\n",
       "        vertical-align: top;\n",
       "    }\n",
       "\n",
       "    .dataframe thead th {\n",
       "        text-align: right;\n",
       "    }\n",
       "</style>\n",
       "<table border=\"1\" class=\"dataframe\">\n",
       "  <thead>\n",
       "    <tr style=\"text-align: right;\">\n",
       "      <th></th>\n",
       "      <th>cv_score</th>\n",
       "      <th>train_score</th>\n",
       "      <th>test_score</th>\n",
       "    </tr>\n",
       "  </thead>\n",
       "  <tbody>\n",
       "    <tr>\n",
       "      <td>CountVectorizer LogisticRegression</td>\n",
       "      <td>0.759976</td>\n",
       "      <td>0.984667</td>\n",
       "      <td>0.760</td>\n",
       "    </tr>\n",
       "    <tr>\n",
       "      <td>CountVectorizer LinearSVC</td>\n",
       "      <td>0.754629</td>\n",
       "      <td>1.000000</td>\n",
       "      <td>0.764</td>\n",
       "    </tr>\n",
       "    <tr>\n",
       "      <td>TfidfVectorizer LogisticRegression</td>\n",
       "      <td>0.755318</td>\n",
       "      <td>0.886667</td>\n",
       "      <td>0.764</td>\n",
       "    </tr>\n",
       "    <tr>\n",
       "      <td>TfidfVectorizer LinearSVC</td>\n",
       "      <td>0.766629</td>\n",
       "      <td>0.997333</td>\n",
       "      <td>0.778</td>\n",
       "    </tr>\n",
       "  </tbody>\n",
       "</table>\n",
       "</div>"
      ],
      "text/plain": [
       "                                    cv_score  train_score  test_score\n",
       "CountVectorizer LogisticRegression  0.759976     0.984667       0.760\n",
       "CountVectorizer LinearSVC           0.754629     1.000000       0.764\n",
       "TfidfVectorizer LogisticRegression  0.755318     0.886667       0.764\n",
       "TfidfVectorizer LinearSVC           0.766629     0.997333       0.778"
      ]
     },
     "execution_count": 71,
     "metadata": {},
     "output_type": "execute_result"
    }
   ],
   "source": [
    "scores = pd.DataFrame(result, columns=columns, index=names)\n",
    "scores"
   ]
  },
  {
   "cell_type": "code",
   "execution_count": 72,
   "metadata": {},
   "outputs": [
    {
     "data": {
      "text/plain": [
       "<matplotlib.axes._subplots.AxesSubplot at 0x1fafe599e80>"
      ]
     },
     "execution_count": 72,
     "metadata": {},
     "output_type": "execute_result"
    },
    {
     "data": {
      "image/png": "[encoded data removed]",
      "text/plain": [
       "<Figure size 864x720 with 1 Axes>"
      ]
     },
     "metadata": {
      "needs_background": "light"
     },
     "output_type": "display_data"
    }
   ],
   "source": [
    "scores.plot(figsize=(12, 10))"
   ]
  },
  {
   "cell_type": "markdown",
   "metadata": {},
   "source": [
    "Как видим все модели переобучаются, т.к. train score близок к единице, это значит что наши модели сложные, или нам не хватает данных.\n",
    "- чтобы упростить модель, нужно трогать гиппер параметры векторайзера и классификатора\n",
    "- чтобы получить данные, их нужно откуда то взять **¯\\_(ツ)_/¯**\n",
    "\n",
    "---\n",
    "---\n",
    "\n",
    "Попробуем обучить наши дополнительно на данных с nltk, кроме movie_reviews я там не нашел подходящих текстов"
   ]
  },
  {
   "cell_type": "code",
   "execution_count": 76,
   "metadata": {},
   "outputs": [],
   "source": [
    "X, y = get_X_y()"
   ]
  },
  {
   "cell_type": "code",
   "execution_count": 87,
   "metadata": {},
   "outputs": [],
   "source": [
    "movie = pd.DataFrame({0: X, 1: y})"
   ]
  },
  {
   "cell_type": "code",
   "execution_count": 88,
   "metadata": {},
   "outputs": [
    {
     "data": {
      "text/html": [
       "<div>\n",
       "<style scoped>\n",
       "    .dataframe tbody tr th:only-of-type {\n",
       "        vertical-align: middle;\n",
       "    }\n",
       "\n",
       "    .dataframe tbody tr th {\n",
       "        vertical-align: top;\n",
       "    }\n",
       "\n",
       "    .dataframe thead th {\n",
       "        text-align: right;\n",
       "    }\n",
       "</style>\n",
       "<table border=\"1\" class=\"dataframe\">\n",
       "  <thead>\n",
       "    <tr style=\"text-align: right;\">\n",
       "      <th></th>\n",
       "      <th>0</th>\n",
       "      <th>1</th>\n",
       "    </tr>\n",
       "  </thead>\n",
       "  <tbody>\n",
       "    <tr>\n",
       "      <td>0</td>\n",
       "      <td>plot : two teen couples go to a church party ,...</td>\n",
       "      <td>0</td>\n",
       "    </tr>\n",
       "    <tr>\n",
       "      <td>1</td>\n",
       "      <td>the happy bastard ' s quick movie review damn ...</td>\n",
       "      <td>0</td>\n",
       "    </tr>\n",
       "    <tr>\n",
       "      <td>2</td>\n",
       "      <td>it is movies like these that make a jaded movi...</td>\n",
       "      <td>0</td>\n",
       "    </tr>\n",
       "    <tr>\n",
       "      <td>3</td>\n",
       "      <td>\" quest for camelot \" is warner bros . ' first...</td>\n",
       "      <td>0</td>\n",
       "    </tr>\n",
       "    <tr>\n",
       "      <td>4</td>\n",
       "      <td>synopsis : a mentally unstable man undergoing ...</td>\n",
       "      <td>0</td>\n",
       "    </tr>\n",
       "    <tr>\n",
       "      <td>...</td>\n",
       "      <td>...</td>\n",
       "      <td>...</td>\n",
       "    </tr>\n",
       "    <tr>\n",
       "      <td>1995</td>\n",
       "      <td>wow ! what a movie . it ' s everything a movie...</td>\n",
       "      <td>1</td>\n",
       "    </tr>\n",
       "    <tr>\n",
       "      <td>1996</td>\n",
       "      <td>richard gere can be a commanding actor , but h...</td>\n",
       "      <td>1</td>\n",
       "    </tr>\n",
       "    <tr>\n",
       "      <td>1997</td>\n",
       "      <td>glory -- starring matthew broderick , denzel w...</td>\n",
       "      <td>1</td>\n",
       "    </tr>\n",
       "    <tr>\n",
       "      <td>1998</td>\n",
       "      <td>steven spielberg ' s second epic film on world...</td>\n",
       "      <td>1</td>\n",
       "    </tr>\n",
       "    <tr>\n",
       "      <td>1999</td>\n",
       "      <td>truman ( \" true - man \" ) burbank is the perfe...</td>\n",
       "      <td>1</td>\n",
       "    </tr>\n",
       "  </tbody>\n",
       "</table>\n",
       "<p>2000 rows × 2 columns</p>\n",
       "</div>"
      ],
      "text/plain": [
       "                                                      0  1\n",
       "0     plot : two teen couples go to a church party ,...  0\n",
       "1     the happy bastard ' s quick movie review damn ...  0\n",
       "2     it is movies like these that make a jaded movi...  0\n",
       "3     \" quest for camelot \" is warner bros . ' first...  0\n",
       "4     synopsis : a mentally unstable man undergoing ...  0\n",
       "...                                                 ... ..\n",
       "1995  wow ! what a movie . it ' s everything a movie...  1\n",
       "1996  richard gere can be a commanding actor , but h...  1\n",
       "1997  glory -- starring matthew broderick , denzel w...  1\n",
       "1998  steven spielberg ' s second epic film on world...  1\n",
       "1999  truman ( \" true - man \" ) burbank is the perfe...  1\n",
       "\n",
       "[2000 rows x 2 columns]"
      ]
     },
     "execution_count": 88,
     "metadata": {},
     "output_type": "execute_result"
    }
   ],
   "source": [
    "movie"
   ]
  },
  {
   "cell_type": "code",
   "execution_count": 90,
   "metadata": {},
   "outputs": [],
   "source": [
    "new_data = pd.concat([data, movie])"
   ]
  },
  {
   "cell_type": "code",
   "execution_count": 92,
   "metadata": {},
   "outputs": [
    {
     "data": {
      "text/plain": [
       "(4000, 2)"
      ]
     },
     "execution_count": 92,
     "metadata": {},
     "output_type": "execute_result"
    }
   ],
   "source": [
    "new_data.shape"
   ]
  },
  {
   "cell_type": "code",
   "execution_count": 93,
   "metadata": {},
   "outputs": [],
   "source": [
    "#cv сам перемешивает данные\n",
    "\n",
    "X_train, X_test, y_train, y_test = train_test_split(new_data[0], new_data[1], test_size=0.33)"
   ]
  },
  {
   "cell_type": "markdown",
   "metadata": {},
   "source": [
    "Делаем всё тоже самое"
   ]
  },
  {
   "cell_type": "code",
   "execution_count": 97,
   "metadata": {
    "scrolled": false
   },
   "outputs": [
    {
     "data": {
      "text/plain": [
       "<matplotlib.axes._subplots.AxesSubplot at 0x1fa819fb860>"
      ]
     },
     "execution_count": 97,
     "metadata": {},
     "output_type": "execute_result"
    },
    {
     "data": {
      "image/png": "[encoded data removed]",
      "text/plain": [
       "<Figure size 864x720 with 1 Axes>"
      ]
     },
     "metadata": {
      "needs_background": "light"
     },
     "output_type": "display_data"
    }
   ],
   "source": [
    "columns = [\"cv_score\", \"train_score\", \"test_score\"]\n",
    "result = []\n",
    "names = []\n",
    "\n",
    "for vec in (CountVectorizer, TfidfVectorizer):\n",
    "    for clf in (LogisticRegression, LinearSVC):\n",
    "        \n",
    "        names.append(vec.__name__  + \" \" +  clf.__name__)\n",
    "        pipeline = create_pipeline(vec(), clf())\n",
    "\n",
    "        cv_score = cross_val_score(pipeline, X_train, y_train, cv=5).mean() \n",
    "        pipeline.fit(X_train, y_train)\n",
    "        train_score = accuracy_score(y_train, pipeline.predict(X_train))\n",
    "        test_score = accuracy_score(y_test, pipeline.predict(X_test))\n",
    "        \n",
    "        result.append([cv_score, train_score, test_score])\n",
    "\n",
    "scores = pd.DataFrame(result, columns=columns, index=names)\n",
    "scores.plot(figsize=(12, 10))"
   ]
  },
  {
   "cell_type": "markdown",
   "metadata": {},
   "source": [
    "1. Переобучение всё еще присутсвует\n",
    "\n",
    "2. Качество повысилось, но на практике это может не помочь, т.к. наша модель обучается еще и на фильмах, а задание про обзор продуктов. Тем не менее у обзоров чего-либо есть общие моменты.\n",
    "\n",
    "---\n",
    "---\n",
    "\n",
    "Лучше всего себя показала связка TfidfVectorizer и LinearSVC, будем её использовать в итоговом решении, пока без настройки гиппер параметров. Попробуем залить на кагл решение без доп данных и с ними"
   ]
  },
  {
   "cell_type": "code",
   "execution_count": 101,
   "metadata": {},
   "outputs": [
    {
     "data": {
      "text/html": [
       "<div>\n",
       "<style scoped>\n",
       "    .dataframe tbody tr th:only-of-type {\n",
       "        vertical-align: middle;\n",
       "    }\n",
       "\n",
       "    .dataframe tbody tr th {\n",
       "        vertical-align: top;\n",
       "    }\n",
       "\n",
       "    .dataframe thead th {\n",
       "        text-align: right;\n",
       "    }\n",
       "</style>\n",
       "<table border=\"1\" class=\"dataframe\">\n",
       "  <thead>\n",
       "    <tr style=\"text-align: right;\">\n",
       "      <th></th>\n",
       "      <th>Id</th>\n",
       "      <th>text</th>\n",
       "    </tr>\n",
       "  </thead>\n",
       "  <tbody>\n",
       "    <tr>\n",
       "      <td>0</td>\n",
       "      <td>0</td>\n",
       "      <td>so , why the small digital elph , rather than ...</td>\n",
       "    </tr>\n",
       "    <tr>\n",
       "      <td>1</td>\n",
       "      <td>1</td>\n",
       "      <td>3/4 way through the first disk we played on it...</td>\n",
       "    </tr>\n",
       "    <tr>\n",
       "      <td>2</td>\n",
       "      <td>2</td>\n",
       "      <td>better for the zen micro is outlook compatibil...</td>\n",
       "    </tr>\n",
       "    <tr>\n",
       "      <td>3</td>\n",
       "      <td>3</td>\n",
       "      <td>6 . play gameboy color games on it with goboy .</td>\n",
       "    </tr>\n",
       "    <tr>\n",
       "      <td>4</td>\n",
       "      <td>4</td>\n",
       "      <td>likewise , i 've heard norton 2004 professiona...</td>\n",
       "    </tr>\n",
       "  </tbody>\n",
       "</table>\n",
       "</div>"
      ],
      "text/plain": [
       "   Id                                               text\n",
       "0   0  so , why the small digital elph , rather than ...\n",
       "1   1  3/4 way through the first disk we played on it...\n",
       "2   2  better for the zen micro is outlook compatibil...\n",
       "3   3    6 . play gameboy color games on it with goboy .\n",
       "4   4  likewise , i 've heard norton 2004 professiona..."
      ]
     },
     "execution_count": 101,
     "metadata": {},
     "output_type": "execute_result"
    }
   ],
   "source": [
    "test_data = pd.read_csv(\"../data/products_sentiment_test.tsv\", sep=\"\\t\")\n",
    "test_data.head()"
   ]
  },
  {
   "cell_type": "code",
   "execution_count": 105,
   "metadata": {},
   "outputs": [
    {
     "data": {
      "text/plain": [
       "0    0\n",
       "1    1\n",
       "2    2\n",
       "3    3\n",
       "4    4\n",
       "Name: Id, dtype: int64"
      ]
     },
     "execution_count": 105,
     "metadata": {},
     "output_type": "execute_result"
    }
   ],
   "source": [
    "data_id = test_data[\"Id\"]\n",
    "data_id[:5]"
   ]
  },
  {
   "cell_type": "code",
   "execution_count": 106,
   "metadata": {},
   "outputs": [
    {
     "data": {
      "text/plain": [
       "array([1, 0, 1, 1, 0], dtype=int64)"
      ]
     },
     "execution_count": 106,
     "metadata": {},
     "output_type": "execute_result"
    }
   ],
   "source": [
    "# решение без дополнительных данных\n",
    "pipeline = create_pipeline(TfidfVectorizer(), LinearSVC())\n",
    "pipeline.fit(data[0], data[1])\n",
    "result_a = pipeline.predict(test_data[\"text\"])\n",
    "result_a[:5]\n",
    "                           "
   ]
  },
  {
   "cell_type": "code",
   "execution_count": 107,
   "metadata": {},
   "outputs": [
    {
     "data": {
      "text/plain": [
       "((500,), (500,))"
      ]
     },
     "execution_count": 107,
     "metadata": {},
     "output_type": "execute_result"
    }
   ],
   "source": [
    "data_id.shape, result_a.shape"
   ]
  },
  {
   "cell_type": "code",
   "execution_count": 108,
   "metadata": {},
   "outputs": [],
   "source": [
    "# записываем данные в файл\n",
    "pd.DataFrame({'Id' : data_id, 'y' : result_a}).to_csv('submission_a.csv', index=False)"
   ]
  },
  {
   "cell_type": "markdown",
   "metadata": {},
   "source": [
    "<img src=\"../data/some_score_a_1.png\">\n",
    "\n",
    "\n",
    "## <center>  В итоге получили точность в 0.79, baseline побит, задача решена\n",
    "\n",
    "___\n",
    "___\n",
    "\n"
   ]
  },
  {
   "cell_type": "markdown",
   "metadata": {},
   "source": [
    "Попробуем на модели с дообученными данными"
   ]
  },
  {
   "cell_type": "code",
   "execution_count": 109,
   "metadata": {},
   "outputs": [
    {
     "data": {
      "text/plain": [
       "array([1, 0, 1, 1, 0], dtype=int64)"
      ]
     },
     "execution_count": 109,
     "metadata": {},
     "output_type": "execute_result"
    }
   ],
   "source": [
    "pipeline = create_pipeline(TfidfVectorizer(), LinearSVC())\n",
    "pipeline.fit(new_data[0], new_data[1])\n",
    "result_b = pipeline.predict(test_data[\"text\"])\n",
    "result_b[:5]"
   ]
  },
  {
   "cell_type": "code",
   "execution_count": 113,
   "metadata": {},
   "outputs": [
    {
     "data": {
      "text/plain": [
       "45"
      ]
     },
     "execution_count": 113,
     "metadata": {},
     "output_type": "execute_result"
    }
   ],
   "source": [
    "(result_a != result_b).sum()"
   ]
  },
  {
   "cell_type": "code",
   "execution_count": 115,
   "metadata": {},
   "outputs": [],
   "source": [
    "pd.DataFrame({'Id' : data_id, 'y' : result_b}).to_csv('submission_b.csv', index=False)"
   ]
  },
  {
   "cell_type": "markdown",
   "metadata": {},
   "source": [
    "<img src=\"../data/some_score_b_1.png\">\n",
    "\n",
    "Точность получилась хуже, получается если и докидывать данные то релевантные по теме, что в общем то ожидаемо.\n",
    "\n",
    "Получается модель можно улучшить следующим образом\n",
    "- упростить модель и избавиться от переобучения\n",
    "- найти релевантные данные\n",
    "\n",
    "давайте попробуем упростить модель"
   ]
  },
  {
   "cell_type": "code",
   "execution_count": 122,
   "metadata": {},
   "outputs": [],
   "source": [
    "vec = TfidfVectorizer(ngram_range=(1, 2), max_df=0.9, min_df=0.1)\n",
    "clf = LinearSVC(penalty='l1', fit_intercept=False, C=0.7, dual=False)\n",
    "pipeline = create_pipeline(vec, clf)\n",
    "pipeline.fit(data[0], data[1])\n",
    "result_c = pipeline.predict(test_data[\"text\"])\n",
    "pd.DataFrame({'Id' : data_id, 'y' : result_c}).to_csv('submission_c.csv', index=False)"
   ]
  },
  {
   "cell_type": "markdown",
   "metadata": {},
   "source": [
    "Результат данной попытки 0.63333 **¯\\_(ツ)_/¯**\n",
    "\n",
    "Еще один вариант - предобработка данных, но baseline побит с самого начала, поэтому хватит"
   ]
  },
  {
   "cell_type": "markdown",
   "metadata": {},
   "source": [
    "<img src=\"Yekimchuk_result.png\">"
   ]
  },
  {
   "cell_type": "markdown",
   "metadata": {},
   "source": [
    "Скриншот с нынешним местом, попробовал решение которое описано на кагле"
   ]
  }
 ],
 "metadata": {
  "kernelspec": {
   "display_name": "Python 3",
   "language": "python",
   "name": "python3"
  },
  "language_info": {
   "codemirror_mode": {
    "name": "ipython",
    "version": 3
   },
   "file_extension": ".py",
   "mimetype": "text/x-python",
   "name": "python",
   "nbconvert_exporter": "python",
   "pygments_lexer": "ipython3",
   "version": "3.7.3"
  }
 },
 "nbformat": 4,
 "nbformat_minor": 2
}
