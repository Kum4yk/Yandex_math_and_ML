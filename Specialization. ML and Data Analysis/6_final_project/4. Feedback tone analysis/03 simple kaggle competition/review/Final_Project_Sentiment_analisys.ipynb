{
  "nbformat": 4,
  "nbformat_minor": 0,
  "metadata": {
    "colab": {
      "name": "Final Project: Sentiment analisys.ipynb",
      "provenance": [],
      "collapsed_sections": []
    },
    "kernelspec": {
      "name": "python3",
      "display_name": "Python 3"
    },
    "widgets": {
      "application/vnd.jupyter.widget-state+json": {
        "d91d3823b1b546efbe5f71f3fc553048": {
          "model_module": "@jupyter-widgets/controls",
          "model_name": "HBoxModel",
          "state": {
            "_view_name": "HBoxView",
            "_dom_classes": [],
            "_model_name": "HBoxModel",
            "_view_module": "@jupyter-widgets/controls",
            "_model_module_version": "1.5.0",
            "_view_count": null,
            "_view_module_version": "1.5.0",
            "box_style": "",
            "layout": "IPY_MODEL_7444a90980b5422ea4755b52a92f8882",
            "_model_module": "@jupyter-widgets/controls",
            "children": [
              "IPY_MODEL_d1c04e6d9ed74534a6d6618e9888d24c",
              "IPY_MODEL_69e3a32547484a5b9415e3d6049b0d22"
            ]
          }
        },
        "7444a90980b5422ea4755b52a92f8882": {
          "model_module": "@jupyter-widgets/base",
          "model_name": "LayoutModel",
          "state": {
            "_view_name": "LayoutView",
            "grid_template_rows": null,
            "right": null,
            "justify_content": null,
            "_view_module": "@jupyter-widgets/base",
            "overflow": null,
            "_model_module_version": "1.2.0",
            "_view_count": null,
            "flex_flow": null,
            "width": null,
            "min_width": null,
            "border": null,
            "align_items": null,
            "bottom": null,
            "_model_module": "@jupyter-widgets/base",
            "top": null,
            "grid_column": null,
            "overflow_y": null,
            "overflow_x": null,
            "grid_auto_flow": null,
            "grid_area": null,
            "grid_template_columns": null,
            "flex": null,
            "_model_name": "LayoutModel",
            "justify_items": null,
            "grid_row": null,
            "max_height": null,
            "align_content": null,
            "visibility": null,
            "align_self": null,
            "height": null,
            "min_height": null,
            "padding": null,
            "grid_auto_rows": null,
            "grid_gap": null,
            "max_width": null,
            "order": null,
            "_view_module_version": "1.2.0",
            "grid_template_areas": null,
            "object_position": null,
            "object_fit": null,
            "grid_auto_columns": null,
            "margin": null,
            "display": null,
            "left": null
          }
        },
        "d1c04e6d9ed74534a6d6618e9888d24c": {
          "model_module": "@jupyter-widgets/controls",
          "model_name": "IntProgressModel",
          "state": {
            "_view_name": "ProgressView",
            "style": "IPY_MODEL_c9aa7ecbecf04a8a971bd5de6396d457",
            "_dom_classes": [],
            "description": "",
            "_model_name": "IntProgressModel",
            "bar_style": "success",
            "max": 1,
            "_view_module": "@jupyter-widgets/controls",
            "_model_module_version": "1.5.0",
            "value": 1,
            "_view_count": null,
            "_view_module_version": "1.5.0",
            "orientation": "horizontal",
            "min": 0,
            "description_tooltip": null,
            "_model_module": "@jupyter-widgets/controls",
            "layout": "IPY_MODEL_5d218beb96ac4ccb8d9d0f8e0bdd7e93"
          }
        },
        "69e3a32547484a5b9415e3d6049b0d22": {
          "model_module": "@jupyter-widgets/controls",
          "model_name": "HTMLModel",
          "state": {
            "_view_name": "HTMLView",
            "style": "IPY_MODEL_80904e1f46534a3e87d11aee5eb6c477",
            "_dom_classes": [],
            "description": "",
            "_model_name": "HTMLModel",
            "placeholder": "​",
            "_view_module": "@jupyter-widgets/controls",
            "_model_module_version": "1.5.0",
            "value": "2000it [00:00, 31311.88it/s]",
            "_view_count": null,
            "_view_module_version": "1.5.0",
            "description_tooltip": null,
            "_model_module": "@jupyter-widgets/controls",
            "layout": "IPY_MODEL_170d77d5331f4172848d3d2e6bb75e4e"
          }
        },
        "c9aa7ecbecf04a8a971bd5de6396d457": {
          "model_module": "@jupyter-widgets/controls",
          "model_name": "ProgressStyleModel",
          "state": {
            "_view_name": "StyleView",
            "_model_name": "ProgressStyleModel",
            "description_width": "",
            "_view_module": "@jupyter-widgets/base",
            "_model_module_version": "1.5.0",
            "_view_count": null,
            "_view_module_version": "1.2.0",
            "bar_color": null,
            "_model_module": "@jupyter-widgets/controls"
          }
        },
        "5d218beb96ac4ccb8d9d0f8e0bdd7e93": {
          "model_module": "@jupyter-widgets/base",
          "model_name": "LayoutModel",
          "state": {
            "_view_name": "LayoutView",
            "grid_template_rows": null,
            "right": null,
            "justify_content": null,
            "_view_module": "@jupyter-widgets/base",
            "overflow": null,
            "_model_module_version": "1.2.0",
            "_view_count": null,
            "flex_flow": null,
            "width": null,
            "min_width": null,
            "border": null,
            "align_items": null,
            "bottom": null,
            "_model_module": "@jupyter-widgets/base",
            "top": null,
            "grid_column": null,
            "overflow_y": null,
            "overflow_x": null,
            "grid_auto_flow": null,
            "grid_area": null,
            "grid_template_columns": null,
            "flex": null,
            "_model_name": "LayoutModel",
            "justify_items": null,
            "grid_row": null,
            "max_height": null,
            "align_content": null,
            "visibility": null,
            "align_self": null,
            "height": null,
            "min_height": null,
            "padding": null,
            "grid_auto_rows": null,
            "grid_gap": null,
            "max_width": null,
            "order": null,
            "_view_module_version": "1.2.0",
            "grid_template_areas": null,
            "object_position": null,
            "object_fit": null,
            "grid_auto_columns": null,
            "margin": null,
            "display": null,
            "left": null
          }
        },
        "80904e1f46534a3e87d11aee5eb6c477": {
          "model_module": "@jupyter-widgets/controls",
          "model_name": "DescriptionStyleModel",
          "state": {
            "_view_name": "StyleView",
            "_model_name": "DescriptionStyleModel",
            "description_width": "",
            "_view_module": "@jupyter-widgets/base",
            "_model_module_version": "1.5.0",
            "_view_count": null,
            "_view_module_version": "1.2.0",
            "_model_module": "@jupyter-widgets/controls"
          }
        },
        "170d77d5331f4172848d3d2e6bb75e4e": {
          "model_module": "@jupyter-widgets/base",
          "model_name": "LayoutModel",
          "state": {
            "_view_name": "LayoutView",
            "grid_template_rows": null,
            "right": null,
            "justify_content": null,
            "_view_module": "@jupyter-widgets/base",
            "overflow": null,
            "_model_module_version": "1.2.0",
            "_view_count": null,
            "flex_flow": null,
            "width": null,
            "min_width": null,
            "border": null,
            "align_items": null,
            "bottom": null,
            "_model_module": "@jupyter-widgets/base",
            "top": null,
            "grid_column": null,
            "overflow_y": null,
            "overflow_x": null,
            "grid_auto_flow": null,
            "grid_area": null,
            "grid_template_columns": null,
            "flex": null,
            "_model_name": "LayoutModel",
            "justify_items": null,
            "grid_row": null,
            "max_height": null,
            "align_content": null,
            "visibility": null,
            "align_self": null,
            "height": null,
            "min_height": null,
            "padding": null,
            "grid_auto_rows": null,
            "grid_gap": null,
            "max_width": null,
            "order": null,
            "_view_module_version": "1.2.0",
            "grid_template_areas": null,
            "object_position": null,
            "object_fit": null,
            "grid_auto_columns": null,
            "margin": null,
            "display": null,
            "left": null
          }
        },
        "b64eb20c9f8c4faaa40aa74fa0cb718d": {
          "model_module": "@jupyter-widgets/controls",
          "model_name": "HBoxModel",
          "state": {
            "_view_name": "HBoxView",
            "_dom_classes": [],
            "_model_name": "HBoxModel",
            "_view_module": "@jupyter-widgets/controls",
            "_model_module_version": "1.5.0",
            "_view_count": null,
            "_view_module_version": "1.5.0",
            "box_style": "",
            "layout": "IPY_MODEL_cb50ea1fe51544c69195be0ca61a8863",
            "_model_module": "@jupyter-widgets/controls",
            "children": [
              "IPY_MODEL_a1e13964d02a4a0aa3cae9a37237b29c",
              "IPY_MODEL_019e036c7bcc49aab4205b7ea778d483"
            ]
          }
        },
        "cb50ea1fe51544c69195be0ca61a8863": {
          "model_module": "@jupyter-widgets/base",
          "model_name": "LayoutModel",
          "state": {
            "_view_name": "LayoutView",
            "grid_template_rows": null,
            "right": null,
            "justify_content": null,
            "_view_module": "@jupyter-widgets/base",
            "overflow": null,
            "_model_module_version": "1.2.0",
            "_view_count": null,
            "flex_flow": null,
            "width": null,
            "min_width": null,
            "border": null,
            "align_items": null,
            "bottom": null,
            "_model_module": "@jupyter-widgets/base",
            "top": null,
            "grid_column": null,
            "overflow_y": null,
            "overflow_x": null,
            "grid_auto_flow": null,
            "grid_area": null,
            "grid_template_columns": null,
            "flex": null,
            "_model_name": "LayoutModel",
            "justify_items": null,
            "grid_row": null,
            "max_height": null,
            "align_content": null,
            "visibility": null,
            "align_self": null,
            "height": null,
            "min_height": null,
            "padding": null,
            "grid_auto_rows": null,
            "grid_gap": null,
            "max_width": null,
            "order": null,
            "_view_module_version": "1.2.0",
            "grid_template_areas": null,
            "object_position": null,
            "object_fit": null,
            "grid_auto_columns": null,
            "margin": null,
            "display": null,
            "left": null
          }
        },
        "a1e13964d02a4a0aa3cae9a37237b29c": {
          "model_module": "@jupyter-widgets/controls",
          "model_name": "IntProgressModel",
          "state": {
            "_view_name": "ProgressView",
            "style": "IPY_MODEL_afaf59f13f3c4190bbd1a13b1bdceadd",
            "_dom_classes": [],
            "description": "",
            "_model_name": "IntProgressModel",
            "bar_style": "success",
            "max": 1,
            "_view_module": "@jupyter-widgets/controls",
            "_model_module_version": "1.5.0",
            "value": 1,
            "_view_count": null,
            "_view_module_version": "1.5.0",
            "orientation": "horizontal",
            "min": 0,
            "description_tooltip": null,
            "_model_module": "@jupyter-widgets/controls",
            "layout": "IPY_MODEL_c588f6433ae541a6bd37a5d3afd17925"
          }
        },
        "019e036c7bcc49aab4205b7ea778d483": {
          "model_module": "@jupyter-widgets/controls",
          "model_name": "HTMLModel",
          "state": {
            "_view_name": "HTMLView",
            "style": "IPY_MODEL_197424a635e648f48912e1ff51960f86",
            "_dom_classes": [],
            "description": "",
            "_model_name": "HTMLModel",
            "placeholder": "​",
            "_view_module": "@jupyter-widgets/controls",
            "_model_module_version": "1.5.0",
            "value": "500it [00:00, 11916.99it/s]",
            "_view_count": null,
            "_view_module_version": "1.5.0",
            "description_tooltip": null,
            "_model_module": "@jupyter-widgets/controls",
            "layout": "IPY_MODEL_0ff85277b525476fbc7f9184bf87fd73"
          }
        },
        "afaf59f13f3c4190bbd1a13b1bdceadd": {
          "model_module": "@jupyter-widgets/controls",
          "model_name": "ProgressStyleModel",
          "state": {
            "_view_name": "StyleView",
            "_model_name": "ProgressStyleModel",
            "description_width": "",
            "_view_module": "@jupyter-widgets/base",
            "_model_module_version": "1.5.0",
            "_view_count": null,
            "_view_module_version": "1.2.0",
            "bar_color": null,
            "_model_module": "@jupyter-widgets/controls"
          }
        },
        "c588f6433ae541a6bd37a5d3afd17925": {
          "model_module": "@jupyter-widgets/base",
          "model_name": "LayoutModel",
          "state": {
            "_view_name": "LayoutView",
            "grid_template_rows": null,
            "right": null,
            "justify_content": null,
            "_view_module": "@jupyter-widgets/base",
            "overflow": null,
            "_model_module_version": "1.2.0",
            "_view_count": null,
            "flex_flow": null,
            "width": null,
            "min_width": null,
            "border": null,
            "align_items": null,
            "bottom": null,
            "_model_module": "@jupyter-widgets/base",
            "top": null,
            "grid_column": null,
            "overflow_y": null,
            "overflow_x": null,
            "grid_auto_flow": null,
            "grid_area": null,
            "grid_template_columns": null,
            "flex": null,
            "_model_name": "LayoutModel",
            "justify_items": null,
            "grid_row": null,
            "max_height": null,
            "align_content": null,
            "visibility": null,
            "align_self": null,
            "height": null,
            "min_height": null,
            "padding": null,
            "grid_auto_rows": null,
            "grid_gap": null,
            "max_width": null,
            "order": null,
            "_view_module_version": "1.2.0",
            "grid_template_areas": null,
            "object_position": null,
            "object_fit": null,
            "grid_auto_columns": null,
            "margin": null,
            "display": null,
            "left": null
          }
        },
        "197424a635e648f48912e1ff51960f86": {
          "model_module": "@jupyter-widgets/controls",
          "model_name": "DescriptionStyleModel",
          "state": {
            "_view_name": "StyleView",
            "_model_name": "DescriptionStyleModel",
            "description_width": "",
            "_view_module": "@jupyter-widgets/base",
            "_model_module_version": "1.5.0",
            "_view_count": null,
            "_view_module_version": "1.2.0",
            "_model_module": "@jupyter-widgets/controls"
          }
        },
        "0ff85277b525476fbc7f9184bf87fd73": {
          "model_module": "@jupyter-widgets/base",
          "model_name": "LayoutModel",
          "state": {
            "_view_name": "LayoutView",
            "grid_template_rows": null,
            "right": null,
            "justify_content": null,
            "_view_module": "@jupyter-widgets/base",
            "overflow": null,
            "_model_module_version": "1.2.0",
            "_view_count": null,
            "flex_flow": null,
            "width": null,
            "min_width": null,
            "border": null,
            "align_items": null,
            "bottom": null,
            "_model_module": "@jupyter-widgets/base",
            "top": null,
            "grid_column": null,
            "overflow_y": null,
            "overflow_x": null,
            "grid_auto_flow": null,
            "grid_area": null,
            "grid_template_columns": null,
            "flex": null,
            "_model_name": "LayoutModel",
            "justify_items": null,
            "grid_row": null,
            "max_height": null,
            "align_content": null,
            "visibility": null,
            "align_self": null,
            "height": null,
            "min_height": null,
            "padding": null,
            "grid_auto_rows": null,
            "grid_gap": null,
            "max_width": null,
            "order": null,
            "_view_module_version": "1.2.0",
            "grid_template_areas": null,
            "object_position": null,
            "object_fit": null,
            "grid_auto_columns": null,
            "margin": null,
            "display": null,
            "left": null
          }
        }
      }
    },
    "accelerator": "GPU"
  },
  "cells": [
    {
      "cell_type": "code",
      "metadata": {
        "id": "bz7NkuFUY6Ug",
        "colab_type": "code",
        "colab": {}
      },
      "source": [
        "from nltk.corpus import movie_reviews\n",
        "import numpy as np\n",
        "import nltk\n",
        "from sklearn.feature_extraction.text import CountVectorizer, TfidfTransformer\n",
        "from sklearn.linear_model import LogisticRegression, SGDClassifier\n",
        "from sklearn.svm import LinearSVC\n",
        "from sklearn.pipeline import Pipeline\n",
        "from sklearn.model_selection import cross_val_score, train_test_split, GridSearchCV, KFold\n",
        "from sklearn.metrics import roc_auc_score, make_scorer\n",
        "from sklearn.ensemble import RandomForestClassifier\n",
        "from xgboost import XGBClassifier\n",
        "import os\n",
        "import pandas as pd\n",
        "import string\n",
        "from string import punctuation\n",
        "from tqdm.auto import tqdm"
      ],
      "execution_count": 0,
      "outputs": []
    },
    {
      "cell_type": "markdown",
      "metadata": {
        "id": "NpzXJ_1Z_ZV0",
        "colab_type": "text"
      },
      "source": [
        "![photo](https://i.ibb.co/sHq1M9Z/Kaggle-Leaderboard.png)"
      ]
    },
    {
      "cell_type": "markdown",
      "metadata": {
        "id": "c6ZxVhIUKBPz",
        "colab_type": "text"
      },
      "source": [
        "Я воспользовался Kaggle API, чтобы загрузить небходимые данные с соревнования. Свои ключ и логин я заменил на другие"
      ]
    },
    {
      "cell_type": "code",
      "metadata": {
        "id": "LX_JxGRmiXqd",
        "colab_type": "code",
        "outputId": "aff9d214-170c-431c-da62-e4fa25dae367",
        "colab": {
          "base_uri": "https://localhost:8080/",
          "height": 187
        }
      },
      "source": [
        "os.environ['KAGGLE_USERNAME'] = \"username\"\n",
        "os.environ['KAGGLE_KEY'] = \"key\"\n",
        "\n",
        "!kaggle competitions download -c simplesentiment"
      ],
      "execution_count": 2,
      "outputs": [
        {
          "output_type": "stream",
          "text": [
            "Warning: Looks like you're using an outdated API Version, please consider updating (server 1.5.6 / client 1.5.4)\n",
            "Downloading products_sentiment_sample_submission.csv to /content\n",
            "  0% 0.00/2.83k [00:00<?, ?B/s]\n",
            "100% 2.83k/2.83k [00:00<00:00, 2.41MB/s]\n",
            "Downloading products_sentiment_test.tsv to /content\n",
            "  0% 0.00/50.9k [00:00<?, ?B/s]\n",
            "100% 50.9k/50.9k [00:00<00:00, 54.1MB/s]\n",
            "Downloading products_sentiment_train.tsv to /content\n",
            "  0% 0.00/193k [00:00<?, ?B/s]\n",
            "100% 193k/193k [00:00<00:00, 56.4MB/s]\n"
          ],
          "name": "stdout"
        }
      ]
    },
    {
      "cell_type": "markdown",
      "metadata": {
        "id": "3Ar8Rej5KV_1",
        "colab_type": "text"
      },
      "source": [
        "Загружаем данные, с которыми будем работать при обучении"
      ]
    },
    {
      "cell_type": "code",
      "metadata": {
        "id": "IgMdtHYWjHEb",
        "colab_type": "code",
        "outputId": "79848a51-db0f-4958-8c11-eb26e073fead",
        "colab": {
          "base_uri": "https://localhost:8080/",
          "height": 204
        }
      },
      "source": [
        "train_data = pd.read_csv('products_sentiment_train.tsv', sep='\\t', header=None)\n",
        "train_data.head()"
      ],
      "execution_count": 3,
      "outputs": [
        {
          "output_type": "execute_result",
          "data": {
            "text/html": [
              "<div>\n",
              "<style scoped>\n",
              "    .dataframe tbody tr th:only-of-type {\n",
              "        vertical-align: middle;\n",
              "    }\n",
              "\n",
              "    .dataframe tbody tr th {\n",
              "        vertical-align: top;\n",
              "    }\n",
              "\n",
              "    .dataframe thead th {\n",
              "        text-align: right;\n",
              "    }\n",
              "</style>\n",
              "<table border=\"1\" class=\"dataframe\">\n",
              "  <thead>\n",
              "    <tr style=\"text-align: right;\">\n",
              "      <th></th>\n",
              "      <th>0</th>\n",
              "      <th>1</th>\n",
              "    </tr>\n",
              "  </thead>\n",
              "  <tbody>\n",
              "    <tr>\n",
              "      <th>0</th>\n",
              "      <td>2 . take around 10,000 640x480 pictures .</td>\n",
              "      <td>1</td>\n",
              "    </tr>\n",
              "    <tr>\n",
              "      <th>1</th>\n",
              "      <td>i downloaded a trial version of computer assoc...</td>\n",
              "      <td>1</td>\n",
              "    </tr>\n",
              "    <tr>\n",
              "      <th>2</th>\n",
              "      <td>the wrt54g plus the hga7t is a perfect solutio...</td>\n",
              "      <td>1</td>\n",
              "    </tr>\n",
              "    <tr>\n",
              "      <th>3</th>\n",
              "      <td>i dont especially like how music files are uns...</td>\n",
              "      <td>0</td>\n",
              "    </tr>\n",
              "    <tr>\n",
              "      <th>4</th>\n",
              "      <td>i was using the cheapie pail ... and it worked...</td>\n",
              "      <td>1</td>\n",
              "    </tr>\n",
              "  </tbody>\n",
              "</table>\n",
              "</div>"
            ],
            "text/plain": [
              "                                                   0  1\n",
              "0          2 . take around 10,000 640x480 pictures .  1\n",
              "1  i downloaded a trial version of computer assoc...  1\n",
              "2  the wrt54g plus the hga7t is a perfect solutio...  1\n",
              "3  i dont especially like how music files are uns...  0\n",
              "4  i was using the cheapie pail ... and it worked...  1"
            ]
          },
          "metadata": {
            "tags": []
          },
          "execution_count": 3
        }
      ]
    },
    {
      "cell_type": "markdown",
      "metadata": {
        "id": "j6SafEzRKewY",
        "colab_type": "text"
      },
      "source": [
        "Разделяем данные на текста и лейблы"
      ]
    },
    {
      "cell_type": "code",
      "metadata": {
        "id": "YMrxux_7jpUz",
        "colab_type": "code",
        "colab": {}
      },
      "source": [
        "X = train_data.values[:, 0]\n",
        "y = train_data[1].values"
      ],
      "execution_count": 0,
      "outputs": []
    },
    {
      "cell_type": "markdown",
      "metadata": {
        "id": "A6iMJ-BO7OYK",
        "colab_type": "text"
      },
      "source": [
        "Проверим, не является ли выборка несбалансированной"
      ]
    },
    {
      "cell_type": "code",
      "metadata": {
        "id": "MFzy4UKzNT4T",
        "colab_type": "code",
        "colab": {
          "base_uri": "https://localhost:8080/",
          "height": 34
        },
        "outputId": "63995d78-0d73-47a9-a15c-6a9c047cc18c"
      },
      "source": [
        "sum(y == 1) / len(y)"
      ],
      "execution_count": 5,
      "outputs": [
        {
          "output_type": "execute_result",
          "data": {
            "text/plain": [
              "0.637"
            ]
          },
          "metadata": {
            "tags": []
          },
          "execution_count": 5
        }
      ]
    },
    {
      "cell_type": "markdown",
      "metadata": {
        "id": "6G2fN7PM7Tj0",
        "colab_type": "text"
      },
      "source": [
        "Все в порядке - положительный класс незначительно преобладает над отрицательным "
      ]
    },
    {
      "cell_type": "code",
      "metadata": {
        "id": "YhkBLdhpjQWo",
        "colab_type": "code",
        "colab": {}
      },
      "source": [
        "#nltk.download('wordnet')\n",
        "#nltk.download('punkt')"
      ],
      "execution_count": 0,
      "outputs": []
    },
    {
      "cell_type": "code",
      "metadata": {
        "id": "1_m8lnVIjQxG",
        "colab_type": "code",
        "colab": {}
      },
      "source": [
        "#from nltk.stem import WordNetLemmatizer\n",
        "#lemmatizer = WordNetLemmatizer()"
      ],
      "execution_count": 0,
      "outputs": []
    },
    {
      "cell_type": "markdown",
      "metadata": {
        "id": "gwp53vAiKsrV",
        "colab_type": "text"
      },
      "source": [
        "Воспользуемся библиотекой string, чтобы преобразовать текст - удалить лишние пробелы и знаки пунктуации"
      ]
    },
    {
      "cell_type": "code",
      "metadata": {
        "id": "GKX-VJ8Lj-4T",
        "colab_type": "code",
        "colab": {}
      },
      "source": [
        "def delete_punctuation(text):\n",
        "  translation_table = str.maketrans(' ', ' ', string.punctuation)\n",
        "  return text.translate(translation_table).lower()"
      ],
      "execution_count": 0,
      "outputs": []
    },
    {
      "cell_type": "code",
      "metadata": {
        "id": "nxLNe3shkP7l",
        "colab_type": "code",
        "colab": {}
      },
      "source": [
        "def format_str(text):\n",
        "  #word_list = nltk.word_tokenize(text)\n",
        "  #words = [lemmatizer.lemmatize(word) for word in word_list]\n",
        "  words = [word.strip() for word in delete_punctuation(text).split()]\n",
        "  return ' '.join(words)"
      ],
      "execution_count": 0,
      "outputs": []
    },
    {
      "cell_type": "code",
      "metadata": {
        "id": "Rl7YHAF9kR2S",
        "colab_type": "code",
        "outputId": "96670c02-c916-4f3e-a61d-cc97feef2f6e",
        "colab": {
          "base_uri": "https://localhost:8080/",
          "height": 66,
          "referenced_widgets": [
            "d91d3823b1b546efbe5f71f3fc553048",
            "7444a90980b5422ea4755b52a92f8882",
            "d1c04e6d9ed74534a6d6618e9888d24c",
            "69e3a32547484a5b9415e3d6049b0d22",
            "c9aa7ecbecf04a8a971bd5de6396d457",
            "5d218beb96ac4ccb8d9d0f8e0bdd7e93",
            "80904e1f46534a3e87d11aee5eb6c477",
            "170d77d5331f4172848d3d2e6bb75e4e"
          ]
        }
      },
      "source": [
        "for i, line in tqdm(enumerate(X)):\n",
        "  X[i] = format_str(line)"
      ],
      "execution_count": 10,
      "outputs": [
        {
          "output_type": "display_data",
          "data": {
            "application/vnd.jupyter.widget-view+json": {
              "model_id": "d91d3823b1b546efbe5f71f3fc553048",
              "version_minor": 0,
              "version_major": 2
            },
            "text/plain": [
              "HBox(children=(IntProgress(value=1, bar_style='info', max=1), HTML(value='')))"
            ]
          },
          "metadata": {
            "tags": []
          }
        },
        {
          "output_type": "stream",
          "text": [
            "\n"
          ],
          "name": "stdout"
        }
      ]
    },
    {
      "cell_type": "markdown",
      "metadata": {
        "id": "Qa6jDYmV5OdJ",
        "colab_type": "text"
      },
      "source": [
        "Для преобразования текстовых данных я использовал мешок слов (CountVectorizer) и TfidfTransformer. Для построения предсказаний по полученным признакам была использована логистическая регрессия. \n",
        "\n",
        "Для подбора оптимальных параметров, был реализован поиск по сетке."
      ]
    },
    {
      "cell_type": "code",
      "metadata": {
        "id": "WU7kh882K-RU",
        "colab_type": "code",
        "colab": {}
      },
      "source": [
        "#cv = KFold(shuffle=True, random_state=42)"
      ],
      "execution_count": 0,
      "outputs": []
    },
    {
      "cell_type": "code",
      "metadata": {
        "id": "Y8zHmS90OD37",
        "colab_type": "code",
        "colab": {}
      },
      "source": [
        "#vectorizer = CountVectorizer()\n",
        "#transformer = TfidfTransformer()\n",
        "#clf = LinearSVC(loss='hinge', random_state=42)"
      ],
      "execution_count": 0,
      "outputs": []
    },
    {
      "cell_type": "code",
      "metadata": {
        "id": "iUGDcjNDl_w3",
        "colab_type": "code",
        "colab": {}
      },
      "source": [
        "#pipeline = Pipeline(steps=[('vectorizer', vectorizer), \n",
        "#                           ('transformer', transformer), \n",
        "#                           ('clf', clf)])"
      ],
      "execution_count": 0,
      "outputs": []
    },
    {
      "cell_type": "code",
      "metadata": {
        "id": "J6Sz3ganOjg2",
        "colab_type": "code",
        "colab": {}
      },
      "source": [
        "#gs = GridSearchCV(pipeline, {'vectorizer__ngram_range': [(1, 2), (1, 5)], \n",
        "#                             'vectorizer__max_df': [1, .9, .8], \n",
        "#                             'vectorizer__min_df': [1, .1, .2],\n",
        "#                             'clf__C': np.arange(1, 2, .1),\n",
        "#                             'clf__max_iter': np.arange(100, 500, 100),\n",
        "#                             'clf__tol': np.linspace(0.001, 0.0001, 10)}, scoring='accuracy', cv=cv, verbose=0)\n",
        "#gs.fit(X, y)\n",
        "#gs.best_params_"
      ],
      "execution_count": 0,
      "outputs": []
    },
    {
      "cell_type": "code",
      "metadata": {
        "id": "4OqCSgnwPzSE",
        "colab_type": "code",
        "colab": {}
      },
      "source": [
        "vectorizer = CountVectorizer(ngram_range=(1, 5), max_df=0.9)\n",
        "transformer = TfidfTransformer()\n",
        "clf = LinearSVC(loss='hinge', tol=0.001, C=1.9, random_state=42, max_iter=400)"
      ],
      "execution_count": 0,
      "outputs": []
    },
    {
      "cell_type": "code",
      "metadata": {
        "id": "AkkkobpF50Og",
        "colab_type": "code",
        "colab": {
          "base_uri": "https://localhost:8080/",
          "height": 374
        },
        "outputId": "bb836730-0da6-4203-a44f-18e7745132aa"
      },
      "source": [
        "pipeline = Pipeline(steps=[('vectorizer', vectorizer), \n",
        "                           ('transformer', transformer), \n",
        "                           ('clf', clf)])\n",
        "pipeline.fit(X, y)"
      ],
      "execution_count": 16,
      "outputs": [
        {
          "output_type": "execute_result",
          "data": {
            "text/plain": [
              "Pipeline(memory=None,\n",
              "         steps=[('vectorizer',\n",
              "                 CountVectorizer(analyzer='word', binary=False,\n",
              "                                 decode_error='strict',\n",
              "                                 dtype=<class 'numpy.int64'>, encoding='utf-8',\n",
              "                                 input='content', lowercase=True, max_df=0.9,\n",
              "                                 max_features=None, min_df=1,\n",
              "                                 ngram_range=(1, 5), preprocessor=None,\n",
              "                                 stop_words=None, strip_accents=None,\n",
              "                                 token_pattern='(?u)\\\\b\\\\w\\\\w+\\\\b',\n",
              "                                 tokenizer=None, vocabulary=None)),\n",
              "                ('transformer',\n",
              "                 TfidfTransformer(norm='l2', smooth_idf=True,\n",
              "                                  sublinear_tf=False, use_idf=True)),\n",
              "                ('clf',\n",
              "                 LinearSVC(C=1.9, class_weight=None, dual=True,\n",
              "                           fit_intercept=True, intercept_scaling=1,\n",
              "                           loss='hinge', max_iter=400, multi_class='ovr',\n",
              "                           penalty='l2', random_state=42, tol=0.001,\n",
              "                           verbose=0))],\n",
              "         verbose=False)"
            ]
          },
          "metadata": {
            "tags": []
          },
          "execution_count": 16
        }
      ]
    },
    {
      "cell_type": "markdown",
      "metadata": {
        "id": "q0WZEDEq6KaX",
        "colab_type": "text"
      },
      "source": [
        "Импортируем тестовые данные"
      ]
    },
    {
      "cell_type": "code",
      "metadata": {
        "id": "G1sSiBh7xIYx",
        "colab_type": "code",
        "colab": {
          "base_uri": "https://localhost:8080/",
          "height": 204
        },
        "outputId": "219e4c5e-b818-4c21-a350-71d2e0f3212c"
      },
      "source": [
        "test_data = pd.read_csv('products_sentiment_test.tsv', sep='\\t')\n",
        "test_data.head()"
      ],
      "execution_count": 17,
      "outputs": [
        {
          "output_type": "execute_result",
          "data": {
            "text/html": [
              "<div>\n",
              "<style scoped>\n",
              "    .dataframe tbody tr th:only-of-type {\n",
              "        vertical-align: middle;\n",
              "    }\n",
              "\n",
              "    .dataframe tbody tr th {\n",
              "        vertical-align: top;\n",
              "    }\n",
              "\n",
              "    .dataframe thead th {\n",
              "        text-align: right;\n",
              "    }\n",
              "</style>\n",
              "<table border=\"1\" class=\"dataframe\">\n",
              "  <thead>\n",
              "    <tr style=\"text-align: right;\">\n",
              "      <th></th>\n",
              "      <th>Id</th>\n",
              "      <th>text</th>\n",
              "    </tr>\n",
              "  </thead>\n",
              "  <tbody>\n",
              "    <tr>\n",
              "      <th>0</th>\n",
              "      <td>0</td>\n",
              "      <td>so , why the small digital elph , rather than ...</td>\n",
              "    </tr>\n",
              "    <tr>\n",
              "      <th>1</th>\n",
              "      <td>1</td>\n",
              "      <td>3/4 way through the first disk we played on it...</td>\n",
              "    </tr>\n",
              "    <tr>\n",
              "      <th>2</th>\n",
              "      <td>2</td>\n",
              "      <td>better for the zen micro is outlook compatibil...</td>\n",
              "    </tr>\n",
              "    <tr>\n",
              "      <th>3</th>\n",
              "      <td>3</td>\n",
              "      <td>6 . play gameboy color games on it with goboy .</td>\n",
              "    </tr>\n",
              "    <tr>\n",
              "      <th>4</th>\n",
              "      <td>4</td>\n",
              "      <td>likewise , i 've heard norton 2004 professiona...</td>\n",
              "    </tr>\n",
              "  </tbody>\n",
              "</table>\n",
              "</div>"
            ],
            "text/plain": [
              "   Id                                               text\n",
              "0   0  so , why the small digital elph , rather than ...\n",
              "1   1  3/4 way through the first disk we played on it...\n",
              "2   2  better for the zen micro is outlook compatibil...\n",
              "3   3    6 . play gameboy color games on it with goboy .\n",
              "4   4  likewise , i 've heard norton 2004 professiona..."
            ]
          },
          "metadata": {
            "tags": []
          },
          "execution_count": 17
        }
      ]
    },
    {
      "cell_type": "markdown",
      "metadata": {
        "id": "j1Kc6LJE6O-d",
        "colab_type": "text"
      },
      "source": [
        "Достанем из данных индексы текстов. Они нам понадобятся позже для формирования сабмита"
      ]
    },
    {
      "cell_type": "code",
      "metadata": {
        "id": "7fNlBzi_nHMo",
        "colab_type": "code",
        "colab": {}
      },
      "source": [
        "ids = test_data.Id.values\n",
        "test_data.drop(labels=['Id'], axis=1, inplace=True)"
      ],
      "execution_count": 0,
      "outputs": []
    },
    {
      "cell_type": "markdown",
      "metadata": {
        "id": "utB42zsh6a0_",
        "colab_type": "text"
      },
      "source": [
        "Предобработаем текста из тестовых данных с помощью той же функции, которой мы обрабатывали обучающую выборку"
      ]
    },
    {
      "cell_type": "code",
      "metadata": {
        "id": "TT3ma7LVnfU3",
        "colab_type": "code",
        "colab": {
          "base_uri": "https://localhost:8080/",
          "height": 66,
          "referenced_widgets": [
            "b64eb20c9f8c4faaa40aa74fa0cb718d",
            "cb50ea1fe51544c69195be0ca61a8863",
            "a1e13964d02a4a0aa3cae9a37237b29c",
            "019e036c7bcc49aab4205b7ea778d483",
            "afaf59f13f3c4190bbd1a13b1bdceadd",
            "c588f6433ae541a6bd37a5d3afd17925",
            "197424a635e648f48912e1ff51960f86",
            "0ff85277b525476fbc7f9184bf87fd73"
          ]
        },
        "outputId": "c25b4d39-899f-4891-b5a8-40f66441336a"
      },
      "source": [
        "X_test = test_data.text.values\n",
        "for i, line in tqdm(enumerate(X_test)):\n",
        "  X_test[i] = format_str(line)"
      ],
      "execution_count": 19,
      "outputs": [
        {
          "output_type": "display_data",
          "data": {
            "application/vnd.jupyter.widget-view+json": {
              "model_id": "b64eb20c9f8c4faaa40aa74fa0cb718d",
              "version_minor": 0,
              "version_major": 2
            },
            "text/plain": [
              "HBox(children=(IntProgress(value=1, bar_style='info', max=1), HTML(value='')))"
            ]
          },
          "metadata": {
            "tags": []
          }
        },
        {
          "output_type": "stream",
          "text": [
            "\n"
          ],
          "name": "stdout"
        }
      ]
    },
    {
      "cell_type": "markdown",
      "metadata": {
        "id": "RdygCADd6y3d",
        "colab_type": "text"
      },
      "source": [
        "Сделаем предсказания для тестовых данных"
      ]
    },
    {
      "cell_type": "code",
      "metadata": {
        "id": "H8PPCd1hnoCk",
        "colab_type": "code",
        "colab": {}
      },
      "source": [
        "y_pred = pipeline.predict(X_test)"
      ],
      "execution_count": 0,
      "outputs": []
    },
    {
      "cell_type": "markdown",
      "metadata": {
        "id": "VDNTR2ge66DD",
        "colab_type": "text"
      },
      "source": [
        "Формируем новый DataFrame, который будет нашим ответом"
      ]
    },
    {
      "cell_type": "code",
      "metadata": {
        "id": "3HQMEW8fn76i",
        "colab_type": "code",
        "colab": {
          "base_uri": "https://localhost:8080/",
          "height": 204
        },
        "outputId": "80802b4f-8a71-4eb1-bedd-5c340532272a"
      },
      "source": [
        "output = pd.DataFrame(zip(ids, y_pred), columns=['Id', 'y'], index=None)\n",
        "output.head()"
      ],
      "execution_count": 21,
      "outputs": [
        {
          "output_type": "execute_result",
          "data": {
            "text/html": [
              "<div>\n",
              "<style scoped>\n",
              "    .dataframe tbody tr th:only-of-type {\n",
              "        vertical-align: middle;\n",
              "    }\n",
              "\n",
              "    .dataframe tbody tr th {\n",
              "        vertical-align: top;\n",
              "    }\n",
              "\n",
              "    .dataframe thead th {\n",
              "        text-align: right;\n",
              "    }\n",
              "</style>\n",
              "<table border=\"1\" class=\"dataframe\">\n",
              "  <thead>\n",
              "    <tr style=\"text-align: right;\">\n",
              "      <th></th>\n",
              "      <th>Id</th>\n",
              "      <th>y</th>\n",
              "    </tr>\n",
              "  </thead>\n",
              "  <tbody>\n",
              "    <tr>\n",
              "      <th>0</th>\n",
              "      <td>0</td>\n",
              "      <td>1</td>\n",
              "    </tr>\n",
              "    <tr>\n",
              "      <th>1</th>\n",
              "      <td>1</td>\n",
              "      <td>0</td>\n",
              "    </tr>\n",
              "    <tr>\n",
              "      <th>2</th>\n",
              "      <td>2</td>\n",
              "      <td>1</td>\n",
              "    </tr>\n",
              "    <tr>\n",
              "      <th>3</th>\n",
              "      <td>3</td>\n",
              "      <td>1</td>\n",
              "    </tr>\n",
              "    <tr>\n",
              "      <th>4</th>\n",
              "      <td>4</td>\n",
              "      <td>0</td>\n",
              "    </tr>\n",
              "  </tbody>\n",
              "</table>\n",
              "</div>"
            ],
            "text/plain": [
              "   Id  y\n",
              "0   0  1\n",
              "1   1  0\n",
              "2   2  1\n",
              "3   3  1\n",
              "4   4  0"
            ]
          },
          "metadata": {
            "tags": []
          },
          "execution_count": 21
        }
      ]
    },
    {
      "cell_type": "markdown",
      "metadata": {
        "id": "6PLneW5_7AVz",
        "colab_type": "text"
      },
      "source": [
        "И заливаем свой ответ на Kaggle прямо из ноутбука"
      ]
    },
    {
      "cell_type": "code",
      "metadata": {
        "id": "5u8GhU59oXRH",
        "colab_type": "code",
        "colab": {
          "base_uri": "https://localhost:8080/",
          "height": 68
        },
        "outputId": "2f64bf0c-6bc9-4319-d320-ae23e694f3a8"
      },
      "source": [
        "output.to_csv('submission.csv', index=None)\n",
        "!kaggle competitions submit -c simplesentiment -f 'submission.csv' -m \"Message\""
      ],
      "execution_count": 22,
      "outputs": [
        {
          "output_type": "stream",
          "text": [
            "Warning: Looks like you're using an outdated API Version, please consider updating (server 1.5.6 / client 1.5.4)\n",
            "100% 2.83k/2.83k [00:02<00:00, 1.15kB/s]\n",
            "403 - Your team has used its submission allowance (5 of 5). This resets at midnight UTC (1.9 hours from now).\n"
          ],
          "name": "stdout"
        }
      ]
    },
    {
      "cell_type": "code",
      "metadata": {
        "id": "GhcyQoSbo9Ra",
        "colab_type": "code",
        "colab": {}
      },
      "source": [
        ""
      ],
      "execution_count": 0,
      "outputs": []
    }
  ]
}