{
 "cells": [
  {
   "cell_type": "markdown",
   "metadata": {
    "colab_type": "text",
    "id": "hIHRGhuB5vRF"
   },
   "source": [
    "Загружаем и обрабатываем исзодные данные"
   ]
  },
  {
   "cell_type": "code",
   "execution_count": 81,
   "metadata": {
    "colab": {},
    "colab_type": "code",
    "id": "S2XNJ7125tlT"
   },
   "outputs": [],
   "source": [
    "file_obj = open('products_sentiment_train.tsv')\n",
    "test_file_obj = open('products_sentiment_test.tsv')"
   ]
  },
  {
   "cell_type": "code",
   "execution_count": 82,
   "metadata": {
    "colab": {},
    "colab_type": "code",
    "id": "-mrnTi5Y50CI"
   },
   "outputs": [],
   "source": [
    "def generate_text_and_targets(file_obj):\n",
    "    data = [line.strip() for line in file_obj.readlines()]\n",
    "    targets = [int(sentence[-1]) for sentence in data]\n",
    "    sentences = [sentence[:-1].strip() for sentence in data]\n",
    "    return sentences, targets\n",
    "\n",
    "def generate_text(test_file_obj):\n",
    "    data = [line.strip() for line in test_file_obj.readlines()][1:]\n",
    "    sentences = [line[len(str(num)):].strip() for num, line in enumerate(data)]\n",
    "    return sentences"
   ]
  },
  {
   "cell_type": "code",
   "execution_count": 83,
   "metadata": {
    "colab": {},
    "colab_type": "code",
    "id": "cm8tXReC56Hj"
   },
   "outputs": [],
   "source": [
    "train_sentences, targets = generate_text_and_targets(file_obj)\n",
    "test_sentences = generate_text(test_file_obj)"
   ]
  },
  {
   "cell_type": "markdown",
   "metadata": {
    "colab_type": "text",
    "id": "cJH-v7Jl5-0Z"
   },
   "source": [
    "Загружаем библиотеки. Выбранная архитектура приведена ниже."
   ]
  },
  {
   "cell_type": "code",
   "execution_count": 84,
   "metadata": {
    "colab": {
     "base_uri": "https://localhost:8080/",
     "height": 68
    },
    "colab_type": "code",
    "id": "ex425dL_WQpk",
    "outputId": "bc1ecd7c-d638-4020-9791-f11b6ae0e158"
   },
   "outputs": [
    {
     "name": "stdout",
     "output_type": "stream",
     "text": [
      "[nltk_data] Downloading package stopwords to /root/nltk_data...\n",
      "[nltk_data]   Package stopwords is already up-to-date!\n"
     ]
    },
    {
     "data": {
      "text/plain": [
       "True"
      ]
     },
     "execution_count": 84,
     "metadata": {
      "tags": []
     },
     "output_type": "execute_result"
    }
   ],
   "source": [
    "from sklearn.feature_extraction.text import CountVectorizer, TfidfVectorizer\n",
    "from sklearn.pipeline import Pipeline\n",
    "from sklearn.model_selection import cross_val_score\n",
    "from sklearn.linear_model import LogisticRegression, SGDClassifier\n",
    "import nltk\n",
    "nltk.download('stopwords')"
   ]
  },
  {
   "cell_type": "code",
   "execution_count": 85,
   "metadata": {
    "colab": {
     "base_uri": "https://localhost:8080/",
     "height": 34
    },
    "colab_type": "code",
    "id": "b1a7eNJOPyoV",
    "outputId": "3983e45c-be08-447e-d73f-cf02c4e99c36"
   },
   "outputs": [
    {
     "name": "stdout",
     "output_type": "stream",
     "text": [
      "0.786\n"
     ]
    }
   ],
   "source": [
    "scores = cross_val_score(Pipeline([('vectorizer', TfidfVectorizer(analyzer='char_wb', ngram_range=(2, 6), stop_words='english',\n",
    "                                                                  min_df=4)), \n",
    "                                   ('classifier', LogisticRegression())]), train_sentences, targets, cv=5, scoring='accuracy')\n",
    "print(scores.mean())"
   ]
  },
  {
   "cell_type": "markdown",
   "metadata": {
    "colab_type": "text",
    "id": "4Pgwkg3SkIad"
   },
   "source": [
    "Выберем порог бинаризации на основании roc auc"
   ]
  },
  {
   "cell_type": "code",
   "execution_count": 86,
   "metadata": {
    "colab": {},
    "colab_type": "code",
    "id": "klSLjTkUjHCg"
   },
   "outputs": [],
   "source": [
    "classifier = Pipeline([('vectorizer', TfidfVectorizer(analyzer='char_wb', ngram_range=(2, 6), stop_words='english', min_df=4)), \n",
    "                        ('classifier', LogisticRegression())])"
   ]
  },
  {
   "cell_type": "code",
   "execution_count": 87,
   "metadata": {
    "colab": {
     "base_uri": "https://localhost:8080/",
     "height": 313
    },
    "colab_type": "code",
    "id": "MDlRMIVLkmHI",
    "outputId": "1b613704-5a0f-45ef-cb1f-24f4dfbcdc7e"
   },
   "outputs": [
    {
     "name": "stdout",
     "output_type": "stream",
     "text": [
      "(600, 2)\n",
      "600\n"
     ]
    },
    {
     "data": {
      "image/png": "[encoded data removed]",
      "text/plain": [
       "<Figure size 432x288 with 1 Axes>"
      ]
     },
     "metadata": {
      "needs_background": "light",
      "tags": []
     },
     "output_type": "display_data"
    }
   ],
   "source": [
    "from sklearn.model_selection import train_test_split\n",
    "from sklearn.metrics import roc_curve\n",
    "import matplotlib.pyplot as plt\n",
    "\n",
    "X_train, X_test, y_train, y_test = train_test_split(train_sentences, targets, test_size=0.3)\n",
    "\n",
    "classifier.fit(X_train, y_train)\n",
    "predict_probs = classifier.predict_proba(X_test)\n",
    "print(predict_probs.shape)\n",
    "print(len(y_test))\n",
    "\n",
    "fpr, tpr, thr = roc_curve(y_test, predict_probs[:, 1])\n",
    "plt.figure()\n",
    "plt.plot(fpr, tpr)\n",
    "plt.xlabel('fpr')\n",
    "plt.ylabel('tpr')\n",
    "plt.show()"
   ]
  },
  {
   "cell_type": "markdown",
   "metadata": {
    "colab_type": "text",
    "id": "l2vOzHBoHlOn"
   },
   "source": [
    "Предсказания на основе нового порога бинаризации"
   ]
  },
  {
   "cell_type": "code",
   "execution_count": 88,
   "metadata": {
    "colab": {},
    "colab_type": "code",
    "id": "Q3RKaZ8L8int"
   },
   "outputs": [],
   "source": [
    "def treshold(y, probs):\n",
    "  fpr, tpr, thr = roc_curve(y, probs)\n",
    "  distances = [math.sqrt(math.pow(fp - 0, 2) + math.pow(tp - 1, 2)) for fp, tp in zip(fpr, tpr)]\n",
    "  return thr[distances.index(min(distances))]"
   ]
  },
  {
   "cell_type": "code",
   "execution_count": 89,
   "metadata": {
    "colab": {
     "base_uri": "https://localhost:8080/",
     "height": 34
    },
    "colab_type": "code",
    "id": "aC7RQk-SXqqQ",
    "outputId": "4a1f0191-c434-4249-97d1-abc8afb27676"
   },
   "outputs": [
    {
     "data": {
      "text/plain": [
       "0.6132742441758616"
      ]
     },
     "execution_count": 89,
     "metadata": {
      "tags": []
     },
     "output_type": "execute_result"
    }
   ],
   "source": [
    "import math\n",
    "\n",
    "treshold = treshold(y_test, predict_probs[:, 1])\n",
    "treshold"
   ]
  },
  {
   "cell_type": "code",
   "execution_count": 90,
   "metadata": {
    "colab": {
     "base_uri": "https://localhost:8080/",
     "height": 34
    },
    "colab_type": "code",
    "id": "m97D3TW6-dbC",
    "outputId": "a1c43a85-ec26-454b-aa7e-61e0696390ba"
   },
   "outputs": [
    {
     "data": {
      "text/plain": [
       "500"
      ]
     },
     "execution_count": 90,
     "metadata": {
      "tags": []
     },
     "output_type": "execute_result"
    }
   ],
   "source": [
    "def predict_test(t, text):\n",
    "  classifier.fit(train_sentences, targets)\n",
    "  test_probs = classifier.predict_proba(text)\n",
    "  adjusted_preds = [0 if x < t else 1 for x in test_probs[:, 1]]\n",
    "  return adjusted_preds\n",
    "\n",
    "predictions = predict_test(treshold, test_sentences)\n",
    "len(predictions)"
   ]
  },
  {
   "cell_type": "markdown",
   "metadata": {
    "colab_type": "text",
    "id": "WPR0Aw9pHccK"
   },
   "source": [
    "Загрузка предсказаний в csv файл"
   ]
  },
  {
   "cell_type": "code",
   "execution_count": 115,
   "metadata": {
    "colab": {},
    "colab_type": "code",
    "id": "s4Q9GphtHbun"
   },
   "outputs": [],
   "source": [
    "import pandas as pd\n",
    "\n",
    "predictions_df = pd.DataFrame(predictions, columns=['y'])\n",
    "predictions_df.index.name = 'Id'\n",
    "predictions_df.to_csv('predictions_tfidf.csv')"
   ]
  },
  {
   "cell_type": "markdown",
   "metadata": {
    "colab_type": "text",
    "id": "XVKKLxXC6UbZ"
   },
   "source": [
    "#BERT\n",
    "\n",
    "Во избежании проведения кросс-валидации для нахождения нужной комбинации гиперпараметров для tfidf, можно воспользоваться более продвинутой архитектурой для предсказания тональности, называемой BERT. BERT основана на использовании архитектуры attention. Тенсор, извлекаемый из последнего слоя attention первого токена, проганяется через линный слой с двумя нейронами, которые подсоединяются к слою softmax. Мы будем пользоваться библиотекой transformers с pretrained эмбеддингами, токенизатором и моделью, рассчитанной на два класса. Для построения модели используется pytorch. Для ускорения вычислений, нижепреведенный код можно запустить в colab с gpu кернелом."
   ]
  },
  {
   "cell_type": "markdown",
   "metadata": {
    "colab_type": "text",
    "id": "Y5DyyHf5QmWY"
   },
   "source": [
    "![Image 26.08.2020 at 21.52.JPG](data:image/jpeg;base64,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)"
   ]
  },
  {
   "cell_type": "code",
   "execution_count": 91,
   "metadata": {
    "colab": {
     "base_uri": "https://localhost:8080/",
     "height": 360
    },
    "colab_type": "code",
    "id": "IMwLf35JQRcq",
    "outputId": "17aa08f6-62ff-46ea-8652-42914ecb3ef3"
   },
   "outputs": [
    {
     "name": "stdout",
     "output_type": "stream",
     "text": [
      "Requirement already satisfied: transformers in /usr/local/lib/python3.6/dist-packages (3.0.2)\n",
      "Requirement already satisfied: tqdm>=4.27 in /usr/local/lib/python3.6/dist-packages (from transformers) (4.41.1)\n",
      "Requirement already satisfied: dataclasses; python_version < \"3.7\" in /usr/local/lib/python3.6/dist-packages (from transformers) (0.7)\n",
      "Requirement already satisfied: sentencepiece!=0.1.92 in /usr/local/lib/python3.6/dist-packages (from transformers) (0.1.91)\n",
      "Requirement already satisfied: regex!=2019.12.17 in /usr/local/lib/python3.6/dist-packages (from transformers) (2019.12.20)\n",
      "Requirement already satisfied: packaging in /usr/local/lib/python3.6/dist-packages (from transformers) (20.4)\n",
      "Requirement already satisfied: tokenizers==0.8.1.rc1 in /usr/local/lib/python3.6/dist-packages (from transformers) (0.8.1rc1)\n",
      "Requirement already satisfied: sacremoses in /usr/local/lib/python3.6/dist-packages (from transformers) (0.0.43)\n",
      "Requirement already satisfied: filelock in /usr/local/lib/python3.6/dist-packages (from transformers) (3.0.12)\n",
      "Requirement already satisfied: numpy in /usr/local/lib/python3.6/dist-packages (from transformers) (1.18.5)\n",
      "Requirement already satisfied: requests in /usr/local/lib/python3.6/dist-packages (from transformers) (2.23.0)\n",
      "Requirement already satisfied: six in /usr/local/lib/python3.6/dist-packages (from packaging->transformers) (1.15.0)\n",
      "Requirement already satisfied: pyparsing>=2.0.2 in /usr/local/lib/python3.6/dist-packages (from packaging->transformers) (2.4.7)\n",
      "Requirement already satisfied: click in /usr/local/lib/python3.6/dist-packages (from sacremoses->transformers) (7.1.2)\n",
      "Requirement already satisfied: joblib in /usr/local/lib/python3.6/dist-packages (from sacremoses->transformers) (0.16.0)\n",
      "Requirement already satisfied: urllib3!=1.25.0,!=1.25.1,<1.26,>=1.21.1 in /usr/local/lib/python3.6/dist-packages (from requests->transformers) (1.24.3)\n",
      "Requirement already satisfied: certifi>=2017.4.17 in /usr/local/lib/python3.6/dist-packages (from requests->transformers) (2020.6.20)\n",
      "Requirement already satisfied: idna<3,>=2.5 in /usr/local/lib/python3.6/dist-packages (from requests->transformers) (2.10)\n",
      "Requirement already satisfied: chardet<4,>=3.0.2 in /usr/local/lib/python3.6/dist-packages (from requests->transformers) (3.0.4)\n"
     ]
    }
   ],
   "source": [
    "!pip install transformers #only in colab\n",
    "import torch\n",
    "import transformers\n",
    "from transformers import BertTokenizer"
   ]
  },
  {
   "cell_type": "code",
   "execution_count": 92,
   "metadata": {
    "colab": {
     "base_uri": "https://localhost:8080/",
     "height": 34
    },
    "colab_type": "code",
    "id": "Vjsq2As86eI1",
    "outputId": "c71dd90a-9022-4ae2-ce0f-ed35e6cadf75"
   },
   "outputs": [
    {
     "name": "stdout",
     "output_type": "stream",
     "text": [
      "device name: Tesla K80\n"
     ]
    }
   ],
   "source": [
    "if torch.cuda.is_available():    \n",
    "    device = torch.device(\"cuda\")\n",
    "else:\n",
    "    device = torch.device(\"cpu\")\n",
    "\n",
    "print('device name:', torch.cuda.get_device_name(0))"
   ]
  },
  {
   "cell_type": "markdown",
   "metadata": {
    "colab_type": "text",
    "id": "bHD0Dz8o9VSv"
   },
   "source": [
    "Пользуемя pretrained токенизатором"
   ]
  },
  {
   "cell_type": "code",
   "execution_count": 93,
   "metadata": {
    "colab": {},
    "colab_type": "code",
    "id": "PZjICMY87Xyi"
   },
   "outputs": [],
   "source": [
    "tokenizer = BertTokenizer.from_pretrained('bert-base-uncased', do_lower_case=True)"
   ]
  },
  {
   "cell_type": "code",
   "execution_count": 94,
   "metadata": {
    "colab": {},
    "colab_type": "code",
    "id": "IKbuI_pz90T7"
   },
   "outputs": [],
   "source": [
    "def find_length(sentences):\n",
    "  return max([len(tokenizer.encode(sent)) for sent in sentences])"
   ]
  },
  {
   "cell_type": "code",
   "execution_count": 95,
   "metadata": {
    "colab": {
     "base_uri": "https://localhost:8080/",
     "height": 34
    },
    "colab_type": "code",
    "id": "stTTrZQjD_1r",
    "outputId": "246bc036-2672-44dc-f2ea-66eb613b01af"
   },
   "outputs": [
    {
     "data": {
      "text/plain": [
       "113"
      ]
     },
     "execution_count": 95,
     "metadata": {
      "tags": []
     },
     "output_type": "execute_result"
    }
   ],
   "source": [
    "train_seq_length = find_length(train_sentences) #without special tokens\n",
    "train_seq_length #let length be 120"
   ]
  },
  {
   "cell_type": "markdown",
   "metadata": {
    "colab_type": "text",
    "id": "o30i__J59h3j"
   },
   "source": [
    "Все токенизированные последовательности должны быть приведены к общей длине при помощи токена ['PAD']. Также к последовательностям должны быть добавлены токены '[CLS]' и '[SEP]' в начале и конце (до паддинга). Функция encode_plus возвращает токенизированные последовательности со специальными токенами и attention masks, имеющие такую же форму, как и получаемый тенсор токенизированных последовательностей и состоящий из 1 и 0, где 0 соответсвует токену ['PAD'], 1 - всем остальным."
   ]
  },
  {
   "cell_type": "code",
   "execution_count": 96,
   "metadata": {
    "colab": {},
    "colab_type": "code",
    "id": "w7l0e-FjInZg"
   },
   "outputs": [],
   "source": [
    "def return_ids_masks(sentences):\n",
    "  input_ids = []\n",
    "  attention_masks = []\n",
    "\n",
    "  for sent in sentences:\n",
    "    encoded_dict = tokenizer.encode_plus(\n",
    "                        sent,                      # Sentence to encode.\n",
    "                        add_special_tokens = True, # Add '[CLS]' and '[SEP]'\n",
    "                        max_length = 120,           # Pad & truncate all sentences.\n",
    "                        truncation=True,\n",
    "                        pad_to_max_length = True,\n",
    "                        return_attention_mask = True,   # Construct attn. masks.\n",
    "                        return_tensors = 'pt',     # Return pytorch tensors.\n",
    "                   )\n",
    "    input_ids.append(encoded_dict['input_ids'])\n",
    "    attention_masks.append(encoded_dict['attention_mask'])\n",
    "\n",
    "  input_ids = torch.cat(input_ids, dim=0)\n",
    "  attention_masks = torch.cat(attention_masks, dim=0)\n",
    "  return input_ids, attention_masks"
   ]
  },
  {
   "cell_type": "code",
   "execution_count": 97,
   "metadata": {
    "colab": {},
    "colab_type": "code",
    "id": "q7WC9bK7J_WZ"
   },
   "outputs": [],
   "source": [
    "train_ids, train_masks = return_ids_masks(train_sentences)\n",
    "targets = torch.tensor(targets)"
   ]
  },
  {
   "cell_type": "markdown",
   "metadata": {
    "colab_type": "text",
    "id": "fdpuLpLrAukg"
   },
   "source": [
    "Создаем датасеты для тренировки и валидации"
   ]
  },
  {
   "cell_type": "code",
   "execution_count": 98,
   "metadata": {
    "colab": {},
    "colab_type": "code",
    "id": "iq-vb_AdNxvP"
   },
   "outputs": [],
   "source": [
    "from torch.utils.data import TensorDataset, random_split\n",
    "\n",
    "dataset = TensorDataset(train_ids, train_masks, targets)\n",
    "\n",
    "train_size = int(0.9 * len(dataset))\n",
    "val_size = len(dataset) - train_size\n",
    "\n",
    "train_dataset, val_dataset = random_split(dataset, [train_size, val_size])"
   ]
  },
  {
   "cell_type": "markdown",
   "metadata": {
    "colab_type": "text",
    "id": "WMaFj1jKSadM"
   },
   "source": [
    "Создаем Dataloaders для тренировки и валидации"
   ]
  },
  {
   "cell_type": "code",
   "execution_count": 99,
   "metadata": {
    "colab": {},
    "colab_type": "code",
    "id": "pVm7FaOTRUNt"
   },
   "outputs": [],
   "source": [
    "from torch.utils.data import DataLoader, RandomSampler, SequentialSampler\n",
    "\n",
    "batch_size = 32\n",
    "\n",
    "train_dataloader = DataLoader(\n",
    "            train_dataset,  # The training samples.\n",
    "            sampler = RandomSampler(train_dataset), # Select batches randomly\n",
    "            batch_size = batch_size # Trains with this batch size.\n",
    "        )\n",
    "\n",
    "validation_dataloader = DataLoader(\n",
    "            val_dataset, # The validation samples.\n",
    "            sampler = SequentialSampler(val_dataset), # Pull out batches sequentially.\n",
    "            batch_size = batch_size # Evaluate with this batch size.\n",
    "        )"
   ]
  },
  {
   "cell_type": "markdown",
   "metadata": {
    "colab_type": "text",
    "id": "eujkfFnCBW9t"
   },
   "source": [
    "Загружаем модель"
   ]
  },
  {
   "cell_type": "code",
   "execution_count": 100,
   "metadata": {
    "colab": {
     "base_uri": "https://localhost:8080/",
     "height": 1000
    },
    "colab_type": "code",
    "id": "Zxb3z5ggS5Jt",
    "outputId": "713e4665-1a34-404a-8379-ca85c0f052c3"
   },
   "outputs": [
    {
     "name": "stderr",
     "output_type": "stream",
     "text": [
      "Some weights of the model checkpoint at bert-base-uncased were not used when initializing BertForSequenceClassification: ['cls.predictions.bias', 'cls.predictions.transform.dense.weight', 'cls.predictions.transform.dense.bias', 'cls.predictions.decoder.weight', 'cls.seq_relationship.weight', 'cls.seq_relationship.bias', 'cls.predictions.transform.LayerNorm.weight', 'cls.predictions.transform.LayerNorm.bias']\n",
      "- This IS expected if you are initializing BertForSequenceClassification from the checkpoint of a model trained on another task or with another architecture (e.g. initializing a BertForSequenceClassification model from a BertForPretraining model).\n",
      "- This IS NOT expected if you are initializing BertForSequenceClassification from the checkpoint of a model that you expect to be exactly identical (initializing a BertForSequenceClassification model from a BertForSequenceClassification model).\n",
      "Some weights of BertForSequenceClassification were not initialized from the model checkpoint at bert-base-uncased and are newly initialized: ['classifier.weight', 'classifier.bias']\n",
      "You should probably TRAIN this model on a down-stream task to be able to use it for predictions and inference.\n"
     ]
    },
    {
     "data": {
      "text/plain": [
       "BertForSequenceClassification(\n",
       "  (bert): BertModel(\n",
       "    (embeddings): BertEmbeddings(\n",
       "      (word_embeddings): Embedding(30522, 768, padding_idx=0)\n",
       "      (position_embeddings): Embedding(512, 768)\n",
       "      (token_type_embeddings): Embedding(2, 768)\n",
       "      (LayerNorm): LayerNorm((768,), eps=1e-12, elementwise_affine=True)\n",
       "      (dropout): Dropout(p=0.1, inplace=False)\n",
       "    )\n",
       "    (encoder): BertEncoder(\n",
       "      (layer): ModuleList(\n",
       "        (0): BertLayer(\n",
       "          (attention): BertAttention(\n",
       "            (self): BertSelfAttention(\n",
       "              (query): Linear(in_features=768, out_features=768, bias=True)\n",
       "              (key): Linear(in_features=768, out_features=768, bias=True)\n",
       "              (value): Linear(in_features=768, out_features=768, bias=True)\n",
       "              (dropout): Dropout(p=0.1, inplace=False)\n",
       "            )\n",
       "            (output): BertSelfOutput(\n",
       "              (dense): Linear(in_features=768, out_features=768, bias=True)\n",
       "              (LayerNorm): LayerNorm((768,), eps=1e-12, elementwise_affine=True)\n",
       "              (dropout): Dropout(p=0.1, inplace=False)\n",
       "            )\n",
       "          )\n",
       "          (intermediate): BertIntermediate(\n",
       "            (dense): Linear(in_features=768, out_features=3072, bias=True)\n",
       "          )\n",
       "          (output): BertOutput(\n",
       "            (dense): Linear(in_features=3072, out_features=768, bias=True)\n",
       "            (LayerNorm): LayerNorm((768,), eps=1e-12, elementwise_affine=True)\n",
       "            (dropout): Dropout(p=0.1, inplace=False)\n",
       "          )\n",
       "        )\n",
       "        (1): BertLayer(\n",
       "          (attention): BertAttention(\n",
       "            (self): BertSelfAttention(\n",
       "              (query): Linear(in_features=768, out_features=768, bias=True)\n",
       "              (key): Linear(in_features=768, out_features=768, bias=True)\n",
       "              (value): Linear(in_features=768, out_features=768, bias=True)\n",
       "              (dropout): Dropout(p=0.1, inplace=False)\n",
       "            )\n",
       "            (output): BertSelfOutput(\n",
       "              (dense): Linear(in_features=768, out_features=768, bias=True)\n",
       "              (LayerNorm): LayerNorm((768,), eps=1e-12, elementwise_affine=True)\n",
       "              (dropout): Dropout(p=0.1, inplace=False)\n",
       "            )\n",
       "          )\n",
       "          (intermediate): BertIntermediate(\n",
       "            (dense): Linear(in_features=768, out_features=3072, bias=True)\n",
       "          )\n",
       "          (output): BertOutput(\n",
       "            (dense): Linear(in_features=3072, out_features=768, bias=True)\n",
       "            (LayerNorm): LayerNorm((768,), eps=1e-12, elementwise_affine=True)\n",
       "            (dropout): Dropout(p=0.1, inplace=False)\n",
       "          )\n",
       "        )\n",
       "        (2): BertLayer(\n",
       "          (attention): BertAttention(\n",
       "            (self): BertSelfAttention(\n",
       "              (query): Linear(in_features=768, out_features=768, bias=True)\n",
       "              (key): Linear(in_features=768, out_features=768, bias=True)\n",
       "              (value): Linear(in_features=768, out_features=768, bias=True)\n",
       "              (dropout): Dropout(p=0.1, inplace=False)\n",
       "            )\n",
       "            (output): BertSelfOutput(\n",
       "              (dense): Linear(in_features=768, out_features=768, bias=True)\n",
       "              (LayerNorm): LayerNorm((768,), eps=1e-12, elementwise_affine=True)\n",
       "              (dropout): Dropout(p=0.1, inplace=False)\n",
       "            )\n",
       "          )\n",
       "          (intermediate): BertIntermediate(\n",
       "            (dense): Linear(in_features=768, out_features=3072, bias=True)\n",
       "          )\n",
       "          (output): BertOutput(\n",
       "            (dense): Linear(in_features=3072, out_features=768, bias=True)\n",
       "            (LayerNorm): LayerNorm((768,), eps=1e-12, elementwise_affine=True)\n",
       "            (dropout): Dropout(p=0.1, inplace=False)\n",
       "          )\n",
       "        )\n",
       "        (3): BertLayer(\n",
       "          (attention): BertAttention(\n",
       "            (self): BertSelfAttention(\n",
       "              (query): Linear(in_features=768, out_features=768, bias=True)\n",
       "              (key): Linear(in_features=768, out_features=768, bias=True)\n",
       "              (value): Linear(in_features=768, out_features=768, bias=True)\n",
       "              (dropout): Dropout(p=0.1, inplace=False)\n",
       "            )\n",
       "            (output): BertSelfOutput(\n",
       "              (dense): Linear(in_features=768, out_features=768, bias=True)\n",
       "              (LayerNorm): LayerNorm((768,), eps=1e-12, elementwise_affine=True)\n",
       "              (dropout): Dropout(p=0.1, inplace=False)\n",
       "            )\n",
       "          )\n",
       "          (intermediate): BertIntermediate(\n",
       "            (dense): Linear(in_features=768, out_features=3072, bias=True)\n",
       "          )\n",
       "          (output): BertOutput(\n",
       "            (dense): Linear(in_features=3072, out_features=768, bias=True)\n",
       "            (LayerNorm): LayerNorm((768,), eps=1e-12, elementwise_affine=True)\n",
       "            (dropout): Dropout(p=0.1, inplace=False)\n",
       "          )\n",
       "        )\n",
       "        (4): BertLayer(\n",
       "          (attention): BertAttention(\n",
       "            (self): BertSelfAttention(\n",
       "              (query): Linear(in_features=768, out_features=768, bias=True)\n",
       "              (key): Linear(in_features=768, out_features=768, bias=True)\n",
       "              (value): Linear(in_features=768, out_features=768, bias=True)\n",
       "              (dropout): Dropout(p=0.1, inplace=False)\n",
       "            )\n",
       "            (output): BertSelfOutput(\n",
       "              (dense): Linear(in_features=768, out_features=768, bias=True)\n",
       "              (LayerNorm): LayerNorm((768,), eps=1e-12, elementwise_affine=True)\n",
       "              (dropout): Dropout(p=0.1, inplace=False)\n",
       "            )\n",
       "          )\n",
       "          (intermediate): BertIntermediate(\n",
       "            (dense): Linear(in_features=768, out_features=3072, bias=True)\n",
       "          )\n",
       "          (output): BertOutput(\n",
       "            (dense): Linear(in_features=3072, out_features=768, bias=True)\n",
       "            (LayerNorm): LayerNorm((768,), eps=1e-12, elementwise_affine=True)\n",
       "            (dropout): Dropout(p=0.1, inplace=False)\n",
       "          )\n",
       "        )\n",
       "        (5): BertLayer(\n",
       "          (attention): BertAttention(\n",
       "            (self): BertSelfAttention(\n",
       "              (query): Linear(in_features=768, out_features=768, bias=True)\n",
       "              (key): Linear(in_features=768, out_features=768, bias=True)\n",
       "              (value): Linear(in_features=768, out_features=768, bias=True)\n",
       "              (dropout): Dropout(p=0.1, inplace=False)\n",
       "            )\n",
       "            (output): BertSelfOutput(\n",
       "              (dense): Linear(in_features=768, out_features=768, bias=True)\n",
       "              (LayerNorm): LayerNorm((768,), eps=1e-12, elementwise_affine=True)\n",
       "              (dropout): Dropout(p=0.1, inplace=False)\n",
       "            )\n",
       "          )\n",
       "          (intermediate): BertIntermediate(\n",
       "            (dense): Linear(in_features=768, out_features=3072, bias=True)\n",
       "          )\n",
       "          (output): BertOutput(\n",
       "            (dense): Linear(in_features=3072, out_features=768, bias=True)\n",
       "            (LayerNorm): LayerNorm((768,), eps=1e-12, elementwise_affine=True)\n",
       "            (dropout): Dropout(p=0.1, inplace=False)\n",
       "          )\n",
       "        )\n",
       "        (6): BertLayer(\n",
       "          (attention): BertAttention(\n",
       "            (self): BertSelfAttention(\n",
       "              (query): Linear(in_features=768, out_features=768, bias=True)\n",
       "              (key): Linear(in_features=768, out_features=768, bias=True)\n",
       "              (value): Linear(in_features=768, out_features=768, bias=True)\n",
       "              (dropout): Dropout(p=0.1, inplace=False)\n",
       "            )\n",
       "            (output): BertSelfOutput(\n",
       "              (dense): Linear(in_features=768, out_features=768, bias=True)\n",
       "              (LayerNorm): LayerNorm((768,), eps=1e-12, elementwise_affine=True)\n",
       "              (dropout): Dropout(p=0.1, inplace=False)\n",
       "            )\n",
       "          )\n",
       "          (intermediate): BertIntermediate(\n",
       "            (dense): Linear(in_features=768, out_features=3072, bias=True)\n",
       "          )\n",
       "          (output): BertOutput(\n",
       "            (dense): Linear(in_features=3072, out_features=768, bias=True)\n",
       "            (LayerNorm): LayerNorm((768,), eps=1e-12, elementwise_affine=True)\n",
       "            (dropout): Dropout(p=0.1, inplace=False)\n",
       "          )\n",
       "        )\n",
       "        (7): BertLayer(\n",
       "          (attention): BertAttention(\n",
       "            (self): BertSelfAttention(\n",
       "              (query): Linear(in_features=768, out_features=768, bias=True)\n",
       "              (key): Linear(in_features=768, out_features=768, bias=True)\n",
       "              (value): Linear(in_features=768, out_features=768, bias=True)\n",
       "              (dropout): Dropout(p=0.1, inplace=False)\n",
       "            )\n",
       "            (output): BertSelfOutput(\n",
       "              (dense): Linear(in_features=768, out_features=768, bias=True)\n",
       "              (LayerNorm): LayerNorm((768,), eps=1e-12, elementwise_affine=True)\n",
       "              (dropout): Dropout(p=0.1, inplace=False)\n",
       "            )\n",
       "          )\n",
       "          (intermediate): BertIntermediate(\n",
       "            (dense): Linear(in_features=768, out_features=3072, bias=True)\n",
       "          )\n",
       "          (output): BertOutput(\n",
       "            (dense): Linear(in_features=3072, out_features=768, bias=True)\n",
       "            (LayerNorm): LayerNorm((768,), eps=1e-12, elementwise_affine=True)\n",
       "            (dropout): Dropout(p=0.1, inplace=False)\n",
       "          )\n",
       "        )\n",
       "        (8): BertLayer(\n",
       "          (attention): BertAttention(\n",
       "            (self): BertSelfAttention(\n",
       "              (query): Linear(in_features=768, out_features=768, bias=True)\n",
       "              (key): Linear(in_features=768, out_features=768, bias=True)\n",
       "              (value): Linear(in_features=768, out_features=768, bias=True)\n",
       "              (dropout): Dropout(p=0.1, inplace=False)\n",
       "            )\n",
       "            (output): BertSelfOutput(\n",
       "              (dense): Linear(in_features=768, out_features=768, bias=True)\n",
       "              (LayerNorm): LayerNorm((768,), eps=1e-12, elementwise_affine=True)\n",
       "              (dropout): Dropout(p=0.1, inplace=False)\n",
       "            )\n",
       "          )\n",
       "          (intermediate): BertIntermediate(\n",
       "            (dense): Linear(in_features=768, out_features=3072, bias=True)\n",
       "          )\n",
       "          (output): BertOutput(\n",
       "            (dense): Linear(in_features=3072, out_features=768, bias=True)\n",
       "            (LayerNorm): LayerNorm((768,), eps=1e-12, elementwise_affine=True)\n",
       "            (dropout): Dropout(p=0.1, inplace=False)\n",
       "          )\n",
       "        )\n",
       "        (9): BertLayer(\n",
       "          (attention): BertAttention(\n",
       "            (self): BertSelfAttention(\n",
       "              (query): Linear(in_features=768, out_features=768, bias=True)\n",
       "              (key): Linear(in_features=768, out_features=768, bias=True)\n",
       "              (value): Linear(in_features=768, out_features=768, bias=True)\n",
       "              (dropout): Dropout(p=0.1, inplace=False)\n",
       "            )\n",
       "            (output): BertSelfOutput(\n",
       "              (dense): Linear(in_features=768, out_features=768, bias=True)\n",
       "              (LayerNorm): LayerNorm((768,), eps=1e-12, elementwise_affine=True)\n",
       "              (dropout): Dropout(p=0.1, inplace=False)\n",
       "            )\n",
       "          )\n",
       "          (intermediate): BertIntermediate(\n",
       "            (dense): Linear(in_features=768, out_features=3072, bias=True)\n",
       "          )\n",
       "          (output): BertOutput(\n",
       "            (dense): Linear(in_features=3072, out_features=768, bias=True)\n",
       "            (LayerNorm): LayerNorm((768,), eps=1e-12, elementwise_affine=True)\n",
       "            (dropout): Dropout(p=0.1, inplace=False)\n",
       "          )\n",
       "        )\n",
       "        (10): BertLayer(\n",
       "          (attention): BertAttention(\n",
       "            (self): BertSelfAttention(\n",
       "              (query): Linear(in_features=768, out_features=768, bias=True)\n",
       "              (key): Linear(in_features=768, out_features=768, bias=True)\n",
       "              (value): Linear(in_features=768, out_features=768, bias=True)\n",
       "              (dropout): Dropout(p=0.1, inplace=False)\n",
       "            )\n",
       "            (output): BertSelfOutput(\n",
       "              (dense): Linear(in_features=768, out_features=768, bias=True)\n",
       "              (LayerNorm): LayerNorm((768,), eps=1e-12, elementwise_affine=True)\n",
       "              (dropout): Dropout(p=0.1, inplace=False)\n",
       "            )\n",
       "          )\n",
       "          (intermediate): BertIntermediate(\n",
       "            (dense): Linear(in_features=768, out_features=3072, bias=True)\n",
       "          )\n",
       "          (output): BertOutput(\n",
       "            (dense): Linear(in_features=3072, out_features=768, bias=True)\n",
       "            (LayerNorm): LayerNorm((768,), eps=1e-12, elementwise_affine=True)\n",
       "            (dropout): Dropout(p=0.1, inplace=False)\n",
       "          )\n",
       "        )\n",
       "        (11): BertLayer(\n",
       "          (attention): BertAttention(\n",
       "            (self): BertSelfAttention(\n",
       "              (query): Linear(in_features=768, out_features=768, bias=True)\n",
       "              (key): Linear(in_features=768, out_features=768, bias=True)\n",
       "              (value): Linear(in_features=768, out_features=768, bias=True)\n",
       "              (dropout): Dropout(p=0.1, inplace=False)\n",
       "            )\n",
       "            (output): BertSelfOutput(\n",
       "              (dense): Linear(in_features=768, out_features=768, bias=True)\n",
       "              (LayerNorm): LayerNorm((768,), eps=1e-12, elementwise_affine=True)\n",
       "              (dropout): Dropout(p=0.1, inplace=False)\n",
       "            )\n",
       "          )\n",
       "          (intermediate): BertIntermediate(\n",
       "            (dense): Linear(in_features=768, out_features=3072, bias=True)\n",
       "          )\n",
       "          (output): BertOutput(\n",
       "            (dense): Linear(in_features=3072, out_features=768, bias=True)\n",
       "            (LayerNorm): LayerNorm((768,), eps=1e-12, elementwise_affine=True)\n",
       "            (dropout): Dropout(p=0.1, inplace=False)\n",
       "          )\n",
       "        )\n",
       "      )\n",
       "    )\n",
       "    (pooler): BertPooler(\n",
       "      (dense): Linear(in_features=768, out_features=768, bias=True)\n",
       "      (activation): Tanh()\n",
       "    )\n",
       "  )\n",
       "  (dropout): Dropout(p=0.1, inplace=False)\n",
       "  (classifier): Linear(in_features=768, out_features=2, bias=True)\n",
       ")"
      ]
     },
     "execution_count": 100,
     "metadata": {
      "tags": []
     },
     "output_type": "execute_result"
    }
   ],
   "source": [
    "from transformers import BertForSequenceClassification, AdamW, BertConfig\n",
    "\n",
    "model = BertForSequenceClassification.from_pretrained(\n",
    "    \"bert-base-uncased\", # Use the 12-layer BERT model, with an uncased vocab.\n",
    "    num_labels = 2, # The number of output labels--2 for binary classification.\n",
    "                    # You can increase this for multi-class tasks.   \n",
    "    output_attentions = False, # Whether the model returns attentions weights.\n",
    "    output_hidden_states = False, # Whether the model returns all hidden-states.\n",
    ")\n",
    "\n",
    "model.cuda()"
   ]
  },
  {
   "cell_type": "markdown",
   "metadata": {
    "colab_type": "text",
    "id": "ifuCxvJNBeoj"
   },
   "source": [
    "Тренировочный алгоритм - AdamW (модификация градиентого спуска)"
   ]
  },
  {
   "cell_type": "code",
   "execution_count": 101,
   "metadata": {
    "colab": {},
    "colab_type": "code",
    "id": "hl2f5oHLUge8"
   },
   "outputs": [],
   "source": [
    "optimizer = AdamW(model.parameters(),\n",
    "                  lr = 2e-5, # args.learning_rate - default is 5e-5, our notebook had 2e-5\n",
    "                  eps = 1e-8 # args.adam_epsilon  - default is 1e-8.\n",
    "                )"
   ]
  },
  {
   "cell_type": "markdown",
   "metadata": {
    "colab_type": "text",
    "id": "jDfsfUroBv4S"
   },
   "source": [
    "Применеям learning rate scheduling"
   ]
  },
  {
   "cell_type": "code",
   "execution_count": 102,
   "metadata": {
    "colab": {},
    "colab_type": "code",
    "id": "Dx4x-W5wU2MU"
   },
   "outputs": [],
   "source": [
    "from transformers import get_linear_schedule_with_warmup\n",
    "\n",
    "epochs = 2\n",
    "total_steps = len(train_dataloader) * epochs\n",
    "scheduler = get_linear_schedule_with_warmup(optimizer, \n",
    "                                            num_warmup_steps = 0,\n",
    "                                            num_training_steps = total_steps)"
   ]
  },
  {
   "cell_type": "markdown",
   "metadata": {
    "colab_type": "text",
    "id": "mto8qhK_B3Gm"
   },
   "source": [
    "Функция для вычисление accuracy на одном пакете"
   ]
  },
  {
   "cell_type": "code",
   "execution_count": 103,
   "metadata": {
    "colab": {},
    "colab_type": "code",
    "id": "kwgGMhV-VLeA"
   },
   "outputs": [],
   "source": [
    "import numpy as np\n",
    "\n",
    "def flat_accuracy(preds, labels):\n",
    "    pred_flat = np.argmax(preds, axis=1).flatten()\n",
    "    labels_flat = labels.flatten()\n",
    "    return np.sum(pred_flat == labels_flat) / len(labels_flat)"
   ]
  },
  {
   "cell_type": "markdown",
   "metadata": {
    "colab_type": "text",
    "id": "LsmXBc-XCIB2"
   },
   "source": [
    " Фунция для форматирования времени"
   ]
  },
  {
   "cell_type": "code",
   "execution_count": 104,
   "metadata": {
    "colab": {},
    "colab_type": "code",
    "id": "9jNwNfJVVhZp"
   },
   "outputs": [],
   "source": [
    "import time\n",
    "import datetime\n",
    "\n",
    "def format_time(elapsed):\n",
    "    elapsed_rounded = int(round((elapsed)))\n",
    "    return str(datetime.timedelta(seconds=elapsed_rounded))"
   ]
  },
  {
   "cell_type": "markdown",
   "metadata": {
    "colab_type": "text",
    "id": "ntJ4xwC2VtfD"
   },
   "source": [
    "Файнтюним pretrained модель на двух эпохах. Валидация происходит в конце каждой эпохи."
   ]
  },
  {
   "cell_type": "code",
   "execution_count": 105,
   "metadata": {
    "colab": {
     "base_uri": "https://localhost:8080/",
     "height": 527
    },
    "colab_type": "code",
    "id": "ZIPigB59VniS",
    "outputId": "a4a448aa-5940-4fe1-9a44-abab0e928266"
   },
   "outputs": [
    {
     "name": "stdout",
     "output_type": "stream",
     "text": [
      "\n",
      "======== Epoch 1 / 2 ========\n",
      "Training...\n",
      "  Batch    40  of     57.    Elapsed: 0:00:46.\n",
      "\n",
      "  Average training loss: 0.48\n",
      "  Training epcoh took: 0:01:05\n",
      "\n",
      "Running Validation...\n",
      "  Accuracy: 0.92\n",
      "  Validation Loss: 0.25\n",
      "  Validation took: 0:00:03\n",
      "\n",
      "Training complete!\n",
      "Total training took 0:01:07 (h:mm:ss)\n",
      "\n",
      "======== Epoch 2 / 2 ========\n",
      "Training...\n",
      "  Batch    40  of     57.    Elapsed: 0:00:46.\n",
      "\n",
      "  Average training loss: 0.23\n",
      "  Training epcoh took: 0:01:05\n",
      "\n",
      "Running Validation...\n",
      "  Accuracy: 0.92\n",
      "  Validation Loss: 0.22\n",
      "  Validation took: 0:00:03\n",
      "\n",
      "Training complete!\n",
      "Total training took 0:02:15 (h:mm:ss)\n"
     ]
    }
   ],
   "source": [
    "import random\n",
    "import numpy as np\n",
    "\n",
    "seed_val = 42\n",
    "\n",
    "random.seed(seed_val)\n",
    "np.random.seed(seed_val)\n",
    "torch.manual_seed(seed_val)\n",
    "torch.cuda.manual_seed_all(seed_val)\n",
    "\n",
    "training_stats = []\n",
    "\n",
    "total_t0 = time.time()\n",
    "\n",
    "for epoch_i in range(0, epochs):\n",
    "  print(\"\")\n",
    "  print('======== Epoch {:} / {:} ========'.format(epoch_i + 1, epochs))\n",
    "  print('Training...')\n",
    "  t0 = time.time()\n",
    "\n",
    "  total_train_loss = 0\n",
    "\n",
    "  model.train()\n",
    "  for step, batch in enumerate(train_dataloader):\n",
    "    if step % 40 == 0 and not step == 0:\n",
    "      elapsed = format_time(time.time() - t0)\n",
    "      print('  Batch {:>5,}  of  {:>5,}.    Elapsed: {:}.'.format(step, len(train_dataloader), elapsed))\n",
    "\n",
    "    b_input_ids = batch[0].to(device)\n",
    "    b_input_mask = batch[1].to(device)\n",
    "    b_labels = batch[2].to(device)\n",
    "\n",
    "    model.zero_grad()\n",
    "\n",
    "    loss, logits = model(b_input_ids, \n",
    "                             token_type_ids=None, \n",
    "                             attention_mask=b_input_mask, \n",
    "                             labels=b_labels)\n",
    "    \n",
    "    total_train_loss += loss.item()\n",
    "\n",
    "    loss.backward()\n",
    "\n",
    "    torch.nn.utils.clip_grad_norm_(model.parameters(), 1.0)\n",
    "\n",
    "    optimizer.step()\n",
    "\n",
    "    scheduler.step()\n",
    "\n",
    "  avg_train_loss = total_train_loss / len(train_dataloader)\n",
    "  training_time = format_time(time.time() - t0)\n",
    "\n",
    "  print(\"\")\n",
    "  print(\"  Average training loss: {0:.2f}\".format(avg_train_loss))\n",
    "  print(\"  Training epcoh took: {:}\".format(training_time))\n",
    "  print(\"\")\n",
    "  print(\"Running Validation...\")\n",
    "\n",
    "  t0 = time.time()\n",
    "  model.eval()\n",
    "\n",
    "  total_eval_accuracy = 0\n",
    "  total_eval_loss = 0\n",
    "  nb_eval_steps = 0\n",
    "\n",
    "  for batch in validation_dataloader:\n",
    "    b_input_ids = batch[0].to(device)\n",
    "    b_input_mask = batch[1].to(device)\n",
    "    b_labels = batch[2].to(device)\n",
    "\n",
    "    with torch.no_grad():\n",
    "      (loss, logits) = model(b_input_ids, \n",
    "                                   token_type_ids=None, \n",
    "                                   attention_mask=b_input_mask,\n",
    "                                   labels=b_labels)\n",
    "      \n",
    "    total_eval_loss += loss.item()\n",
    "\n",
    "    logits = logits.detach().cpu().numpy()\n",
    "    label_ids = b_labels.to('cpu').numpy()\n",
    "\n",
    "    total_eval_accuracy += flat_accuracy(logits, label_ids)\n",
    "\n",
    "  avg_val_accuracy = total_eval_accuracy / len(validation_dataloader)\n",
    "  print(\"  Accuracy: {0:.2f}\".format(avg_val_accuracy))\n",
    "\n",
    "  avg_val_loss = total_eval_loss / len(validation_dataloader)\n",
    "\n",
    "  validation_time = format_time(time.time() - t0)\n",
    "\n",
    "  print(\"  Validation Loss: {0:.2f}\".format(avg_val_loss))\n",
    "  print(\"  Validation took: {:}\".format(validation_time))\n",
    "\n",
    "  training_stats.append(\n",
    "        {\n",
    "            'epoch': epoch_i + 1,\n",
    "            'Training Loss': avg_train_loss,\n",
    "            'Valid. Loss': avg_val_loss,\n",
    "            'Valid. Accur.': avg_val_accuracy,\n",
    "            'Training Time': training_time,\n",
    "            'Validation Time': validation_time\n",
    "        }\n",
    "  )\n",
    "\n",
    "  print(\"\")\n",
    "  print(\"Training complete!\")\n",
    "\n",
    "  print(\"Total training took {:} (h:mm:ss)\".format(format_time(time.time()-total_t0)))\n",
    "\n",
    "\n"
   ]
  },
  {
   "cell_type": "markdown",
   "metadata": {
    "colab_type": "text",
    "id": "ZYNuoZKTCclN"
   },
   "source": [
    "Выводи метрики"
   ]
  },
  {
   "cell_type": "code",
   "execution_count": 106,
   "metadata": {
    "colab": {
     "base_uri": "https://localhost:8080/",
     "height": 142
    },
    "colab_type": "code",
    "id": "Nr4gfkKncRtB",
    "outputId": "124d02b0-ed10-470c-fd06-80235a10d478"
   },
   "outputs": [
    {
     "data": {
      "text/html": [
       "<div>\n",
       "<style scoped>\n",
       "    .dataframe tbody tr th:only-of-type {\n",
       "        vertical-align: middle;\n",
       "    }\n",
       "\n",
       "    .dataframe tbody tr th {\n",
       "        vertical-align: top;\n",
       "    }\n",
       "\n",
       "    .dataframe thead th {\n",
       "        text-align: right;\n",
       "    }\n",
       "</style>\n",
       "<table border=\"1\" class=\"dataframe\">\n",
       "  <thead>\n",
       "    <tr style=\"text-align: right;\">\n",
       "      <th></th>\n",
       "      <th>Training Loss</th>\n",
       "      <th>Valid. Loss</th>\n",
       "      <th>Valid. Accur.</th>\n",
       "      <th>Training Time</th>\n",
       "      <th>Validation Time</th>\n",
       "    </tr>\n",
       "    <tr>\n",
       "      <th>epoch</th>\n",
       "      <th></th>\n",
       "      <th></th>\n",
       "      <th></th>\n",
       "      <th></th>\n",
       "      <th></th>\n",
       "    </tr>\n",
       "  </thead>\n",
       "  <tbody>\n",
       "    <tr>\n",
       "      <th>1</th>\n",
       "      <td>0.48</td>\n",
       "      <td>0.25</td>\n",
       "      <td>0.92</td>\n",
       "      <td>0:01:05</td>\n",
       "      <td>0:00:03</td>\n",
       "    </tr>\n",
       "    <tr>\n",
       "      <th>2</th>\n",
       "      <td>0.23</td>\n",
       "      <td>0.22</td>\n",
       "      <td>0.92</td>\n",
       "      <td>0:01:05</td>\n",
       "      <td>0:00:03</td>\n",
       "    </tr>\n",
       "  </tbody>\n",
       "</table>\n",
       "</div>"
      ],
      "text/plain": [
       "       Training Loss  Valid. Loss  Valid. Accur. Training Time Validation Time\n",
       "epoch                                                                         \n",
       "1               0.48         0.25           0.92       0:01:05         0:00:03\n",
       "2               0.23         0.22           0.92       0:01:05         0:00:03"
      ]
     },
     "execution_count": 106,
     "metadata": {
      "tags": []
     },
     "output_type": "execute_result"
    }
   ],
   "source": [
    "import pandas as pd\n",
    "\n",
    "pd.set_option('precision', 2)\n",
    "df_stats = pd.DataFrame(data=training_stats)\n",
    "df_stats = df_stats.set_index('epoch')\n",
    "df_stats"
   ]
  },
  {
   "cell_type": "markdown",
   "metadata": {
    "colab_type": "text",
    "id": "yyUI5dzQdyPr"
   },
   "source": [
    "Dataloader для тестовых данных"
   ]
  },
  {
   "cell_type": "code",
   "execution_count": 111,
   "metadata": {
    "colab": {},
    "colab_type": "code",
    "id": "FMUM-n_qct8p"
   },
   "outputs": [],
   "source": [
    "test_ids, test_masks = return_ids_masks(test_sentences)\n",
    "\n",
    "batch_size = 32\n",
    "\n",
    "test_data = TensorDataset(test_ids, test_masks)\n",
    "test_sampler = SequentialSampler(test_data)\n",
    "test_dataloader = DataLoader(test_data, sampler=test_sampler, batch_size=batch_size)"
   ]
  },
  {
   "cell_type": "markdown",
   "metadata": {
    "colab_type": "text",
    "id": "S9WWV0I7e98P"
   },
   "source": [
    "Функция для вычисления вероятностей при использовании готовой модели. is_probs - выводим вероятности вместо меток классов. is_targets - дополнительно выводим ответы (например для валидационного набора)."
   ]
  },
  {
   "cell_type": "code",
   "execution_count": 143,
   "metadata": {
    "colab": {},
    "colab_type": "code",
    "id": "5ezEMimKe8sM"
   },
   "outputs": [],
   "source": [
    "def predict(loader, is_probs=False, is_targets=False):\n",
    "  model.eval()\n",
    "  predictions = []\n",
    "  probabilities = [] #\n",
    "  targets = []\n",
    "  softmax = torch.nn.Softmax(dim=1)\n",
    "\n",
    "  for batch in loader:\n",
    "    batch = tuple(t.to(device) for t in batch)\n",
    "\n",
    "    with torch.no_grad():\n",
    "      logits = model(batch[0], token_type_ids=None, \n",
    "                  attention_mask=batch[1])\n",
    "      \n",
    "      predictions.append(torch.argmax(logits[0], dim=1).detach().cpu().numpy())\n",
    "\n",
    "      if is_probs:\n",
    "        probs = softmax(logits[0]).detach().cpu().numpy()\n",
    "        probabilities.append(probs)\n",
    "        if is_targets:\n",
    "          targets.append(batch[2].to('cpu').numpy())\n",
    "\n",
    "  if is_probs and not is_targets:\n",
    "    return np.concatenate(probabilities, axis=0)\n",
    "  elif is_probs and is_targets:\n",
    "    return np.concatenate(probabilities, axis=0), np.concatenate(targets)\n",
    "  else:\n",
    "    return np.concatenate(predictions)"
   ]
  },
  {
   "cell_type": "markdown",
   "metadata": {
    "colab_type": "text",
    "id": "8Ylw02UTD7ti"
   },
   "source": [
    "Фунция для вычисления вероятностей на основе нового порога бинаризации."
   ]
  },
  {
   "cell_type": "code",
   "execution_count": null,
   "metadata": {
    "colab": {},
    "colab_type": "code",
    "id": "jn6-LXSiwCnj"
   },
   "outputs": [],
   "source": [
    "def treshold(y, probs):\n",
    "  fpr, tpr, thr = roc_curve(y, probs)\n",
    "  distances = [math.sqrt(math.pow(fp - 0, 2) + math.pow(tp - 1, 2)) for fp, tp in zip(fpr, tpr)]\n",
    "  return thr[distances.index(min(distances))]"
   ]
  },
  {
   "cell_type": "markdown",
   "metadata": {
    "colab_type": "text",
    "id": "lJDxsOyfvKFA"
   },
   "source": [
    "Выбираем порог бинаризации по валидационной выборке"
   ]
  },
  {
   "cell_type": "code",
   "execution_count": 178,
   "metadata": {
    "colab": {},
    "colab_type": "code",
    "id": "OXQ5KvCLu8-I"
   },
   "outputs": [],
   "source": [
    "val_probs, val_targets = predict(validation_dataloader, is_probs=True, is_targets=True)"
   ]
  },
  {
   "cell_type": "code",
   "execution_count": 179,
   "metadata": {
    "colab": {},
    "colab_type": "code",
    "id": "YFAsD9Gcx4Oh"
   },
   "outputs": [],
   "source": [
    "def treshold(targets, probs):\n",
    "  fpr, tpr, thr = roc_curve(targets, probs[:, 1])\n",
    "  distances = [math.sqrt(math.pow(fp - 0, 2) + math.pow(tp - 1, 2)) for fp, tp in zip(fpr, tpr)]\n",
    "  treshold = thr[distances.index(min(distances))]\n",
    "  return treshold"
   ]
  },
  {
   "cell_type": "code",
   "execution_count": 180,
   "metadata": {
    "colab": {
     "base_uri": "https://localhost:8080/",
     "height": 34
    },
    "colab_type": "code",
    "id": "TcV7tF84yUJo",
    "outputId": "7d1650c6-0308-42ef-b644-ae0ff1f62165"
   },
   "outputs": [
    {
     "data": {
      "text/plain": [
       "0.33443928"
      ]
     },
     "execution_count": 180,
     "metadata": {
      "tags": []
     },
     "output_type": "execute_result"
    }
   ],
   "source": [
    "t = treshold(val_targets, val_probs)\n",
    "t"
   ]
  },
  {
   "cell_type": "code",
   "execution_count": 181,
   "metadata": {
    "colab": {},
    "colab_type": "code",
    "id": "4pFdGI9ayinz"
   },
   "outputs": [],
   "source": [
    "def adjusted_preds(treshold, probs):\n",
    "  return [0 if prob < t else 1 for prob in probs[:, 1]]"
   ]
  },
  {
   "cell_type": "code",
   "execution_count": 182,
   "metadata": {
    "colab": {
     "base_uri": "https://localhost:8080/",
     "height": 34
    },
    "colab_type": "code",
    "id": "BdkIInkczviZ",
    "outputId": "0416a2c2-0176-40b9-a94f-97926dfe845d"
   },
   "outputs": [
    {
     "data": {
      "text/plain": [
       "500"
      ]
     },
     "execution_count": 182,
     "metadata": {
      "tags": []
     },
     "output_type": "execute_result"
    }
   ],
   "source": [
    "test_probs = predict(test_dataloader, is_probs=True)\n",
    "adjusted_predictions = adjusted_preds(t, test_probs)\n",
    "len(adjusted_predictions)"
   ]
  },
  {
   "cell_type": "code",
   "execution_count": 183,
   "metadata": {
    "colab": {},
    "colab_type": "code",
    "id": "m-JNkRDJoN7m"
   },
   "outputs": [],
   "source": [
    "predictions_df = pd.DataFrame(adjusted_predictions, columns=['y'])\n",
    "predictions_df.index.name = 'Id'"
   ]
  },
  {
   "cell_type": "code",
   "execution_count": 184,
   "metadata": {
    "colab": {},
    "colab_type": "code",
    "id": "AmKYdF1jwHd-"
   },
   "outputs": [],
   "source": [
    "predictions_df.to_csv('adjusted_predictions_df_bert.csv')"
   ]
  },
  {
   "cell_type": "markdown",
   "metadata": {
    "colab_type": "text",
    "id": "2L0Mm74903MO"
   },
   "source": [
    "Предсазания без бинаризации"
   ]
  },
  {
   "cell_type": "code",
   "execution_count": 185,
   "metadata": {
    "colab": {
     "base_uri": "https://localhost:8080/",
     "height": 34
    },
    "colab_type": "code",
    "id": "NAJo6U_P074z",
    "outputId": "41e3c99d-d8c2-4308-8f67-35877fa8ba99"
   },
   "outputs": [
    {
     "data": {
      "text/plain": [
       "500"
      ]
     },
     "execution_count": 185,
     "metadata": {
      "tags": []
     },
     "output_type": "execute_result"
    }
   ],
   "source": [
    "test_probs = predict(test_dataloader)\n",
    "len(test_probs)"
   ]
  },
  {
   "cell_type": "code",
   "execution_count": 186,
   "metadata": {
    "colab": {},
    "colab_type": "code",
    "id": "D7FMwRow1ZiH"
   },
   "outputs": [],
   "source": [
    "predictions_df = pd.DataFrame(test_probs, columns=['y'])\n",
    "predictions_df.index.name = 'Id'"
   ]
  },
  {
   "cell_type": "code",
   "execution_count": 187,
   "metadata": {
    "colab": {},
    "colab_type": "code",
    "id": "K36K1Hyi1cap"
   },
   "outputs": [],
   "source": [
    "predictions_df.to_csv('not_adjusted_predictions_df_bert.csv')"
   ]
  },
  {
   "cell_type": "markdown",
   "metadata": {
    "colab_type": "text",
    "id": "FJqNEFhS1zQ8"
   },
   "source": [
    "Порог бинаризации по всем данным"
   ]
  },
  {
   "cell_type": "code",
   "execution_count": 193,
   "metadata": {
    "colab": {},
    "colab_type": "code",
    "id": "NUExKJsz13IX"
   },
   "outputs": [],
   "source": [
    "all_data_dataloader = DataLoader(\n",
    "            dataset, # The validation samples.\n",
    "            sampler = SequentialSampler(val_dataset), # Pull out batches sequentially.\n",
    "            batch_size = batch_size # Evaluate with this batch size.\n",
    "        )"
   ]
  },
  {
   "cell_type": "code",
   "execution_count": 194,
   "metadata": {
    "colab": {},
    "colab_type": "code",
    "id": "GOpjKE8M2Gyk"
   },
   "outputs": [],
   "source": [
    "alldata_probs, alldata_targets = predict(all_data_dataloader, is_probs=True, is_targets=True)"
   ]
  },
  {
   "cell_type": "code",
   "execution_count": 195,
   "metadata": {
    "colab": {
     "base_uri": "https://localhost:8080/",
     "height": 34
    },
    "colab_type": "code",
    "id": "KSJWZqoc2dYt",
    "outputId": "b2cfce70-869a-4ad6-d815-27a6cbeabae6"
   },
   "outputs": [
    {
     "data": {
      "text/plain": [
       "0.74690425"
      ]
     },
     "execution_count": 195,
     "metadata": {
      "tags": []
     },
     "output_type": "execute_result"
    }
   ],
   "source": [
    "t = treshold(alldata_targets, alldata_probs)\n",
    "t"
   ]
  },
  {
   "cell_type": "code",
   "execution_count": 196,
   "metadata": {
    "colab": {
     "base_uri": "https://localhost:8080/",
     "height": 34
    },
    "colab_type": "code",
    "id": "96ZwodUd3X2E",
    "outputId": "a2b8fa97-c91f-4571-d2e2-609029ae209f"
   },
   "outputs": [
    {
     "data": {
      "text/plain": [
       "500"
      ]
     },
     "execution_count": 196,
     "metadata": {
      "tags": []
     },
     "output_type": "execute_result"
    }
   ],
   "source": [
    "test_probs = predict(test_dataloader, is_probs=True)\n",
    "adjusted_predictions_all = adjusted_preds(t, test_probs)\n",
    "len(adjusted_predictions)"
   ]
  },
  {
   "cell_type": "code",
   "execution_count": 197,
   "metadata": {
    "colab": {},
    "colab_type": "code",
    "id": "MQHciUTP4DGY"
   },
   "outputs": [],
   "source": [
    "predictions_df = pd.DataFrame(adjusted_predictions_all, columns=['y'])\n",
    "predictions_df.index.name = 'Id'"
   ]
  },
  {
   "cell_type": "code",
   "execution_count": 198,
   "metadata": {
    "colab": {},
    "colab_type": "code",
    "id": "02xT2_UA4FSz"
   },
   "outputs": [],
   "source": [
    "predictions_df.to_csv('allset_adjusted_predictions_df_bert.csv')"
   ]
  },
  {
   "cell_type": "markdown",
   "metadata": {
    "colab_type": "text",
    "id": "LHLGjHTxSgQF"
   },
   "source": [
    "![Image 27.08.2020 at 15.52.JPG](data:image/jpeg;base64,/9j/4AAQSkZJRgABAQAASABIAAD/4QDERXhpZgAATU0AKgAAAAgAAgEyAAIAAAAUAAAAJodpAAQAAAABAAAAOgAAAAAyMDIwOjA4OjI3IDE1OjUyOjE3AAAHkAMAAgAAABQAAACUkAQAAgAAABQAAACokpEAAgAAAAQwMDAAkpIAAgAAAAQwMDAAoAEAAwAAAAH//wAAoAIABAAAAAEAAAPeoAMABAAAAAEAAAJCAAAAADIwMjA6MDg6MjcgMTU6NTI6MTcAMjAyMDowODoyNyAxNTo1MjoxNwD/7QB4UGhvdG9zaG9wIDMuMAA4QklNBAQAAAAAAD8cAVoAAxslRxwCAAACAAIcAj8ABjE1NTIxNxwCPgAIMjAyMDA4MjccAjcACDIwMjAwODI3HAI8AAYxNTUyMTcAOEJJTQQlAAAAAAAQuNAPyIEkdi5vjKryAqYPo//iB+hJQ0NfUFJPRklMRQABAQAAB9hhcHBsAiAAAG1udHJSR0IgWFlaIAfZAAIAGQALABoAC2Fjc3BBUFBMAAAAAGFwcGwAAAAAAAAAAAAAAAAAAAAAAAD21gABAAAAANMtYXBwbAAAAAAAAAAAAAAAAAAAAAAAAAAAAAAAAAAAAAAAAAAAAAAAAAAAAAAAAAAAAAAAC2Rlc2MAAAEIAAAAb2RzY20AAAF4AAAFnGNwcnQAAAcUAAAAOHd0cHQAAAdMAAAAFHJYWVoAAAdgAAAAFGdYWVoAAAd0AAAAFGJYWVoAAAeIAAAAFHJUUkMAAAecAAAADmNoYWQAAAesAAAALGJUUkMAAAecAAAADmdUUkMAAAecAAAADmRlc2MAAAAAAAAAFEdlbmVyaWMgUkdCIFByb2ZpbGUAAAAAAAAAAAAAABRHZW5lcmljIFJHQiBQcm9maWxlAAAAAAAAAAAAAAAAAAAAAAAAAAAAAAAAAAAAAAAAAAAAAAAAAAAAAAAAAAAAAAAAAABtbHVjAAAAAAAAAB8AAAAMc2tTSwAAACgAAAGEZGFESwAAAC4AAAGsY2FFUwAAACQAAAHadmlWTgAAACQAAAH+cHRCUgAAACYAAAIidWtVQQAAACoAAAJIZnJGVQAAACgAAAJyaHVIVQAAACgAAAKaemhUVwAAABYAAALCbmJOTwAAACYAAALYY3NDWgAAACIAAAL+aGVJTAAAAB4AAAMgaXRJVAAAACgAAAM+cm9STwAAACQAAANmZGVERQAAACwAAAOKa29LUgAAABYAAAO2c3ZTRQAAACYAAALYemhDTgAAABYAAAPMamFKUAAAABoAAAPiZWxHUgAAACIAAAP8cHRQTwAAACYAAAQebmxOTAAAACgAAAREZXNFUwAAACYAAAQedGhUSAAAACQAAARsdHJUUgAAACIAAASQZmlGSQAAACgAAASyaHJIUgAAACgAAATacGxQTAAAACwAAAUCcnVSVQAAACIAAAUuYXJFRwAAACYAAAVQZW5VUwAAACYAAAV2AFYBYQBlAG8AYgBlAGMAbgD9ACAAUgBHAEIAIABwAHIAbwBmAGkAbABHAGUAbgBlAHIAZQBsACAAUgBHAEIALQBiAGUAcwBrAHIAaQB2AGUAbABzAGUAUABlAHIAZgBpAGwAIABSAEcAQgAgAGcAZQBuAOgAcgBpAGMAQx6lAHUAIABoAOwAbgBoACAAUgBHAEIAIABDAGgAdQBuAGcAUABlAHIAZgBpAGwAIABSAEcAQgAgAEcAZQBuAOkAcgBpAGMAbwQXBDAEMwQwBDsETAQ9BDgEOQAgBD8EQAQ+BEQEMAQ5BDsAIABSAEcAQgBQAHIAbwBmAGkAbAAgAGcA6QBuAOkAcgBpAHEAdQBlACAAUgBWAEIAwQBsAHQAYQBsAOEAbgBvAHMAIABSAEcAQgAgAHAAcgBvAGYAaQBskBp1KAAgAFIARwBCACCCcl9pY8+P8ABHAGUAbgBlAHIAaQBzAGsAIABSAEcAQgAtAHAAcgBvAGYAaQBsAE8AYgBlAGMAbgD9ACAAUgBHAEIAIABwAHIAbwBmAGkAbAXkBegF1QXkBdkF3AAgAFIARwBCACAF2wXcBdwF2QBQAHIAbwBmAGkAbABvACAAUgBHAEIAIABnAGUAbgBlAHIAaQBjAG8AUAByAG8AZgBpAGwAIABSAEcAQgAgAGcAZQBuAGUAcgBpAGMAQQBsAGwAZwBlAG0AZQBpAG4AZQBzACAAUgBHAEIALQBQAHIAbwBmAGkAbMd8vBgAIABSAEcAQgAg1QS4XNMMx3xmbpAaACAAUgBHAEIAIGPPj/Blh072TgCCLAAgAFIARwBCACAw1zDtMNUwoTCkMOsDkwO1A70DuQO6A8wAIAPAA8EDvwPGA68DuwAgAFIARwBCAFAAZQByAGYAaQBsACAAUgBHAEIAIABnAGUAbgDpAHIAaQBjAG8AQQBsAGcAZQBtAGUAZQBuACAAUgBHAEIALQBwAHIAbwBmAGkAZQBsDkIOGw4jDkQOHw4lDkwAIABSAEcAQgAgDhcOMQ5IDicORA4bAEcAZQBuAGUAbAAgAFIARwBCACAAUAByAG8AZgBpAGwAaQBZAGwAZQBpAG4AZQBuACAAUgBHAEIALQBwAHIAbwBmAGkAaQBsAGkARwBlAG4AZQByAGkBDQBrAGkAIABSAEcAQgAgAHAAcgBvAGYAaQBsAFUAbgBpAHcAZQByAHMAYQBsAG4AeQAgAHAAcgBvAGYAaQBsACAAUgBHAEIEHgQxBEkEOAQ5ACAEPwRABD4ERAQ4BDsETAAgAFIARwBCBkUGRAZBACAGKgY5BjEGSgZBACAAUgBHAEIAIAYnBkQGOQYnBkUARwBlAG4AZQByAGkAYwAgAFIARwBCACAAUAByAG8AZgBpAGwAZXRleHQAAAAAQ29weXJpZ2h0IDIwMDcgQXBwbGUgSW5jLiwgYWxsIHJpZ2h0cyByZXNlcnZlZC4AWFlaIAAAAAAAAPNSAAEAAAABFs9YWVogAAAAAAAAdE0AAD3uAAAD0FhZWiAAAAAAAABadQAArHMAABc0WFlaIAAAAAAAACgaAAAVnwAAuDZjdXJ2AAAAAAAAAAEBzQAAc2YzMgAAAAAAAQxCAAAF3v//8yYAAAeSAAD9kf//+6L///2jAAAD3AAAwGz/wAARCAJCA94DASIAAhEBAxEB/8QAHwAAAQUBAQEBAQEAAAAAAAAAAAECAwQFBgcICQoL/8QAtRAAAgEDAwIEAwUFBAQAAAF9AQIDAAQRBRIhMUEGE1FhByJxFDKBkaEII0KxwRVS0fAkM2JyggkKFhcYGRolJicoKSo0NTY3ODk6Q0RFRkdISUpTVFVWV1hZWmNkZWZnaGlqc3R1dnd4eXqDhIWGh4iJipKTlJWWl5iZmqKjpKWmp6ipqrKztLW2t7i5usLDxMXGx8jJytLT1NXW19jZ2uHi4+Tl5ufo6erx8vP09fb3+Pn6/8QAHwEAAwEBAQEBAQEBAQAAAAAAAAECAwQFBgcICQoL/8QAtREAAgECBAQDBAcFBAQAAQJ3AAECAxEEBSExBhJBUQdhcRMiMoEIFEKRobHBCSMzUvAVYnLRChYkNOEl8RcYGRomJygpKjU2Nzg5OkNERUZHSElKU1RVVldYWVpjZGVmZ2hpanN0dXZ3eHl6goOEhYaHiImKkpOUlZaXmJmaoqOkpaanqKmqsrO0tba3uLm6wsPExcbHyMnK0tPU1dbX2Nna4uPk5ebn6Onq8vP09fb3+Pn6/9sAQwACAgICAgIDAgIDBQMDAwUGBQUFBQYIBgYGBgYICggICAgICAoKCgoKCgoKDAwMDAwMDg4ODg4PDw8PDw8PDw8P/9sAQwECAwMEBAQHBAQHEAsJCxAQEBAQEBAQEBAQEBAQEBAQEBAQEBAQEBAQEBAQEBAQEBAQEBAQEBAQEBAQEBAQEBAQ/90ABAA+/9oADAMBAAIRAxEAPwD9/KKKKACoJ5fKjLdzwPrU9UL4/Kv1NNCZnkkkknJPU0lFHHc4HqasgKK+a7n9oe51TUL2L4aeB9W8a6bpkrQ3GoWhjhtjIhw6wGTJlIPHy4z2yMGvV/h38R/DnxO0Ftc8PmWIwStb3VrcJ5Vzazp96KZDnDDqCCQRyD1wAd7RRRQAUVj6h4h8P6Rcw2erapa2Vxc/6qOeeOJ3ycfIrMCeeOM1sUAFFFFABRRVa4vbOzMS3c8cBncRxiRwm9znCLkjLHBwBkn0oAs0UUUAFFFFABRRRQAUUUUAFFFFABRRRQAUUUUAFFFFABRRRQAUUUUAFFFFABRRRQAUUUUAFFFFABRRRQAUUUUAFFFFABRRRQAUUUUAFFFFABRRRQAUUUUAFFFFABRRRQAUUUUAFFFFABRRRQAUUUUAFFFFABRRRQAUUUUAFFFFABRRRQAUUUUAFFFFABRRRQAUUUUAFFFFABRRRQAUUUUAFFFFABRRRQAUUUUAFFFFABRRRQAUUUUAFTwSmJwex4IqCigDoKKZH/q1+gp9ZmgUUVl6tq9jolhLqeoyeXBCBk9SSTgADuSeAKANSivHNI+L2k3uqy2d9E1rbSMq28pAOARg+ZgnGT0IyMdcda9i6imAtFFFIAqpd3ltZQme5cIg7nv7AdzVokAZJwBXi3iPXYriWW+u5lgs4AcNIQqKg/iJJwM9ST9KAOsuvGuGK2VvuA6NIcZ/Af41DB42nDD7RbKV77CQf1zXzjrXj2xt9UstPv7e9W11eJ20w2rxxveyRHEgbJ82NAMbTtG7JOcDB4S68ceKfC1jp/jHWrC+03Trq9FtdWV2wnEMbPsLB8symMHfkkAgEEDOQAffWnarZ6nGXtnyR95Tww+orTrwyyvJbK4S7tXG5ccg5BB7H1BFe0WV1He2sV1F92RQcenqPwoA/9D9/KKKKACqF791fqav1Qvfur9TTQmZ1YviWwu9V8OatpVhJ5N1e2lxBE+cbJJY2RTntgkHNbVFWQfKHwA+J/w+8N/DDTfBXiTUrXwzrfhWN7TUbK+kW2lSaNyXkAcjeJCd2Vzkn6ZPgB4h0Lxv8Tvin438K3EbaRf3VhDFGCA8rwQkPcmM4YLIT8rEDdz3BFe/698PfAfim+j1PxL4d0/VLuIALNc20csgA6DcwJIHYEkCvKfiN8H9SOu2XxK+D8sGh+L9OVIniI8uy1G1BAMFwqjAwB8rAZAAHUAgA+hqKjhMxhQ3AUSlRvCElQ2BkKSASM5wSAcdRUlAHxD4v8BXOh+L/G3iXxl4Cj+JOgeIJTKt9bSxy6jpsCxhTAsMhyBFglTEQe554EusfGCLR7TwL4F+GOu3Flol7o51D+17iwl1i9FsjmGOEQouS+5SHZhhQAM56+ua18Bbe71fWdQ8M+LtZ8L2viOVp9RsrGWPyJ5XGJHTzEZo2ccMVIz6Vev/AIEeG0svDsfg/Ur7wpfeFrZ7OyvbF0Mv2aQ7pI5hKrLIrN8xyMhiSMZoK0PL7X4zeM7n4V3Oqavqlj4c1a01f+zBqd/YXMaXdvgMk9rYlfMaV1PEZG0EHJHQcifj18QLbwL8QWt9QXUdT8Kz6YbHULjTTYPPFfyKpE1pIPlxyFYAZBBHYn3q9+BWl3vhrTtHbxHq51XStROq2+ryzrNeJeOCGcCRTGEIJHlhQoHIGck5Tfs56Hc6d4os9W8RapqVz4uNi97dTtCZS9g4dSmIwoDEAFcYAACjigNDF1XXvjHZeI/Dfwrh8R2J1/xDHd6nc6p9gXyrOzgCgQQW5bEjbiQHckkckDrXK/FmL4pw+H/A9l4rl06fX4PGNpHY3sSMIJ4iknkzTQggowJO5FYg4GCM17/4++GGn+ObnSNYh1O70HXdBLmy1GxZRNGsoCyRsrqyujADKkdRx3zztp8CvD9vpuk2U+rahe3Wm60mvy3dxIsk93eICP3hK7VQg42oFwBweTQGhT+HHiXx7a/ErxL8MfHep2+uvptjaaja30NsLRjHcsyNG8aErlSuQQc46k5497ribPwNp1l8QdT+IyXEzX2p2EGnyQnb5Sx27s6suBu3EsQckjA4ArtqCQooooAKKKKACiiigAooooAKKKKACiiigAooooAKKKKACiiigAooooAKKKKACiiigAooooAKKKKACiiigAooooAKKKKACiiigAooooAKKKKACiiigAooooAKKKKACiiigAooooAKKKKACiiigAooooAKKKKACiiigAooooAKKKKACiiigAooooAKKKKACiiigAooooAKKKKACiiigAooooAKKKKACiiigAoozimF6AH0VEZAO9J5o9aAJqKh80etHmj1oAmoqHzR60eaPWgDo4/9Wn0H8qfVWOYeWn0H8qf5wrM0J68Z+NF4seh2Vju+ee4349VRTk/gSK9f84V5F4v+HWo+KtXfUn1cRxBQsUTREhFA5AIYA5OSTjP5U0JnzUeRX294dvE1DQdPvI23iWCMk++3BH4HIr5h0n4a+INR1WXTrlWsoYVJad0yhI4AAyMknuDjHNe++CvDl94U0+XTrrUPtsLNviUJsEefvAEkk5POOgOfU1TBaHeUVB5wo84VAyrqzNHpl26dRE/8jXzZr+h6nqk0Vxpeox2MsMbrG0tql2I3cj96qSMFEgAIBYNgE4Ayc/TEpSaJ4X+66lT9CMGvELuOSyuZLSYEPGSD7jsR7Ec0AfEnxD8D/tGeHNYsdf8ACt3p/ifR9DMlzDAsEVldq7KwkLgKRICGY4Vhkkkruwa5LXv2k9V8b+EYbDxLoeoLFPC8n2iSJTbodpAJ2ZZhyFGQMlsjgHP6ArKu4Z6ZFfl94zsJNL1dbS3lm0yC2W5uIpN7FDFI7mNo1LbcgMQARjnjvQB99/BnUJ9T+Ffhi7upGlmFkkTO2dzGEmMk55ydvOea+n/CLM2jgN0WRgPpwf5k18h/s924svg54Ws1d5XED5Lj5y7TSFgQD1ySK+ztEs/sGmwWz/fAy3+8eT+VAH//0f38ooooAKqXcZaPcOSpzVuimBz9FaUtmrZMZxnt2qD7FL6j8/8A61VcixUoq39jm9vz/wDrUfY5vb8//rUwsVKKt/Y5vb8//rUfY5vb8/8A61AWKlFW/sc3t+f/ANaj7HN7fn/9agLFSirf2Ob2/P8A+tR9jm9vz/8ArUBYqUVb+xze35//AFqPsc3t+f8A9agLFSirf2Ob2/P/AOtR9jm9vz/+tQFipRVv7HN7fn/9aj7HN7fn/wDWoCxUoq39jm9vz/8ArUfY5vb8/wD61AWKlFW/sc3t+f8A9aj7HN7fn/8AWoCxUoq39jm9vz/+tR9jm9vz/wDrUBYqUVb+xze35/8A1qPsc3t+f/1qAsVKKt/Y5vb8/wD61H2Ob2/P/wCtQFipRVv7HN7fn/8AWo+xze35/wD1qAsVKKt/Y5vb8/8A61H2Ob2/P/61AWKlFW/sc3t+f/1qPsc3t+f/ANagLFSirf2Ob2/P/wCtR9jm9vz/APrUBYqUVb+xze35/wD1qPsc3t+f/wBagLFSirf2Ob2/P/61H2Ob2/P/AOtQFipRVv7HN7fn/wDWo+xze35//WoCxUoq39jm9vz/APrUfY5vb8//AK1AWKlFW/sc3t+f/wBaj7HN7fn/APWoCxUoq39jm9vz/wDrUfY5vb8//rUBYqUVb+xze35//Wo+xze35/8A1qAsVKKt/Y5vb8//AK1H2Ob2/P8A+tQFipRVv7HN7fn/APWo+xze35//AFqAsVKKt/Y5vb8//rUfY5vb8/8A61AWKlFW/sc3t+f/ANaj7HN7fn/9agLFSirf2Ob2/P8A+tR9jm9vz/8ArUBYqUVb+xze35//AFqPsc3t+f8A9agLFSirf2Ob2/P/AOtR9jm9vz/+tQFipRVv7HN7fn/9aj7HN7fn/wDWoCxUoq39jm9vz/8ArUfY5vb8/wD61AWKlFW/sc3t+f8A9aj7HN7fn/8AWoCxUoq39jm9vz/+tR9jm9vz/wDrUBYqUVb+xze35/8A1qPsc3t+f/1qAsVKKt/Y5vb8/wD61H2Ob2/P/wCtQFipRVv7HN7fn/8AWo+xze35/wD1qAsVKKt/Y5vb8/8A61H2Ob2/P/61AWKlFW/sc3t+f/1qPsc3t+f/ANagLFSirf2Ob2/P/wCtR9jm9vz/APrUBYqUVb+xze35/wD1qPsc3t+f/wBagLFSirf2Ob2/P/61H2Ob2/P/AOtQFipRVv7HN7fn/wDWo+xze35//WoCxUoq39jm9vz/APrUfY5vb8//AK1AWKlFW/sc3t+f/wBaj7HN7fn/APWoCxUoq39jm9vz/wDrUfY5vb8//rUBYqUVb+xze35//Wo+xze35/8A1qAsVKQ8Crn2Ob2/P/61Me0mHpx7/wD1qAsZ8km2s57l2YrEpc+igk/pUt+ksYPIGPf/AOtV3wuQ9nLIcFvNKkj0AGKVx2MUyXef9RJ/3w3+FM868/595P8Avhv8K9EopXHY87868/595P8AvhqPOvP+feT/AL4avRKKLhY87868/wCfeT/vhqVZbxiB5Egye6N/hXodFFwscot1cABfKkwBj7p/wpftdx/zyk/75P8AhXVUVIzlftdx/wA8pP8Avk/4Ufa7j/nlJ/3yf8K6qigDlvtlz/zyk/75NJ9ruP8AnlJ/3yf8K6qigDlftdx/zyk/75P+FH2u4/55Sf8AfJ/wrqqKAOV+13H/ADyk/wC+T/hWDrOmf2uokETxzoMBthwR6Edx6HtXpFFAHzNr2neJ7GxnS1sJpJ5AI4mjjZwHkIUMccgKTk56DNfPfxO+B3ibUjCfCekzagiKkSICYJFRCCNzMAMMOCM4GMk8Yr9HaKAPnP4J/D7V/AvgfRNJ8UkXOr2cTGUxqTEsjuznBwASN2AQMccZ617pHdI3WtiuO1e7W31JohjlFY/iSP6UAf/S/fyiiigBjuIxlulZ9rqlreXU1nASXgClsjjDZxz+FWLw/um9hXF+FiTr+r/7sP8A7NQB39FFFABRRRQAUUUUAFFFFABRRRQAUUUUAFFFFABRRRQAUUUUAFFFFABRRRQAUUUUAFFFFABRRRQAUUUUAFFFFABRRRQAUUUUAFFFFABRRRQAUUUUAFFFFABRRRQAUUUUAFFFFABRRRQAUUUUAFFFFABRRRQAUUUUAFFFFABRRRQAUUUUAFFFFABRRRQAUUUUAFFFFABRRRQAUUUUAFFFFABRRRQAUUUUAFFFFABRRRQAUUUUAFFFFABRXl3xd+MXw++Bvgu78e/ErVU0vSrXCrwXlnlIJSGGMfNJI2DhR2ySQASPwz+Ln/BXf4ra5qM9p8GvD9j4Z0pSRFc6iv22+cDoxQMsMeeu3D46bjTsK5/Q7RX8sR/4Kc/tlEn/AIrC0HsNJsf/AI1R/wAPOf2y/wDocLT/AMFNj/8AGqdguf1O1DLwpr+Wj/h5z+2X/wBDhaf+Cmx/+NUjf8FOP2yiDnxhaf8Agpsf/jVFguf0ya3KVib8ak8CyGXSp2Jz/pDj/wAdWv5hLn/gpP8Atf3Q2zeLbQg9caVYj+UVftf/AME3fi748+NfwC1Dxh8Rb5NR1WPX7y1EkcEduBFHDbso2xKq5BdjnGTmizGfoFRRXifxQn8Tf2zpdvp39pTaOkE8l5Dok0MeoiXcghkKyFWaEDeCEOSxXIIGKkD2yivmXTvin/YthZXct7d+I3i0u7IZ0Fm8tymoQ2ccNxAyApOryLG75AGGOwgjG9d/FbxZp2py+G73w5bHV477T7JBFek27nUI5pBJvMIZVj8ohgUJPJAPGQD3yivna7+OF3aQ2mmT6bbQa5LdahbSrLcSm0T+zXVJHWSOB5GEhkTYDGMZO4jHNLxB8XvEut+D9YvfBujG3nsdBOo3bXU5gmtXnWYRpEhjYO6eUzkttUgLjluAD6WorzbXten02z8HuzSs+qaha27mNwmfMgkYlwVbcpK8qNpzg54wec8D/FHXPE17oC6vokWn2nieyuLuzeO5M0i/ZTGHWVTGoG8SBlKs3AIIBoA9sorw/wAdfFybwb4iGlrZ211bQtZrOBcOboi7lEe5Yo45FRU3BiZnQMMhemTd0j4nX2ofEG48GXunw2CxzTwxLNO8d3IkClhOkUkapLFIBkGKR2UEFgOdoB7HRXzV8fvHmqaDJpfh/wAOawNI1FYrjVnYDJmjsgPKtSADgXMrBSePlVsHNbt98WtZvJBP4O0e31OxTQrfXnlnujAWgmMmIY1Eb5kIjJBYhQcgkcUAe8UV4zb/ABC8UX3izTNJsdLsjpOqaedVjuZLqRZhZq0StuiEJHmfvQQobBwcsK4aw/aGmv8ATbvWYNHjlt5NOu9Qs1jmlLqLZA6R3ZaFY4zKpypRnAIKnJwSAfT9FeKeHPi/H4k8UeHfDtrppQaxpcl9cyGTJtZ4yFNsVx8zAhwxyMYHHPHtdABRRRQAV5L4tuGj8ROgP/LCM/q1etV434x/5Gd/+veP/wBCagD/0/38ooooAp3n+qb6f41xnhX/AJD2sfSL/wBmrs7z/VN9P8a4zwr/AMh7WPpF/wCzUAd/RRRQAVyVt458GXmst4dtNbs5dTQlTbLOhl3DqoUHJI7jqO9TeNP7T/4Q/XP7F3fb/sVz5G3O7zfLbbtx3z0968J8QjwOPgVZHw/9n877Pa/2YYtvn/2hlfL24+bzfM+/3+9njNfRZfgKeISc73clHTpfqz5fNMyq4aTVO3uxcnfrbov89T6dor5v8SeIvFGma9qfw8jv5U1HxJc2UumTA5eC2n4vNhwcCDynYem9cVzN94l8fXmq63rVhc3ED6RqxsoVkvrWCwSKKRUEc8MpEjNKpJ3ZBJYFcAc9tLIKk0pc6V9fvtb8Xb5HBW4lo024+zk2nZ28r3/BJ/NH1tWfqWpafo2n3Gq6pOtraWiGSWWQ4VEUZJJ7ACvE7DS/E3ii88dT2/iG+t7m0vLmy0+FJQkEBNvGysQBliHbIycAZwOTXH3Xj3X/ABb4X8S+KdNu5bK30Pw+YpEU4A1WVS82QRgtAFCjOcFjUUskc5251ZWv5Xtb77lV+II04Num03fl215b369LXPqeOSOaNJYmDI4DKQcgg8gj61LXyb4k8ReOdQ1vxI+nXV1Zjw6lutsY7y1tbVN0Cy+dcxzkNKrsxGeFCggfMDVrxf4k8ex6reeCtKvng1fxClnqFgyMHEEUcDNdxxuMjaJIABzyJeCc1tHh+pLl/eR1V/RaPX0Tv8jGfE9KKk3Slo7bbvVaerVl6o+qKK8g+Fnia98cvrHjAzSf2XcPb29nA2QiGCFTOwB7mV2Un/YFev183i8NLDVXRqbrf/L5bH1mCxcMXRjXpr3Xt6X3+e6CvE9d/aQ+AXhbxZN4F8S/EPQtK8Q28iRS2N1qEEE8ckih1V1dgVLKwIB6givbK+APhz/wq7/hNv2nf+Fr/wBk/wBgnxRD9s/tXyfI+zf2FYb9/m8bcZ/XHNcJ3n30jpKiyRsHRwCCDwQecjFQS3tnFdw2MtxGlzcK7RRMwDyBMbiqk5IXIyQOMjPUV+N/gnxV4vu/g58Jfhro2reL4rxdD1fWrex0nUbLQydAi1B4tMur/VNRPmKkVsYwsMasWBDSDaADu/CvUNc+Mnj79lD4oeOfFWpx65q/hrxA0zW14sEFzPp0tqPuIoU/aQM3AXAlCrgALQB+v9FfkDpHxp+IMnxg+H3jvw14g8Tah4Y8c+N59CMus3+mw6Zd2JN1E0NlosG+4iFu8S7bhyjnbmQESAD9fqACub1rxb4X8N32k6b4g1a1066164+yafFcSpE91cbGk8qEMRvcqpIUZJA6V0lfAP7bPw60z4seMPgV8P8AVbq40+LVfEmo+Vd2jmO4tbmDRb2e2uYmGMPBNGki54JUA8ZoA+4H8SaBF4ji8IPqMC63Pavex2ZkAne1jdY3lCZyUV2VS3QEgd622YICzEADkk8Yr8adR+PPxO0f4o+LdW1/TVHxa+Efws8RQahEIWNrd3UF5aTWuoQKMb7e6ixOFGCp3RnBWvZrNfEvhzxt4L+HmlfFjXPHulfFfwprN3qsst5FLPaPaW0UsOp6fJDGPssczytEEAMfK7fmUkgH6UWd5Z6haxXthPHc206h45YmDo6nkFWUkEH1GazdU8SaBot/pel6vqEFnd63O1tYwyyBHuZ0jaZo4gTlmEcbOQOdqk9Aa/G3wT4g8feFf2ef2afhj8PNX12+sPiFZ3VzfyWOr2llfrJY2UTx6ZZXt5iK2jLFnMY/elY2VCMtjb1zUviF4o0n4LaH8SfGcug3dp8TtU0e11mLUtPvtUhsDpd2kcFzd2vmWy337xrUttDAlXK7iCQD9lKK/JjUfid8RfDmra/8BrH4jahdeGovH+h+Gh4wuJYZdTsbLVNNe+ubM3mzyzcLcIlukzqWTzgD84WrHif4o/Ef4f3njr4K6N8QL6/8P2Hinwjoy+LL54rnUNEtvEQc30Ml0VEbywlEEUkqkxfaV3klVoA/ULX/ABHoHhTTTq/iXUINLsRLDCZriQRx+bcSLDEm5jjc8jKqjuxAHNbtfjv8c9e8WeEND+K3wfsfEGo/EjR/Cl14C1ewbUrmOfUIL++1qMPpkl4VUN5ggSWMyDdGJDklStd/ZePvi545+A3irxZaeOTo3xP1PxNa6VqegXN9DpA0UwXIV9E02S4WSOO6nt8mK7dW89nEi4XaFAP1Jor5O/ZJ8YP4i8KeJtAvtS8QXeqeFtalsLy08TSW1zqGnSGGKYWxvLRnjuowsm9JSxbDbW+6K+saACvEYv2kf2f5fF0vgJPiJoI8Rw3L2b6e2owJci5RtjQ7GYHzAw27RznjGa9ur8t/Ch+Cw/Zq+On/AAuT+zP7I/4S7xuZReeX5u77dN5Xk5+fzt2PK2fPv27ecUAfpDD4x8LXPi268BwapA/iGxtIr+axDjz47Wd2jjlZeoVmRgD6iunr8krDxp8eLLwlf+HG8WxeGvFtt8JfBk4m1i4itYoNXu7yeC5Lzzqyx3U6qIldwwWUqSDg5dF8X/Gnh7wTrXw3TxT4n8Na2/i7w3oms3HiO5sdTu/DlhroIa4tNTgLwzJOYysTy8wvICVACigD9a6K/OXxlrupfB+fQvD2ifGO98UWFv8AEHwxZ6hHqFzDNe6VZ6hHIJLS9vE2mSK5cK6CVVZQQuSCCOb8f/E74leK/EPxv0D4Z+OIoxpninwrpdhF/alvYPJFLYRSahp2mXk6yRQ3k7BwpKsQ4YcEZAB+n1cxqXjHwto/iTRvB+p6pBa634hW5fT7N3Amuls1V7gxr1YRqylvQEV+ZbeOviP4n+Edn4T8A+LPEH9t6V41n0nWNJ1nV9N07xRLDDafaX0zT9VHmW9xJH5iTCUNveIFDIpBNQ2nx78WWmnfDvVvBesa34hn0jTPiQLqx12OA38+o6BBG1vZ3bWmY53gk/drNExEo+YksTgA/WGivy78HeLfGng/U/gz4g034qal48l+L2lajPrVndzQz20Rj0qTUBfafHEi/ZI7e4RYSgJQrIFYGQAmt8CtZ+Kehj9mbxzrvxF1zxRL8WrWa31uy1KWKSyI/sibUIJLeJY1MUkTwqpcMTICxckmgD9TaKKKAMq41jSrPUrLSLu7jivtREptoWYCSYQgNIUU8naCCcdM81q14D8QZoYPjn8LZJ3WNBBr4yxAHMEHc1yXxt8UeLbnxz4V8C+GJL0adqlpe3kraXe29hc3Ets0arEtzcHaFUSF2VPnYAfwg169PBOo6ai/iTf3N/5HiVsxVJVHKN+WSWnml/mfVdFfCh8X+OdZ8NeFfCmqarqt1rs8uqybdFv9Pie7srGURpJd6iG8qNotyrIsOSzgkgAGofA/jTxd8TLP4deFvEfiu70W31Oy1u4uL2yniiur+fTL0W0MIuVXacREyuY1HmYzgLmux5TNR5nJdf1/yZwRzym5KCg7u3420/E+3NN1jStZS4k0m7ju1tJ5baUxMH2TQnbJG2OjKeCO1atfmx4e8TeLbHw3p3hHw3ql3qUPiPxh4jjudRsbm2sru8Fq5eNY7mXEUbTnLEqAzBSExmu/stV+JWsWnhTwfqniW8037X4qvtNa5tb21ur86fFYyTiG5mgDRidHBUtjcAFYjdzWlXJ3Bv31bX7lf/Ixo58pxX7ttu3pd20v8z7UtNX0u/vr3TbO6jnu9MZEuokYF4XkQSIHAOVLIQwz1BzWpXwRe6Q9r43+Ml3b+PtQ8OzeGIdMuYSlxGDJJFpke2e78xCZ1YoFKkhSc8ZIx0Vl4l8T/Ey/v28S+LLvwMdE8NaVqsUNlKlsGnvrdpp7mfzFYyRRSKI/LOFGDu5IrOWV/ajLSy79Uv8AM2hnLu4Shrdparo392x9q0V+fviL4k+NPGXhnSNSgv8AWbLWbTwtBrN9Dp1zaaXZW8twHMdzPLcZkkDeWSIVVlA68kV2vhTX/GnjvxRYa3e69qEUVh4N0TXTp1m4hgu7+fz3YSAKWKOUCsikBgQD0FKWUzhHmnJaDhnlKc1CEHrt/XkfXGo6xpWlPZxaldxWr6hOttbiRgplnZWYRoCeWIVjgc4B9K1a/PSxe91aP4I+OdV8cXeuah4p1u2u7rT5ZY2tkla1nZhbwqoMIt2YxMATnPzfNiv0LrixmE+r8qvd6/g7Ho4DHPFcz5bWt+KuFeffEH4q/DX4Uafa6r8TPE2n+GbO9lMEEuoXCW6SyhS5RC5GWCgnA5xXoNfDH7XEnimH4nfACXwXpFlrusr4k1P7PZajcm0tZT/Yt4H8yZYpyu1csMRtlgBgZyPKPYPrvwd448G/EPRI/EvgTXLLxDpUrFVutPuI7mEsuNy74ywDDIyCcjPIFaGu+I9A8MwW1z4h1CDTory6gsoHncRiS5unEcMKk9XkchVUcknAr8kvCHjTxZodt4t+KmoXFr4A1zXPi14Z0XxFoWnOUt9Lgs5YrKXz5nVBIL+JllaYIqOjJg5Bx2vxY8f3fjP4r+L9Aj13+1dE8N/Ej4W29pCkolgtJZriKS5VCuQGL4LjJwwwcEEUAfqpRX44eFviv+0d4r8Tp8UoL7UbGY+OJNFks7zXtItPDyWEGpNZNpx0yZluhdtAu5JD++eYhlBjYA+paT498faB+0XDqvj/AMX6xdaDrvjG60TR7vRNR0/UPDkkTiSO30m900Bbq0uoiuJJwHPmoSzhWwAD9PaKKKAPMfiJ8ZvhP8JPsP8Aws/xdpnhf+0/MNr/AGjdR23nCHb5mzeRnbuXOOmRU3w9+L3wu+LMN7c/DHxVp3iiLTWRLltPuEuBC0gJQOUJwWCkjPXBriv2pbS0uP2b/ilLcwRyvF4V1soXUNtP2KXkZBweBzXx38VvFfxA0vR/2fvhV8P4dRsrDxlokt1fvoV9Z6NqN3Lp1lamG1ivbzEcYbzWlkVf3rrHhSAHNAH6g0V+TK/Ef4sax4A8GfDbxHr/AIhvfFOo674ggtIfDWr6MNQv9L0jbtXU9ZVxb28tqZlScQgSyMvK8k1nfDHx78WfjPpXwP8AB2sePdX0ZdY1fxxpuqXumXlu97e2uiM62itdxxGJ5FCqDcRoN4BZcFsgA/Xeivya+GPiT4tada/Cn4kax8Std1651f4gah4KvLG8e3/s+40u1k1C1jd4Y4lzdA2iSNPu3MxYH5SAP1loAKKKKACiiigAooooAKKKKAOY8VeMfCngXShrnjHVrXRdOM0VuLi7lWGLzZ3EcSb3IG53IVRnknFHizxh4V8B6FP4n8aava6HpFq0ay3d5KsMKNK4jQF3wAWdgoHckAV8lft9+ENP+IPwP0vwHqztFZeI/FnhrTpnQkOkd3qMUTMpHQqGyPpX56/tB/EXxX8d/gQPhN4kmkj1f4K6bc3/AI3ZMgS61pt2NL0yMnut0RLfY6FVT1FAH7y9RWVrWuaN4a0m61/xFfwaXptjGZbi5uZVhhijXqzyOQqgepIr84Pi98Tfij4Q+JXjL9nLSvEF5Fr3xT1LQ7nwbe7t02n6ffkw60IWx8q2KWksyD+Hzl9s/S37VvhjwZ4n+Dq+F/GfiuPwjDPqmkCx1K8iF1bDUoLuOWzju4nwksUsqKsiyMqsDywODQB638P/AIsfDL4r2VzqHw08U6d4nt7JxHO2n3Mdx5TkZAkCElSQMjI5HIrrdc1zR/DWjX3iLxDexadpemQyXF1czuI4oIYlLPI7HAVVUEkk4AFflX8S/iX4z8GWfxk0/XdK0LSvizongH+1LfxV4QllCS6ZDc7FjuYJQXtpo5CXQM0gKFirAKRXS/tQ/FCTxBf/ABP8GaF4kXUtDT4Ja7qs1nbzJLB9rllVIZ3CE4doiwUk8qcgYINAH6fW9xBdwRXVs4lhmUOjqchlYZBBHBBGCDVivybfxR4w+FCeDYvCHxU1TxxD4+8Ca/qV9Fd3EE8dlLpulLdWuo2IhjT7LF5xEIQZQ7l6spJm8B+G/in4h8UfCfwdq/xk8XvafEvwHL4j1eSK6t450v7RbLy/scnkFreMm7O9VyX2LuJJYkA/TZ/GXhaLxfD4Bk1SBfEc9k+pJYFx9oazjkWFpwvXYJGCk+pxXUV+SXw8+NHxd8TaFoWo3XjS30zWLj4Qa3fDUtUMUNgmr2mqxWcGoXRK7FIABckbeSdpHFWfDPjz4oaR4A+JngNPGus+GfiPb6HpV/APF+rabf6fG17cm3N1YaxCpjRbsgxRRzRqI5NjKmCRQB+nvifxl4W8GQ2Fx4r1SDSotVvbfTbVrhwgmvLttkMCE9XkbhR3NdPX5NaL8T/Fuk29j4HfXfFNp4g0n4i+C7TVNN8RXVnqc9paatJ80cOpWhZbm3uRGzANtdCCNqggUyb4mfEf/hBLr9pT/hYmoJ4ug8dHQF8G+bH/AGX9mGsf2YNKNls8w3TW3+kedu8zcQwxHxQB+tFFfk5rviD4r2GgfEP44wfEjXRdeDvic2jWOj+bEdJOltq1rZyW00BjLSBo532sXzHhduMHPR33j3x94Z/aLfXPHPjDWJ/DF/4zi0LSrrQNS0+90KJJwsMej6npRC3UFz5pIkuAHZWIbKrkEA/UCiiqWomUWFyYP9aIn2Y67tpxj8aAP5Wf+CgH7RGqfHj49avY2t2zeFPBs82maVCpPllom2XFzgcFpZFOD1CBQO+fhqrN81w97cveZNwZXMueu8sd+ffOc1WrQzCvVbD4F/GnVfBj/EXTPA2s3XhdI2lOpR2UzW3lJndIHC4KDnLD5Rg5PFeUSYMbAnAIIJ9BjrX9IfhVfin8Q9X8E+FLuDxf8I/Hdh4XigsNR0gw6x4HurZISQ1xGQ9uruAMKwV1+VQxwpINI/m+zkexrqLvwP4xsvCFl4/vNGuofDWpXD2lrqLREWs1xECXiSToWUK2QORg+hr9gvBX7Mfh3xTdfsp61ZeArXXNM1R9ZXxhe2loJbS5kgYhHvHUbNu9WEe7Az8o7CvVLXR9N0b4BaB4f0n4R2vxI0qD4sa9pa6bJBLLbaZZSandwGZYosgeXH+7RnBRMgntQOx/P21f0p/8Eh/+TWtT/wCxn1D/ANJ7Wvmnxz8Jf2efgTo3xa1u3+Hml+L4fD3j7SdO0+C+LMLWDUba1eW38wEs0cTSyFY2yN23dnBB/T/9lfwj4I8A+HfGXgr4f6ImhaVpXiS5Xyo5GcPLNaWtwzgOTtA8wIqg4CqO+aTGkfUVcX4k8DaL4nvLXVLiS6sdRs0eKO7sriS2nEUhBeMshG5CVB2sCAQCMHmu0r59+N+qa34ak0bxB4GaSfxYxnt7fT1BkS8tim+cyRhgP3AAlVuu4CPP7zBgZ1GqfCbw3/wj9xpuiWcQuvsVxaRG7eaVGFzMtxI0pDiRneVA5l3bw3IOeKy/BnwnXTtQvde8UET31zeWt5Eq3dxc+U9nC8UbNPPteRiJGyCoUDAAOMnntF1zUYbPRPCnw81y3kt30aXWpNV1JHuXvGMgByvmRlcuzNKcnYCqhRWXrfxY8cXeg/8ACSeHfslhFaeGINenhnga4LyztIBEHEke1SIyQ2CT1x2oA9evfhj4WvG8+EXNjdi6ubtbm1uZIZ1kvCPPAdWyEk2jK9OAQAQCKeq/CDwPq0CWc0FxBbiyGnSxQXU0K3Fou7bHPtfMgUsxBY7ssckgkHkZfiF4sXUZ9aSSzGj23iCLQTYGJzdPvlSEzCbzMB9ziRY/LIMQznJyK9n8QPGsvia1kkns30TUdW1fToYVt3EoTToZ2WTzvNIbdJCQQEAx0OaAPaL7w7pWpJpkd5CXXSJ47m2AdhsliVkUnBG7CsRg5B6nkCs/TPBHhzRzov2C2aP/AIR+3ltbLMjt5cU+zeDkncTsXlskY46mvBdD+OHiTWfBt/4ra1t7KXTdPsGNpco8cs1xfiPF2QW+SyUudpBZmCsSy4AOj4i+Inj/AMNahL4TkuLXUtRjvdMjF3bWTEmHUEuCUNt5/wDrEMGQfMAKMCQD1APTdf8AhV4R8Sahf6hqIulbU/Ia5jhu5oYpZbbHkytGjBS8e1dp/wBkZBIFXLT4c+HLPX08Qo1zJLBNNdQwSXMkltDcThlkljhYlVZgzZ7AsxABJNQ/DLxVqfi7w299rUaw39rd3VpMioYmUwSFVLxszmN2TazLvYAngkV6LQBhW2gaXaa7e+JIoz/aGoRQwSyMxP7qAsURQThQC7E4AyTk54x5IfgV4dbX5JlknttEOmrYJa291PESjXE080chVhuhbzQAmeACBgcV7xRQBgJ4c0eLV7XW4rfZdWlo9jEVJCpbuyOUCA7esa4OMjGBxmuPg+EfgyCC6tDFcyWlzbz2iW8l3M8NtBc/61LdC2Ig2APlAIAABA4r0+igDhdJ+HXhHQ9YfXdLsvJvXnubkv5jkGS7VFlO0kgAiNcAcA5IAJOe6oooAKKKKACvG/GP/Izv/wBe8f8A6E1eyV434x/5Gd/+veP/ANCagD//1P38ooooAp3n+qb6f41xnhX/AJD2sfSL/wBmrs7z/VN9P8a4zwr/AMh7WPpF/wCzUAd/RRRQAVyVt4F8GWesnxDaaHZw6kzFjcJAgk3N1YMBkE9yOT3NdbRW9OrUhdQla5hUoUqjTqRTa2M2bSdMuNRttXuLWKS9s1dYZmQGSNZMBwrYyA2BnB5rIvPBXhHUdZj8Q32jWs+pxbStw8KtICn3TkjJK9ieR2rqaKqFerD4ZNdPkTPD0Zr34J9duvcoWmn2Ni9xJZwJC13KZpiigGSQgAsxHUkADJ7CqK+G/D6WN7paadbrZ6i0klzEI1CTPL/rGdcYYt3JHNbtFQqs97lujTejjp/mcpqvgnwhrt5BqGs6NaXtxagLHJNCrsqqcgZOeAeQDwOorak0vTZtQg1aW1ie9tkeOKYoDIiSYLqrYyA2BkA84rRoqnXqtJOTsiFhqKbkoK78uxnabpem6NaLYaTax2lspZhHEoRAXJZjgYGSSSfc1o0UVlKTk3KTN4xUEoxWgV4lrv7OHwA8UeK5/HPiX4d6BqviC5kSaW+u9Ot5p5JI1CIzu6EsVVQAT2Ar22ioKPMvHnwa+FHxPbTW+InhDS/EZ0Zi1mb61jnMGcZCbwcK20ZX7pwMjgUkvwZ+E02k+HdCfwfpZ07wjcpeaNALSIJp1wjb1ktgFHlMG5yuMnrXp1FAHi9n+zv8CdP8Xv4+sfAGiQeI5LsXx1BLGEXIugSfOWQLlZCSSWXBJOTk17RRRQAVg6p4a8P63qOlavq+m295e6FM9xYTyxq8lrNJG0LyRMclGaN2QkEEqxHQmt6igDl5PBvhKbxOfG8ujWj+IGsjpxvzAhujZF/MNuZcbjEX+bYTjPOM1y3gL4LfCT4W32oal8OfB+l+GrrVcfapbC0jgeVQSwUlADtBJIUYUE5xnmvUaKAPHbj9n/4IXPhW/wDA0/gTR28PapfNqVxYfYohbPetjNx5YXCy8D51APv1qW4+AvwUuvCWneArnwLosvhzSGkez097GE2sDzI0cjxxldquyuwZgNx3E5ya9dooA8usPgp8I9L8AT/CvT/B2lQeD7vf5+lLaRfY5WdgzNJFt2sxYA7iC2QDnIFTaP8ABz4U6B4GuvhnovhHS7TwpfCQXGlpaRfZJ/N/1hljK7XLYGS2ScDngY9LooA8q0H4H/B/wx4Vk8DeHvBulWGgS3UV9JZRWkawPdQukkczrj5pEeNGVjkgquDwKteIvg78KfFz65L4o8I6Xqj+JYreHVGuLSOQ3qWhJtxOSuZDET+7LZK/wkV6XRQBx3gjwB4J+Gmgx+F/h9oVl4e0mN2kFrYwJBF5jn53IQDLNgZY5Jxya7GiigArxGP9m39n6Hxa/j1PhzoB8RS3L3rag2nW7XJuZG3vMZChbzCxyW655zmvbqKAOI134ceAPFE2qXHiTw5YapJrlkmnXzXVtHKbmyidpEgl3g741d2ZVPAYkgZ5rn9B+Bvwb8L+DtS+Hvh/wVpFj4a1nd9u0+OziFtdlxgmZCpEhIAGWyQAMdBXq9FAHkWn/AX4K6T4Gvfhlp3gfRoPCmpuZLrTFsovss8hIO+WMqQ7gqCGbJGBg8Cq8X7PPwKt/C2oeCLfwBocWgar5Bu7FLCFbedrVQsLOgUAtGAArY3DGQc17LRQB45cfs+fA678Cw/DKfwHoz+FLaf7TFpv2KIWyXGSfOVAvEpJOZB8x5yeTXTaH8L/AIc+Gk0GLw94Y07TU8LRzw6ULa2jiFjHdgCdYNqjyxLtG/bjdjJya72igDyjwn8Dfg54E1rVfEXgzwXpGianravHe3FpZxQyTpK290YooO1mO5lGATyRmujs/h54FsLfw5Z2OgWUEHhAEaOiQIq6fmFrf/RgBiL90zR/Lj5SR0rtKKACiiigDj/FXgLwT45FsnjHQ7PWhZFzCLuFJvKLgBiu8HGcDOOuKy5/hP8ADS68OxeEZ/DGnvo1vKZ4rT7OghjlbOXRQMKxyckcnJr0SiuiNerFKKk7I5ZYajNuUoJt+R5/qXws+G2s6Pp3h7U/DGnXGm6Rk2du1tH5UGeojXGFB/iA4PfNF/8AC34b6noNt4Wv/DOnzaRZSNNBaNbR+TFI7FmaNcYUsWJOMZyc9a9AoqliKv8AM9PMHhaDv7i18jhpfhr8PZ/DsnhKXw5YHRZZfPaz+zRiAyk58wIAAHz/ABAA+9W9M8C+DNEtNNsNJ0Szs7fR5Xms0igRFgldWRpIwB8rMrMCw5IJyea66ipdeo1ZyZSw9FO6ivuPPdb+FPwz8S6qdb1/wvp2o6g0iStPPbRvIzoqopZiCWwqqADkYA9BV3xR8OvAfjWa0ufFvh+y1eWxyIGuoElKKSCVBYH5SQCVPBI5FdrRTVerde89CXhaLunBa76bnDeI/hp8PvF93a6h4p8OWGq3NinlwyXFukhRM52AsD8oPIU5APOM1taX4Y8O6LMlzo+m29nLHbQ2StFGqMLa3z5UQIA+RNx2r0GTgVv0VLrVHHlctC1QpKXOoq553ZfCf4ZabrTeI9P8Labb6o0/2n7THbRrKJuf3gYDIYkkkjGScnmvRKKKmdSdS3M7sdOlTppqmrIKwdT8NeH9Z1LStZ1fTbe8vtDleewnljV5LWWWNoXeFiCUZo3ZCRglWI6Gt6isjY881n4UfDLxF/wkQ17wrpuoDxdHBFrHn2sUg1BLUFYBchlPmeUDhC2SvGDwKydB+BPwY8L2K6Z4c8EaPplolxZXYht7KGJPtOnNvtJiFUZkhYlo26qeRzXrNFAHk0/wL+DV14/X4qXHgrSJfF6Osg1RrOI3YlRQiyeYVz5gUAB/vAAAECnWnwM+Ddj49k+Kdn4J0iDxfMzSPqi2cQuzI42vJ5gXPmMvDOPmI4JNer0UAFFFFAGXq+kaX4g0m90HXLSK/wBO1GGS2ubedA8U0MqlJI3VshlZSQQeCDXJeLvhX8N/Hvha38EeNPDOn6zoFp5Rgsrq3SSCEwDbGY1IwhReFK4IHAOK9BooA8b1b9nz4G694O0r4f6v4D0W68N6G5ksLB7GH7Pauc7miQKAhbJ3EYLZO7OTXRaD8Kfhl4V/soeGfCumaUNCku5bAWtrFCLSS/8A+PloQigIZv49uN3evQqKAOHt/hv4AtbSw0+18O2EVrpeoSataRrboEg1CVpHe6jAGFmZpZCXHzEu3PJruKKKACiiigAooooAKKKKACiiigDC13w5oPia3t7TxFp0GpQWlzBeRJcRrIsdzbOJYZlDAgPG6hlbqCARXO3nwt+G+op4jS/8MadOvjAxNrO+1jb+0TAoSI3OV/elFUBd2cAcV39FAHgB+DF/q3x+tvjZ4u1qLUYPDmn3On+HdNishCbAX4i+2TTXBkdp5ZPK2phUVEZhgklq9h8SeGvD3jHQrzwx4s0y21nSNRQxXNpdxLPBMhOdrxuCrDIBGR1wetb1FAHlngj4KfCH4b6PqXh/wH4N0rQ9O1gFb6G1tI0S7UqVKzgL+8XaSuGyACRjBIrJ8Pfs6/AbwnY3+meGfh9oel2mqWc+n3cdtYQxLcWd0Q00EgVRvjcqCyng4HHAr2migDyHwz8A/gn4Ludbu/CXgbRtIl8Rwvbai1rZQxG5gkzvik2qMxtk5T7pJyRnmuys/A3g7Tr3SdRsNFtLe60CybTdPljhRXtbJxGGt4SBlIj5SZUcHavHArrKKAPOrH4S/C/TII7Ww8J6XBBFp02kLGtpEEGnXMnmzWu3bjyZJBuZMbWbkgmsHw5+z58DfCXhzWPCHhvwHoun6L4hUJqNpFYwiG8QDAWZSpEiqD8obIXtivY6KAPJvDfwK+DXg7RoPD/hbwVpOmadbX8OqRwQWkSIt/bkGG54XJljIGxz8y44IqZvgl8IH+IA+KzeDdJPjAEMNVNpF9r3hPLD+btzvCfLvzu28ZxxXqdFAHETfDfwBc6TqGhT+HbCTTdWvv7TvLdrdDFcXxlWf7RIpGGl81FfccncoOcgVz//AAoz4Nf8J/8A8LU/4QrSP+EvL+Z/av2OL7X5u3b5nmbc+Zt43/exxnFer0UAFFFFAH8m37eH7P2pfAT4/wCuQR2zJ4a8UzzarpEwB8sxztvmgB6BoJGKkddpU9DXxhX9mnxw+BXw4/aE8ET+A/iVp/2yzdvMgnjOy5tJwMCWCTBKsOh4KsMhgQcV+Dvxb/4JN/HrwlqM8/wsvbLxvpBJMQeVbG+VewkjmIiYgcZWTnrtHSrTJaPytr2DT/2gvjrpPhD/AIQDTPiBrlp4c8owCwjv5lgWEggxqobKoQSNoIXHGMdPcT/wTx/bJBI/4VtcHHcX2n//ACTSf8O8v2yf+ia3P/gdp/8A8kUxHgvhX47fGrwNoMXhbwZ461rQ9Hgn+0R2lnfTQwJNncWVFYAEtycYBPJBPNaWh/tHfH7wxG0Xh34i67p0bXFzdssF/MiNcXbmSeUqGwXldizMQSWJJ55r2j/h3l+2T/0TW5/8DtP/APkikP8AwTy/bJwf+La3P/gbp/8A8kUBY+YJviT8QptJv9Cn8S6jLp2q3w1S7t3uZGjuL9SCLmUEkNKCAQ5ycgc1/Rx/wSs8T+I/GX7Out+I/Fup3Gsard+J77zrq6kaWaQpa2irudsk4UADJ4AAr8Vrn/gn/wDtgWwzP8OblQP+nyxP8riv2p/4Jx+FPFnwM+Al/wCDPiho8+jaxLr15drAWilzBLDbqrbopGXkowxnPHSkykfphWadK0xtVXXGtY21BITbrcFAZRCzBigbGQpYAkDgkAntXOf8J3ov92b/AL4H+NH/AAnei/3Zv++B/jUDEv8A4deBNUtIrC/0CyntoZZZ0jaFNqyTsWlIAHHmE5cdG7g1pHwn4YKajEdLtimrokd4piXE6Inlqkgxgqq/KAeAM4HJrO/4TvRf7s3/AHwP8aP+E70X+7N/3wP8aAJ7jwN4QudaPiSXSbb+1iu37UI1Ew+XYGDYzuCnaG6gcZxXHWHwK+GOmQaSmn6LFb3GjSQSw3KKouHeDGTJIBlvMwfM/vZOeprqv+E70X+7N/3wP8aP+E70X+7N/wB8D/GgDQPhDwsyQxtpFqUt7RrCNTChC2jAAwAY/wBWdo+Xp7Vkp8NPh/HpLaEnh6z+wNMtwYTCpUzKNqyHPVgOAeoHHSpv+E70X+7N/wB8D/Gj/hO9F/uzf98D/GgDoNI0bSdAsY9M0OzisLSIkrFAgRAWOScDAyTyT3NatcV/wnei/wB2b/vgf40f8J3ov92b/vgf40AdrRXFf8J3ov8Adm/74H+NH/Cd6L/dm/74H+NAHa0VxX/Cd6L/AHZv++B/jR/wnei/3Zv++B/jQB2tFcV/wnei/wB2b/vgf40f8J3ov92b/vgf40AdrRXFf8J3ov8Adm/74H+NH/Cd6L/dm/74H+NAHa1434x/5Gd/+veP/wBCauv/AOE70X+7N/3wP8a8/wBc1S21fXnu7XcqCFEw+Acgk+vvQB//1f38ooooAq3YzGR6ivFr/XfEHhrX7v8AsnTo70XMaOxkcpjBYAAAexr3Fl3DFcXqNjFJrTZHP2dP/Q2oA4H/AIWR45/6AFv/AN/m/wAKP+FkeOf+gBb/APf5v8K7v+zIfSj+zIfSgDxjVvFfxTvLqW7spX06EqCIIhbui7RyQ0sDMckZOTwTxxXnH/C2Pip/wg1v44+13H2edYnEWLLIE0qxD5vs2OC2enNfV39mQ+lM/si12hNg2DtgY46cdK744upFJJL7l/kefLBU5Pmblr/el/mfLGv/ABQ+LuiXuoWEUt1eS6fYpfsEWzy0bSmNgALUn5QCxwMkDAGaf4c+KfxH8TX0tlpevpemGJZWa1NrMqhzhQzfY1UE8naW3Y5xjmvqb+yoN2/aN2MZxzj0z1xUcWi2UAKwQrGGOSFUAEnuQAMn3qvrtTtH/wABj/kZ/UKPeX/gUv8AM+arj4h/Fi21q+0Zr64L2NgL8ttsgChZ124+zcH5Dzz16VQ0P4p/FXXJfKivLiM/2ZbankizPyXO7Cf8ew5G089/Svqc6TbEltgJIwTjkj0+ntSDSLZfuoBwBwAOB0H0HpR9dqdo/wDgMf8AIPqFHvL/AMCl/mfGLfHz4jRQWtzeai1lHdabFqKG4ezQyiXdiOEC0JkYYwQADkjjmur8N/FD4q+I7qK2gvLiIy6da6iCRZnC3RYBcfZhyNnJ7+gr6gbRLFihaFG8rlcqDt7cZ6fhinjSbZT8qAHAHAA4HQcdh2FH12p2j/4DH/IPqFHvL/wKX+Z8xP8AEb4wNc+IbKznurm40GOJ9iLZ5nMsZkCKPsxwcDA65P5Vv6H+0bresyRw22m2Fy4tXupFt7mWeWJIwC3mIsQ2tk42kgkggAkYr38aTbhiwUAtjJA5OOmT3xTI9Fs4Wd4olRnOWKqAWPqSAMn61hUryqW5rfJJfkdVHDxpfC3r3bf5tnzlF+054kvDqB0jw5aatHZWD3+6zu2lyqEDy5B5YMchBJCkEnB44pZv2o9RcX8mj6LbanFp+mvqMkkVy2zCMAYs7SNwByeuOARk19GRaLZQbvJiWPecttUDJ9TgDJ+tIuiWKrsWFACCCAoAwTkjAHQnk1ynUeKz/H/xBY61daNqOhW9tJb2KX6EzOzTREMZPLRVLMYwuWC5PI4FQeGf2gvE/ijV7rS9M0OyuoreCO4Fza3hniIkYgIx2LtkwM7Tk45r3Q6Ral1coCyZCkgEgHrg9RnvimxaNZwKUgiWMEkkKoAJPUkDv70AeK6n8dfHOneLdO8Ir4Timn1SGSeKQXBCbYgxkB+U4KkKOvO4dMc42k/tH+L9U8N2/iVfCccMFzqEWnor3BDb5JFiZvu9FkJXHfaTkZ4+hjpMG4MVGRkA45GeuD1GaT+x7UKF2DAOQMDAOc5x0znnPrQB4bYfH/xbfajZ6cvhmFWvLy/swftB+VrAHc2NvIbHA7epqbX/AI/654Y13TtH1vR7W0j1CGaVbmW4KRIYio2uSMDdu4JIGQB1Ir2waPbAghACCSCAOCep+p7+tNk0azmUrNEsgYYIZQQQecEEHjjpQB88f8NK+KTa2Wqv4atbbStRuLiCG9uLtooCIT8jlvLO1Zvm2E8HHU5Fdn4b+MnizxNpw1Sw0W0lgd3jWSOeRkfYcEqzRpuGehAIPYnt6q+jWckRgkiV4yACpUFcDoMEYwKcuk26KEVQqgYAAwAB2AHQUAfOFl+1DquoW0MdnoVvLqs96bJLAXDeeSJTGZMbf9WFBctjAAIzmoh+1B4g+3R6e/h+zS6l1L+zhbG9Y3SnzPL8x4hH8qnqMnkEYOTX0iuiWSyCVYlDgEBgoBAJyQDjOCecUn9iWPmGbyU8xsZbaNxx0ycZOO3pQB4FJ+0hr7+ILbw/p+h2d5PPdNaPEl063MLoDuaSBowRGCOXzjBBGQai0X9pHxJq13Z6Y2h2EGo3UrwNZG7ka7idM7hJGIvlAAzuJCkYweRX0GNFsxK06xIJSMFgo3EDsT1I9s0DRbMSmdYlErDBcKAxA7E4zj2zQB86R/tQ6pJHp8B0O3XVbu9SxlsTcN59vI0nlkyDbkKDggkANkAHmuw8SfGzxb4XSzvNS8PwJY3E4gmuDOwS2DA7HkO04UsApJwASCTivWv7FsvMMvlLvbGW2jJx0ycZOO2elSPpNvIpR0DKwwQQCCD2IPBoA8Ci/aL8S3biXT/DkF1YSajb6bDdJckxTSTAl2jO3DLGRtJBIJzg8V0um/GPxnqOs6xoyeHYEfSGgVmM5Ifz4/MGBjjA475r1ZdGtERY0jVUTG1QAAMdMAcD8KcNKtwWYIAT1IHJx0z60AeC6p+0R4k0p/EdtceHrcXXh2EXBgNyQ88JRX8xQV4XJ2k8gEc+lX9b+OfjnSrz+zrfwnHe3LadPqCJHOwZxAyKYwNpJJ38H2xg5r2ltGtGbe0SsxG0kgE4POMkdPbpTv7Jt9wfaMgYBxyB6A9cUAeF+Hf2g9e8TX8dhpmmaddSPAbhhb3ckpjQEDEn7oBGycbWIbrgHBqfV/j/AK54c1ltL8R6PaaZC1uLiG5nuCsUxBIkjUkAb1AB25JIPAr2qPRbKEu0USoXOWKqASfU4Ayfc0S6LZzhVniWQA5AZQQCOhAIOD70AeF2v7QXix38PrqnhmHTR4jWUwGedlw6lfLjIKj55FYFV4PbBNOj/aA8WyaFba7/AMIzCI7jUhpwX7Qchzcm23Z29MjOMe2e9e6NpFtIBvQPggjIBwR0Iz0I7Gj+x7XAXYMA5AwMZznOPXPOfWgD55i/aS8SnUG0m90Kws9QW7Nn9jku5DdFt+FcRLCSVZcMGHy4OSeDXYaB8Y/GevQXk8Ph2CMWd5c2ZBnJy1s5QtwOASM47epr1T+xbIyicxKZQMByo3AegOM4/GnrpVuuQqgZJJwMZJ6n6mgDybVfjJ4y0rVNG0yTw7A7azPJCrCcgIY4nlJIxzkKRjj1rk5v2lPEME02kv4ch/t2O9FmmnfaG8+QlwFlX5eYyh3lsYABBORX0KdJtyQxUEryCRyD049OKT+x7UyecY18wDAbA3AHtnGce1AHieu/Hjxjo9xf2tv4Yivm0q0e8u9k7ARLgmNSdp+aTBIHZQWPGAc1PjX4k8YeGtQtxZw6Ul/NLpUF5aXhZjNKgCyW0u0AuCx2nBwynrivf/7JtxkhQC3UgdeMc+vHHNZF/wCDdH1KXTZbmMgaVcC6gVMKglCMgJAHIAckDjBwe1UpNNNbolxTTT2Z8M+IvC/jzwzbQTar8TPFVqLl/KjefWRHEXwTh5BAwTIBwWwCeAc1yVhJ46mttP1DVPH/AIu07T9Re5hW8k1tDbCW3bAAkMABWUAlGOAcEAZr9KJdHtZkaOaNZEPVWAIP1ByDSPotlJF5MkSvHgDYVBXA6DBGOO3Fet/aeJ/m/BHi/wBkYT+X8WfA/hnwl8S/E+nvqtp4+8YpaNNJHBI2rrieJDtEygwg7WIJX1AyDg1zkVv49mtmkX4geL/tMOqJpc1v/bKeZC8kxjR2HkZAYDcARyOh71+j40uBQFVQABgADAAHYCmf2Nabi/lruYgk7RkkdCT3I7HtR/aeJ/m/BB/ZGE/l/Fn5063pfxM0abWIh438YzjRBaPOw1kYEV0TmQgQMQsYBLYBOMnjFaPhzQPH3ia4u4NM+Jnia8FmEMklrrfnRgyZIG/7Mqk4GSASRxkDNfoONJt8lgoywwTjkj0Pr+NNi0azgTy4IkiTJOFUKMnqcAAZo/tPE/zfgg/sjCfy/iz89NQ0T4j2DeJFfx54wY+G7VLqTGsqPMDxtIAP3PGApGTnrUK6T8Rzba9c/wDCd+MMaFaxXUg/tlPnEsBnAB8jggDGefWv0S/sm2OcoDvGDkDkeh9R9aP7ItQD8gwwweByMYwfXj1o/tPE/wA34IP7Iwn8v4s/MrWL/wAc6L9rN98QfFVubWygvFSbXVSW4E8ZkCwILdi+PukggA5yABmu10Twv8Stb1C9sI/H3jCNrOG0mJOsIci7jMgGPJGMAYPr7V9+toljIyvJCjMgIUlQSAeCASOAfQVINJtlJIUAnAJAAzjp+Xaj+08T/N+CD+yMJ/L+LPzd1ePxvpmsJosHxG8VXV2LqK0kthrYS7DykAOkLW+ZEAOSwOMAnPFen+CviN4w+FSeK01C/wBT8WXNldW0EkOtakJTbxEgC4UiMGOJjL87EMPlHPFfaH9jWZlE5iUygYD7RuA9AcZx7ZpW0a0ZmZo1JcbSSASR6E45HseKyq4+vUi4Td16I3o5bh6U1Upqz9X/AJnzmn7TfiCdNVktNAs71NKksY2ktrtpIna9k8sBXKAHYepAIJ4zmtrxB8fvGOgXmp20nhaOcaTb211O0c7EiGeVo2baFJIjCljjqAemM17guiWUaCNIUVAAAAoAwOQMAY4PT0qT+ybfcW2jJGCcckehPce1eYeqfO037TmptNqq6Po1pqcWk6c2oyTQXJMbBTjywwUgtjBOCcZAIzWtJ8fvF0Vn4kvD4ZgI8OQpNIPtB/eB7cXAAO3jAOOc+vtXt6aHYxr5ccKImCMBABg8kYHGCeop/wDZFqQRsGG4PA5GMc+vHHNAHgGo/tJa5okt3BregQ2UsVvHc2qtK5N4jx7iIcIcsrZUgZI4JwDVHVP2ntb03SLbUH0OyW5nsor5bWa7aKSSOZcqsJMZWV85G1SDnAOM16x4i+G0fiC6lmXXNR06C6hEE9vbunlOmCDtEiMY2IJBaMqSOvIzXUWnhjSbGztLC2t0WCwjSKEEAlEQBVAJyRgADOcmgDy/XfjT4y0LQRrs3huJkZrdfLMzKwNxIsYB4OCpbkVQ1P48+L9Mm8SxSeGoXPhq0ju5MXBHmLIjuAPlOCAh5Ne3NpNu4w6gj0IyOOe9NOkWxzlAdwwcgHI9D6j60AfNWuftReINBfU0vvD9nC+nRRSrFLesk9z50YkHkx+WSyjOC2cAg5wBXSX/AMe/Gtj4p0rwqfCkck+sRiaGQTts2KGMxPynmMBTjPO4dK9ubQ7GRhJJCjOoKglQSAeoBIyAe46Vz8PgPT4/E0viu4uJ7q6MRt4I5CDFbRMVLiJQAQXKgsSSTjAIHFAHB+Lfjd4t8H6P/bV94eheATwQsFmbIEzhN2ApJxnOAMnpXOT/ALSPiSZNVufDvh231q10iGKaae2uWePMjYKAqrZZEBdgMkDjGa+gzpVuwAZQQDnBGeR0P4U2LRrSBdkMaxrycKABk9TgADJoA8W8OfHrxF4mvZ7PStM069NvGkrta3ck6KHJCgv5aqCcZ27twHJGOaztZ/aP1nw7f6rp2u6LbWU9hEk8CSTsGvEZc/uRt+YhgUIGSDg4wa95i0WygBWCJYgTkhVCgk9yABz70r6LZyMryRK7JnaSoJGeuCRxn2oA8A/4aM8ViwutQPheHbbaLFrRH2k5McgYiP7vBG3r09q6N/jT4zXWNK0YeG4Wk1W1nukP2gjaIBGdpG3knzBz2x09PXP7HtcEeWuCNpGB09Pp7dKd/ZNvkNtGQMA45APUA9hQB89aJ+0h4k1m7stNOiWEGo3cjRNZG7ke6hdM7xJGIvlC4+8xCnjB5FWJP2hvF6eFNP8AF3/CMW6Wd5MIpWe5YJboXZPMkYISFDKATjAyCTgE170NFtFlM6xKJWGCwUBiB2Jxkinf2RbBDHsG0ggrgYIPUY6YNAHgcH7RfiO5ijnstEsb6J9Qt9O8y2upJIhLcAkESGNVbaMZCk8nGRVjV/j/AOLtJXxA8vhiJ18P/ZjMRO3KXIBL8KcBAST14Fe5JotlGixRxIiIcqoUAA+oAGAfpTv7Itvmyg+fg8dR059ePWgDy2x+M+uapdmy03TrK6m8iO5Cxzs2YJSQkgIGCrEHBFbX/CyPHP8A0ALf/v8AN/hXbpo9rHjy41QAADAAwB0HHYdhUn9mQ+lAHCf8LI8c/wDQAt/+/wA3+FH/AAsjxz/0ALf/AL/N/hXd/wBmQ+lH9mQ+lAHCf8LI8c/9AC3/AO/zf4Uf8LI8c/8AQAt/+/zf4V3f9mQ+lH9mQ+lAHCf8LI8c/wDQAt/+/wA3+FH/AAsjxz/0ALf/AL/N/hXd/wBmQ+lH9mQ+lAHCf8LI8c/9AC3/AO/zf4Uf8LI8c/8AQAt/+/zf4V3f9mQ+lH9mQ+lAHCf8LI8c/wDQAt/+/wA3+FH/AAsjxz/0ALf/AL/N/hXd/wBmQ+lH9mQ+lAHCf8LI8c/9AC3/AO/zf4Uf8LI8c/8AQAt/+/zf4V3f9mQ+lH9mQ+lAHCf8LI8c/wDQAt/+/wA3+FH/AAsjxz/0ALf/AL/N/hXd/wBmQ+lH9mQ+lAHCf8LI8c/9AC3/AO/zf4Uf8LI8c/8AQAt/+/zf4V3f9mQ+lH9mQ+lAHCf8LI8c/wDQAt/+/wA3+FH/AAsjxz/0ALf/AL/N/hXd/wBmQ+lH9mQ+lAHCf8LI8c/9AC3/AO/zf4Uf8LI8c/8AQAt/+/zf4V3f9mQ+lH9mQ+lAHCf8LI8c/wDQAt/+/wA3+FQy/EfxwQf+JDb/APf5v8K9B/syH0qCXTIcH5aYHiOufELxq8ZDaHAOv/LVv8KoeEdV1DWNPnu9TtltZhO6hFYsMYUg5Pckn8q9F13TIfLPHrXF6JCIYJkAwPNY4/AUgNijPOO9FfG37RM2o6T8VvAvjLTWff4R03U9XljQnEttBcWcd2pA4P8Ao8khAI6gYoA+yc8470V8L6lqXiHxV+0QnjXwhcpIUsNd0bQxJl7aWTTraKR5GUEBle6lZCQQcJwa9x+HPxW1D4leINMTSYootKi8P2+oanlSZYtRvZCkdsDnCmMRSlwQSfl6dwD3YlR1IB9zTj9MV8Z/EXRtO1z9oTUrfVPAT+Po4fDNgyQLLBELZmu7gF83EkY+cALlSSMcjGKv+Fo/i54EtvA/wx06Wy0u68R3OuXBS9MmojS7GF0mt7aNxIhlaNJNnLbRkYJCgEA+vKTcpJUEZGMjIyM9OPevlyP4q/EBtGsvikXsT4Wv9dTSl0oW7C7W2kvjp6T/AGnzMGbzBvMfl7dpKg5GTwvgVNR0bxdFe60LLVr3XPiNqdpJcG2aKaP7LaXQDK3mtnAAVFIIRSwAJIIAPt4HPTmivg/wJ8UvE+leDvBPgPwy7Wsy6G+p3F2dKutYZt93LDDCIbdlKqSrF5GY4GAoySR9efDrxLqnjDwPo3iTW9ObSNQvoN1xauGUxSqxRwAwDBSVJXcAdpGeaAO0ooooAKKKKACiiigAooooAKbbf8fsn+4P506m23/H7J/uD+dAH//W/fyiiigArmb3/kNP/wBe6f8AobV01cze/wDIaf8A690/9DamgHUUUUgCiiigAooooAKKKKACiiigAooooAKKKKACiiigAooooAKKKKACiiigAooooAKKKKACiiigAooooAKKKKACiiigAooooAKKKKACiiigAooooAKKKKACiiigAooooAKKKKACiiigAooooAKKKKACiiigAooooAKKKKACiiigAooooAKKKKACiiigAooooAKKKKACiiigAooooAKKKKACiiigAooooAKKKKACiiigAooooAKKKKACiiigAooooAKhm+6amqGb7poA4fXfuN9DXnmm/cm/66n+Qr0PXfuN9DXO+GPDOoaxZz3Vq0YQTuuHJByAp7DpzQBn1zWqeD/D2tazb6/qlr597bWV3p6sWbZ9mvShnQoDtO7y15IJABAIyc+tf8IHrP8Afh/76b/Cj/hA9Z/vw/8AfTf4UAeAaJ8LfBvg2w0KPwnpYil8JW15DpSPPIFT7WAZBIxLFvMYDLsGI5IBPBz/AIP/AA6f4f6Nq8t/DbQav4k1O61a+jtGZ4IpLhyUhjdgrMsaAAEquWLEAA4r6P8A+ED1n+/D/wB9N/hR/wAIHrP9+H/vpv8ACgDyuHwxosHii58ZRwEateWkVjLLvYg28DtIibSdoIZ2OQATnBJAFPvfDmkahr2l+JbuEvqGjLcJayB2AQXSqsoKggNuCgDOcdsZNeo/8IHrP9+H/vpv8KP+ED1n+/D/AN9N/hQB88QfBvwLb6+uvx29ziO9bUo7I3cx05L9iSblLQt5QkLEtkDAYlgNxzW1F8OfCEF1bXkVmwltNWuNcjPmyHF/dK6SyYJwQVkYBT8ozkAECvbf+ED1n+/D/wB9N/hR/wAIHrP9+H/vpv8ACgD5yn+CvgRtP0qwsEvdK/sa3ks7eewvp7a4FrK/mSQPKjBnjZvmwxODypB5r0TRNF0rw7pFnoOh2y2en2ESwwQpnaiIMADJyfUkkknJJJJNek/8IHrP9+H/AL6b/Cj/AIQPWf78P/fTf4UAcVRXa/8ACB6z/fh/76b/AAo/4QPWf78P/fTf4UAcVRXa/wDCB6z/AH4f++m/wo/4QPWf78P/AH03+FAHFUV2v/CB6z/fh/76b/Cj/hA9Z/vw/wDfTf4UAcVRXa/8IHrP9+H/AL6b/Cj/AIQPWf78P/fTf4UAcVTbb/j9k/3B/Ou3/wCED1n+/D/303+Fc3d6Vc6Tqz2l0UZzEr/KSRgkjuBzxQB//9f9/KKKKACuU1KZIdZJYOc26fdRn/ibrtBxXV1kp/yHJv8Ar3j/APQ3poDF+3Q/885v+/Mn/wARR9uh/wCec3/fmT/4iuwopAcf9uh/55zf9+ZP/iKPt0P/ADzm/wC/Mn/xFdhRQBx/26H/AJ5zf9+ZP/iKPt0P/POb/vzJ/wDEV2FFAHH/AG6H/nnN/wB+ZP8A4ij7dD/zzm/78yf/ABFdhRQBx/26H/nnN/35k/8AiKPt0P8Azzm/78yf/EV2FFAHH/bof+ec3/fmT/4ij7dD/wA85v8AvzJ/8RXYUUAcf9uh/wCec3/fmT/4ij7dD/zzm/78yf8AxFdhRQBx/wBuh/55zf8AfmT/AOIo+3Q/885v+/Mn/wARXYUUAcf9uh/55zf9+ZP/AIij7dD/AM85v+/Mn/xFdhRQBx/26H/nnN/35k/+Io+3Q/8APOb/AL8yf/EV2FFAHH/bof8AnnN/35k/+Io+3Q/885v+/Mn/AMRXYUUAcf8Abof+ec3/AH5k/wDiKPt0P/POb/vzJ/8AEV2FFAHH/bof+ec3/fmT/wCIo+3Q/wDPOb/vzJ/8RXYUUAcf9uh/55zf9+ZP/iKPt0P/ADzm/wC/Mn/xFdhRQBx/26H/AJ5zf9+ZP/iKPt0P/POb/vzJ/wDEV2FFAHH/AG6H/nnN/wB+ZP8A4ij7dD/zzm/78yf/ABFdhRQBx/26H/nnN/35k/8AiKPt0P8Azzm/78yf/EV2FFAHH/bof+ec3/fmT/4ij7dD/wA85v8AvzJ/8RXYUUAcf9uh/wCec3/fmT/4ij7dD/zzm/78yf8AxFdhRQBx/wBuh/55zf8AfmT/AOIo+3Q/885v+/Mn/wARXYUUAcf9uh/55zf9+ZP/AIij7dD/AM85v+/Mn/xFdhRQBx/26H/nnN/35k/+Io+3Q/8APOb/AL8yf/EV2FFAHH/bof8AnnN/35k/+Io+3Q/885v+/Mn/AMRXYUUAcf8Abof+ec3/AH5k/wDiKPt0P/POb/vzJ/8AEV2FFAHH/bof+ec3/fmT/wCIo+3Q/wDPOb/vzJ/8RXYUUAcf9uh/55zf9+ZP/iKPt0P/ADzm/wC/Mn/xFdhRQBx/26H/AJ5zf9+ZP/iKPt0P/POb/vzJ/wDEV2FFAHH/AG6H/nnN/wB+ZP8A4ij7dD/zzm/78yf/ABFdhRQBx/26H/nnN/35k/8AiKPt0P8Azzm/78yf/EV2FFAHH/bof+ec3/fmT/4ij7dD/wA85v8AvzJ/8RXYUUAcf9uh/wCec3/fmT/4ij7dD/zzm/78yf8AxFdhRQBx/wBuh/55zf8AfmT/AOIo+3Q/885v+/Mn/wARXYUUAcf9uh/55zf9+ZP/AIij7dD/AM85v+/Mn/xFdhRQBx/26H/nnN/35k/+Io+3Q/8APOb/AL8yf/EV2FFAHH/bof8AnnN/35k/+Io+3Q/885v+/Mn/AMRXYUUAcf8Abof+ec3/AH5k/wDiKPt0P/POb/vzJ/8AEV2FFAHH/bof+ec3/fmT/wCIo+3Q/wDPOb/vzJ/8RXYUUAcf9uh/55zf9+ZP/iKPt0P/ADzm/wC/Mn/xFdhRQBx/26H/AJ5zf9+ZP/iKPt0P/POb/vzJ/wDEV2FFAHH/AG6H/nnN/wB+ZP8A4ij7dD/zzm/78yf/ABFdhRQBx/26H/nnN/35k/8AiKPt0P8Azzm/78yf/EV2FFAHH/bof+ec3/fmT/4ij7dD/wA85v8AvzJ/8RXYUUAcf9uh/wCec3/fmT/4ij7dD/zzm/78yf8AxFdhRQBx/wBuh/55zf8AfmT/AOIo+3Q/885v+/Mn/wARXYUUAcf9uh/55zf9+ZP/AIij7dD/AM85v+/Mn/xFdhRQBx/26H/nnN/35k/+Io+3Q/8APOb/AL8yf/EV2FFAHH/bof8AnnN/35k/+Io+3Q/885v+/Mn/AMRXYUUAcf8Abof+ec3/AH5k/wDiKPt0P/POb/vzJ/8AEV2FFAHH/bof+ec3/fmT/wCIqGW9i2n5Jf8AvzJ/8TXbVDL900AeL67eRCM/JL0P/LGT/wCJrpPhdIsugXLKGA+1yfeUqfur2IBqzr5PlN+NS/Dw50e5/wCvp/8A0FaAO8ppIBwT16U6vg79qGbU9I+Mnw98c6U8gl8E6Xq+tyxISPOtLe5sY7xCBwf9FllIB7gYoA+78jOCefSnV+c2qar4l8Y/tNRfEDwZdpI66d4h0Lw/5uXtZJdMtYJHmZQQGVrudkJBBKx8Gvoj4WfGXVvir4l0mPR4YotHi8N22pasCpMsWp38hWK0BzhTEIZjICCeV6UAfSBIHXvS1+df7Vfiq417x5/YGhNqTXvw105Nesxp1leXaS688iyWkE7Wscioot4pARIQCJwegJr2t/ir40+KGv6Vofwg1Cw0a1uPDVt4kkvr+2a880XztHbWyxrLEFUGNzK+SRgADOTQB9U0V8ix/ET41eMdR1618J3WgaNL4JsNOlvUuVe6tdQv7u2F1LGl0JI/ItVQhVl2OxJLEYXBz/Evxi+J0Gi+NfilosumweGvAWpSWEukywPJcX6WZjW7kF2JVETEuwgURMCFUtndgAH2VRXyl4i+NHizS/BPxQ8RWyWouPB/iG30uyDxttMEosc+YN2S+bhwCCO3HHPM+Ifi98X9Oi8b+NbS40pfD3gjxNDpBsWtZWub22ke0WQmcShYnT7QShCMGI+YAYoA+06K+bfgjN4vm8f/ABdTxBrQ1KztfESQ2sPlMnkKbC1kAUmRwF2uoKgDLBn/AI8D6SoAKKKKACiiigAooooAK8b8Y/8AIzv/ANe8f/oTV7JXjfjH/kZ3/wCveP8A9CagD//Q/fyiiigArJT/AJDk3/XvH/6G9a1ZKf8AIcm/694//Q3poDWooopAFFFFABRRRQAUUUUAFFFFABRRRQAUUUUAFFFFABRRRQAUUUUAFFFFABRRRQAUUUUAFFFFABRRRQAUUUUAFFFFABRRRQAUUUUAFFFFABRRRQAUUUUAFFFFABRRRQAUUUUAFFFFABRRRQAUUUUAFFFFABRRRQAUUUUAFFFFABRRRQAUUUUAFFFFABRRRQAUUUUAFFFFABRRRQAUUUUAFFFFABRRRQAUUUUAFFFFABRRRQAUUUUAFFFFABRRRQAVDN901NUM33TQBwev/wCqb8an+Hv/ACB7j/r5f/0Fag1//VN+NT/D3/kD3H/Xy/8A6CtAHd1x2seBfC+v67b+JNYshc31rY3enIzO+z7LfGMzxlAdrB/KXkgkYOCATnsaKAPI9C+DvgbwPpnh6HwZo6xS+C7W9g0aJ7mYJH9twZlkcly3mMo3OwdhyQM8HO+B/wALpfhpoetT6nBawa34p1a81nUEsmZ7eKW6clYYndVZkiTABKrltxCjOK9tooA5bQPB+geGL3WtQ0e3Mdz4hvDfX0jO0jSzmNIgcuThVjjVVUYVQOAMmvMbj9nL4WyabY6VZWd5pkOnRXNrE1jqF1aym0vJTNNavJHIGeBnYkRsSq9FCivd6KAPEdb/AGevhXrrwifTJbO1W0ttPmtLO6ntbS7s7QYgguoInVJ44wSFDg/KSpypIqxqvwG+HOs+ILjX721uVW9uIbu7sYryePTru5ttvlTXFmjiGR18tOSuG2qWBIFezUUAeIeJ/wBnr4X+L9b1DW9dsrqU6tNBc3dtHf3UVnPdWwQQ3D28cixGVBGoDbc4UZ5AI6i9+FPgfUNF1/w/d2DPY+Jb8anfxiaUGW7BiYOGDZXmCP5VIXjpyc+j0UAcbongbw/4d8S694q0mOWG98SvDLfL58jQvLBGIlkWEsY0coqqzKoLBRnOBXZUUUAFFFFABRRRQAUUUUAFeN+Mf+Rnf/r3j/8AQmr2SvG/GP8AyM7/APXvH/6E1AH/0f38ooooAKyU/wCQ5N/17x/+hvWtWSn/ACHJv+veP/0N6aA1qKKKQBRRRQAUUUUAFFFFABRRRQAUUUUAFFFFABRRRQAUUUUAFFFFABRRRQAUUUUAFFFFABRRRQAUUUUAFFFFABRRRQAUUUUAFFFFABRRRQAUUUUAFFFFABRRRQAUUUUAFFFFABRRRQAUUUUAFFFFABRRRQAUUUUAFFFFABRRRQAUUUUAFFFFABRRRQAUUUUAFFFFABRRRQAUUUUAFFFFABRRRQAUUUUAFFFFABRRRQAUUUUAFFFFABRRRQAUUUUAFQzfdNTVDN900AcHr/8Aqm/Gp/h7/wAge4/6+X/9BWoNf/1TfjU/w9/5A9x/18v/AOgrQB3dQzTQ20TTXEixRoMlmIAH1J4qavlX4+eFtR8W+MvCcenadpXjRdIt766uPCmp3f2UXaSGKNLyMMkkbtbnKASrtHmkghsGgD6mV0dVdWBVwMEHIIPTHrmpK+A/CuueHPDsGjeGdF8OXWhz2nj60t7vQtXZLhdGkurGScHTngcoInUB4sMyqXcBQMAdd4f+Lfxc1KH4dePLu60j/hHPiLrCWiaattILqytJYbiWEi4MuJZSsQ83MahScKCAcgH2dTGdUUu52qvJJOAAK+Lfh/8AF34walb/AA38X+KbrSptH8d6pc6S9hbWkkUsAjjunhuBcNM25ibbDJsC4bg5GT2fxysbfxh8TPhl8L/ErsfCuvSapdX1sHKJfz6fAj29rKVILRku0rRk4fywCCAQQD6Zt7q2vIhPaSpNGcgMjBgSPcZFWa+HPGejaL8B/itpV18IbGDRU1vw74gudT0u2XZZN/ZcEc1rdtboQquspERdQpZXIJJAx0/in4o+NNS8O+EdMsLm3sLrxh4J1XWLiYRMzQ3Vva2siNGBIpCgzvxnPTByOQD68oryT4Dya3N8FvA9z4hv/wC07+40awlkuChRnEsCOu7LOWYKQGYn5iC2BnA9boAKKKKACiiigAooooAKKKKACvG/GP8AyM7/APXvH/6E1eyV434x/wCRnf8A694//QmoA//S/fyiiigArJT/AJDk3/XvH/6G9a1ZKf8AIcm/694//Q3poDWooopAFFFFABRRRQAUUUUAFFFFABRRRQAUUUUAFFFFABRRRQAUUUUAFFFFABRRRQAUUUUAFFFFABRRRQAUUUUAFFFFABRRRQAUUUUAFFFFABRRRQAUUUUAFFFFABRRRQAUUUUAFFFFABRRRQAUUUUAFFFFABRRRQAUUUUAFFFFABRRRQAUUUUAFFFFABRRRQAUUUUAFFFFABRRRQAUUUUAFFFFABRRRQAUUUUAFFFFABRRRQAUUUUAFFFFABRRRQAVDN901NUM33TQBwev/wCqb8an+Hv/ACB7j/r5f/0Fah14Hym/Gpvh7xo9z/19P/6CtAHd15x47+F/hT4hT6ff6yLq01PSTJ9jv9PuprK8gE2BIqzQMrbHAG5CSpwDjIFej0UAeS6N8FPh5odnZ2trYyzy2eqJrX2m4up57qbUUjMSzzzyO0krBGKgOSoGABgCvCPDn7PHiGPx54d1fV9O03S9O8LardapFJY6jfzxTNKsyoltps4MFiGMoeYo75ZcLhWOPtGigDzmw+FXgbTNK8OaLZ6eUs/Cd219pqGaUmG4ZZULklyXyJ5OGJHPTgY0PHPw+8J/EfSI9G8W2RuYbeZLm3kjlkguLe4jzsmgmiZJIpFycMrA4JByCQe2ooA8n8IfBnwN4Nn1LULaK61bUtYgFpd32q3c+o3ctsM4gMtwzlYgSTsXCk8kE81keGP2evhd4S1GDVdNsbq4ubOyn0y3N5f3V2sFhOFD2sSzSuqw4QAKBgdq9vooA5bwb4S0fwH4asPCPh8TjTdMjENutxPJcOkQ+6nmSszFVHyqCflUADgAV1NFFABRRRQAUUUUAFFFFABRRRQAV434x/5Gd/8Ar3j/APQmr2SvG/GK58Tv/wBe8f8A6E1AH//T/fyiiigArJT/AJDk3/XvH/6G9a1ZKf8AIcm/694//Q3poDWooopAFFFFABXkfxV+Id54Eh0SHTrC6vbrWNRt7YGC1e5Ai3hphhCP3hiDlBnkgnBANeuV458Q/hlL468UeGtVa/uraz0d55J0t76e1JcxMsJjERwGDOdz5DBflBIJFAFv4UeP734g6frGp3VlcWcNvqNzBa+dbPBut4nMacsTucFG34xtJ2kZFesV5j8JPAk3w78EWPh68upbu9wZbl3nknT7RKd0vlmTlVLEnAAySSRkkn06gAooooAK89+IreMrbQZ9V8H6pa6a+nQzzzC5tDdCURoWVVxLFsOQcn5uvTivQqxPEWnz6toGp6VbFVlvbaaFCxwoaRCoJIBOMnnANAHivhj4h+IdF8J6J4k8eXo1288V29tLp2m6TpzJc73h86VQDM4dUUgs52KoGTyQK7AfFzw9N4eg16wsdTv5Zrt7A2EFm7Xsd3ECZIpYzgRlACWLMFxggnIz554m+DWr6n4W8AxpFa6lqXg20W1mtJrie2t7lJLeOKXZPCPMRlaMMhKkEZDAZyMub4QeMIPCum2Wn2enwY1K5vdR0i1v722trtJo/LiWS8+eaR4yFZiVVHIwVGBkA9Hl+N/hKLTtKvobPUbifV7u5sIrKK1LXaXloGM0MkeRtZdp5zt7kgc1Do3x38H63fabaW9nqcEWp3R09bmezeK3iv13A2sjnlZQVK8Aru43Zrivh78GvE/ha68PXF+bCBdL1vVtSlhtJJWjSG/t2jjjjMihmKkgHcRwM5J4reg+FviKLRtP05p7bzLXxdJrzEO+DavdSTBQdufM2uAQeM5+bHNAGp8Z/iD4o+H8fhq48L6curPqGomG5tcEyy20VvLPKITkYkCxkqDnJAHepo/ijbX/AIw0RNJuI7nw1qmgXusGZEZ5D9nlgVdoXJ4WRgVC7t3HXiuj8Z+FNS8Q+IfB2q2TxJD4f1N7y4EjEM0bWs0ICAA5bdIDgkDGec4B8nl+B/iLS/HWu654N1lNM0nUdH1G3sYxu8zTtRv5I5JJIQBgRM0fmYBBVydoweADubL42eGLi31K4v8AT9U0g6dp0urCO+tDBJcWUP35IVLHOCQCrbWGRkAHNZa/tAeF5GMEGh67LctarfQ266e/mz2R63MYJA8sHAO4q2SAFORnyvT/AIE+NXuNXvJ7PTdLkv8Aw1qGjZXULu+mnu7ry9s80s8YIQlScDJXPfOB7ha+BNYh8Y2evvLCbe28OHSGAZt5uDKj7gNuNmFPOQc449AB2ofGPwvb2+kTaRa3/iCbWrNdRgg022M8y2TAYmkXK7FJO0AnczZCgkGu/wDD2vaV4p0Wy8RaHMLmwv4xLDIARlT6g4IIPBBGQQQea+WZfgL4hsbPwvexWWn67faZoVvo93az3t1ZRK9sS6TQzQKWYZZgysgyMEEHIP0h4B8Nt4R8HaV4deG2gksotskdmsi24diWcRiVnfbuJwWYk9eM4oA7GiiigAooooAKKKKACiiigAooooAKKKKACiiigAooooAKKKKAPLPjN4s1/wAE/DnU/EnhaOGXVbd7WO3S4BMTPPcxw4bBHBDnnPHWuaX4tz6vaeCr3R4VtZdZ1o6VqlrOCZbSaKCd5oTgjDpJGACRgqQQMEGuy+KnhPUvG/gq78OaU8Ud1PPZSq0xZU2291FMwO0MclUIHHXHQc1w3in4QX998U/D/j/w3dx2lnFepdavZvkLcSwQSQw3EYAIEoWQo2SAyhcnKjIB0Fj8afCOoazb6bFDfJY3t21hbao9uV064u0JXyY5s8ksrKpKhWYEKxOM4nhv432l9pfifWPE2kXej22gajJYxloiz3B3rHFEiKzM1wzMAUUEZIwTk45zSvhX49g0vQvhveyWA8KeHtTivo75JJDezwWs5ubeAwGMIjh9qySCQ5UEgAnhNe+DvijW9L8V+HpXsms73W08QabK0swLzB0dra5RFVkQlCu+Ny2GBABGCAbHi744W9j4H13XtKtLnStV8Pzaf9qs9TtmSaOC8uY4/M8tGIZWQvtKsfmUgjIIrrdN+MfhO5XV/wC2Ir3w9Lolr9vni1S3Ns5sySPPQZbcuRtIHzBsAgEgV5DN8E/FN94Q8TWVlpmkeHdV1dtNFqI7q7vsLZXKzsbiaYAsCQSiJGMcgsckjf1v4WeOfiPca5qXjiWx0a4n0g6TYx2LyXSqzTpcNPK0iREgvEgEYBwoOTk0Aeg6J8YfCuqyXcWpQXvh6Wzsm1IpqsBtjJZJ9+dOWBVONwOGXIyoyKwZfjbpOoaRqradZX2l6kmk3ep6cup2pgS8it4y3mRZOWAypZTtcKQSMHNYeq/DPxx8S7i7n+IzWOkBNGvdJt006WS53S3+zzbl2kjjwo8tdkWD1OW6VHf/AA++JvjN4JfGP9mWMmi6TqNjaCzlllF1d30H2czSF40MUQUZCAOck5OAAQD0bwT8RtP8VPZ6PCsl1qcenWt3qEsCf6LbS3EauIncnAkYEsIxkhcFsAgn0+vBfhV8L9b+FN1HpOkTQyeGr60iku7dpHaW21RI1SWSBmUl4p8ZZWIKsAV4JA96oAKKKKACiiigAooooAKKKKACiiigAooooAKKKKACiiigAooooAKKKKAPnXxPqHxfsPiHo/hTTfEmmx2viFdQnhaTS3d7dLTy2VGIuQJCRIAW+XpnHOK6Y/GLw7p2o/2NqCXtzHZ3EWnXmrxWjDTI75yqGNpNxKnewU4yqMQrMDXQa74U1HU/iH4V8WQSRCz0S31GKdWJEha7WIIUABBAMZ3ZI7Yz28Kn+AmqQeIr+CHStK1PS9S1V9RN7e3d4JYop5vPkiNnEVikdWJEb+YoxgsCQcgHsd/8XPD+m+If7Cu7DUo4BeRae2om0dbBbqYgJGZSQTlmC7gpQMQN1YmofHzwbpmoXtnc2WqGDT9QfS57uOyeS2W9GAkIZclmkJAXapGSASMjPmXiT4KePte8TzXt0LG/Ua5BqUOpXV/dtNFZRXCSi0itNhhjKKpUMDhh1ALEjvbn4W+IZdG1HT1mtxLd+LoteU73wLVLqKYqTtz5m1DwARnAzjmgD0nwZ460vxsmorZWt3p93pM4t7q0vofJnidkWRCVywKsjBlIJBHvkDzn4c/FXVfEnxJ8b+BfEEUUC6NdOdMkQFfOtYtqTBskgtG7KSRjhxx3rvfDPhfUdG8ZeMfEN08bW2vz2ctuqsS6rb2yQtvBAAJZTjBORjODxXi/in4I+MdTtdWvPD2pW2m61d67f3UFxlyBpmpwJb3MbYXIk2rvUDgOqnPUgAveA/j0Nbj8ceIvEiC30HR76CHShDEz3F1BcApCVQEmR53AMYABIYcd67WX44eErLRdU1fWLPUdMl0aW0iurK5tSt2gvpBHA4jUsHV2OAULcgjqMVwviD4Bz6jY+IdN0traCzkm0SfS4XeQJ/xKIlj8qcxhWVXA27oyWAO4cjBp2fwY8QTaPqgGk6VoV3e3ujyRpBd3d45g067S5kEtxOOSQG8tVjUAnljkkAHZz/tB+ErMXv27SNatn0h0GorJYODYRygGOacgkCNwdwKljgEkDBqrqHxsHh7x14s8P6rpt7qNjocdlcI+nWjTmC3mhMkks7BgNoIO0KNxAJCkAmrHin4ZeINai+JyWk1up8ZWdrb2e93Gx4LdomMuFO0FiCCu7jqAeKzdQ8GfFnR/FXirV/CC6TdWvie1srZReTTRvbSW0BiMxCRMJFyx+TIJwDuGSKAO01v4x+FtKkt00+3vtf8AOs01FzpdsbkQWUoJjmlIIwrgEqoy7AEhTipl+Lnhm68Sad4Y0eC81a41K0tb9JbSAvbpZ3bMqTySEgKo2EnPOMYBOQPEtR/Z71PRbm0m8P2dj4iX+yLHTJF1C8u7Ewy2CGNJ1NsGEiOG+aMgEEDa2Ca9d8EfDvUPCfiZ9SH2SKxXQdN0uOK2EgRJrOSd5CqOWIi/ejaC7N1BPAJANPwl8VdB8Z6jHZ6TY6iltdJLJaX01qyWl0sDBXMUmT3ORvC7hyuRXqFfNPw++GPjXw743g1yeDTtB06JboXsOlXVy1tqcsx/dyfYpVEVsVOWJVmYkkZIOa+lqACiiigAooooAK+X/DvxJ8f+KtbujpepaNFeWWoy2s3hm5Rob9LWKYxmUzNJkyGMeauIjGQQuc819QV8weJvhz8T/GT2+i+IodEmFnfx3EHiJA6ajFBFP5qCOBY8JLtAjJEuwgkkHJFAHo198Y/C9lrtxo32W/uILO6jsbrUILVpbG3upCoEMkoOQwLKGIUqpIDEHOIdQ+NPhHTdYudNmhvnsbG7SwutUS3LadbXTlVEUk2eCGZVYhSqsQGIOaxdM8K/FLwpq+qaT4Vk0xtC1bVpNT+23TSm6tkupBJcwiBV2yMW3CNzIoAYZBwAeb1T4V+PZ9L174cWElh/wiviPUpr6S+kkkF7bwXcwuLiFYBGUd9+4JIZAApBIyBkA9Dk+MnhSHVte06eC9itvDJlXUb5oCLOBoo1k2mTOWZgwCqoJJ4IGRnU8JfErR/FmqS6ILDUNH1GOBbtbfUrY20ktsW2ebGCSCobAYZDKSAwGRXF6l8JL/XfCnxD8MahdRwL4u1GS8tpE3P5a+VAI/MHyn/WQ/MFPK9DnpB8MPhtq3h3xLN4h1jQtL0hktDaxm0vLy+nkd3VpG33O1Y4jtGECs2QCWGMEAyPjT8ZL7wj4k0nwFoF7aaTe6knn3Go3wLwWkJLBTtHBZipxngcZ65FDwn8UfFeheM/D/hXxlqlv4i0zxdAZdN1CK2NlOrgnCywHGFbGFOASSDkjOKf7Q3wN1rx/qmneMfCYSfUbJFhntZHEfnRI5dSjngMCSMHgjHIxzl+Cvg34z174uN8VfHsDaVbWjrJaWUt2L2feibVBkX5QinLAcEnAxjJIB9j1FKMqfpUtIwyKAOJ1uItG2BXnun+O7fwYtxbalayzW7uZFaEAsCQAQQSMjgYOfwr1u/tzIhGM15drnh1boncmc0Aefp+2L8JW1K/0mdb21utOuPszxzi3jZ32qwKAz5KncADjr2rK1H9tj4W6Ze6haT6PrzppMqRXk6WUbQwGRVZWdhN0IYZwCR1IA5ryNvg34w0vxN4g1Cz8OaHq9tquoG7hmu53SeNDHGm0gW8gGCpIw2MntVvVfgXrN7ovj+wh8gT+KJfMtCWbag+zRRYkO3IO5CeAeMHqcAA9Yn/AGzfhxa6jrGnT6Dr6DRIDcXE32WExeXtZlKt5+TuCnbkDOO1Taf+2R8Nr97BW0fXLRdTEzW7XFpHEHjgjEjSczZClWGCQM88Y5rxvxB8EfEl3qXiX+zI7R7LxJoyWRaV3SWC5gjkRCFCMGjcyDJzlcHANbGs/BG61i58NLJ5aW2m2V7aXZBO8m6tlgBjGMHBBJyRxjr0oA9H0v8AbP8Ahhql1BbppGu20V6rvaXE9kkcF0sQ3MYmMvPygsAcEqMgEVZ8P/tifDnxJMi2Oia9HFcRGe3nmskSGeIEAtG/mkY5BAbBIOQCK+d/Bn7O2s6FqWlrfaRpccWjRSIt8s93PNcOIzHG4gcrHCSDlxlgckLwQRqeAvgZ4o0DxGuo3lnY6PpyW8sc9rp9xPLBdzuwKzLBKoW3CgEgKSSWwTgUAfUX/DSfgr/oG6n/AN+Yv/jtH/DSfgr/AKBup/8AfmL/AOO1xf8AwgkP/PEflR/wgkP/ADxH5UAdp/w0n4K/6Bup/wDfmL/47WTrn7VXgDw/o15rl9puqm3sYmlkCQRFiq9cAzAH8TWD/wAIJD/zxH5VyXj74UXPiXwXrWgaWkaXl/ayQxNKSqB2HBYgEgepAJ9qAPUL/wDak8A6dps2q3Om6sYIY/MOy2R3xgEAKshJJyAAK5df20vhdHaajdalpGu6Y+lRxTTw3VnGkvlzErGyqJm3BmG0AHOeDivKdR+G3xO17w1qOiT2mnaJcSW6Lb3FpezyOXR1JRj5EZjV0DKXUllzkZrkNI/Z58S2kniW8Oj6RajWLC2tYbKSe4vYXeGRmk+0SSKrHerYDLnacHGRkgHv97+2n8O9O0ybU7zwz4kiNvPFBJC1jEsqmcgRtgzhSrEgAhjzwRmu4t/2l/Bk8Ec7aTq0JkUNskgiDrkZwwEpwR0xmvlG2/Z+8Xt4U13TCLawa6ms7jTtPN1PeW1u1o6yMDPIocCUqAQqkKACAckV7xZeB55bOCTUrSOC7dAZY42LojkfMFYhSwB4BIBI7UAd7/w0n4K/6Bup/wDfmL/47UUf7S/giRpFXTdUzGxU/uY+oAP/AD1965D/AIQSH/niPyrPsfAsJkvR5I4nI6f7C0Aeif8ADSfgr/oG6n/35i/+O0D9pLwWf+Ybqf8A35j/APjtcX/wgkP/ADxH5Uq+BIc58rH4UAegWn7QfhC8cRxafqIJ/vRRj+UhqM6tL4m1CbVTEbdHULGpwxCL0z2yST06dOetcvZeCYYnBEWMe1em6Voogh2gfpQB/9T9/KKKKACslP8AkOS/9e0f/ob1rVz81naXetSC6hSbbboQGAOMu+etNAdBkUZFZf8AYmj/APPlD/37X/Cj+xNH/wCfKH/v2v8AhSA1MijIrL/sTR/+fKH/AL9r/hR/Ymj/APPlD/37X/CgDUyKMisv+xNH/wCfKH/v2v8AhR/Ymj/8+UP/AH7X/CgDUyKMisv+xNH/AOfKH/v2v+FH9iaP/wA+UP8A37X/AAoA1MijIrL/ALE0f/nyh/79r/hR/Ymj/wDPlD/37X/CgDUyKMisv+xNH/58of8Av2v+FH9iaP8A8+UP/ftf8KANTIoyKy/7E0f/AJ8of+/a/wCFH9iaP/z5Q/8Aftf8KANTIoyKy/7E0f8A58of+/a/4Uf2Jo//AD5Q/wDftf8ACgDUyKMisv8AsTR/+fKH/v2v+FH9iaP/AM+UP/ftf8KANTIoyKy/7E0f/nyh/wC/a/4Uf2Jo/wDz5Q/9+1/woA1MijIrL/sTR/8Anyh/79r/AIUf2Jo//PlD/wB+1/woA1MijIrL/sTR/wDnyh/79r/hR/Ymj/8APlD/AN+1/wAKANTIoyKy/wCxNH/58of+/a/4Uf2Jo/8Az5Q/9+1/woA1MijIrL/sTR/+fKH/AL9r/hR/Ymj/APPlD/37X/CgDUyKMisv+xNH/wCfKH/v2v8AhR/Ymj/8+UP/AH7X/CgDUyKMisv+xNH/AOfKH/v2v+FH9iaP/wA+UP8A37X/AAoA1MijIrL/ALE0f/nyh/79r/hR/Ymj/wDPlD/37X/CgDUyKMisv+xNH/58of8Av2v+FH9iaP8A8+UP/ftf8KANTIoyKy/7E0f/AJ8of+/a/wCFH9iaP/z5Q/8Aftf8KANTIoyKy/7E0f8A58of+/a/4Uf2Jo//AD5Q/wDftf8ACgDUyKMisv8AsTR/+fKH/v2v+FH9iaP/AM+UP/ftf8KANTIoyKy/7E0f/nyh/wC/a/4Uf2Jo/wDz5Q/9+1/woA1MijIrL/sTR/8Anyh/79r/AIUf2Jo//PlD/wB+1/woA1MijIrL/sTR/wDnyh/79r/hR/Ymj/8APlD/AN+1/wAKANTIoyKy/wCxNH/58of+/a/4Uf2Jo/8Az5Q/9+1/woA1MijIrL/sTR/+fKH/AL9r/hR/Ymj/APPlD/37X/CgDUyKMisv+xNH/wCfKH/v2v8AhR/Ymj/8+UP/AH7X/CgDUyKMisv+xNH/AOfKH/v2v+FH9iaP/wA+UP8A37X/AAoA1MijIrL/ALE0f/nyh/79r/hR/Ymj/wDPlD/37X/CgDUyKMisv+xNH/58of8Av2v+FH9iaP8A8+UP/ftf8KANTIoyKy/7E0f/AJ8of+/a/wCFH9iaP/z5Q/8Aftf8KANTIoyKy/7E0f8A58of+/a/4Uf2Jo//AD5Q/wDftf8ACgDUyKMisv8AsTR/+fKH/v2v+FH9iaP/AM+UP/ftf8KANTIoyKy/7E0f/nyh/wC/a/4Uf2Jo/wDz5Q/9+1/woA1MijIrL/sTR/8Anyh/79r/AIUf2Jo//PlD/wB+1/woA1MijIrL/sTR/wDnyh/79r/hR/Ymj/8APlD/AN+1/wAKANTIoyKy/wCxNH/58of+/a/4Uf2Jo/8Az5Q/9+1/woA1MijIrL/sTR/+fKH/AL9r/hR/Ymj/APPlD/37X/CgDUyKMisv+xNH/wCfKH/v2v8AhR/Ymj/8+UP/AH7X/CgDUyKMisv+xNH/AOfKH/v2v+FUb+08O6ZZzX97axJBApZiIt5wPRVBYk9gASTwBQB0WRRkV5pp/ibwJqLtHDZyw7QCWuNOuLdSDxw0kSgn6HNWpdd8Aw3C2kyxRzOxRVa2YEkDJxlMHg544oTXcD0HIoyK5G0l8I30iRWkMMjSZ24i9OuSVwPxPNbX9iaP/wA+UP8A37X/AAoTXcdjUyKMisv+xNH/AOfKH/v2v+FH9iaP/wA+UP8A37X/AAoEamRRkVl/2Jo//PlD/wB+1/wo/sTR/wDnyh/79r/hQBqZFGRWX/Ymj/8APlD/AN+1/wAKP7E0f/nyh/79r/hQBqZFGRWX/Ymj/wDPlD/37X/Cj+xNH/58of8Av2v+FAGpkUZFZf8AYmj/APPlD/37X/Cj+xNH/wCfKH/v2v8AhQBqZFGRWX/Ymj/8+UP/AH7X/Cj+xNH/AOfKH/v2v+FAGpkUZFZf9iaP/wA+UP8A37X/AAo/sTR/+fKH/v2v+FAF6SMN9azZrJJOoGak/sTR/wDnyh/79r/hR/Ymj/8APlD/AN+1/wAKAM06XCewpn9kw+grU/sPR/8Anxh/74Wj+wtF/wCfGH/v2v8AhQBl/wBkw+go/smH0Fan9haL/wA+MP8A37X/AAo/sLRf+fGH/v2v+FAGX/ZMPoKP7Jh9BWp/YWi/8+MP/ftf8KP7C0X/AJ8Yf+/a/wCFAGX/AGTD6Cj+yYfQVqf2Fov/AD4w/wDftf8ACj+wtF/58Yf+/a/4UAZf9kw+go/smH0Fan9haL/z4w/9+1/wo/sLRf8Anxh/79r/AIUAZf8AZMPoKP7Jh9BWp/YWi/8APjD/AN+1/wAKP7C0X/nxh/79r/hQBl/2TD6Cj+yYfQVqf2Fov/PjD/37X/Cj+wtF/wCfGH/v2v8AhQBl/wBkw+grN07SIvNv8Af8fB/9ASum/sLRf+fGH/v2v+FQaPBBAb6GGNY0S4OFUAAfIh6CnYCp/Y0XoKT+x4vSun2r6CjavoKQHOppcQPAArQitAgwFrSwBS0Af//V/fyiiigArJT/AJDk3/XvH/6G9a1ZKf8AIcm/694//Q3poDWooopAFFFFABRRXi/x68O6r4i+GetRad4hvvD8djaXd1M2nOIZ7hIbeRlh87BeJS+0sUwxA2ggEmgD2iivM/gzdXN98IfA97eytcXFxoemySSSMXd3e2jLMzEkkk5JJJPNemUAFFFFABRRX5p/8FH9U+Kun6R8Jv8AhTmo3Nl4kHid7qCKCV4lvDYafc3gtpAhHmLKYdu1sqSRkUAfpZRX4vftL/tJ698ZvE/wQb4N6vcWHheyvfCniPxDLazvES2vahFaWWnSmMjLBRcPLG2QQoyMgV6P8Tv+ChvibwPo/iGx0fw5Zar4p0rxvqmhrbqZTBbaDpl3BaHULvDhleSW4jiQAhWkY4BCkEA/VqivgDxd+1J8WPD37QJ/ZjtPDOnz+Ltd1K0u9BvGMosG8MOkkl5d3IEm/wC02pgkj8tSokYqygKDnhPif+3H4v8Ahx8aD4Uk/wCEU1Hw9B4jstBn02zu7u811IbyRIftk0sMZs7cqzg/ZpSJDggsDjIB+nVFfh38b/2lh4e8Y+JfiNYW+o33jXw145utLj0O21W8i0Q6ToEkNomrajao4O4PdrCFRkilkZSyMUIr6b/aL/au+O3w38V/FWL4b6T4buvD/wAJtF0jVb86qLw3dy2qmTEcJgdYwVEefmA4I5PYA/Smivzy8fftRfHT+2fiVqfwk8K6Jf8AhX4MwQya/wD2pczxXuozfZFvrmLT/KzHF5MDcNMG3vwBjmvE/i1/wUW8ZeE/FGuz+Drbw5/wj2laNoGtWVlqw1BNU1SPW7VbnyoZbZZLeJ4wwUmUBQSCSQCQAfrzRXyB+178VfGHgL9mTUfGXguYaHrusNpVhDdkpKNOOr3MNs8+4ZRjCsrFWB27gCDivBPH3wvn/ZG8TfCfx18OPGniPU5PEfivTPDOvWOtarPqcOrwarvR7gxzswjuImUSK0QUAbgRjOQD9OqK/NPxh+1b8edJ+IHiRtC0nw1L4G8N+PtH8Ey+eLw6rI+pG03zIVkEHyfacDIHTocc8Prv/BRfXbTx9rjaJpWkXnhTw/4jPh+TSyNQfxHdxwXC21zfwGOJrQRo5Zlhdt7IpJZTgUAfrJRXxd8Jfi1+0H8Vfip41tbO08L2fgHwR4qv/D1x5gvTrEyWcaOJIyGNvubzFzkAcHjpXgf7YUv9pftS+APDGr6T4w8TaLL4V1a6fSfB99NaXbXEV3Asc7iO6tQUQMVJLnBYcHsAfqbRX5M/Cr9oL4reCf2VdKv9Hvk8Q+Lr34gDwhaWnid7ma70iO9vjDBZ6rIBHNJc2sRBkYFsqRgsAK7pf2ufjDpPw38b3/jFfBWjeJvCPjVvCb3l5eXdpo4jS2huGuEjbfdXMuZCFgi2swGeADkA/SyivzG0P9uDx54h/Zv8TfEXSNG0m78aaB4vtPB8AQXaaVfz3dzaxR3Mccwjuo42juQwR/mBHOQcVcn/AGuvjP4S8LfEZvHmk+HpvEXgHxf4f8OM2n/a1sZYNYa28yX99J5gaNLjjJAyOQR1AP0tor8ovEH/AAUM8XXEfxv1rwH4YsrnQfh7plhfeHLq787/AInAuNQOnSTnY6g27SpJ5JXBYKGJwcDqfEn7f85tvgJbeC9Dgu9W+KN9Yw6/bz+Z/wASSCW9j025UhWUrKLxnij35B8psg0AfppRX5QeJP8Agoh4n0rTtJ03R/DdjqXiW78Z3uj30aGU2+naHbasNKiu58PuE1xKyrECdrMHOMLg9J4k/a4/aO020+LnxD0Twj4cvPAfwc8SXulagktzdR6rf2dmY2le2AzDHJFHIGJclXOQqgjkA/Tuivzp8bftX/Ge9vfiP4r+DPhfRdS8DfCGCGbWW1a4uIdR1Im0XULlLAQgxxeTbuCDMG3vwABXj3xc/wCCinjPwh4t8Qv4QtfDjeH9H0vQNVsrHVRqEeq6pFrdpHc+XDNbLJbRNHv2kyhVGQSSASAD9d6Kz9MvHv8ATbTUJI/Ia5iSUx7lfaXUMV3KSrYzjIJB6jitCgAooooAKKKKACiiigAooooAKKKKACiiigAooooAKKKKACiiigAooooAKKKKACiiigAooooAKKKKACiiigAooooAKKKKACiiigAooooAKKKKACvGPj941vfh98K9Y8WadZDUbixa22wFJZN++4jQjbCrSEgEnIXjqeK9nrjPH9iNR8KXloWCbzGcnnGJFP8ASoqfAzSCvJep+d/hb9of4h+K7yy0PV/CVvY6RqxxLcwTTyXUEJHmEi3aIMzjBG0c5I4JGK858VfFfUvB/wAQb/XvBV1qPiPT9MZIptLvTKqT3M7GILbtNH+7aMj5ipwSdpGDxu/tT/HOy/Zl0LRNQ0+zOpa7r9yYLHIH2aJoShkachwwUoxClQSDyRgYP5V+J/2s/FX/AAse58Q+AJRB4atNY/tBFdpJGvESTcFYEDy1kyScDdg89OeCjGrLWJ7ieGjSlGe5+w3wW/ai1fxB4x0Xw34p8I3Ghy6hdxQQ7pSR5s020sxMYAADcKDyB1GeP06r4D+EXiDQviCPCPjnw7czPY6nJbXCJJtLIxYb43I4yjAqSOuMjrX35U4LFKvzXVraHDisMqPLZ3TCiiivUPNCiiigAorwH9ovV9ZsfBWl6Hol/NpUvirXdJ0SW8t2KT29vf3KxzPE45RzHlVYcqWBGCAa534b6Y3w4+OGu/C7RL+8uvDd3oNnrUFve3U161nc/aZbaYRy3DPIEmCq20sQGViMZIoA+oKK+Cvja0bfFTX0+J0viiLShpNsfCH/AAj5vhEb7EhuyTY/KbsSCPYLj5BH7bqtRfGTxR4x+CPw38JJq0eleOviNpEUt7fF1iOn2MaAXt/zgCRshIQMZlcEcKcAH3XRXxf8M9Lg8e/sueALjxL4xutN0fTbSK71u4S7ZJru3t43Lw3F4JFliUkq8jK4YhdpIDGtL4S+G/E/jX4Q+ItO0zXtW8O+Hdd1SSXw9dXEkkupwaETFkCSdjKgn2ymFnYvHFIpByAAAfX1FfHXwb0y71m8+IsHws1rULLwJcQxafot/dzy6iBqsSypeXlkbp3ZoFYxqMsUeVHK8Eknwj0aDSPjRqGj/DrVtU1Xw3oGmPZeI7u/vp72C610yRtEITO7gXEcYkNx5RCLvVCAwwAD7FooooAKKKKACiiigAoorlvGGg6l4l8PXOiaXrVzoE12UU3lmENxHGHBkERkDKrMgKh8ErncBkCgDqaK+Vv2eNCg8Zfs6WXh3xPeX2oW81zqltJM97cLdvHb6lOseblHWbICKMhgSOOmRWL+z54T0x/iT428deE7nUE8JWR/4R/TYrnUbu9iu57STdfXg+0yy8CYCCMqQMRuf4qAPsOiiigAoorm/FGkXGu6NLpcGoy6UJWQyzwHEnlKwMiq+QULqCu4HK5yORQB0lFfMumeJL3wt4d8WeKvByyX/h6K4s4dKjvZ5JUmlMqw3MkUkhaQQszAKckFlLAYPOnqvxC+J2kN4kglsNIlk8K20d/cMrzhZ4JUZxHGDysgEbAuxKk4+UZOAD6HorxXUfHnjG/vNZfwdYWcll4dghkuRePIJbiWWEXBihKcJtjZfmYEFjjGATXqehavb6/omn67aArBqNvFcIG6hZUDgH3APNAGvWTpn+u1D/r4P/oCVrVk6Z/rtQ/6+D/6AlMDWooopAFFFFAH/9b9/KKKKACslP8AkOTf9e8f/ob1rVkp/wAhyX/r2j/9DemgNaijIoyKQBRRkUZFABWNr+jW3iHQ9R8P3rslvqdtNayMhAcJOhRipIIBAPGQR7Vs5FGRQBz3hXw5ZeEfDGkeE9OkkktNFs4LKFpSDI0dtGsaFyAAWIUZwAM9ABxXQ0ZFGRQAUUZFGRQAV5Z4++E/h/4i+I/BHibWrm5gufAeqtq9ksDKqSTtby222YMrEptlY4Uqcgc4yD6nkUZFAHxf4e/YW+CvhTw/rHhzw61/Y22teLbPxfKySxb0udPuFuLa0jJiIFpGykKhBYKzYfJzUc/7CfwZnsvihCZ9SW8+LOsQaxqt6JYTcRG3vFvo7a2Jh2pAJlJKsrMQeWJCkfamRRkUAfI+v/sb/DjxH411P4n3+rasPG97rllrdtraSwi807+z0McNjakwlFs/LZ0kiZW8wOxdi2COS1r9hLwLrOsalIvjTxNYeHNT8Rp4rbQba5tl09dXFwty83zW7TMjuufLaQqpJK4IUr9y5FGRQB8WXn7CfwYvLf4rCWbURffF/UodR1a8EsJuIBBdrerb2pMRWOHzlywYMzZ5YkKR0+tfsi/D/wAReG/itoGt6vrF7cfGCVH1jUJZ4muooYAFtra2PleXHDAg2xqUY4J3EnBr6syKMigD43+In7F/gfx/4l13XLbxV4i8MWXjKC2tvE2maTdxw2etx2qCJDch4ndGaIeVI0LIXTg881R8bfsQ+CvF2ueJL7S/GniXwnpHi/TbDSNU0fRp7SGwuLDTrc2kMBEtrLKqiEsp2yA4Y4I4r7WyKMigDzHxB8IPh/4o+FEnwU17TBeeEZtNi0o2juxItoUVIwJM7w6BVKuDuDAMDkV4X4G/Y68MeF/F+geL/FfjjxT8QJPB246Ba+Ib+O5ttMdlMYmjSOGIyzqh2rLKXZRyOQDX2FkUZFAHyhYfsh/D2y8CDwPLq+sXrzeKrfxje6lc3EUl/fatb3Edyrzv5QTYTEiFURcIMAg81Tm/ZC8OReM7/X/DvjfxR4b8P6zq417UPDml36W2mXOol1kkkLLF9pjSZ1DyxRzKjtk4AOK+u8ijIoA8r+Gnwl8PfC258YXegXN1cN411668QXYuWRhHdXaxq6RbEXEYEY2htzDJyx4x558Xf2a7H4q+P9E+Jtj438ReCfEOhafcaZFcaFNaxF7a6kSWRZBc21wDlo1PGOgr6XyKMigD5B8OfsYfDPw9J4VkbWNd1T/hGteufFM4vb1Zf7X16cBV1DUSIw0ssIH7oIURcnKmo/En7G3gfXJdU1XTPEetaDr174tm8Z22p2ctuZ7HU57VLORYVlgeMwtEgBWRWbJJDDivsLIoyKAPzL8VfsDapJr3hLRfCXj/AMQQ+GZfE+o+MPEl/Ne276rJrX2W3j0+eEvatE4jmiZyroQpYleiha9x/wAE/b/X/E3xE8IeN/Heu+IPh18QrTS7+9ubm7tv7XfXrC5U+Z+7tEiWP7NFFGCFyRkcHBH6eZFGRQB8heLf2LvhN4qtPEemRzaho+n+I/D2keGWtrF4UitbDRLg3NsLcPE5V9x2sWLAr0APJpf8MOfBiHxbrvjSwfULPUNf8TaR4pmEUsWyO60eZrmOCIGIlLeWd3lmXO5mYkMuBj7KyKMigD4o0v8AYQ+DGjaL4t0ixuNTWfxp4ntfFOoXplhNy1xZ3gvYLZG8natsku7C7S2HYl8kEePeF/2HtS8ba/8AFqb4qa/r2heG/Gfja/1OTQ9Ov4F07W9MzFJbPcqI5JYyzKyyKjxsygBhwpH6cZFGRQB8cfET9izwF4+8T6/rVp4l1/wtpfjOK2h8SaPo91HBp+sx2qCJBOrRPJGWiAikMLoXQYPOSc/xz+xB4J8Za74ov7Dxp4l8LaP4zsLDS9W0XSJ7OHT7my062+yQwkS2ssqr5OVO2QHBOMcY+18ijIoA+dtS/Z5tLjTNb0TQvHPijw7p+q6ZpWl2sGnaiIl0qLSSNj2JeNzHJMqhJmJYuuQcHkemeGPBEnhvxN4n8Sv4h1XVh4lmtpRZX1wJbTT/ALPCIillGFXylkxvkGTubniu9yKMigAooyKMigAooyKMigAooyKMigAooyKMigAooyKMigAooyKMigAooyKMigAooyKMigAooyKMigAooyKMigAooyKMigAooyKMigAooyKMigAooyKMigAooyKMigAooyKMigAooyKMigAooyKMigAooyKMigAooyKMigArkPHFreXnhi9hsYWuJvkYRpgswVwSADgE4HTNdfkVzfiuDxHd+H7y38I3UVlqzqPImnXfGpyCcjB6jIHBwcHFY1qaqU5QfUftnR/epXtrY/AP9u/wD+0D8RPibofhfQfAut3vhfT9Kkl+02WlTznz7qQrMnmxq6qxWJAFzkKScZINfAOufs7/ALRcyrYWHwq8U7FbaoTRr1VAAABJEQB4H0HT3r+wnR4tUh0q0i1uaO41BYkE8kQ2o8oA3FR2BOccCtXIowtNUKSpx2RrUruvL2slZs/J/wD4J+/C/wCJ3gL4S+GNF8ZeH9QsJxqU90UvImge3gMgwHWTaw5UsARkgjGc1+sFGRRkVz4fCqjKck9ZO5vWxDqKMX0QUUZFGRXccQUUZFGRQBxfj/wJoXxJ8K3fhHxEJRaXRjdZbdzFPBNA6ywzQyAErJHIqsp7EcgjIrzzRvgXaaRYeJnk8Wa5e+I/FNvFa3GvSTQrqMEFuGEMdsY4UiiWMszDEfLMWbJIx7vkUZFAHhHjP4FWPi7WJtZtvFeu6BJqVlFp2ppp91GiahbxbtvmCSKTy5MOymWHY+0kZ6EdTqPwY+E+sWGm6brPhDStRg0e0jsbMXVnFcNb20QwkcbSqxCgdBnrycmvTsijIoA+YtQ/ZX8Cz/CbR/g5o+pahoWiaVcxXcjWP2ZJb+WLlTeB4GjmBYKzAphiq5yBiur1P4MXeu/DvXPhzr/jzxBfw67hHvi9pDewwfKHhieG2RAkgBDZQkhiARkY9yyKMigDxDwr8HL3wr4a1DwpB461y6sbqw/s+1DCxhOnIFKLJafZ7WIK6jG3duAwMCqvwm+Bo+EMVnpujeMta1HRbCKSKLTrwWX2fMh3GRmhtYpWk3EsWZyWJJbJNe85FGRQAUUZFGRQAUUZFGRQAUUZFGRQAUUZFGRQB5r4X+Gum+Dfh/P8PtA1C8t7eX7cUu90ZuoXv5pJndG2BNyNKdmUOMDIPOd/wT4P0T4f+EtJ8FeG4jDpujW6W0IY5chBgs543OxyzN3Yk966vIoyKACijIoyKACuU8ZeFofGfh278N3V7c2EF6AsklqypKUBBK5ZWG1gMMMcgkV1eRRkUAeYR/DSJ9BuPDepa7qF/YzfZgiSC3QQC1kWRBGIoUABKgEEHgYGDzWtqfgPSdUl8Ry3E06nxNZx2VwFK4SONZEBjypwxEhznI4HFdzkUZFAHlmr/CzTdRuLiW01a/0uPUbeK2v4raRFW7jhXy1L7kYq2z5S0ZUleOwNekWVna6dZ2+n2MYht7WNYo0XhVRAAoHsAAKt5FGRQAVk6Z/rtQ/6+D/6Ala2RWTpn+u1D/r4P/oCUwNaiiikAUUUUAf/1/38ooooAKxGhim1uXzUDgW8fUA/xvW3WSn/ACHJv+veP/0N6aAufYrT/nin/fIo+xWn/PFP++RVqikBV+xWn/PFP++RR9itP+eKf98irVFAFX7Faf8APFP++RR9itP+eKf98irVFAFX7Faf88U/75FH2K0/54p/3yKtUUAVfsVp/wA8U/75FH2K0/54p/3yKtUUAVfsVp/zxT/vkUfYrT/nin/fIq1RQBV+xWn/ADxT/vkUfYrT/nin/fIq1RQBV+xWn/PFP++RR9itP+eKf98irVFAFX7Faf8APFP++RR9itP+eKf98irVFAFX7Faf88U/75FH2K0/54p/3yKtUUAVfsVp/wA8U/75FH2K0/54p/3yKtUUAVfsVp/zxT/vkUfYrT/nin/fIq1RQBV+xWn/ADxT/vkUfYrT/nin/fIq1RQBV+xWn/PFP++RR9itP+eKf98irVFAFX7Faf8APFP++RR9itP+eKf98irVFAFX7Faf88U/75FH2K0/54p/3yKtUUAVfsVp/wA8U/75FH2K0/54p/3yKtUUAVfsVp/zxT/vkUfYrT/nin/fIq1RQBV+xWn/ADxT/vkUfYrT/nin/fIq1RQBV+xWn/PFP++RR9itP+eKf98irVFAFX7Faf8APFP++RR9itP+eKf98irVFAFX7Faf88U/75FH2K0/54p/3yKtUUAVfsVp/wA8U/75FH2K0/54p/3yKtUUAVfsVp/zxT/vkUfYrT/nin/fIq1RQBV+xWn/ADxT/vkUfYrT/nin/fIq1RQBV+xWn/PFP++RR9itP+eKf98irVFAFX7Faf8APFP++RR9itP+eKf98irVFAFX7Faf88U/75FH2K0/54p/3yKtUUAVfsVp/wA8U/75FH2K0/54p/3yKtUUAVfsVp/zxT/vkUfYrT/nin/fIq1RQBV+xWn/ADxT/vkUfYrT/nin/fIq1RQBV+xWn/PFP++RR9itP+eKf98irVFAFX7Faf8APFP++RR9itP+eKf98irVFAFX7Faf88U/75FH2K0/54p/3yKtUUAVfsVp/wA8U/75FH2K0/54p/3yKtUUAVfsVp/zxT/vkUfYrT/nin/fIq1RQBV+xWn/ADxT/vkUfYrT/nin/fIq1RQBV+xWn/PFP++RR9itP+eKf98irVFAFX7Faf8APFP++RR9itP+eKf98irVFAFX7Faf88U/75Fcl448WeCPhr4U1Lxz46vbfR9C0mPzbq6nGEjTIUcAEkliAqqCWJAAJIFdvXwP/wAFNlMn7F3jpAMky6V/6cbemlcCdP8Ago1+xJIwRPHkZLHAA0rUck/+AtPP/BRX9idXKN47jDZxg6VqA5H/AG61/LTpGjyrdwSXIZCzDoMYHXocfzr0K58B+Hrn4fX3jDTtZml1OyultprUwtgPKW2kzAFcMACBkHqD0ydpRUUjSMGz+oj4f/tp/spfFDxXYeCPBfjO2vNZ1RjHawSWd1bebJgkIrzwxpvIzhd2T0AJwK+sPsVp/wA8U/75Ffx4fslPNF+058KlkGd3ifSQcnOD9pTp7iv7GazkrWJasVfsVp/zxT/vkUfYrT/nin/fIq1RUElX7Faf88U/75FH2K0/54p/3yKtUUAVfsVp/wA8U/75FH2K0/54p/3yKtUUAVfsVp/zxT/vkUfYrT/nin/fIq1RQBV+xWn/ADxT/vkUfYrT/nin/fIq1RQBV+xWn/PFP++RR9itP+eKf98irVFAFX7Faf8APFP++RR9itP+eKf98irVFAFX7Faf88U/75FH2K0/54p/3yKtUUAVfsVp/wA8U/75FH2K0/54p/3yKtUUAVfsVp/zxT/vkUfYrT/nin/fIq1RQBV+xWn/ADxT/vkUfYrT/nin/fIq1RQBV+xWn/PFP++RR9itP+eKf98irVFAFX7Faf8APFP++RR9itP+eKf98irVFAFX7Faf88U/75FH2K0/54p/3yKtUUAVfsVp/wA8U/75FH2K0/54p/3yKtUUAVfsVp/zxT/vkVR0lVje/VAFUXB4AwPuJWxWTpn+u1D/AK+D/wCgJTA1qKKKQBRRRQB//9D9/KKKKACslP8AkOTf9e8f/ob1rVkp/wAhyb/r3j/9DemgNaiiikAUUUUAFeTfFHRfFmtQ6cNL8Wf8Id4eszcXGs3kHlreGGOPMawyzJJFEgbLSuy5CqApGSa9Zrwb47fCjxR8XdJ0rQNH8SwaJpVtdC51C0uLE3sGpCPBihnCzwN5IYFnTcQ/AbIBBALH7PXiTxP4s+GdrrfiW6l1FZbq8XT76eJYJ77TEnZbO6ljQKqtLEFY4VQww2BnFe41x/grTPFukaKLHxnq1prN+kjbZrKyNhEIcAIghM0+CuDk7uRgYGOewoAKKKKACvgb9un4kax8P4/hTa2/j+5+GuieIvE32HWNXtTArxWf2KeT71xHLGo8xF5KmvvmvCvi/wDBWH4seJvhx4gudSWzi8Aa7/bTW724nW8H2aW38kkuoj/1u7dhumMc5oA+GvhL+15q/gzRfiNLe6/ffGzwxpmuaNongvV47aG1u9c1TV42MmnCZEigk+zyL80+0AKSTn5RXrPiD9uO+8DeFfGcnxD+G17o/jjwPc6Kl34fiv4LoXNrrtwtvbXNpeIojkG8sGUqpDLtJGci9rX7EVvcW3jPSfC/jCXw/pereJbLxl4dghs1f/hHvEFtkzTR7pdk1vcNy0BRAuWAbnNZur/sU+JvHOkeLdT+JvxCXWPHHjG90CS41KDTBbWdrYeH7tbuCzt7QTsQJGDF5GlJLNnGBggGLr37dvj/AMMDx1b658D9ShvvhgtveeJY01ixeO00u7QSwXEMg4uJWQOzQqAFCHMmSBXa/Hf9tGf4JynWW8CSal4RtbG01C41S41ex06WeG7AYLp1nOxmvJI1OXUbMEFQScZ6rx3+yofGt98dbz/hJvsn/C6NH0/Sdv2TzP7O+wW0lv5mfNXzt/mbtvyYxjJzmvCfil/wT31Xx7rHi250jxxp9ha+NtI0/TL2W+8PQ6lqNodOtEtFGn3ck6tbwzBA0sagkEkqwJBAB3nxA/bW17w14m+IOk+Cvhde+L9K+GunabrOralFqNvaIunahafbC8ccql3lSMMRGudwUkspwD9i2Xj3w5e/D63+J5nNvoE+lprHnSjaUs2gFxvcZ4xGckZ4r5yt/wBlQwwfGOH/AISbP/C2PD2naDn7J/x4fYNMfTvOx5v73fv8zb8mMbcnOa6zx98AtT8Yfsyx/s5ab4obRw+j2Gh3GqJbeY8lpbLFFcBYfMUKZ4kZPvsFDn72OQD5P/Yp/aJ+K/jT4kato3xn1MXVp8SdIPjTwnAAn+gad9rlgewygBZ0hNvKActtYnnmvW/gn+2nN8aL+51PTvAVxbeD0h1GZNSg1Ozvbu3GnFspqGmxET2jzBT5SkuWJAOMg1rH9h34R+FfHPgP4hfBLT7P4eax4PvmluZbK13nUrCe3e3ntJf3iYLBgyyENtYZ2nNch4N/Yr8UaV8X9N+LPi/4g2+o6loMGqQWl9pmg2uk6veHUomiEmqXcLNHdtbht0YMKqXAYjqCAdL8Bv2wNY+ONheeI9O+HVzH4ebS7jU7G60/VrDVJpDAeLK6t4nRrS8lH3InJGQQzqQa4bSf2/AJvGeleMvAY0bWvDHhS+8XW9nba5ZamZ7SwwJLa5a1DfZLrLKTGwbAJOSRg0tG/YF1e71zxBr/AI98fW1xf6v4b1Pw0t5oOhQaFdXKakoVrzUXglZbu4QAFflRc5PfFQ+CP+Cfk+l391N408WaZPp9z4O1PwabLQfD8Oixi21ERg3RZJpC9ziMl2cEMSMBQDuAPVPij+07cadoek6BoemTWOqeNvAGu+KrO9WZSdPksLGOdEKFMSNumGGyACvIIOBx/wALP2v4tG+H9na/Fa2mOoaP8MdK8dvqjyof7Xie3AvAqBFEcqThVIBIJkUgAEA0ND/Yl+Ir6hpmo/EL4tf8JIdC8I6v4O0+JNFjs0hs9Rt1t45mKXDF5kCgyEnEmFA2YJby/wCN37Ml/wCMte/Z8/Z+0bTdYvoPA1la2PiPxElobXSbnw7FHH9otJJS7bpriW0i2wqW2hsk4OaAPXPiR+2/4n+GXhHRvG2v/CyW20u40Oz1zUWu9dsbJ4Vu13m1sop9sl9cRL/rEVYxu+UEkjOl41/bU13S/EXizR/h18ML3xpYeDdB0zxNfXqajb2SLpuoW73ORHMpYyrGhKxruL4blcANjfHf9hfUfi54/wDG/i7RfF2naTbeP9KttLvRqGgQ6re2CWsDQKNMuZJozbJKCDKqrknLKwbBX07w5+yl/YEvxFk/4Sbz/wDhPvCGkeFcfZNv2X+yrGez+0/60+Z5nnb/AC/l27cbjnIAMPX/ANsPUNTv9N0r4GfDu++It5J4bsvFeoot7BposdN1BPMtk3TBhLdSqGKwr/d+9zw7w9+3J8PNd/tDVX0+ey8Pp4HPjqwvppADeWcDvDeW5i2/u57aVRGyhm3FgRxiufH7Hfj/AMHLomo/Bf4nDwprSeE9N8I63PPpKX0OoW+lxeVb3cUJnQwXMYZ9pLuuGAIOCTX+IX/BPzwL4v8Ah38LfhroWv3Wiaf8Oc2lxL5Ymm1bSrlkkvrOdg8YUXUkauWAYKcgIQcAA+xvhd4v1L4g/Djw1461fR20C68QWFvftp8kome2FygkWN3CplgpG75Rg5Hau/qKOOOGNIYlCJGAqgDAAAwAPQYqWgAooooAKKKKACiiigAooooAKKKKACiiigAooooAKKKKACiiigAooooAKKKKACiiigAooooAKKKKACiiigAooooAKKKKACiiigAooooAKKKKACiiigAooooAKKKKACiiigAr4W/4KRKjfsd+NhJ0Mul5/wDBhb19018rftpfDvxB8U/2bvFvg3wvZvf6ldC0mjgiGZJBbXUUzhB3bahwByTwOcVSeo0fyvz7JJEhLFg64GAAQSMDke9Jb6Pctp95aOGiYykuhJAJUAgsBgEgZAJGeTivqW7/AGa/jxbRac2k/DfxBFdWMvmtdJp1yJWx0AVkI+XpkDnuDzWK/wCz58drWNrpvhl4sl1KS4YyM+lXEsTxkEhsqmQ+Tgggg8nI6Hpcizmf2ZvDjRftS/DaeCPy4YvE+lMBktjbcRk8kdSck9u1f1y1/OR+zD8Avjna/HDwRqWq+ANW02ystYtb25uL6wlto4YYJBI7NJIqgEAYUAkkkAA1/RvWU7aEthRRRWJIUUUUAeJfHnxZ4j8L+DrG08IXS2Gs+JtX03RLa7ZBKLVtQnWN5wjAqzRx7iobgtjORwee+HV54t8I/FvW/hJ4h8Q3XirTzo9rren3d+IvtkO+eS2uIJHhjiV13KroSoIDMpJAGPSPij8Prf4meEpfDb30ulXcU9te2V9CoeS0vbOVZoJlVuG2uoyp4ZSRkZzXn2h/CTx9Yz+KPF+qeNYrnx5r9jBp1rqUWmrHaadb2xd41is3lfeTJIzuXkO4kAYAAoA8g+MHxA1K3+KPibw/4k+JM3wx0/w/o9re6GsSW4/te4m8wzSMbiOQ3AhdEi+zxYY7snkg11KfHHxX4r+B/gO98LwRwfEL4l2MS2URUmK0kMYa7vnQ5Ihtly4BzljHHyWrt/iB8JPH/inWxqnh7xyulw3VnHa3EN1psd+LeVQwN3pxaRPss7qxDEh1OFO3K82r79mr4SalZ6DbXem3Il8NaWmkWU8F/d2kqWiYOxjbSxBizAMxI+Y4J6DAB4r4d8e/EPxZ8LPgj4Vh8RT2Wu/EJX/tLWkSI3Yt7G1kuZzCHRo1lmKqoYoQoJIGQCDUviR8SfB+i+M/himutqXiHTPEWi6HpWtXcUbTJa6+IWjlnRFWKSa3V5ADtAcqhYcnPc6J+zHD4T+GnhDwp4P8RTaf4j8FXf2+y1aWN7lHuHjaCdJLaWY4gmiYq0SSKFOGUgg51R+zu2peC/Eul+JvEkt54q8U6lb6xPrUECwfZr6xMRsjb25ZwsVuIUARmYsN25ssTQB5x4k+Ifjn4DXPj7w5fa9ceMYtO8LDxFpE+qLF9ohuRM1pJDM9vHErxGQxuvyhlBZckYNdl4bf4h/DP4o+DPCfijxhd+L7LxzYX/2j7bFAhtdSsI45zJbGCOPbBIjOvltu2kKQ2Sc7lj8BLvXk8W3vxd8QDxPqni7ShocklraiwhtdPXewSCPzJiJGkkMjOznLBQAAoBu+Bvg94u0zxfpXjD4j+MR4sufDVhLp+krHYrZLEtxsE1xPiSTzbiRY1UsNigbsKNxoA+hKKKKACiiigAooooAKKKKAOZ8X2nii/wDDOo2Pgy/h0vW54ilrd3ERnigkPHmGPI3bRkgE4zjORkV8w/A3xxqd98XvE/gCz8W6l4t0TR9Ngmnl1yCO1vYtSM7RuLdBDbvJbMgyW8sorABXOSB9NeNPD994p8L6hoGmazdeH7y7jAhv7IgT28ikMrqGBUjIwynhlyOM5HmXg34V+LLPx+vxL+I/ieHxDrFppz6VZrZ2A0+CK3mlWWV3UyzNJI7Rr1YKoBCrkk0Ae70UUUAFc34ptdbvdHkttC1EaXcOyb7nyhK6QggyGNDkeYVyFJBAJzg9K6Sub8TaRqWtaaLbSNVl0e8iljmjnjUOMoc7JIzgPGw4ZcjI6EGgDw3w38Tp9I0fxdqqXN34l0rRLizitftSrBfO9wVSRGUpG20MwKM6KW5AyADXQX/xb8RaadZju/CEqzeHokur8LeQlUtJFLq8bY/ePhWymBjbwxyM3rj4V6jq8Gs3XiDWluNW1oWMbSw23lQRQ2E3nIixb2JLEtlmcnkYGBg72sfD7+15vF8v27yv+EqsIrHHl58jyklTf94bs+ZnHHTrzwAZ2r/E28hvNRj8OaDNrVrokMc9/MsyQmMSxiYJEjgmWQRkMV+UDIGcnFelaXqNprGm2mrae/mWt7Ek0TYxlJFDKcHpkGvLdQ+Guupcaj/wjXiAaZba5BDBqCvbCZy0MQh82Bt6iN2jAU7g4yAQMjn1HSNLs9F0qz0fT1KWtjDHBECckJEoVcnucDk0AaVZOmf67UP+vg/+gJWtWTpn+u1D/r4P/oCUwNaiiikAUUUUAf/R/fyiiigArJT/AJDk3/XvH/6G9a1YhiWXW5QxYYt4/usV/jf0IpoDboqt9ki/vP8A9/H/AMaPskX95/8Av4/+NICzRVb7JF/ef/v4/wDjR9ki/vP/AN/H/wAaALNFVvskX95/+/j/AONH2SL+8/8A38f/ABoAs0VW+yRf3n/7+P8A40fZIv7z/wDfx/8AGgCzRVb7JF/ef/v4/wDjR9ki/vP/AN/H/wAaALNFVvskX95/+/j/AONH2SL+8/8A38f/ABoAs0VW+yRf3n/7+P8A40fZIv7z/wDfx/8AGgCzRVb7JF/ef/v4/wDjR9ki/vP/AN/H/wAaALNFVvskX95/+/j/AONH2SL+8/8A38f/ABoAs0VW+yRf3n/7+P8A40fZIv7z/wDfx/8AGgCzRVb7JF/ef/v4/wDjR9ki/vP/AN/H/wAaALNFVvskX95/+/j/AONH2SL+8/8A38f/ABoAs0VW+yRf3n/7+P8A40fZIv7z/wDfx/8AGgCzRVb7JF/ef/v4/wDjR9ki/vP/AN/H/wAaALNFVvskX95/+/j/AONH2SL+8/8A38f/ABoAs0VW+yRf3n/7+P8A40fZIv7z/wDfx/8AGgCzRVb7JF/ef/v4/wDjR9ki/vP/AN/H/wAaALNFVvskX95/+/j/AONH2SL+8/8A38f/ABoAs0VW+yRf3n/7+P8A40fZIv7z/wDfx/8AGgCzRVb7JF/ef/v4/wDjR9ki/vP/AN/H/wAaALNFVvskX95/+/j/AONH2SL+8/8A38f/ABoAs0VW+yRf3n/7+P8A40fZIv7z/wDfx/8AGgCzRVb7JF/ef/v4/wDjR9ki/vP/AN/H/wAaALNFVvskX95/+/j/AONH2SL+8/8A38f/ABoAs0VW+yRf3n/7+P8A40fZIv7z/wDfx/8AGgCzRVb7JF/ef/v4/wDjR9ki/vP/AN/H/wAaALNFVvskX95/+/j/AONH2SL+8/8A38f/ABoAs0VW+yRf3n/7+P8A40fZIv7z/wDfx/8AGgCzRVb7JF/ef/v4/wDjR9ki/vP/AN/H/wAaALNFVvskX95/+/j/AONH2SL+8/8A38f/ABoAs0VW+yRf3n/7+P8A40fZIv7z/wDfx/8AGgCzRVb7JF/ef/v4/wDjR9ki/vP/AN/H/wAaALNFVvskX95/+/j/AONH2SL+8/8A38f/ABoAs0VW+yRf3n/7+P8A40fZIv7z/wDfx/8AGgCzRVb7JF/ef/v4/wDjR9ki/vP/AN/H/wAaALNFVvskX95/+/j/AONH2SL+8/8A38f/ABoAs0VW+yRf3n/7+P8A40fZIv7z/wDfx/8AGgCzRVb7JF/ef/v4/wDjR9ki/vP/AN/H/wAaALNFVvskX95/+/j/AONH2SL+8/8A38f/ABoAs1yPjr/hLP8AhFNQ/wCEH2f23sH2fzNuM7hu+/8ALnbnGeM10v2SL+8//fx/8ajeC3jUvI7KqjJJkYAD35pNXujGrT9pCVO9r9t/kUvD39s/2HYf8JFs/tPyU+0+X9zzdvz4xxjPpx6cVtVifbdEzxfL/wB/z/8AFUv2zRf+f5f+/wCf/iqpRa6FwjyRUTaorJim0ud/KguxI5/hWck/kGzV37JF/ef/AL+P/jQWWaKrfZIv7z/9/H/xo+yRf3n/AO/j/wCNICzRVb7JF/ef/v4/+NH2SL+8/wD38f8AxoAs0VW+yRf3n/7+P/jR9ki/vP8A9/H/AMaALNFVvskX95/+/j/40fZIv7z/APfx/wDGgCzRVb7JF/ef/v4/+NH2SL+8/wD38f8AxoAs0VW+yRf3n/7+P/jR9ki/vP8A9/H/AMaALNFVvskX95/+/j/40fZIv7z/APfx/wDGgCzRVb7JF/ef/v4/+NH2SL+8/wD38f8AxoAs0VW+yRf3n/7+P/jR9ki/vP8A9/H/AMaALNFVvskX95/+/j/40fZIv7z/APfx/wDGgCzRVb7JF/ef/v4/+NH2SL+8/wD38f8AxoAs0VW+yRf3n/7+P/jR9ki/vP8A9/H/AMaALNFVvskX95/+/j/40fZIv7z/APfx/wDGgCzRVb7JF/ef/v4/+NH2SL+8/wD38f8AxoAs0VW+yRf3n/7+P/jR9ki/vP8A9/H/AMaALNZOmf67UP8Ar4P/AKAlXfskX95/+/j/AONUNKUI98gJOLg9SSfuJ3NMDYooopAFFFFAH//S/fyiiigArJT/AJDk3/XvH/6G9a1ZKf8AIcm/694//Q3poDWooopAFFFFABRRXjHxntNdk0a21KHxXe+FfD2mmWfVpNJtDc6nOmAsMduVjnZAHOXKxMxAABUZNAHs9FfPv7NHjLW/HXwuj13WtSfVwL+/t7S7nWOO7lsoJ2S3a8iiAWK48sDzEKqwOCygkgfQVABRRRQAUUV+f/7eXxG13wBbfCu3sPGWreCNJ8Q+JvsOrX+iwfab0Wn2OeTEcQguGY71XhY2PfGBQB+gFFfnt8PfjvoPw28K+GNWsvFXiX4peHfGHi2Dw7c6z4ihOn3OkXF3CBBiB7K1aSB5dqltoAZ+GP3Rq6z+2zOdUvvDngTwHP4n1q78W3nhDw/bpfxWyarcaXAJtRunlkj2wW9qSULfvCxBwBzgA+9KK/O+4/b5h0Twz4uu/GvgG48P+JvDXiWy8J2+kXGp2wF3ql7AJxuvWCwQW6qGczMSpjAbALBarr/wUCsP+EP1nUR4JOoeKvD3iHRfD93pGmavaX8Era7n7JPaX8Q8mVXwy7WCEMCrFetAH6MUV8A3P7bereGLfxPb/Ej4cz+HNW8Da3oNhr1uupw3cVppniFitvqSTxxhZFjbAkj2rjP3uoH0b8OvjNH8SPiX8RvA+laS8el/D27s9OfVDMGS7v54BPcQpGF+X7OGRWJY5ZsYGKAPcaK/MD4seB/i3pn7UHw7+Guk/HHxhY6L8R08R31xHE+ng2X9nRxzQxWpNocRgyFSHDnaBznJPSeIv2i7T9nzxN8aLvxDceIPFq/D3TvB9uY72+t/s00+pxtCs0aiGNbQyPh7qV2ZCfmVVACkA/RuivzG+Lf7UXxbuPhV4S8aaL4Zl0HUj4+0DSzBpGq2Or2mu2V2WZobS+jxGVlOI33qhRupxkil8YP2u/HI+H3iyw1XSZfhV4w+Hvirwna6upvoL6A6ZrF3G4lS5VFUxyQBxICoKjPOc4AP1Gor88PGH7TVz8QfhvY/ELQtK1rw/wCDLzxroGkaFq1lfx2l1rcE98tvLcGGS3kMdizEqFY75kBI8sEEq37dOuQXmoa3efC27j8B6J4yl8Gahrw1O3JiuluxZxzx2hQSSRF2TecqVLYG/BNAH6HUUUUAFFFFABRRRQAUUUUAFFFFABRRRQAUUUUAFFFFABRRRQAUUUUAFFFFABRRRQAUUUUAFFFFABRRRQAUUUUAFFFFABRRRQAUUUUAFFFFABRRRQAUUUUAFFFFABRRRQAUUUUAFFFFABRRRQAVy3jJ/L8O3LZxygznHVxXU15F8cm1Jfhnqp0gyrd7rcJ5JIfmZM4xz0zn2qZNpNoLrqcMZ1K+YrAlOcA5yB2/EVJY6lZanZxX+nTpcW86h45EIKsD3BGR7H34r40kv/GlumZ9SvINxI+aVgc9OhPbFfMPiGf9pfR/iJpGmeFZ2ufBs17HOshdEggiQKbgCSCcszAsWCyKCWOQMcHypZnKE40qjjGUtk3v6GkXSldq9lufsFo0mdZssPz5yD9RXvNfmD4A1jWJPiF4bin1SeRX1G2DI0rEEGQAggkgg+nQ1+n1d9GtOovfRkpRl8IUUUV0DCiiigAorxH49eK/EXhrwdY2XhK7Gnaz4m1fTdEtrxkEotDqE6xvOEYFWZI9xUNkbsZBHB5z4c3Xivwb8W9a+Emu+IrvxTpraPa63p93qPlNeQl55La4hkkhjjV1LKroSuRllyQBgA+kaK+FvjF4+1C3+KXiTQPFHxIufhjp2g6Ra3ugrbrAv9rXMokM8jefHIbkQuqR/Zo8Md2TksCOx0zxB4x+LXwf8D/E3V/FzeAPD02jNqevy2WyG7MwjQqEmmjkSKBSJHcbdx+VQcZyAfXFFfK3gs/Fz4k/BTwtc3XiSXw7PeXMst/qbwRw6jPoyPN9mkRGRooLieIQs7FMKCxADYAqfDDU/ib49+Fvie38JeKWuE/teaz8PeI9RgR57jS0aJZLjaiLHKyt5yQSFAsm1WYEZJAPrSivk74Z6n47udc+JXhDwj4pn8U6boUMNtpmra0scoh1xkl+02xkt44xPFAfJZwFyjM0YPGAfDa68Y6H8aJvh9/wmN/44s7PRftPiCS9SDy9P1SSSP7MkDwxR7PPjMrGAltqKrZGeQD6xooooAKKKKACiiigAooooAKK8n+OXiTxF4Q+EPi3xP4TngttX0zT5p7eW5ZFiR0Gdx8whCwGSoY4LYB4NeBfs5/Ee78T/EbWvDejeKNY8TeHLfRbK/ZvEdstnqMV9PIwYQxmGCRrdowCzbGjVwFRiCQAD7VooooAKKK88+KN3r9n4Jv5fDC3J1FngRDZx+bOqPMgkZFwQSIyx5GB1oA9Dor580vx5Z+FvD/iDU3m1rVdR0t7QS6fq/lRXKLcSCONo9iBSshYkHLAlcEgg1d1D4t+JdMOtxXfhBxL4diS7vgt7GUW1kUurxttBeTCvlMADbwxyMgHu1FeR6v8TL+K81GPw1oMms2uiQRT38onWAoJYxMI4UYEyyCMhiMqBkDJJwPS9K1Gz1jTbTV9PfzLW9iSaJsYykihlOO2QRQBo1k6Z/rtQ/6+D/6Ala1ZOmf67UP+vg/+gJTA1qKKKQBRRRQB/9P9/KKKKACslP8AkOTf9e8f/ob1rVkp/wAhyb/r3j/9DemgNaiiikAUUUUAFeYfEDwh418QXWlax4F8WyeGdQ0syhopbf7bYXccwAK3Fv5kRLKVBjdXUqSeoJFen0UAeW/Cr4cN8N9G1K3vdUfWtW17UbjVtRvGiW3SW7udoby4UJEcYVFVVyx4yWJJNepUUUAFFFFABXzT+0V8DPFHxlfwPq3gvxdH4N13wLrB1i0updOGpxvJ9nlt9jQtNCMYlJyWPTGO4+lqKAPk3xB8APiL8S/gn4t+E/xq+INv4l1DXij6fqtloy6Y2mywFJbeQQrcS+Y8U8ayA71z93gc18+/FX9npvgx8FfhRa+CJfEmo+KPhrqktzF4h8P6ZDql4lxqSSnULu70yWXfcQ3LuRIkbM65Ug4BJ/TSigD8iPhJ+yj4y+Mvg74ia98R7vVdH1jWfGtn4o8O6n4g0u3S8e4sLRIPPvNIJES20pMka2zlSItuSCAT9C2f7G+vXnhW30vxV41sp9STxXoniVm0zQLXS7GOPRJfMSzhtoHDgSnJaWWWQhiSF6g/eVFAHwf8d/gtp2iaf8d/iHqOn6r43j+LOjaboq6Fo9h593DLZwS28UiN5mGBeVZCxVRFtyd1em/sc/B/XPgr8AvD/hrxk7TeL9SMur6/NI/myyanfv5s3mOCQzRgrFuBIOwYJFfUdFAHh3jH4NjxZ8cPh38ZTq32U+AbbWbcWXkbxdf2tFHFu83ePL8vy842tuzjIxk+b+Lf2Ztf1jxb8VfG3hXxy/h7VPiPBoUURGnQ3cdp/YqOhSaOdmS5huQ5WSMqhC5AYk5r65ooA/Ojwn+wSNBsDLe+LrWPVLzxpofi+6j0vRo9N0pW0QMq21rYxzFYTMGJll3MWbBK8V3PxS/Y0sfih4k+Iet6j4jWO1+IGoeE72a0ksBPHFH4YbLQtmUCVboZUkqAgJ4ccV9vUUAfCY/Ys/s/Rb7wH4b8YtYeBF8WaT4r0jR3svN/siSxu1u7mzgm89c21xIpKLsHkkkjcCQdDUP2OVvvhL4o+Fp8VlB4k8bv4y+1/YgfJL6lFqH2Xy/OG7/V7PM3Dru28YP25RQAUUUUAFFFFABRRRQAUUUUAFFFFABRRRQAUUUUAFFFFABRRRQAUUUUAFFFFABRRRQAUUUUAFFFFABRRRQAUUUUAFFFFABRRRQAUUUUAFFFFABRRRQAUUUUAFFFFABRRRQAUUUUAFFFFABRRRQAV5D8c5NXi+GGsz6JEZbqEQuFALHYsyFzgEHAUEn0HNevVzfiu48R2mgXlx4RtYr3VkUeRFO2yNjnnJyOgyRkjsMipnsZVZ8sHJ62Pyl1nxn4+1O2+xLbacbN1KMLiOYy4IwdjxsCvc56+ledWdv4ls4bZYYrW2uVIVlt4ilo4LAuREQWBKqADv6gE8cV+1ujtqM2lWkutwR2+oPEhnjjO5ElIG4KecgHOOT9a09iH+EflXlVcF7WSnKWq8jalWl7O0dvQ/K34Xadqt18R/DTJbm5ddQgkYhCNkaOGZuM4CgEkk9q/VWmhVXoAPwp1ehSpcl9b3MoQ5U9Qooorc0CiiigDzr4ofD62+JnhKbw3NfS6XcpPb3llfQKGltLyzlWaCZVb5W2uoyp4ZcjIzmvPdD+EPjuwk8UeLdT8bJdePPEFjBp9tqkempHa6db2xZ41is3lkDZkkZ5N8h3EgDAAFfQ9FAHz34/+Enj/wAUa1/anh3x42kQ3dnHaXUNxp8d8IZEDA3en75FFrO6sQxw6nCkqSvOF8Rf2e9U8TeGvBfgjwZ4kh0Pwx4PEW7TbywOoQX7WqqLb7SBPAXWIrvKHKu+GYHAFfUNFAHzj8Q/hJ8TviN8MYfAeqeO7a1vJroPqN1b6U0cN9ZAki0aAXW5Eb5RIVly6grgBiK0Z/hv8Vbn4Xav4CXx1Z6Zqd3GltY6jpmji0WwtQFVo47f7S4LbQyo4ddmQQMqCffaKAPnz4efCz4ieAfBN54JtPFmmxW0VgbbSWs9FNt9hnIb9/Ir3cv2gliGYMVLNksxJNVPgl8HvHvwliXStR8XWOuaS5nnuguktb315ezkM9zcXbXcpkkY5LEpyMAYAAH0dRQAUUUUAFFFFABRRRQAUUUUAeffFH4f2HxS8Cap4G1G6lsYtRWMrcQhS8UsEizROFfKsFkRSVYYYZB4NcV4M+FXiqw8ff8ACyviJ4oj8Raza6c+lWi2lgNOt4raWVZpWdfNmaSR2jXksFUAhVGSa92ooAKKKKACsDxHpV7rOkzWGnalLpN0SjxXMIBZHRgwyp4ZTjDKeqkjI61v0UAeMT/CzUNXttYuPEWuC71fWPsUZnjtvKhigsZxOkaRb2OWbcWYuTk8DAwd7WPh+NXm8XS/bjF/wlVhFY48vPkeUkqb/vDdnzM44xjrzXpNFAHjmo/DXWhcah/wjniD+zLfXLeGDUEa2EzFoYxD50DF18uRowFOQ4BAIGRz6jpGl2ei6XZ6Pp6lLWxhjgiUnJCRKFUE9zgcmtKigArJ0z/Xah/18H/0BK1qydMH77UP+vg/+gJT6Aa1FFFIAooooA//1P38ooooAK+I/jHpWr+MP2j9D8FReJ9Z8PadJ4ZmvXGk3rWjPLFdFVLYBUjDHORnpgivtyvkLxh/yd9oP/YnXf8A6WV72VO1WUl/K/yPnM6jzUIRfWS/Myv+GfZv+im+Nf8Awct/8bo/4Z9m/wCim+Nf/By3/wAbr6Goru/tDEd/yPM/s3Dfy/iz55/4Z9m/6Kb41/8ABy3/AMbo/wCGfZv+im+Nf/By3/xuvoaij+0MR3/IP7Nw38v4s+ef+GfZv+im+Nf/AAct/wDG6P8Ahn2b/opvjX/wct/8br6Goo/tDEd/yD+zcN/L+LPnn/hn2b/opvjX/wAHLf8Axuj/AIZ9m/6Kb41/8HLf/G6+hqKP7QxHf8g/s3Dfy/iz55/4Z9m/6Kb41/8ABy3/AMbo/wCGfZv+im+Nf/By3/xuvoaij+0MR3/IP7Nw38v4s+ef+GfZv+im+Nf/AAct/wDG6P8Ahn2b/opvjX/wct/8br6Goo/tDEd/yD+zcN/L+LPnn/hn2b/opvjX/wAHLf8Axuj/AIZ9m/6Kb41/8HLf/G6+hqKP7QxHf8g/s3Dfy/iz55/4Z9m/6Kb41/8ABy3/AMbo/wCGfZv+im+Nf/By3/xuvoaij+0MR3/IP7Nw38v4s+ef+GfZv+im+Nf/AAct/wDG6P8Ahn2b/opvjX/wct/8br6Goo/tDEd/yD+zcN/L+LPnn/hn2b/opvjX/wAHLf8Axuj/AIZ9m/6Kb41/8HLf/G6+hqKP7QxHf8g/s3Dfy/iz55/4Z9m/6Kb41/8ABy3/AMbo/wCGfZv+im+Nf/By3/xuvoaij+0MR3/IP7Nw38v4s+ef+GfZv+im+Nf/AAct/wDG6P8Ahn2b/opvjX/wct/8br6Goo/tDEd/yD+zcN/L+LPnn/hn2b/opvjX/wAHLf8Axuj/AIZ9m/6Kb41/8HLf/G6+hqKP7QxHf8g/s3Dfy/iz55/4Z9m/6Kb41/8ABy3/AMbo/wCGfZv+im+Nf/By3/xuvoaij+0MR3/IP7Nw38v4s+ef+GfZv+im+Nf/AAct/wDG6P8Ahn2b/opvjX/wct/8br6Goo/tDEd/yD+zcN/L+LPnn/hn2b/opvjX/wAHLf8Axuj/AIZ9m/6Kb41/8HLf/G6+hqKP7QxHf8g/s3Dfy/iz55/4Z9m/6Kb41/8ABy3/AMbo/wCGfZv+im+Nf/By3/xuvoaij+0MR3/IP7Nw38v4s+ef+GfZv+im+Nf/AAct/wDG6P8Ahn2b/opvjX/wct/8br6Goo/tDEd/yD+zcN/L+LPnn/hn2b/opvjX/wAHLf8Axuj/AIZ9m/6Kb41/8HLf/G6+hqKP7QxHf8g/s3Dfy/iz55/4Z9m/6Kb41/8ABy3/AMbo/wCGfZv+im+Nf/By3/xuvoaij+0MR3/IP7Nw38v4s+ef+GfZv+im+Nf/AAct/wDG6P8Ahn2b/opvjX/wct/8br6Goo/tDEd/yD+zcN/L+LPnn/hn2b/opvjX/wAHLf8Axuj/AIZ9m/6Kb41/8HLf/G6+hqKP7QxHf8g/s3Dfy/iz55/4Z9m/6Kb41/8ABy3/AMbo/wCGfZv+im+Nf/By3/xuvoaij+0MR3/IP7Nw38v4s+ef+GfZv+im+Nf/AAct/wDG6P8Ahn2b/opvjX/wct/8br6Goo/tDEd/yD+zcN/L+LPnn/hn2b/opvjX/wAHLf8Axuj/AIZ9m/6Kb41/8HLf/G6+hqKP7QxHf8g/s3Dfy/iz55/4Z9m/6Kb41/8ABy3/AMbo/wCGfZv+im+Nf/By3/xuvoaij+0MR3/IP7Nw38v4s+ef+GfZv+im+Nf/AAct/wDG6P8Ahn2b/opvjX/wct/8br6Goo/tDEd/yD+zcN/L+LPnn/hn2b/opvjX/wAHLf8Axuj/AIZ9m/6Kb41/8HLf/G6+hqKP7QxHf8g/s3Dfy/iz55/4Z9m/6Kb41/8ABy3/AMbo/wCGfZv+im+Nf/By3/xuvoaij+0MR3/IP7Nw38v4s+ef+GfZv+im+Nf/AAct/wDG6P8Ahn2b/opvjX/wct/8br6Goo/tDEd/yD+zcN/L+LPnn/hn2b/opvjX/wAHLf8Axuj/AIZ9m/6Kb41/8HLf/G6+hqKP7QxHf8g/s3Dfy/iz55/4Z9m/6Kb41/8ABy3/AMbo/wCGfZv+im+Nf/By3/xuvoaij+0MR3/IP7Nw38v4s+ef+GfZv+im+Nf/AAct/wDG6P8Ahn2b/opvjX/wct/8br6Goo/tDEd/yD+zcN/L+LPnn/hn2b/opvjX/wAHLf8Axuj/AIZ9m/6Kb41/8HLf/G6+hqKP7QxHf8g/s3Dfy/iz55/4Z9m/6Kb41/8ABy3/AMbo/wCGfZv+im+Nf/By3/xuvoaij+0MR3/IP7Nw38v4s+ef+GfZv+im+Nf/AAct/wDG6P8Ahn2b/opvjX/wct/8br6Goo/tDEd/yD+zcN/L+LPnn/hn2b/opvjX/wAHLf8Axuj/AIZ9m/6Kb41/8HLf/G6+hqKP7QxHf8g/s3Dfy/iz55/4Z9m/6Kb41/8ABy3/AMbo/wCGfZv+im+Nf/By3/xuvoaij+0MR3/IP7Nw38v4s+ef+GfZv+im+Nf/AAct/wDG6P8Ahn2b/opvjX/wct/8br6Goo/tDEd/yD+zcN/L+LPnn/hn2b/opvjX/wAHLf8Axuj/AIZ9m/6Kb41/8HLf/G6+hqztTYi3GDjLDP5GolmOISvzfkaQyvDSaXLv5s8K/wCGfZv+im+Nf/By3/xuj/hn2b/opvjX/wAHLf8Axuu+1jXdP0RI2vZkiMrBF8xtiAscAu2CFXJAyRgkgDJIB5TR/iNpWqaxBpIwBeSTQ28yMxSWW3BMiAOqMCACQeQcHpkZ5f7XxHf8js/sTC9vzMz/AIZ9m/6Kb41/8HLf/G6P+GfZv+im+Nf/AAct/wDG69k09iLpRk4IOfyroq6IZliJK9/yOaplOGg7cv4s+ef+GfZv+im+Nf8Awct/8bo/4Z9m/wCim+Nf/By3/wAbr6GorX+0MR3/ACMP7Nw38v4s+ef+GfZv+im+Nf8Awct/8bo/4Z9m/wCim+Nf/By3/wAbr6Goo/tDEd/yD+zcN/L+LPnn/hn2b/opvjX/AMHLf/G6P+GfZv8AopvjX/wct/8AG6+hqKP7QxHf8g/s3Dfy/iz55/4Z9m/6Kb41/wDBy3/xuj/hn2b/AKKb41/8HLf/ABuvoaij+0MR3/IP7Nw38v4s+ef+GfZv+im+Nf8Awct/8bo/4Z9m/wCim+Nf/By3/wAbr6Goo/tDEd/yD+zcN/L+LPnn/hn2b/opvjX/AMHLf/G6P+GfZv8AopvjX/wct/8AG6+hqKP7QxHf8g/s3Dfy/iz55/4Z9m/6Kb41/wDBy3/xuj/hn2b/AKKb41/8HLf/ABuvoaij+0MR3/IP7Nw38v4s+ef+GfZv+im+Nf8Awct/8bo/4Z9m/wCim+Nf/By3/wAbr6Goo/tDEd/yD+zcN/L+LPnn/hn2b/opvjX/AMHLf/G6P+GfZv8AopvjX/wct/8AG6+hqKP7QxHf8g/s3Dfy/iz55/4Z9m/6Kb41/wDBy3/xuj/hn2b/AKKb41/8HLf/ABuvoaij+0MR3/IP7Nw38v4s+ef+GfZv+im+Nf8Awct/8bo/4Z9m/wCim+Nf/By3/wAbr6Goo/tDEd/yD+zcN/L+LPnn/hn2b/opvjX/AMHLf/G6P+GfZv8AopvjX/wct/8AG6+hqKP7QxHf8g/s3Dfy/iz55/4Z9m/6Kb41/wDBy3/xuj/hn2b/AKKb41/8HLf/ABuvoaij+0MR3/IP7Nw38v4s+ef+GfZv+im+Nf8Awct/8bo/4Z9m/wCim+Nf/By3/wAbr6Goo/tDEd/yD+zcN/L+LPnn/hn2b/opvjX/AMHLf/G6P+GfZv8AopvjX/wct/8AG6+hqKP7QxHf8g/s3Dfy/iz57X9nyVmCn4m+NcEj/mMt/wDG66b9km71e58C+JbbWdUu9Yl07xNqlnHcX0zTzmK3MaIGdiSeBnjjJPAr2CP76/WvHf2R/wDkUfGn/Y4a3/6MWqq151cHUdTo1+oqGHp0cdS9mrXUv0PqyiiivkT7cKKKKAP/1f38ooooAK+QvGH/ACd9oP8A2J13/wCllfXtfIXjD/k77Qf+xOu//Syvdyz45/4X+R89nH8Kn/jj+Z7jRRRWQwooooAK5Xxx4y0f4f8AhTUfF+vFvsmnR7ykYzLNIxCRwxr/ABSSuVRAOSxArqq80+Jfww034n22j2+o6tqOkNod8mo28mnSxxv9ojUrGzCSORW2biy5HDYI5ApMa8zlP2f/ABr4/wDG/hnXbn4lQW1prela5eae9vajCQJEkTrESSdzR+YVZuNxGcYr3avDfgv8Kdb+GEvi19Z8RXeujX9XnvoBcyrLticKBI+Io8XDkESkZUhVwAQc+5UkOW7sFFFFUSFcZ8RvHGk/DTwB4j+IeuttsPDmn3N/KM4LCCMsFHuxAUDuSBXZ186/tNfCDxD8ePAWnfDDTr2Cx0HU9XsJPELSSSRzS6RbSedNBb+WrfvZWVACxUAAnOcCk9LlRtdX2PHv2Zv2lPHniL4b+Pr39oWxisPF/wAPrePWb61sYRGX0i9sBqFqyRkgFwgkQ5IG5cEg5NZ3jn9t65s/ht4Z+Jfw++HPiK+0zxHrulabBLqFitulza37LmS2Xz1ZnfJSAsAjuOTtIYt1X9jK+8K+MNd1j4PaxKNL8ZeD9Z8Na1Dr2p3l9M008JGnTQySiZtsUhKupYBUJKgkkHvPHnwA8ca7+zV4B+F/h6/05PFvgGTw5ewPdGX+z7i70IxsY2ZF80RSFSAwXcBjIGTjP3rehv7l7na6h+0/8PdEsfiPd+JLTUdFn+F1jZajqtrdwxpcGDUIBNB5CrIyuzHMRBYASgrnHNcl4o/bO+G3hS/urS70DxFe22h21ldeIL2y077Ra+Hxfoskaag6vlZFRg0qxiQoMk9DXzj8d/AT/GT9q/4deDbCUjULrTbUfEizs4pnsFsNMnh1SyRriRFVhJcboox98oRuAwRXp3xF/Z2+OkusfFbw98LdW0BPBvxrkE+rS6oLgahpMs8C2l21okKmO4WSJQUWRk2N3wMlXlqHLHqd/wCP/wBtH4XfD7xHr3h+60jXtai8MWmnajqWoaVYC7sbXT9SjEkN3JMsgxEFIJ43HJKggEjuPhb+0l4K+K/jK/8AAumaVrOiapbadFrFqNXsjZrqGlzP5cd5a5Ys0RYgfOFbkZUcgeH6t+yZ4nTSPjZ4e8O6lZCx8f8AhDQ/DOim4eQSRPpFi9oZLvbGQqsSCDHvJGcgcCvW/DHwX8TaL8dfD3xQuru0fTNI8BW/hWWJWkM7XsVysxkQFApiKggEtuz/AA45prmIahbTc8V+Jv7X+sfDH43ePvhWbWLXdWFp4eg8HaJEojub/VdWWbzBJMTxBGVRnY4CLwDlhnS8Q/HX4v8AwZ+Ifwy+H3xIgk8c6l4l8P6vfala+GtKDzzajbSQ+VFaKXULDFGzhndgGC7iQSFq98Qf2N9H+K/xX+JvjnxobVIvFWj6NZaBf25f+1NHvtNLu1zGxUCM+aImG1yWClWwDz1/gr4UfGSf4o/DD4pfFXUNJvNU8HeHtX0bVJLB5ib2e7lhMNzGrxIF3JETKpICuSFyDwe9cv3Sd/2w/hdc+CPCXi7w5p2teIdQ8bzXdtpeg2Flv1mSfT2ZbxZLd3VYxbspEjM+0EjBOa5p/wBqW18X+Lvg1/wruf7PoXjLWtb0rXrbUbYw31lNpNhJO9vMrHMEsUigv1BUgg4Oa8+0P9lr4xfDp/Cvj/wDqOh3vjTwprHimYWWoPcLpt7pfiS6afy2mjj82KeIBSCEKk5BJABNvwr+yF43s9e8G+LPFms6fd6q3ijxL4m8UC182KHzPEGntYiDTwyElYgVG6UqTgtycCi8n0C0EeteDP2w/hh438WaN4esdO1uw0rxTdT2Og6/e2Pk6Nq91AWDRWk5YsS21vLLoofB2knivIPiZ+3FYG00yP4T6Rqz2174t03w9F4gu9MLaJfb7xYL6G2n35Lqm/Y7KqkqdpJGKTwR+zD8braL4Y/C3x3rOhTfDf4Q6vFq2nXdiLgaxqZsvNFjDcxOohgCCU+ayOxfAwOSa5SL9lH9ozT/AAX4e+Bmna14Zf4eeEPFdpr9jeSfaxq1zZQagbwWsyCNoY3j3sQ6k7yFU7QSQrzsO0E9z13wD+1ak3iXxP4K8XRSa14lfx7rHhvQdK0i3RrttO08x/6TOGdVWKEMTLO7KOgAJ4rrF/bH+Fj+MB4fFhrQ0FtY/wCEfHij7Cf7AOrbtn2YXe7dnzPk3+X5e/jd3rxnQf2QPiB4A+LWu/tBfD/VdOt/HGq+L9Tv54p5p/sOpeGNTdHaxucRsYriIqZI3jRgHxksMYrD9k34yHw9H+z4+saH/wAKei8Tf8JAL4C4/t823206iLAxbfs+ftBx5+/Oznbnii8uwrQvufQ8H7VXw4n8Jad4pjtNR87U/FR8Gx6Z5Mf29NYSZoXjeMSbQqhTIzbjiPBxk4r6YIwSM5wcZFfE9j+yxrNr+1rdfGp9Wtz4EM0+vW+jAt5qeJrq0Sxmuiu3ZsMKlgd5bexO0dT9r1or9TKXLpYKKKKozCiiigAooooAKKKKACiiigAooooAKKKKACiiigAooooAKKKKACiiigAooooAKKKKACiiigAooooAKKKKACiiigAooooAKKKKACiiigAooooAKKKKACiiigAooooAKKKKACszVf8AUL/vD+RrTrN1QfuF/wB4fyNRU+Fm9H40fNnxF+GnjbxBpM8HhPxDb21zOYxIl7aK6SpGwkAMikuG3AEMQ2MYAAxj5s8SfGfx1ePpWkeL9OtbG/0K/Ume3nQFJYJ1jciPCttYDGSSSDjHJx+g5KqCzHaAMknsB1NfAfxk8L3Nn4rt9evoCIdSnjlVHQMQZphIPLyACSCoYHJBIHB4ryj2T9C7D/j7Xt1/ka6KudsP+PxfXn+VdFXoUPh+Z5mI+MKKKK6DiCiiigDyL4teL/Evh9PDXhrwUbeLX/F+qLp1vcXUZlgtI0hkuLidogymQpHGQq7gCxGSBmq3wv8AFni281/xb8PfHk9vf6x4TltGW+tYTbR3lnfxGWGRodziORSro4VipKgjGcDQ+K3gnX/FdtoGteD7q3tfEXhTUk1Ox+2BjbTHy5IJoJjGC6rJFIwDKCVYA4OMVy3hrwV8U9FXxb44nl0eTxv4rurAmAtOdNtLGyAiSFZAqyyOIzI28qoLsBgKKnW5rpY838d/F74kWl78SvEega1o+i6N8LZEjk0u/tzJPqeLdLlnafzEaBZQ/l25RWywJOc4rsPjT8TPiNoXwxsviN8NILCDTXtLXULq41DfLKkdzJAscEMC4BdhKSzswChcBSSK574sfAjxb8QvFmr3H2Lw1fWOsQpbW+rX9qx1fR4CnlzpAEjMdwTlmhaV1MbMeoAr1z4p/Dm58XfCDUPhp4YeG0eW3tLa2a4LCNEtZomAcoGP3IyAQOTjoOROtmO8dDb+IFn40ltE1Dwt4rtfCtrYRzS3st1py3ytGgDbstNEIwgDEnnIPbHPmPwzv/jR8Q/hJpniK48R2mkavqt1LdWt0+lK4k0piRbb7YzKI5JVCykhzgMFwTk133xd8F618RvDMPgrTrqOz0vVLuBdZdmYSvpiNvnghCggtPgRsSQAjMck4B1fiJonibWPAWp+GfANzBpGpX0As4LiQsqWkMhEckkYRWO+OIsYhgDcFyQATVW1JTWh5J8J9c+LXj7wx4tvJfFFlJEmpvY6Fq66UqJLFaER3M5thMQ8byh44zvGQu7oQKt/CrxD8TtU+Jfi/wAPeIvENp4j8P8AhiKC0e6h05bAnVZcSyQqVllDLBCVDkkYZwMZU167Y+HT4N8CReFfh/bwQvo+n/ZdNjuCVhDxR7YTKyhmwWALkAk5JwSayvhV4ET4b+BtO8MS3H26/G+51C7IO67v7lzLcznPPzyMSM8hQB2oS2Bvc9EoooqjMKKKKACiiigAooooA5nxZp3irVNJFp4N1mLQtRMiN9omtBep5YzuXyjJGMsSMNu4x0Oa8k+Bvif4heKb/wAYzeKdZtde0PStQ/s3TL23shZG4ltQReuFWSQNGsp8pWzyUY9MV6p48s/Fmo+DtX07wNcwWWvXdu8NpcXJYRQPJ8plO1WJMaksoAwWABIBJEngnwhpHgHwjpPgvQUK2Oj26W8Zbl3Kj5pGPdpGJZierEmlbUpNWZ1NFFFMkKKKKACvMvGPiDxfo3iPQIrBLWLRb6/trOZ3y9xKZw5YKBhY1UKPmOSxPAABz6bXIeLfD95r0mhNaPGg0vVLe9k3kjMcQcELgHLHcMA4HXJFJlI4my+Kgs77XINfsrp7TTtXex+2QQA20EZMaxCVywJJZvmKggAjOK9mIxn2ryLUPAOrXXhXxZoUc8An17U5L2BiW2JG7xMA5CkhsRkHAIyRz1x66eST60IHboLH99frXjv7I/8AyKPjT/scNb/9GLXsUf31+teO/sj/APIo+NP+xw1v/wBGLXf/AMwdX1X6nF/zHUfSX6H1ZRRRXzJ9WFFFFAH/1v38ooooAK+QvGH/ACd9oP8A2J13/wCllfXtfkj+078cfF/w4/aeudU0K3s5ZdF0iHT4RcRu6mK7C3LlgrqSwc4BGABwQTzX1GRYWeIrzp09+Vnx/EeLp4XDwq1dudf5n6RUV+S//Ddfxg/6B2jf+A03/wAfo/4br+MH/QO0b/wGm/8Aj9fR/wCrOO8vvPkv9b8t7v7j9aKK/Jf/AIbr+MH/AEDtG/8AAab/AOP0f8N1/GD/AKB2jf8AgNN/8fo/1Zx3l94f635b3f3H60UV+S//AA3X8YP+gdo3/gNN/wDH6P8Ahuv4wf8AQO0b/wABpv8A4/R/qzjvL7w/1vy3u/uP1oor8l/+G6/jB/0DtG/8Bpv/AI/R/wAN1/GD/oHaN/4DTf8Ax+j/AFZx3l94f635b3f3H60UV+S//Ddfxg/6B2jf+A03/wAfo/4br+MH/QO0b/wGm/8Aj9H+rOO8vvD/AFvy3u/uP1oor8l/+G6/jB/0DtG/8Bpv/j9H/Ddfxg/6B2jf+A03/wAfo/1Zx3l94f635b3f3H60UV+S/wDw3X8YP+gdo3/gNN/8fo/4br+MH/QO0b/wGm/+P0f6s47y+8P9b8t7v7j9ac/r1pK/Jf8A4br+MH/QO0b/AMBpv/j9H/Ddfxg/6B2jf+A03/x+j/VnHeX3h/rflvd/cfrRRX5L/wDDdfxg/wCgdo3/AIDTf/H6P+G6/jB/0DtG/wDAab/4/R/qzjvL7w/1vy3u/uP1oor8l/8Ahuv4wf8AQO0b/wABpv8A4/R/w3X8YP8AoHaN/wCA03/x+j/VnHeX3h/rflvd/cfrRRX5L/8ADdfxg/6B2jf+A03/AMfo/wCG6/jB/wBA7Rv/AAGm/wDj9H+rOO8vvD/W/Le7+4/WiivyX/4br+MH/QO0b/wGm/8Aj9H/AA3X8YP+gdo3/gNN/wDH6P8AVnHeX3h/rflvd/cfrRRX5L/8N1/GD/oHaN/4DTf/AB+j/huv4wf9A7Rv/Aab/wCP0f6s47y+8P8AW/Le7+4/WiivyX/4br+MH/QO0b/wGm/+P0f8N1/GD/oHaN/4DTf/AB+j/VnHeX3h/rflvd/cfrRRX5L/APDdfxg/6B2jf+A03/x+j/huv4wf9A7Rv/Aab/4/R/qzjvL7w/1vy3u/uP1oor8l/wDhuv4wf9A7Rv8AwGm/+P0f8N1/GD/oHaN/4DTf/H6P9Wcd5feH+t+W939x+tFFfkv/AMN1/GD/AKB2jf8AgNN/8fo/4br+MH/QO0b/AMBpv/j9H+rOO8vvD/W/Le7+4/WiivyX/wCG6/jB/wBA7Rv/AAGm/wDj9H/Ddfxg/wCgdo3/AIDTf/H6P9Wcd5feH+t+W939x+tFFfkv/wAN1/GD/oHaN/4DTf8Ax+j/AIbr+MH/AEDtG/8AAab/AOP0f6s47y+8P9b8t7v7j9aKK/Jf/huv4wf9A7Rv/Aab/wCP0f8ADdfxg/6B2jf+A03/AMfo/wBWcd5feH+t+W939x+tFFfkv/w3X8YP+gdo3/gNN/8AH6P+G6/jB/0DtG/8Bpv/AI/R/qzjvL7w/wBb8t7v7j9aKK/Jf/huv4wf9A7Rv/Aab/4/R/w3X8YP+gdo3/gNN/8AH6P9Wcd5feH+t+W939x+tFFfkv8A8N1/GD/oHaN/4DTf/H6P+G6/jB/0DtG/8Bpv/j9H+rOO8vvD/W/Le7+4/WiivyX/AOG6/jB/0DtG/wDAab/4/R/w3X8YP+gdo3/gNN/8fo/1Zx3l94f635b3f3H60UV+S/8Aw3X8YP8AoHaN/wCA03/x+j/huv4wf9A7Rv8AwGm/+P0f6s47y+8P9b8t7v7j9aKK/Jf/AIbr+MH/AEDtG/8AAab/AOP0f8N1/GD/AKB2jf8AgNN/8fo/1Zx3l94f635b3f3H60UV+S//AA3X8YP+gdo3/gNN/wDH6P8Ahuv4wf8AQO0b/wABpv8A4/R/qzjvL7w/1vy3u/uP1oor8l/+G6/jB/0DtG/8Bpv/AI/R/wAN1/GD/oHaN/4DTf8Ax+j/AFZx3l94f635b3f3H60UV+S//Ddfxg/6B2jf+A03/wAfo/4br+MH/QO0b/wGm/8Aj9H+rOO8vvD/AFvy3u/uP1oor8l/+G6/jB/0DtG/8Bpv/j9H/Ddfxg/6B2jf+A03/wAfo/1Zx3l94f635b3f3H60UV+S/wDw3X8YP+gdo3/gNN/8fo/4br+MH/QO0b/wGm/+P0f6s47y+8P9b8t7v7j9aKK/Jf8A4br+MH/QO0b/AMBpv/j9H/Ddfxg/6B2jf+A03/x+j/VnHeX3h/rflvd/cfrRRX5L/wDDdfxg/wCgdo3/AIDTf/H6P+G6/jB/0DtG/wDAab/4/R/qzjvL7w/1vy3u/uP1oor8l/8Ahuv4wf8AQO0b/wABpv8A4/R/w3X8YP8AoHaN/wCA03/x+j/VnHeX3h/rflvd/cfrRRX5L/8ADdfxg/6B2jf+A03/AMfo/wCG6/jB/wBA7Rv/AAGm/wDj9H+rOO8vvD/W/Le7+4/WiivyX/4br+MH/QO0b/wGm/8Aj9H/AA3X8YP+gdo3/gNN/wDH6P8AVnHeX3h/rflvd/cfrRRX5L/8N1/GD/oHaN/4DTf/AB+j/huv4wf9A7Rv/Aab/wCP0f6s47y+8P8AW/Le7+4/WiivyX/4br+MH/QO0b/wGm/+P0f8N1/GD/oHaN/4DTf/AB+j/VnHeX3h/rflvd/cfrRRX5L/APDdfxg/6B2jf+A03/x+j/huv4wf9A7Rv/Aab/4/R/qzjvL7w/1vy3u/uP1orifHvi0+DNGi1QadJqfmTxwGOM4ID5+YnB9MAdyQMivzN/4br+MH/QO0b/wGm/8Aj9H/AA3X8YP+gdo3/gNN/wDH6iXC+PasrfeYV+LMDKm405uL72ufq8Le2ngG+BdsqjKso6MOQRj0OCKqajoWiaxHFFq2n296kLB41niWQIy4IKhgQCCBgjBGK/Kv/huv4w/9A7Rv/Aab/wCPUv8Aw3X8YP8AoHaN/wCA03/x+q/1Xx3ZfedS4wy+3xP7j9ZVjjQlkQAnqQAKfX5L/wDDdfxg/wCgdo3/AIDTf/H6P+G6/jB/0DtG/wDAab/4/R/qxjuy+8n/AFvy563f3H60UV+S/wDw3X8YP+gdo3/gNN/8fo/4br+MH/QO0b/wGm/+P0/9Wcd5feL/AFvy3u/uP1oor8l/+G6/jB/0DtG/8Bpv/j9H/Ddfxg/6B2jf+A03/wAfo/1Zx3l94f635b3f3H60UV+S/wDw3X8YP+gdo3/gNN/8fo/4br+MH/QO0b/wGm/+P0f6s47y+8P9b8t7v7j9aKK/Jf8A4br+MH/QO0b/AMBpv/j9H/Ddfxg/6B2jf+A03/x+j/VnHeX3h/rflvd/cfrRRX5L/wDDdfxg/wCgdo3/AIDTf/H6P+G6/jB/0DtG/wDAab/4/R/qzjvL7w/1vy3u/uP1oor8l/8Ahuv4wf8AQO0b/wABpv8A4/R/w3X8YP8AoHaN/wCA03/x+j/VnHeX3h/rflvd/cfrRRX5L/8ADdfxg/6B2jf+A03/AMfo/wCG6/jB/wBA7Rv/AAGm/wDj9H+rOO8vvD/W/Le7+4/WiivyX/4br+MH/QO0b/wGm/8Aj9H/AA3X8YP+gdo3/gNN/wDH6P8AVnHeX3h/rflvd/cfrRRX5L/8N1/GD/oHaN/4DTf/AB+j/huv4wf9A7Rv/Aab/wCP0f6s47y+8P8AW/Le7+4/WiivyX/4br+MH/QO0b/wGm/+P0f8N1/GD/oHaN/4DTf/AB+j/VnHeX3h/rflvd/cfrRRX5L/APDdfxg/6B2jf+A03/x+j/huv4wf9A7Rv/Aab/4/R/qzjvL7w/1vy3u/uP1oor8l/wDhuv4wf9A7Rv8AwGm/+P0f8N1/GD/oHaN/4DTf/H6P9Wcd5feH+t+W939x+tFFfkv/AMN1/GD/AKB2jf8AgNN/8fo/4br+MH/QO0b/AMBpv/j9H+rOO8vvD/W/Le7+4/WiivyX/wCG6/jB/wBA7Rv/AAGm/wDj9H/Ddfxg/wCgdo3/AIDTf/H6P9Wcd5feH+t+W939x+tFFfkv/wAN1/GD/oHaN/4DTf8Ax+j/AIbr+MH/AEDtG/8AAab/AOP0f6s47y+8P9b8t7v7j9ao/vr9a8d/ZH/5FHxp/wBjhrf/AKMWvz4H7dfxhBBGnaNkHP8Ax7Tf/H6+sf2BvG2r+K/D/jm21GOGNE1f+0B5SsD5uo73mHLH5QUG0dQM5JrHGZPicJgasqtre7/X4nXl+e4TG5jRhRve0vy/4B+gVFFFfnR+pBRRRQB//9f9/KKKKACvwt/bc/5OO8Qf9e1h/wCkyV+6Vfhb+25/ycd4g/69rD/0mSv0Lg7/AH6X+F/mj8v48/5F0P8AGvyZ8m0UUV+5H83hRRVprG9jtI9Re2lW0lYxpMUYRO6jJVXI2kgckAkjvRcaRVoq1PY31pFBPdW0sMV0peFpEZFlQHBZCQAwzxkZGe9VaSYNNdAooq9YabqerXH2TSrOe+nwW8uCJpXwOp2oCcDIyegzQ3bd6Ak27LUo0VcvtO1HS7g2eqWs1lOACY543icA9DtYA4PriqdCdwaadmrMKKKkhilnlSCBGlllYIqoCzMxOAAACSSTgADJPSmJEdFb194W8UaXbNe6not9Z26EBpZ7WaJAScAF3UAEngZPJrBpRae2pcouLtJahRRRTICiipzbXItheGF/s5fy/N2nYXAzt34xuxzjOcc4xQOxBRRRQIKKKKACiiigAooooAKKKKACiiigAooooAKKKKACiiigAooooAKKKKACiiigAooooAKKKKACiiigAooooAKKKKACiiigAooooAKKKKACiiigAooooAKKKKACiiigAooooAKKKKACiiigAooooAKKKKACiiigAooooAKKKKACiiigAooooAKKKKACiiigAooooAKKKKACiiigAooooAKKKKACiiigAooooAKKKKACiiigAooooAKKKKACiiigAr9U/wDgm9/yB/Hn/XzYf+gTV+Vlfqn/AME3v+QP48/6+bD/ANAmr5Hif/kWVfl+Z95wd/yN6Xz/ACZ+mNFFFfzyf1IFFFFAH//Q/fyiiigAr8Lf23P+TjvEH/XtYf8ApMlfulX4W/tuf8nHeIP+vaw/9Jkr9C4O/wB+l/hf5o/L+PP+RdD/ABr8mfJtFFFfuR/N4V9Wfs3XWkePze/s8+N2lbQvEkn26ylj5ksb+0QyO8eeAJYVZG/D1Jr5TrofCvirX/BOvWvifwxdmx1Oy3+VMFRynmIY3+Vwy8qxHIOM5HNcWLoOtRcIvXp5PoelgMQqFeNSeseq7rqvuPr/AMQ+JPAvivwz4g+Onirw02v6Po2qW3hfQdDNzJaW1hYRQmRZJGhO7cwGAAcbyc5GAMv4n/BbwP4Q8E/EXW9GtJ/N06Tw7dacJ5GM1jBqyF5beQAgMVOFywJxjnJOfnbwJ8VfHnw1lvX8G6n9kTUQouIpIo7iCUoSVZoplZNykkqwAI7HHFami/HH4reH/EGs+KdN8Qzf2l4hx/aEkyRzrcFTlS0cqsgKdEwo2jgYHFeKsDiKcv3MvdVravutPLZ6n0H9pYSrBe3j7zvd2Wl09d9d1p0sfTuofDH4T+C7Xxnr2veFG1OPw14f8MX0dk13Pb5vNRBWfzGDFgGbBZccAELtzkcB+yff2sXxJ8YanDPJoVsvhnWplltt0slnGAjhossrM0Q5XLAkgZIJzXimu/GD4keJk1lNe1t73/hIYLS2vy8cW6eKxJaAMwUEFCScggsT8xNY3gfx94s+HGsvr/gy/wD7Pv5IHtmkMUcwaGUguhSVWUglRnIzx9atYCu8PUp1JXlLzdtl+t+hLzPDRxdKrShaMW+ivu/0sfdc3hjSPjxoPwm0pvFN74r0ebXdQsb3WtRjNvqYYQG5+yIjbx5ZjjO1zI5DEcDGK4LxX8PfgJd/2BqNq9ppqjxBFp19baDfXeqebpzglpHMsQZLhCoDBAcgkheAB85eJfjX8UvF13pN9rfiCVpdCl8+xECR2qW82c+YiW6RqHyPvEE446Eg6Gv/AB/+Lvia50y61LxBIkmj3Qvbb7LDDaqt2Bjz2WFFDyEEgs2SQSOhOeWnl2Lg1yzstdn3b8rPfsrHXVzXBVFLmp3emrXZJd7rbu73PrbR/BfgHw/8Wfhr4l8L+FNNudD1HXX06K+07V5r+ylbGYTLHKBLFdxD5mRvkbkEcCvmGzv9M1H9pXTLnR9Mj0e2Hii0RbaF3kRWjvVVmDSEtl2BYjOASQAAAK57xJ8cvin4rv8AStR1fXWWbQ7j7ZZi2hhtUiucgmYJCiK0hI5ZgSQSOhIrmNX8f+K9d8Zr8QdRvFbX0nhuRcRwxRATW5Uxv5aKseQVBOV5Iyc5OerDYGvC7qu7cbbt9X3OPF5jhp2VJWSlzbJdFfbbbY+uvjT4j0bxF8SNR8FyfEzXNdW78SxW1x4fuLeSKwjiN4FeNZvPYERDhCEGcAjBqt438FfBsWXxVi8OeDm064+Fmo2jLI1/cSjUYJLvyJreVSR5aEAhSh3AEZYkEnwbX/2hvi74otzba5rMVwpniuSwsLOOQywSCVHMkcKuSHUE84OMEEEg8bc/EjxreDxSLnUy48aukmr/ALuMfamSQzKThRtxJk4TaOx44rGjl1eEYx5rWts/NX2S6XWptiM1w05zly35r7rydt2+rT3Puz4kaL8MfEnxz8bjxL4Tjez8KeEF1R47W5mge5mSC1ePJBKx7FYoCoIIJZgWwa8p+Hvwr8DfHDSdI1rwzoa6A+neJDDrsEVxNKkejTxm4STfKxIEYieINwSSCSTivBdQ+NfxO1WAQahrRnzpcmjM7QQ+bJYS7d8Mkgj3Nny1AZiWAGARk56H4ffFPRvhz8OPFukaLHqDeKvF1udOllLxrYQWRIJZVGZGnILqCcBQ2QeoOSwOKo0FGEveVktXbs3+p0PMsJXxLnUj7ju3ok+6St9xhaHovgPx58Yf7H/tCLwf4Q1HUJhFPM5ZLazBYxrvkJ+ZlAUM5wGIJOBX6sS6z+zRJ+z/ABaPJY7PhxLqZ0ZLnZgrOGKC+3n5xmQZ83G7ByRtyK/E/HGK9Pk+LfiuX4Tx/Bplt/7AivjfhvLP2jzSSdpfdjbkk4257ZxxW+Z5XPFOnyzdotdfx9TmyfOoYONbnppuSfT8PTcwviD4e0Xwp401fw74c1mLxBpdjOY7e+hwUnTAIIIyCRnaSpKkgkEjFcbRRX0sItRSk7nyFSSlNyirBRRRVmQUUUUAFFFFABRRRQAUUUUAFFFFABRRRQAUUUUAFFFFABRRRQAUUUUAFFFFABRRRQAUUUUAFFFFABRRRQAUUUUAFFFFABRRRQAUUUUAFFFFABRRRQAUUUUAFFFFABRRRQAUUUUAFFFFABRRRQAUUUUAFFFFABRRRQAUUUUAFFFFABRRRQAUUUUAFFFFABRRRQAUUUUAFFFFABRRRQAUUUUAFFFFABRRRQAUUUUAFFFFABRRRQAUUUUAFfqn/wAE3v8AkD+PP+vmw/8AQJq/Kyv1T/4Jvf8AIH8ef9fNh/6BNXyPE/8AyLKvy/M+84O/5G9L5/kz9MaKKK/nk/qQKKKKAP/R/fyiiigAr8Lf23P+TjvEH/XtYf8ApMlfulX4W/tuf8nHeIP+vaw/9Jkr9C4O/wB+l/hf5o/L+PP+RdD/ABr8mfJtFFFfuR/N4UUV39p4AvdS+Hd18QdJukvV0y+Szv7JEbz7ZZx/o856ho5WBQYGQwAPUVE6kYW5janSlO/IjgKK9e8QfBXxlpHiWPwZotpP4j12Cxhu9RtNOtpJ3095hu8iUqGBdFK7iBgE7eSDXmcmjavDaXd/LYzpbWEy21xI0bBIZ3DFY5CQArna2FOCcHjg1nTr05q8XuaVcPVpu04mbRXZ2Hw5+IGqXT2GmeGtRu7iIRF44bWV3UTxmWIkBSQHjBZSeqgkcVhaNoWueIdTi0Xw/p9xqeoTEhLe2ieWViOuFUEnHfjjvV+0h3IdGd17u5k0Vv3/AIV8UaVJqUWp6Rd2j6O0aXqywOhtmlOIxMGA2FzwucZ7V13hb4TeLfFdprctnZzpd6Rp9tqMVobeR572K7uI4I/JUDJDeYGDAEEA49amVanCPM3oXDD1Zy5Ix1/r/I8yorrW8A+OV1y48MN4e1AaxaJ5ktl9lk+0IhIAdo9u4KSwAOMZI55qzefDX4jWEGpXV/4W1S3h0YgXsklnMq2xIBHmkqAuQQeSOCD0NHtqd/iQvYVf5WcTRXoN18Otbn1LRtG8KW954gv9X02DUBBBYzpKgmBJRUZSZEXHEq/I2eDxWVp3gLxxrGt3PhrSfD2oXmr2WfPtIrWV54dpwfMjCllwT3AoVam1e9hvDVbpKJydFdhP4SltfCjeILmSaK+TVDpjWTWky7XWMSEmYgRiQH5TD98dcYo1T4e+PdF1DT9K1jw5qNje6sQLOCe1ljkuSxAAiVlBYkkDAyeRQqsL7idCpa9jj6K6TXPBvi/wxbWl54k0S90qC/Ba3e6t5IUmA6lC4AbHXjtz0pfD/gzxh4tW6k8LaHe6wlku+c2lvJOIlwTliikDgEjPXFV7SHLzX0J9jU5uTl1OaorptD8F+MfE1pe3/hzQr7VLbThm5ltbaSZIRjPzlVIU45wecc0aH4K8ZeJrC81Tw5oV9qlnpwzczWttJNHCMZ+dlUgYHOCc456UnVgr3dgVGo7WjuczRXS2fg3xfqGiTeJrDRL240i2R5JbyOB2t0SIgOzSAbQFJAJJ4JpdY8F+MPDum2es+INCvtNsNRANtcXNtJFFMCMjY7KAcjkY6jkcU/aQvy31D2NS3Ny6HM0V6vY/BrxxJ4W1vxhrOm3Wi2GkWCahE93ayxpeI88cAWFmABIMobPoOnOazPh/8Pn8btqt9e6pBoOiaBbi51DULhJJUhR3EcaLHGC8kkjkBVGCcE5AFY/WaXK5KWxt9Urc0YOOrPO6K7z4heBLjwDqVlB9vg1fTdWtI7/T7+2DCK5tpSVDhHAZWVlZWRhlWBBr0m+/Z9u7KzutOHiaxl8Z2GnHVbnw+sUwnjthGJ2UTlfJaZYiHaIHIGQCSKiWLpJKTej/AK+XzNI4GvKUoqO39fPysfPVFezaj8FdX074d2Hj06xp9zLf31nZDTreUSTQG/iaWBp5BiONmVclCcqCCxHIGl4k+AureH9S8LaXH4j0i9bxLBdztcpcBLG0Fi5W4Ely+FcRlWBZAQSCFDZBK+u0Lpc3f8C/7PxNr8nb8dEeD0V9Fw/s6anP8VZ/hkvibTIordLBzqU7NFFL/aKRvbpDCf3kjuZAoUD1JKjmvBtZ0x9F1nUNGlcSvp9xNbsyggMYXKEgHkAkZANaUsTSqu0Hra/3mNbCVqKvUjZXa+a3M2iugtPCnii/m0y2sdIu7mXWVdrFY4Xc3QjJDmEAZcKVIJXOCDnGK6jwF8MPEfj28aCziktLY29/LHcyQu8Usun25uJIEIAzIVAGASRkEj1udanBOUmZQoVZyUYxvc83or0jTPhj4j/4Sq08LeMbK+8MzXlvPcx/aNPuJJWSKJpAUhVRIynbgsBhRkngGubtPBnjC+8OzeLrPQr6fRLclZb6O3ke2QjqGlAKjHck4HehVqfcbw9RK/L/AEjm6K9W8UfBzxt4d0yy1620+61XSbnSrLVZr23tpTb2yXqFxHJJgqGQY3HIHIPArk/CnhyHxJNqcU13Jaf2fp9zfKY7aS5Lm3UMIyIgTGrZ5kb5VHJ4pRr05R54vQqWGqxmqclZnK0V0tz4M8YWXh+DxZe6HfQaJckLFfSW8i2zk9AspAU5PTB57Unh/wAG+LvFrOnhXRL3WGR0jcWkEk5V3BKqdgOCwViAeoBPatHUhZyuZKjU5lHl1ZzdFdLp/gzxhquvy+FNM0O+utahLCSyit5HuUKfe3RgbhjjOQMZHqK6rwn8G/iR4zn8Q2miaJcvd+GLdp72B4ZBKGDBRCECkmZskqhAJCsRwKidelBXlKyRpTw1abShFts8woq/p2laprOoQ6RpFnNfX1w2yOCCNpJXf0VVBJPByAOK37jwB46tNbl8M3Xh3UYtXhiM72bWsguBEMfOY9u7bz1xj3rR1Ip2bsYxpzkrpHI0Vt+IPDXiPwnqB0nxRpd1o97tEnkXcLQSbG6MFcAkHHBHHB9K6e4+HOt3C6Mnha2vdfn1TTo9QkigsZ1aASTNCFGVPmruAAlTKFjtByDUurBJNvc0VCo21bVHntFdnefDj4hadaajqGo+GNTtbXSHEd7LLaTIls5AIErFQFOCDz2IPQimt8PPH6aJJ4kfw1qI0mGNJXuzaS+QsUqhkcybdoVlIIOcEEHOKXtqdr8yD6vV/lehx1FdO/grxjHoqeJX0K+GkSmIJdm3k8hzOxWMLJjaS7AhQCSSMDmrt/8ADj4haXqVpo2p+GdStL/UEeW2gltJUlnRFLM0alQWCqCTgHAGTR7WntzB7Cpa/Kzi6K1LbQ9avbEanZ2FxPaNcJaCWOJnQ3MoLJCCAQZGAJCjkgcCtzUPh7490nWbfw7qnhzUbPVbtDJDay2siTyooLFkQqCwABJIzgA5qnUgnZslUqjV0tDj6K77/hVPxQ+0SWn/AAiGr+fFbi7dPsM+5YDnEhG3IU4OD04PpWNofgvxh4mtLy/8N6Ffara6cN1zLa20kyQjGfnKKQvHODzjmp9tTavzIr6vVulyu5zVFddofgDx34mtBf8Ahzw5qOq2xEpEtrayTIRDjzPmVSPl3DPPGR61sr8J/Hb/AA6PxTj0uVtAS6e1aURuSmwDdK3y4EQb5CxOA4K4yKUq9KLs5a7Djhq0k2ovv8jziit7w54V8T+L786X4U0i71i8VDIYbOB53CDqxVASACcZIxXqfwu+B+vfEBvEd5qKX2l6b4WiLXjwafLd3Pn7got0gBUmQZ3MCRtUEkYFTVxFKknKo7JF0MLWrSUacdzw6itC10rUr+3vbywtJbm205BLcSRoWWGNmCK0hGQoLEAEkDJAzmtXT/Bni/Vp9NtdL0S9vJtZR5LJIbeR2uUiYq7RBQSyqwIJGQCCCa2c4r4mc6pzeyOaoreuvC3iexvNR06+0m7t7vSIzLexSQOkltGCql5VIyi5ZRkgDJHPIqzYeCvGOqvbx6Vod9ePdwfaoVht5JDLB5nk+aoUZKeYdm4ZG7jOaXtIJXvoV7Kpe3KcxRXoHg34daz4t+Idp8NrknR9Tnmlt5BcxuGglhRnZJI+GBBUgjgg9aw/EHg7xd4TNr/wlOiXukfbl8y3+128kHnJxym9RuHI6ZxketSq1Pn9nfUp0KvJ7Tl02/r7zm6K6fXvBPjLwstm/ibQb7SRqADWxuraSETA4x5e5RuPI4GTyOK6bS/g38TNS8V6J4Nl8OX2naj4gYC0F5bSwKyEgNKSVz5cYO52AO1eTSlXpJczkrFLDVnLlUXf/PY8yorb8ReHda8J65d+G/ENnLY6jYyGOWGVGRweqkBgDhgQynHIII61c1zwV4x8MRWc/iTQr7So9RGbZrq2khE44/1ZZRuPI4GTyKtVIae9uZOlNXXLtucxRXTa/wCCvGPhWW0g8T6FfaTJfgNbrdW0kJmBwB5YYAtyRwMnketWNV+H/jvQtRsNJ1vw7qFhfaqVFpBPayRSXBcgARKygsSSBgAnJA70lVhbcp0aqveL0ORoruIvhj8SZ9Xi0CDwrqkmqT24u47UWcxna2JKiYJt3bCQQGxgkEZzXH3dpdWF1LZX0EltcwMY5IpVKOjqcFWVgCCDwQQCKqNSEnaLuxTpTgryRXorvPD/AMP9W8S+ENY8VaW/nPpV9p1gtnGjPNcS6iZRGI8dwYyCMEkkY6Vs+JvhLr2heKrXwFo7nxL4mMAkvbHTInuGs58Za3LJuEkkYx5hUbVPy5JBrB4impOF9f6/zNlhKzgqijo/+G/RnlVFdLbeDfF954ibwjaaHeza6jFWsVt5DcgqMkGILuGBycjpz0qe38B+OLrVrvQLXw9qEup2BRbi1W1lM8Jdgih4wu5dzEAZAySMda1dWC6mSo1P5WcnRWrrmh614Z1GbR/EdhcaXf2+PMguYnhlTIyCUYAgEcg4wa7/AMQfBT4meGrTw9d3+g3Ui+JrcXFosUEjsch28pxtH70IhkKjJCEN0NKVamrc0txxw9WV7Rem55XRXS674L8YeGIftHiTQ73S4t6x7rqCSIb3QSKpLAYYxkMAeSvPSugHw214aI91La3setHUbewi0w2M/mSfaYDPG4l27AzKAViPzsp3AY5odamkncaw9S7XLZnnVFdJrvg3xf4Yhs7jxLol7pMWoKWtmureSETAYyULqN3UdM9RWvdfDLx/pbWz694d1DSLa5aAC4urSWKJVuXCRuWdQMEnA5yTxT9rT0fNoL2FXVcr0OEorrvHvhK48BeNdb8FXdwt3Not1JavNGCqSGM4LAE5APoTXI1cJqcVKL0ZlOEoScJboKKKKozCiiigAooooAKKKKACiiigAooooAKKKKACiiigAooooAKKKKACiiigAooooAKKKKACiiigAooooAKKKKACv1T/AOCb3/IH8ef9fNh/6BNX5WV+qf8AwTe/5A/jz/r5sP8A0CavkeJ/+RZV+X5n3nB3/I3pfP8AJn6Y0UUV/PJ/UgUUUUAf/9L9/KKKKACvwt/bc/5OO8Qf9e1h/wCkyV+6Vfhb+25/ycd4g/69rD/0mSv0Lg7/AH6X+F/mj8v48/5F0P8AGvyZ8m0UUV+5H83hX0D+zL4zi8FfFayu9Qv4LDSry2u4bw3RX7O4SF5YRIH+UkTpGVJ5DAY618/UVz16Ma1KVKXU7MLiJYetGvDeLufUHgzWdR8c/CzWvDWneKrbQvGF54hTWL2e/vRYG/t3hKAi4YgM0MxLlCc4bcoJGK9E8Z6t4Q+K1v8AELwnoninS7W/uL3QLtb3UZhZW2ovp1nJbXs8cjAgs0jeYARudTkAk18NkdqK82WXJzc4ys+n4P8AQ9aGayVNU5Rv0evk1+rPuX4tePdCtfDfxC03wd4phuHv5fCdvFJZXGxruCzsGScoFIYqrqocfwnAYA8V4n+z7rE2l+J9ZhivNLiXU9KntJLfVrmSxivY5HQtDFeRlTBKdu5WLAHBB64rwajrWlPL4Qouinv+iS/Qzq5pOpiI4hx2vp6tv9T7n8QDwXr/APwnvw70Lxjai71rSvD728mq6oLi0hn06ZnnsY9RZVEqxIwEbEc8jORW6+teHhqviTw14a8daZaXU3gHR9GtNSF4IIJbuCWMSwpKcFSyhlJIBVTlgACa/PvHaiuT+yla3P8A1p/kdv8AbTvf2f57a/5s+75vG2m+F9HHh+78WWt/4p0XwHrGnz6ja3YlDXF1eRyW1nDcggyyRRbgNpOMkA8HFXQ/idZTa98OIdW8UrJYQeCdRsr9ZbsmJbmSO7VYZwWx5jDygA3J+UDtXw10oqv7Jp2ab7/jf/Mn+26vMmltb8Lf5an3N4f8V6dcajpmnaZqmi3cNz4C0bTb2z1DUH07z3hkLSQRXsTAW88RAYqzAEcEGtOw1fw+PGXjjQdD8S6b4h0bUk0g3EWq63LZXLvbRncLPV1CCVbRiVG4HeuCFOMn4G60YzSeVRu/et/S/wAgWdTsk47f5Nfr/wAA+/rXx98M/DWv211P4mOv6dZfEGS++1XLi5uTA+mCFbxhgNKkU5GHCgNsBAycVD4J1uz8BT6FpPxF8bad4hvb3xpp2qW08GoC9jtLaDeLm7lmJxCJwyjYSCQCSBivgejGKTymDXK5f1/W5Uc8qKXMoar16/n5dj6K1rxu3iD4R+NLDXNbOoajc+LLS9tYp5zLK0TRXQmliViTtJKBivHKg9q779nrV7A+Dv7B1zV9LtdLi1tL6USavJouq2DCNU+2wSD93cKAMCIqxDDoN2R8b0YzXXVwEZUnSTtd3OKlmc4VY1WrtKx9q297D4j8O+GLb4dfEe08NL4U1fVpb+51C7+xTzGe6MsGpeVwblmhwpUAsGG3ABqbwzraa/o/w9vPDPj2x8PJ4O1K9n1r7VciwkleW8M/25Lc4NwJoMII1BKkeWQAc18SYzSVi8tja3N+C63v67m8c3ad3Dolu+lrW7bK59ieM/ij4Qn03wVNpFxt8Op4u1nVL3SInAIsXvYpIlmgBAw0W4KrDGCQO9en/ED4g+GLG31/Wb2bQ9V0XxBrOnXeyLWbrUry8ggu1n8xLNyyWrJECjqwQAEooIAFfnbSVDyml7tnt/ncuOd1ve0WtvysfeXjHVDa6H8aNW1P4iabr1h4zhil0izh1ATTTj7dHIp+zk5haKI7ChAPBwCFJHgnwnuNI1nwd46+Gl/qlro194ji0+4sLi+lEFq8+nTtIYJJTlYzIjnazcblAJ5FeE4xRW9LL1Ck6fNq2n91rfkc1XM3UrRq8uya373v+bPo74mWGjano+geDdK8R6XdP8PPDr/apxcfur27nunmktrJwMTNGJABjAJDEHivf7P4ieHvD+m3PxH1LUPDOsX03h1rKPU4WkXX7y5ltvIjtpbEyMkTRMQJZ9vzIgwfmxX55UY71FTLYzhGEpf09zWlm0qc3UhHXT8NF9yPZdM1bSYf2d9c8PvdxLqU3iXTriO23gSvBHaXCvIEzkqGYAkDAJAJ5o+I2raTqHwq+F2mWN3FcXem2OqpcwxuGeB5b5nQSKDlSykMAcZHI4rxqiu5YZc/Pfrf8LHmvGP2fs7acvL+Nz6t8SeJ/Ddx+1F4S8SwanbSaTazeGTLdrKpgjFtb2qzFnBwBGVYNk8EEHGK8e8d+GL/ABqPxFjlgk0bWNe1O0tGWTMkrQv5rSKoGDHtkUBgepxjvXmdaNxq+qXWm2mjXN1JJYWDSvbwMcxxNOQZCg6AuVGT1OB6VnSwrpcnK9kl8kbVsaqyn7Rbty+bPrf4O/Fbw/4R+FU/iG+vIl8XfD6e7GgW8hUvOmtCNJNiHJIhKyOcZA35OM8+g6h8RvAHh34oaZpvgLXILfQtL0PxHqUV0sqoq6prcU0yRBwceZGPKiUZ3BhjGeB+e1FcNTKaU5ym3vf8f+Hb+Z6FLPK0KcaaS0t+H/DJfI+0vhX4+0caF8N28UeIIjd6XdeLBM13cgywRXWnKsAcu25VklLBM8FiQOc1VvNRn1zQfC3ivwj8Q7Hwtouh+F0026sZLnbcxXcUTJcwrp45nN253BwCCGyxBWvjejHetHlsefnT/q7f6mSzefs1TlH8X0SX6H3BovxJ06L4n/Dy2n8SRp4esvBEVhdRm6AtI53024WSCVc7A5l2Aqwzu2jrivAPglq2l6PdeLW1e7is1u/C2r2sRlcJ5k8sICRqSRl2PAA5J6V49RW0cBCMXFPdJfdf/MwnmU5TjNrZt/ekv0PuLx3rGia18J9R1LXvEenpqTaPptrZy6Nq0rf2obfygtrd6RJnyTEFJaQbAGUEA5wfD/B/iz+wfgV4/wBJsdWOn6pqeo6N5cMUxinngiE5kKhSGKqSu7HAyM9a8MwM0tTSwEYU/Z30un91v8h1sznUq+1Ss7Nfff8AzPvDxF4q0bxi3jbw94b8UWVh4k8RaZ4Xljv57xbeK7FlaILy1a7J2pIZCrMGYbihBORTG8XaJqfivV/CUPi2zbV5/ASaFNq8l0YLK91iGSOQH7SeG2xDylmYjcVODzz8JdaK5llUErKWn/AS/TY7Hnc27uP9Xb+/V6nuHwCbRIPH051zWG0hhYXq2xW+/s5Lq5Zdq20l4AfJjlBYFxycAAjOa+pNb8ceGNCbRmsNb0uw1PTvBHiOxI0/U2vRb3cswaCBbqV2keUgkr82N2fL+UCvzrorbE5dGvVVSUtP+H/zOfCZrLD0XSjH5/c/0PbPiJ4itte+F3wxgl1JdQ1XTrfVYboNL5s8KNd7oVkySwBUkqD26cV7RZePdF0zwGyabr8FrqK/DZNNURXASYXZ1Vne3GCGEvlEsVHzbTnGK+K6K1ngISioN7Nv73cyp5lUhOVRLVpL7lY+4h8TrO81/QotQ8ULNYD4a3NhcLJdlojfPZzgQyAsQZi+wAHLE4HXFd8t3N4e8T/Dnx5rvjSysvCuieDdNW+0mW8xcypJYkNbpZE5l+0llwwBAwckFQK/N+trXPEOs+JJ7S51u5N1LY2kFjAWCjZbWyBIoxtABCqMAnJPck1wTymLaUXpZo9Onnkkm5q7TTWv9dj6u0T4m+HNH8X/AATl1PVw2haFoqJdRo5misL2Sa6CSyQgkeZCWikIILBVBHQUS+MtT+EXg20Gt+K7LxZ4nh8U22taeLO9GoiG3t0dbmR5RkRi73KvlkgkAkgEV8b0YxXU8spt6vT/AILf669zjWb1UnZa9PuS/TTsfoPF8QvhH4A+KHg7w14Y1OC58KRTarrMt2GPk2+o6zHJHaCRo8lfscQjRmHzISWABGBoaT440jwt4k8CadquoaFpyadfatfrJaa3Pq8lsZbCSMNJczMyRpNJtKxhtxbBKgk1+dFAHauWWTU3vJ7W/PX8TrWf1VtBb3X4afgj7F8EfFG4g0P4Mw6l4rkSSw8WXlzqYlvGDRWzT2pV7jL5EZUykFvlILe9eoeEfG3hS80TRIfDl3o1tc+Gdd1a6umvtan0hUM1600F5HHAwW7jMO1MAMwC7QNrc/nVRjNaVcqpz2dv6f8AmZUc7q07XV1p+CX+SPr3WPiikeieBpPDuuRaaR4y1nU7u3sZ2iihikubdoZGQlWEW0ybDIB8ucjrS/EXWtG8SeA/iBpHh7X7NRp3jW/1SO2N2IxdadOpRGtFztmG/wCYqueCGA5r5BoreOWwi1KLtb/O5zyzapJSjJaNW/C3/BPoz4ZXS6z8KPE/gHQNftfDniS81Syvg93diwS8soI5EaEXJIUGORlk2EjcBkZIxXpPjb4iaBdxfE+307xFHdXsvhzw/p7XcUxQarqVlcW63c8PIaQsqsSwGWVSTkGvikjPWlqp5fGdR1G/P8v8iaeaThSVJLpb8H/me2fs+6nBF8R7bwnqO46Z41gm8P3aqCTs1BdkbhRyTHMEcem09Ote93/izRbzXfH3wq8N65b6Hcado1h4c0K/uJhawSppcwa+j88kCI3cnmMGJw2ApPNfIPhLxr4o8CahNq/hG/bTb2aF7czxqhkEbkE7GdWKNkDDLhh2Iya5diXJZiWJJJJOSSepJPUmprYFVazqPy+9O9/0Kw+ZOjQVKK1u7+jVrX/E+6ZNe8N6pLJ8N9Q8V6dP4hk8CSaHPq81yPsM1+L2O6ht2uyMMIoV8oSklSwABOBUt54n0HwV4c/sbR/F9jcanp3w6u9MFxp92CDfyamsjQQyAqS+wsRgAsoLDggn4QorD+y46Lm03+f9dDo/tqerUPeta/l/n5nt/wCztr2naH8cfC3iDxHqKWFpb3Esk93cuAiZhkAZnc8nJHU5JIHU1734f8U6J8NtL0a2+Kfiqy8ZvceMLLWIVtLv+0/s1pAsgnunPJTzWZD5Rwx2kkAjFfCtGMV04nARrzcpPdW+6/X5nJhMznh6fJFa3b++3Trsff3jHxnDo9raRwax4ct5NQ8U2GqQXI1e711g9u7N9tkjcuIIiCBKpKuwOADtGGeJvE3hLQfF/gDxPf8AiC3sb6HxWl9f2Wma1LrGnC0Z42lvgWLNbmTG0xFmynUDGK+BMYoxiuWOUwVry7/5HbLO5u/udvwd/wCtj0/xLDcaJ8XJnl1qyuni1RLlNRjm+3WgR5RLHIWTcXVFI3KASMFcZGK+zNb8ZeAtH8WeG/Gvi/W7JbxvE4vbq00nVZNY024jeGRf7TNtJua1aORlIjLEkEgKMDH5yUYxXTXy9VuXmlsrHJhszlQc3CO7vqfaHhjVJ/hx4z8Mah8SfiNY+I9NOvS3gtrW5/tUQO8DxpqcjjIjAdlPln5iAWIBUVueFNZtfAi+G9E+IXjPT/EGoXXjfS9Wt5Yb9b6KytLdiLq6lnJIiE+5fkJBwpZgMV8J4xRjFZTyxT+KW/kvP/P5m9POJU7csdvNve1/XbQ+1/hx470vX9G+IOgarfW1/r+r61FexvqmrzaWl3YxGUeWl7GykmN2EgiZgrAkgEqK8s+NbQeN/GPijxhHrOiltGh063ZLS6llN+/lrCzWzTKHuGj2jzXJAONwJzmvnvGetFb08BGnWdWEv60/yOatmc6tBUJx0/4f/M+qvgL8XYPhB8P/ABlrVrFZXuryaloht7O7OHkhQ3AuHhAIYMqNt3jOzfnriu/8Ey/DHw5ceNtK8LarY6jB45srK70kahqb6dLHEkzPdabd3UTB4J1YggsQswQEk5r4Wo61lWy2E5TmnZytf5Wt+X4mtDN6lOEKbimoXt873++5+ikPxD8K3niLxP4Xv5tDk1m68O6Xp1rNFq91FaTfZJmkmtJNWbEhlMbKu8MUcIELdRVuHWbjxL/wsDTNI13SNIvrLwdpmmC/tNRnnto3+24WGbUJhln2sITKGKgEAsADj838DFbmm+ItZ0fTNV0fTbowWetxRwXsYCkTRxSCVFJIJADqCCCDxgnHFccsnitYS10/C3+R3xz6T/iR77ed/wBWezfHLU7VtM8CeFbjWbfxFrvhzSpbfUb22n+1Rbpbl5YYBPyJTBGwUkEgE4B4r2jwX4t0hNd+C3jOfxRZxWmg6Vc6bexz3gWe0vY1vGV5IXOQrBkCydCSFzyBXwt0or0KmXxnRVJvv+N7/meZTzSUK7rqO9vwtb8j6x/Z3vtN+IFz4k+HnxIvpp9Mu/I8RPcSs0rpJo8gknLMxJAltWkQknGcD0ruPh58WdG8QanB4r8U6rbafdah8SLHVpIp5VQwWS2kyByGIIiiBVNx4GAM18gaR438VaD4f1Xwto2oPZ6Zrm0XsUaoDOqdFaTHmBT3UNtPcGuVrCplqqzqOTsn/T+/T7joo5vKjCnGKu47/p92v3n2R4B+J+kQ6NDfeOtTbWms/iDY6mLaWQ3Nw1sYphLNFGxLMoYoSFGCcDqRXU31vq2n/Cr4jT6p46sfFgvfEGjXUZgu5J0g33bnzJ2kUCBpAAGjwWUISw4GfhezvLvTruDULCZ7a6tpFliljJV0dCCrKRggggEEcgivQfGPxg+I/j7Tl0jxXrLXdkJRcNEkUMCSzAECSUQonmOAThn3EZODyayq5a3UUqe11f5O+mn+RtRzaPsXGr8Vml801rr/AJi/GbVhrvxY8W60sttML7UZ5Q9nN9ptmDtkGObau9fRtoz6V5pRRXvUqahBQXQ+ZrVHUqSqPrqFFFFamAUUUUAFFFFABRRRQAUUUUAFFFFABRRRQAUUUUAFFFFABRRRQAUUUUAFFFFABRRRQAUUUUAFFFFABRRRQAV+qf8AwTe/5A/jz/r5sP8A0Cavysr9U/8Agm9/yB/Hn/XzYf8AoE1fI8T/APIsq/L8z7zg7/kb0vn+TP0xooor+eT+pAooooA//9P9/KKKKACvwt/bc/5OO8Qf9e1h/wCkyV+6VfJHxN/ZL+GPxa+Id94u8T3WpxX13b2+9baeOOMeUDEMBomI+VRnk819dw9mFHBYqVWtta35HxPFGV18xwao4ffmv+DPwyor9nf+HfPwP/5/9c/8C4f/AIxR/wAO+fgf/wA/+uf+BcP/AMYr9N/1sy/z+4/Hv9SMz/u/efjFRX7O/wDDvn4H/wDP/rn/AIFw/wDxij/h3z8D/wDn/wBc/wDAuH/4xR/rZl/n9wf6kZn/AHfvPxior9nf+HfPwP8A+f8A1z/wLh/+MUf8O+fgf/z/AOuf+BcP/wAYo/1sy/z+4P8AUjM/7v3n4xUV+zv/AA75+B//AD/65/4Fw/8Axij/AId8/A//AJ/9c/8AAuH/AOMUf62Zf5/cH+pGZ/3fvPxior9nf+HfPwP/AOf/AFz/AMC4f/jFH/Dvn4H/APP/AK5/4Fw//GKP9bMv8/uD/UjM/wC795+MVFfs7/w75+B//P8A65/4Fw//ABij/h3z8D/+f/XP/AuH/wCMUf62Zf5/cH+pGZ/3fvPxior9nf8Ah3z8D/8An/1z/wAC4f8A4xR/w75+B/8Az/65/wCBcP8A8Yo/1sy/z+4P9SMz/u/efjFRX7O/8O+fgf8A8/8Arn/gXD/8Yo/4d8/A/wD5/wDXP/AuH/4xR/rZl/n9wf6kZn/d+8/GKiv2d/4d8/A//n/1z/wLh/8AjFH/AA75+B//AD/65/4Fw/8Axij/AFsy/wA/uD/UjM/7v3n4xUV+zv8Aw75+B/8Az/65/wCBcP8A8Yo/4d8/A/8A5/8AXP8AwLh/+MUf62Zf5/cH+pGZ/wB37z8YqK/Z3/h3z8D/APn/ANc/8C4f/jFH/Dvn4H/8/wDrn/gXD/8AGKP9bMv8/uD/AFIzP+795+MVFfs7/wAO+fgf/wA/+uf+BcP/AMYo/wCHfPwP/wCf/XP/AALh/wDjFH+tmX+f3B/qRmf937z8YqK/Z3/h3z8D/wDn/wBc/wDAuH/4xR/w75+B/wDz/wCuf+BcP/xij/WzL/P7g/1IzP8Au/efjFRX7O/8O+fgf/z/AOuf+BcP/wAYo/4d8/A//n/1z/wLh/8AjFH+tmX+f3B/qRmf937z8YqK/Z3/AId8/A//AJ/9c/8AAuH/AOMUf8O+fgf/AM/+uf8AgXD/APGKP9bMv8/uD/UjM/7v3n4xUV+zv/Dvn4H/APP/AK5/4Fw//GKP+HfPwP8A+f8A1z/wLh/+MUf62Zf5/cH+pGZ/3fvPxior9nf+HfPwP/5/9c/8C4f/AIxR/wAO+fgf/wA/+uf+BcP/AMYo/wBbMv8AP7g/1IzP+795+MVFfs7/AMO+fgf/AM/+uf8AgXD/APGKP+HfPwP/AOf/AFz/AMC4f/jFH+tmX+f3B/qRmf8Ad+8/GKiv2d/4d8/A/wD5/wDXP/AuH/4xR/w75+B//P8A65/4Fw//ABij/WzL/P7g/wBSMz/u/efjFRX7O/8ADvn4H/8AP/rn/gXD/wDGKP8Ah3z8D/8An/1z/wAC4f8A4xR/rZl/n9wf6kZn/d+8/GKiv2d/4d8/A/8A5/8AXP8AwLh/+MUf8O+fgf8A8/8Arn/gXD/8Yo/1sy/z+4P9SMz/ALv3n4xUV+zv/Dvn4H/8/wDrn/gXD/8AGKP+HfPwP/5/9c/8C4f/AIxR/rZl/n9wf6kZn/d+8/GKiv2d/wCHfPwP/wCf/XP/AALh/wDjFH/Dvn4H/wDP/rn/AIFw/wDxij/WzL/P7g/1IzP+795+MVFfs7/w75+B/wDz/wCuf+BcP/xij/h3z8D/APn/ANc/8C4f/jFH+tmX+f3B/qRmf937z8YqK/Z3/h3z8D/+f/XP/AuH/wCMUf8ADvn4H/8AP/rn/gXD/wDGKP8AWzL/AD+4P9SMz/u/efjFRX7O/wDDvn4H/wDP/rn/AIFw/wDxij/h3z8D/wDn/wBc/wDAuH/4xR/rZl/n9wf6kZn/AHfvPxior9nf+HfPwP8A+f8A1z/wLh/+MUf8O+fgf/z/AOuf+BcP/wAYo/1sy/z+4P8AUjM/7v3n4xUV+zv/AA75+B//AD/65/4Fw/8Axij/AId8/A//AJ/9c/8AAuH/AOMUf62Zf5/cH+pGZ/3fvPxior9nf+HfPwP/AOf/AFz/AMC4f/jFH/Dvn4H/APP/AK5/4Fw//GKP9bMv8/uD/UjM/wC795+MVFfs7/w75+B//P8A65/4Fw//ABij/h3z8D/+f/XP/AuH/wCMUf62Zf5/cH+pGZ/3fvPxior9nf8Ah3z8D/8An/1z/wAC4f8A4xR/w75+B/8Az/65/wCBcP8A8Yo/1sy/z+4P9SMz/u/efjFRX7O/8O+fgf8A8/8Arn/gXD/8Yo/4d8/A/wD5/wDXP/AuH/4xR/rZl/n9wf6kZn/d+8/GKiv2d/4d8/A//n/1z/wLh/8AjFH/AA75+B//AD/65/4Fw/8Axij/AFsy/wA/uD/UjM/7v3n4xUV+zv8Aw75+B/8Az/65/wCBcP8A8Yo/4d8/A/8A5/8AXP8AwLh/+MUf62Zf5/cH+pGZ/wB37z8YqK/Z3/h3z8D/APn/ANc/8C4f/jFH/Dvn4H/8/wDrn/gXD/8AGKP9bMv8/uD/AFIzP+795+MVFfs7/wAO+fgf/wA/+uf+BcP/AMYo/wCHfPwP/wCf/XP/AALh/wDjFH+tmX+f3B/qRmf937z8YqK/Z3/h3z8D/wDn/wBc/wDAuH/4xR/w75+B/wDz/wCuf+BcP/xij/WzL/P7g/1IzP8Au/efjFRX7O/8O+fgf/z/AOuf+BcP/wAYo/4d8/A//n/1z/wLh/8AjFH+tmX+f3B/qRmf937z8YqK/Z3/AId8/A//AJ/9c/8AAuH/AOMUf8O+fgf/AM/+uf8AgXD/APGKP9bMv8/uD/UjM/7v3n4xUV+zv/Dvn4H/APP/AK5/4Fw//GKytb/YW/Z18NaTd6/4i13VdM02wjMtxdXN/bwwxRryXd3hCqB3JIFH+tmX+f3B/qRmf937z8d6K/Q4fD3/AIJxf9Frsv8AwotP/wDiKP8AhXv/AATjz/yWuy/8KHT/AP43S/1ty3u/uEuCMz/u/efnjRX6Z+EvgT+wf491y38MeCvinHrmr3e7ybSz12xmnl2AlgkaRlmIAJOBkAE9BXtX/Dvn4H/8/wDrn/gXD/8AGKP9bcu6N/cP/UjNP7v3n4xUV+zv/Dvn4H/8/wDrn/gXD/8AGKP+HfPwP/5/9c/8C4f/AIxT/wBbMv8AP7g/1IzP+795+MVFfs7/AMO+fgf/AM/+uf8AgXD/APGKP+HfPwP/AOf/AFz/AMC4f/jFH+tmX+f3B/qRmf8Ad+8/GKiv2d/4d8/A/wD5/wDXP/AuH/4xR/w75+B//P8A65/4Fw//ABij/WzL/P7g/wBSMz/u/efjFRX7O/8ADvn4H/8AP/rn/gXD/wDGKP8Ah3z8D/8An/1z/wAC4f8A4xR/rZl/n9wf6kZn/d+8/GKiv2d/4d8/A/8A5/8AXP8AwLh/+MUf8O+fgf8A8/8Arn/gXD/8Yo/1sy/z+4P9SMz/ALv3n4xUV+zv/Dvn4H/8/wDrn/gXD/8AGKP+HfPwP/5/9c/8C4f/AIxR/rZl/n9wf6kZn/d+8/GKiv2d/wCHfPwP/wCf/XP/AALh/wDjFH/Dvn4H/wDP/rn/AIFw/wDxij/WzL/P7g/1IzP+795+MVFfs7/w75+B/wDz/wCuf+BcP/xij/h3z8D/APn/ANc/8C4f/jFH+tmX+f3B/qRmf937z8YqK/Z3/h3z8D/+f/XP/AuH/wCMUf8ADvn4H/8AP/rn/gXD/wDGKP8AWzL/AD+4P9SMz/u/efjFRX7O/wDDvn4H/wDP/rn/AIFw/wDxij/h3z8D/wDn/wBc/wDAuH/4xR/rZl/n9wf6kZn/AHfvPxior9nf+HfPwP8A+f8A1z/wLh/+MUf8O+fgf/z/AOuf+BcP/wAYo/1sy/z+4P8AUjM/7v3n4xUV+zv/AA75+B//AD/65/4Fw/8Axij/AId8/A//AJ/9c/8AAuH/AOMUf62Zf5/cH+pGZ/3fvPxior9nf+HfPwP/AOf/AFz/AMC4f/jFH/Dvn4H/APP/AK5/4Fw//GKP9bMv8/uD/UjM/wC795+MVFfs7/w75+B//P8A65/4Fw//ABij/h3z8D/+f/XP/AuH/wCMUf62Zf5/cH+pGZ/3fvPxior9nf8Ah3z8D/8An/1z/wAC4f8A4xR/w75+B/8Az/65/wCBcP8A8Yo/1sy/z+4P9SMz/u/efjFX6p/8E3v+QP48/wCvmw/9Amr0r/h3z8D/APn/ANc/8C4f/jFe1/Az4GeDfglFr9n4QmvJk1K4i803cqSkeQny7SiJj75znOePx8DOuIcHi8FOhSvd26eZ9Rw9wtj8FmEMTWtyq/XyZ75RRRX5Gft4UUUUAf/U/fyiiigArJT/AJDk3/XvH/6G9a1ZKf8AIcm/694//Q3poDWooopAFFFFABRRXy9+0bd+PlvPBen+EYPEb6ZcXt3Jqr+GRELwRRWzeTGZJsRorzMpJYjO0gc4FAH1DRXj3wO1/Q/EPgGG70LVtW1YW9zc29yddI/tO2uopCJra5UKgV4m+XAHTBBIIJ9hoAKKKKACiivmn9rn4s33wY+APijxdoUoj8QXMSaZowJAJ1PUXFtbEZ4+R38w54wpJ4oA+lqK/MH4U/tR+LvhX+zJ8TtQ+KN4vj/xp8D9SksNQmjuFQ6pbXMscllciRQ4AeKbA4JJjIPOTXRfFb9oP9qfQtS+DP8AZXgDT9Am8b+IprK60y51eGeSa3FrJNBBJMtsywsyqzu0e4oyBBuDZAB+jlFfm149/wCCivhfwT4z8TWa6HZXfhPwTqqaNq97JrtpbaqbkOkdxJZaTIPOuYLdnwzhlLYYoCFJqz42/bt8VeEdT8aahbfCqfWPB3gLxNF4b1HVLfVYEmea6EIgaC1kjUuS86BwXUKGUhjltoB+jlFfMvwM+PHif4l+M/HXw0+IHg3/AIQrxX4Fewknto7+PUoJrXU42lt5EnjjjG7CMHXbwRwTnj5b8VeKPGHxd8X/ABi8XeJPi/qvwk+Hnwk1VNAtF0VYkd71IYZJry+d4pXljMk6JHEoClQckHJIB+n1FfmH8Ovjv8QvEvjf9nW2n8cWXjSHWbbxnDrNx4eV4rHV5tJt4mtmMU6RFZlyCyjagkJwdpGO7+G37bGteNPixbfCHXfBVhpOu67p2o3uk29p4is9UnSXT13/AGbU0tVYWUki8qd0gGCOSCAAfoDRX57aH+2H8V28WfETwv4t+FlpYj4Z+HLrXdWutP15dQggnigee3sJHFrGFnnVC20FiiYYjoD6TeftVLaP8J0/4Rst/wALO8Man4jz9pA+xjTtPivvI/1f7wv5uzd8uMZwc4AB9gUV+f3wu/bW8TeLtW+G83j74bSeD/DHxU066u9G1T+04r1vNsbQ3kyz26RI0cbRKzRPuJYAFlUkgL4S/bV8T+Irrwf4h1b4Zz6N8PviZfNpfhbW5dRjkmubxxIbMXlmse62ju/LPltvcrxuGCDQB+gFFfEngX9sWHx9b/CCy0jwu6eIfiXfaraX+nSXID6Imhb01GSVhHmQxyKqKpVNxccjpX23QAUUUUAFFFFABRRRQAUUUUAFFFFABRRRQAUUUUAFFFFABRRRQAUUUUAFFFFABRRRQAUUUUAFFFFABRRRQAUUUUAFFFFABRRRQAUUUUAFFFFABRRRQAUUUUAFFFFABRRRQAUUUUAFFFFABXwb/wAFLbb7Z+xn45ti4RXl0oNukEQZRqNuSu88AsOATxkjPFfeVfLn7ZPw+1/4ofs7eKfBnhqVYL+6NpKrMGJ2W1zFO4QJljIVQ7Mc7sHtilJ2TIm7RZ/JFqfwv8Q+Hwl7qNhcRadOQUuJIyqhWYAgnkFlzg7cg8EEggn9Ofjl+zToHjLwZp3hj9n3wraahe6LplpcMLSKNbqVXJYzm5fy2laRPvRsCSSCoGMn48+JXw/+KV/4hh03T4NT8V2kUCoLmF5L8Rzg4kjlIJaOYMcFHCvjGQRzX7jfAzVo/C3wK8IR6tbQJ4htNNsrS7WFQ+Jo41VVkZPlMgTAYE5ByO1eXh8PPEVWr2sfS1Z4Wll1GvC02/l+v9XPxf8A2dvh5/wrr9pD4YWfjeK+0fxdF4x0WK3sGiUR+U91GJGlkDEqQCQFAJIIJ4Iz/XJX89vxwhkP7cX7PsV6sP2t9f0+VpUTE8oF5EF81gcEDBK9SBkHAwB/QlXpqPL7ltj551ZVJOT6hRRRVCCiiigAorw/4+eKPEXhzwbYWHhK8/s3V/E+saZocF7sWQ2n9oTrHJMqsCpdI9xQMCN2Mg9Dzvw5m8T+C/i9rfwk1XxDfeJ9KfRrXW7C41NklvLdnnktriF5Y0jDoWRXTIyuWAOAMAH0lRXwl8ZvHN1a/FPxFoXjL4iX/wAN9O0fSLa78OJZCOMardSiQzu3mRyfamikWOMWy4JDZwSwI2vEvjX4o/EL9krT/il4d14eENSk8OTavqMkFusly8kNq0gitzIdsIeVcsxVmC8Lg/MAD7ToryK5g8beKfhTo6eGdeXQ9Wv7Kzkn1F4BcypG8StM0SMQnmtztZgVUnJU4xXH/A/V/HPjD9m3w1q0WsLJ4p1LS/l1G+jM488syiWWNSm8jGSAVBPGQKAPo2ivm39nbUfGd74R8Xad4j1+XxFqujeJNY06G+vUVS62zhY9yQhVVQf4VxgcA96pfAm7+IFv4/8Aib4U8feJpPE9xo9xpTRymFLeGI3dmJpI4IUzsjDHChmZiBlmJyaAPp+iiigAooooAKKKKACiivO/iZpPiTWfC8lp4b1+bw0VlSW7u7aAXF39ijy00dsCGCzOo2q2x9uThScYAPRKK+RP2fPGPiPxfpvxD0rQNfu9TtNHvVttEuPEURXU4Xe1Vm+2wbYZvKExJiMio7pnnGDXT/s7X3jN7j4iaF418Rz+J7vQfEb2kd3PHHD8hs7aYqkcYCogeRtqjOBgEk5JAPpSiiigAooooAKKK8H+Jw8S6Ol94hh8R3FtdyPDb6Fp1oq7J7kgfJMjKxlMjZ3YICRgnggmgD3iivn6+8c+NdF8WeMfsul/2xZaNa2F1JGblYVgUwu8qxAqxd22kgHA4GSMgV7jpmoQatptpqtrnybyJJkyMHZIoYZHY4NAGhWTpn+u1D/r4P8A6Ala1ZOmf67UP+vg/wDoCUwNaiiikAUUUUAf/9X9/KKKKACslP8AkOTf9e8f/ob1rVkp/wAhyb/r3j/9DemgNaiiikAUUUUAFeafELwd4r8TNpeoeC/Fc3hbVNJkkYHyBd2dzHKm1o7m2Zo94GAyMHVkYZBwSD6XRQB5n8LfhzH8NPD1zpkmpS6zqWq31zqepX0yLG11e3bBpZBEnyxrwFVF4VQBknJPplFFABRRRQAV87fHL9nnQfj7rfgYeOLpLnwp4S1CfU7vQ5bZZrfVbgwNDbiZmYBUhLs23YwcnBwBz9E0UAfn/wCNv2APAOqt460/4Z6jD8PfD/xA8P2ujahpWnadGbYXVleC6hv1VZIwJAm6IrjBDbtwIwfdfjp8C9Q+LNh4LufDfil/CfiLwHq0Wrabfi0jvo/NSGS3dJbeRkDK8cjDhgQcHnv9F0UAfBGsfsUX/wDwnWva74L8dx+H/DvizVxrmqWJ0Kxvb0XkhVroWWoXG57eO4K5ZCkgUltuAxFdH4n/AGOrLxH4R+JPhM+KpLZfiL4vtPFjyizVjaNaPaOLYL5oEgb7IBvJUjcflOOftSigDxPwj8HYfCnxq+IHxjTVWuZPHlrpFs1kYQi2o0mOSMMJNxL+Z5mSCq7cd88eQeM/2YfHMfxH8R/En4EfFG6+G1142WE67aHTLfVrS5uIEESXcMc7IYLjywFZgSrYBK5HP2XRQB8Q6b+xD4P0az8AaVpniK/Sz8Faf4ntLmSQBr3U7jxTCI7u7e4BXypQ+6RdqMMkDgAGuE+F37CXiL4beJfB/iOD4j27v4B0vVNL0eOz8OWlgFGo2v2Zbq5MUpNxcIQruz5EhXGFLMx/RmigD4L+DP7Hnjn4Y+G9d+HviT4pDxT4Q8Uw6qur2p0KC0v7+51ZGSa5m1Dz5ZWlG44LA8ALwAKyfBf7EPi3Q9c8Iar4x+Ld54ptfAmh6p4e0i1k0q3tkgsNRtBaLuaOQtJLGoXdI2d4VRhcEn9CqKAPkPSf2TtN0/Rvgdodz4ge7t/gxbXNthrUL/aiXOnPpzBx5h8kbXLYBf0z3riPA37FeqeGdW8FaL4g+I954g+HHwz1E6p4a8PSWMMMltcx+YLX7VfIxkuVtRI3lAovbdkDB+86KAPkr4X/ALJnhj4Y/tA+OPjxYatNeP4sEv2TS5IgsGlveOk2oPC247jdTRq7YVccj5s5H1rRRQAUUUUAFFFFABRRRQAUUUUAFFFFABRRRQAUUUUAFFFFABRRRQAUUUUAFFFFABRRRQAUUUUAFFFFABRRRQAUUUUAFFFFABRRRQAUUUUAFFFFABRRRQAUUUUAFFFFABRRRQAUUUUAFFFFABXyj+2pb+Mpf2dvEF14AuJLTXdOudMvbeaNHk8v7LfQSuzrH83lhFbeR0XJPGa+rq5bxjP4qt/Dl7L4Kt4LrWlUfZ47htsbNuAOTkdFyRyMnqa2p0/aTjC9r99jmxM1CjOdm7J7av5Lqfh78Q/AHiS51u0+JOk3EmgeJ9Ut0jn1G3txLb3LbQXhu4XBDlT91z8xUAqwOcclH8YPiL4c00+G/EOp3XhjxRKYEtGMoTQr0RHBEDiBmt3kDDcJI2jBABkWv29hv/jKdX8Ox3Ol6WunTJnVXSd2eJsciMHb0PQAMCepA5r1uuWeX1cLWVT2qlftZ2/rzMsHi4VqEqUYSjZ9U10XT/I/lY8BwfHzxz+3T8LE+IGhaqdT0jxBYzlZ7fIjsYLhZZJvMiHlNGEUs0i4Xjjk4r+qeiitbttt7s6oQ5dEwooopGgUUUUAeefE74f2fxM8JT+GLq8m0ycTQXdne24BmtLy0kWaCdAwKkpIoJU8MMg9c159onwd8Zac3ijxPqPjlrvx14hsodPg1dNOhjh0+2tizRpBZl3U/vJHdy7ncxHQACvoSigDwDx38I/HPifWW1Tw78QLnQ4r2yjs7yF7KK9UMgYG5sfMZRaXDKxVmUMpwp25UGuy1T4YaNP8I7z4PaLIdN0ubR5NGgkA8xoYngMCuQSu5gDk5I3Hqea9NooAw9E0caN4esNAWUyixtYrYSEYLCKMJuIycZxnGT9a5n4V+A4/hh8PdD8ARXh1FNFtxALhkERkAYtkoC2OvTJr0KigDzr4eeAY/h/D4hhjvTff2/rV9rBLRiPyjeuGMQwW3BMY3HBPoKPDPgGPw3458ZeNVvTcN4uksZGgMYUQfYrcW4AYE7twG7kDHTnrXotFABRRRQAUUUUAFFFFABXBfEHwlrfi7R7e18N+JLrwtqdjcxXcF3bKsqlo8gxzwsQs0LgkMhIzwQQQDXe0UAeP/Db4Y6j4P1zxD4y8U68fEXiXxP8AZUurhLZLK3SCyVlgihgRnIC72JZnZmJ5IAAG14H8AR+CtX8X6ql6bv8A4SzVjqjIYwnkE28MHlghjuH7nduwOuMcZPo1FABRRRQAUUUUAFeQa18PPFOoeNX8Z6f4ljt3SEQWkE9gtytohA8wxkyphpCPmbGSML0GK9fooA88PgYvP4ouZ78vL4ntIbWQiMARGKF4S4G453bt2OMYxk9a63Q9MGi6Lp+jCQzCwt4rcORgv5SBMkZOM4zjJx61rUUAFZOmf67UP+vg/wDoCVrVk6Z/rtQ/6+D/AOgJTA1qKKKQBRRRQB//1v38ooooAKxDCkuty788W8fQkfxv6EVt1kp/yHJv+veP/wBDemgLn2OD/a/77b/Gj7HB/tf99t/jVqikBV+xwf7X/fbf40fY4P8Aa/77b/GrVFAFX7HB/tf99t/jR9jg/wBr/vtv8atUUAVfscH+1/323+NH2OD/AGv++2/xq1RQBV+xwf7X/fbf40fY4P8Aa/77b/GrVFAFX7HB/tf99t/jR9jg/wBr/vtv8atUUAVfscH+1/323+NH2OD/AGv++2/xq1RQBV+xwf7X/fbf40fY4P8Aa/77b/GrVFAFX7HB/tf99t/jR9jg/wBr/vtv8atUUAVfscH+1/323+NH2OD/AGv++2/xq1RQBV+xwf7X/fbf40fY4P8Aa/77b/GrVFAFX7HB/tf99t/jR9jg/wBr/vtv8atUUAVfscH+1/323+NH2OD/AGv++2/xq1RQBV+xwf7X/fbf40fY4P8Aa/77b/GrVFAFX7HB/tf99t/jR9jg/wBr/vtv8atUUAVfscH+1/323+NH2OD/AGv++2/xq1RQBV+xwf7X/fbf40fY4P8Aa/77b/GrVFAFX7HB/tf99t/jR9jg/wBr/vtv8atUUAVfscH+1/323+NH2OD/AGv++2/xq1RQBV+xwf7X/fbf40fY4P8Aa/77b/GrVFAFX7HB/tf99t/jR9jg/wBr/vtv8atUUAVfscH+1/323+NH2OD/AGv++2/xq1RQBV+xwf7X/fbf40fY4P8Aa/77b/GrVFAFX7HB/tf99t/jR9jg/wBr/vtv8atUUAVfscH+1/323+NH2OD/AGv++2/xq1RQBV+xwf7X/fbf40fY4P8Aa/77b/GrVFAFX7HB/tf99t/jR9jg/wBr/vtv8atUUAVfscH+1/323+NH2OD/AGv++2/xq1RQBV+xwf7X/fbf40fY4P8Aa/77b/GrVFAFX7HB/tf99t/jR9jg/wBr/vtv8atUUAVfscH+1/323+NH2OD/AGv++2/xq1RQBV+xwf7X/fbf40fY4P8Aa/77b/GrVFAFX7HB/tf99t/jR9jg/wBr/vtv8atUUAVfscH+1/323+NH2OD/AGv++2/xq1RQBV+xwf7X/fbf40fY4P8Aa/77b/GrVFAFX7HB/tf99t/jR9jg/wBr/vtv8atUUAVfscH+1/323+NH2OD/AGv++2/xq1RQBV+xwf7X/fbf40fY4P8Aa/77b/GrVFAFX7HB/tf99t/jR9jg/wBr/vtv8atUUAVfscH+1/323+NRyW9tEhkkZkVeSTIwA+vNXq57xQcaJcfVP/QhQBJ9t0L/AJ+1/wC/x/8AiqPtuhf8/a/9/j/8VXz74g8TafoFpPPM3mSwRvM0akFliQbndhkYVVBJHUgYAJIFcRP8RLuxmh1G6s5ToUtzBbfa5LcwBvtIGyZDvYGMEgEsAeCcjGCAfX0M+k3D+VBch3PQCUkn6DdV77HB/tf99t/jXj+j5/taz/66p/MV7VQBV+xwf7X/AH23+NH2OD/a/wC+2/xq1RQBV+xwf7X/AH23+NH2OD/a/wC+2/xq1RQBV+xwf7X/AH23+NH2OD/a/wC+2/xq1RQBV+xwf7X/AH23+NH2OD/a/wC+2/xq1RQBV+xwf7X/AH23+NH2OD/a/wC+2/xq1RQBV+xwf7X/AH23+NH2OD/a/wC+2/xq1RQBV+xwf7X/AH23+NH2OD/a/wC+2/xq1RQBV+xwf7X/AH23+NH2OD/a/wC+2/xq1RQBV+xwf7X/AH23+NH2OD/a/wC+2/xq1RQBV+xwf7X/AH23+NH2OD/a/wC+2/xq1RQBV+xwf7X/AH23+NH2OD/a/wC+2/xq1RQBV+xwf7X/AH23+NH2OD/a/wC+2/xq1RQBV+xwf7X/AH23+NH2OD/a/wC+2/xq1RQBV+xwf7X/AH23+NH2OD/a/wC+2/xq1RQBV+xwf7X/AH23+NH2OD/a/wC+2/xq1RQBV+xwf7X/AH23+NUNKQRvfqucC4PUkn7ietbNZOmf67UP+vg/+gJTA1qKKKQBRRRQB//X/fyiiigArJT/AJDk3/XvH/6G9a1ZKf8AIcm/694//Q3poDWooopAFFFFABXy7+0J8YbzwBq3hbwXpOtQeHLrxL9rml1CWzk1GWKCzCZjtrOP5p55ZJVCjBCqHYg4r6irwn4p/DrxTrfizwr8TPh9LYDxL4UW9gSDVBJ9kubS/RVmQyQhpIpFMasjqrd1IIbIANT4G+L9X8ceAYdc1jV9P19/tFxDFf6ckkKXEMTlUea3kAa3nH3ZYTnawODggD2KvHvg18Pda8AaFq7+J7y3vdd8S6td6zqBs0aO0inu9oMUAf5yiKijc3zMcsQM4HsNABRRRQAV5N49+L3hz4deM/Avg3xFbXIf4gX0+m2V3Gqm2iu4oTOkU7FgytMqsItqtllIOOK9Zr4X/wCCgt3ZR/AhLfT3ux45TVbC98ILY2kt3ctrtlMs1uEWNGChlDKzOQoVjknoQDor79tP4eIk9v4f0DXPEWrS+I9R8M6Xp2n28Ulzq1zpCq19PahplQWsBO15ZWQAjjORWz4M/a9+GfjfxB4N8N2VjqlheeMbzV9LRb63SBrDVtEUSXOn3imQmOcodyBQysASGr5u8UfsG3t78Kvg3YaHFo+seJvhrbXYvrDxAJzpmqy6wok1BpZLY+bHKLnMsUihhnIYEHjc1P8AYx8az/s5ReCvC934d8G/EjTfEa+KNLu9EtZ7bTLG+BEZTL+bPKDbFo2lZdzkqSvGSAP8UftuXVz8Qvhlc/DvQtV1rwn4l1DxdpUtnaWUVxf6tPoSRJDNZHzQqwecZCZHZAVUlsADPrcH7anwyvPh1o/jbTNH1y91jXdXuPD9r4ZitE/tttWsyftNq0LSCNTAql5HaUIq4JbJAql4W/ZYufA/iX9n6fw1e2q6L8HdJ1jT7xHDie7m1O0ihM0QClctMrySbiD83GTmvC/F/wCwZ4m8QaNcag9zoWsa7p/j7xB4ssLHUxctpV3Ya6FR7S7MQWaOVVVWV4wwV1HDAnAB7nd/txfDWz8PaPqv/COeI5tV1TxDP4Vk0SOxQ6raazBAbj7NNCZQvzqF2OjshDBiwXcRi3X7V2k+ONO8F3/hyfWfBF+3xCs/CGsaVfaZby3guniklezuA0xWKKRdrC4hZ2AxtByccn4C/Y88YeHW+HmqXMfhfQrrw34zn8TahZ6Fb3MFr9mewksooI3m3yXEy7gWllEYIyABgZ2tU/ZM8b3vjq88VRavp629x8VNM8eBCZt4sLHTxaPAcR489n5UZKberA8UAe6fs6fEeXx38Lr3xhrGuz62trq+t2z3d1ZQ2DpHYXs0Ozyrd5EKxCPar53OoDMASRXHfDH9sXwL8Tg2r2/hrxDoXhOewvNUsvEeo2KppN3Z2BP2iQTRSSGEqAWVZ1jZlBIGeK7H9nf4QeIvg78LL3wLq+oWtxqFzq2t6gk9urSRImp3s1zECsgQsUWQBhjBIIBI5Px14B/YV+IcXi3WLjxjfeHfCmgazomsaNq0Pg4XtsmvNqkRhS5ubCc/ZLV4AxkUQq2ZMgnbjAB7xof7Z3hTxnC2nad4d17wvdeINH1LVfC97rVisFprMVhAZmktiskjAhMShJVRmj+YDBFeNeAf2y7zRvC9p8RPirq95qUVl8L9G8XalpVjptskRnvbowvcQ3BlWQyMflMJVY1UBgxJxVP4OfsPeNvAur2R13SvAlpH4f0a/wBNtdV0u0vW1XUJ7m0a0juZmnby7Q7GJlEIfeSwGARhYf2CvGd94Lv/AAbrXiPT4UvvhXpngQTQCaQpqOn3LXP2ja6Jm3JKjGQ5GflHFAH098Y/2m9P+G0/iDwvoeg32ueKdN8G3Pi+2giSMwPbwzC3CuWljOVc73A/5ZqxUlsKfGPBv7WWu+JE+D/i7xfBqXhQeKvC+u63faGun20sGoLplnBcm4iuTcNLDFiQtbrgtIDiQLgEu8Nfs0/tA+KfiLq/j345+IvDudV8AXvglYdAiugIDcShxc/6SB5hYFmYZXadqgEAscjQ/wBkz4zT6V8MLPxdq2gCf4deE/EfhQNYm62XMOo2MFnYz4kjyrgRFpxnAyNmc4AB7B8KP20fAfxW8VeEvDNv4X8R+HI/HthNfeH7/V7JLez1IW0YlnjhdJXbfGh3ZZQrDlSQVJ+xa+I/DH7Mvi/Q/wDhmf7Tqti//Ck9OubPVNpl/wBLebS1sFNtlBkCQFjv2nb0GeK+3KACiiigAooooAKKKKACiiigAooooAKKKKACiiigAooooAKKKKACiiigAooooAKKKKACiiigAooooAKKKKACiiigAooooAKKKKACiiigAooooAKKKKACiiigAooooAKKKKACiiigAooooAK5/wAU/wDIEuPqn/oQroKwPEkckujXCRqXPynAGTgMCePpQB8t+MvhtaeLtOurOLWNR0ee4D7ZrScjYZD8xEbAqdw4ORnHAIAFfE3xA1r4l+ArHUfhv4g16LVdJtCYoJJoJEkeAwB0IKFkVlBI4GcjqM5H6R+XJ/cb8jXx5+0B4M1K6tX8dRQSGKQOC0YJJjwI0VlGSCVUkMBkAgdTigD6y+Hl299pfhm+kJL3FvZyEt1JeNSSc855596+iq+efh3bXX9l+G0aJlZLa0LAjO3Eak5PfGOtfQ1ABRRRQAUUUUAeP/Gvxxrngbwfby+FY4ZNf13UbDRtONyC0EdzqEywrLKqkFljUs5UEbtuMjORzvw68TePtK+JOtfCT4iapb+IJ7fTbbWbDU4LUWTy280skE0M0Ks6hopEBVlIyrDIyCT1/wAX/AF78RfB40rRr5NM1rTry01TTLqRDJFFe2EyzQmRAQWjYqVcAg7WJHIFee6H4B+Mcer+Kvibrd5og8cajpkGlaTbQi5fSrSC3d5szOwSaRpZZCzYVdoVQM8mgDzz9oD44eIfAXjq78Ov4w03wBp9joQ1Wxmv7P7YdYuxJIj2q5dQqxhY9yoDK3mArwKvfEv41eL9D0j4aPrer2fwxtvF9jJc6pqt9ALpLK9S3ilSxRZGWNWkLyfNITxGVA3EVv8AjP4R/Eebx5r3jfwonh3WW8WaVaabeQa9FOy2RtRIM2xjV98MhkLPCwXLAHfycZf/AAoDxn4Si+Hl/wCDNQ03xHf+B9Dl0NofECSrbzJL5RNzC8QlaGUGIJjawMZKkjGSAcpqH7SPiaD4NeA9c1HULHRNZ8bahcWUerPaSzW32O2MzC+gsgxlkkuYo0MMGSS8oByBg34/2g9f8PfBDxB43vfEOkeIbmz1SHStO1NoJbBVe5kiiDanZuFe3kt2kZpEUjeigqBu407P9nLxZofg/wAMXWi6jpj+MvC+vX/iC3jkgkTR1fUzKJ7OJF3SRQqsp8pwCysobbyRU1z+zt4p8UeEfGVz4w1PT4PGXizV7DXIzaQvJplnc6R5Qs4ykm2SZSIQJmYKW3HAGBQBleD/AI9axpPhP4heJ9Y8U2Pjiw8IaaL6NhYTaJqKTlHYQz2kwGIJcKYZweQWByVydD4F/FrxX4y8aR6NqPjfSfFUF1pzXtxbRadcaXNay7lCtYNKCt9ZklkaUEkMFOSGwNGX4D+MfiRP421f4y3um2154q8Pjw3Db6IJXggtg7zGd5LhVaSUyvlVKhVUYySSa2PBfwv+Kdz488MeL/ije6MsXgjTrmx06PRkmVrp7tI45JrgzACNQkY2wpuAYkljgCgD6eooooAKKKKACiiigAooooA82+L3inxB4H+GPifxf4XsV1LVdIsZrmCBwSjNGMksFIZlUZYqDkgEA5Irw74A/F7WPHXjfWPDEHjDT/iNodppdrfnWNPtBZpa3dxIymzcK7qxMY8xejqMh8kg17T8ZPh9P8U/hrrfgS2vhp02pxxhJXTzY90UqyhJUBUtFIU2SKCCVJFeffD34XeOrX4mt8TvHC6JpMtvpB0eGy0BJvKnRpllMtxJMsZOzYBFGF+QM3zHNAH0lRRRQAVzfig+IRo8g8MSW8F6zIPOugTFDET+8k2jBYquSq5AJxkgV0lc34ntfEV3pgHha9istQilSRfPj8yGVFPzRSAfMFccFl+YdR6EA8j8OfFU2WkeJtX1jUV8SaPoM1rHFqNjAEM7XGFeMIrFWaJmXlTghgMZBrXuvjRp1l/aC3nh7V4pNHVZr5DBGTbWzgss7ESEFSAThSzDa2RxzlXHwv8AEur2/iG+1GWwstR1w6cggtBILZEsJxMXdyoZ5XBK52gABRyATXS694C1PVZ/G8sFxCo8T6bDZQBt2Y3jjmQtJgH5SZARjJwD7UAWtc+KOk6Pe3Vra6ffatHpsMdxfTWcSvHaRSrvUvuZSxKfPtQMwXkjkV6LZ3dtqFpDfWUgmt7lFkjkXkOjgFWB9CDmvGbvwL4302fV4/Cl3Yi28R20Edy10JN9tPFALdpYQoIkDIoIViuGGc4JFesaBo9v4e0PTtBtGLwadbxW6M3UrEoQE47kDmgDYrJ0z/Xah/18H/0BK1qydM/12of9fB/9ASmBrUUUUgCiiigD/9D9/KKKKACslP8AkOTf9e8f/ob1rViNG0mty4dkxbx/dxz879cg00Bt0VU+yv8A8/En5r/hR9lf/n4k/Nf8KQFuiqn2V/8An4k/Nf8ACj7K/wDz8Sfmv+FAFuiqn2V/+fiT81/wo+yv/wA/En5r/hQBboqp9lf/AJ+JPzX/AAo+yv8A8/En5r/hQBboqp9lf/n4k/Nf8KPsr/8APxJ+a/4UAW6KqfZX/wCfiT81/wAKPsr/APPxJ+a/4UAW6KqfZX/5+JPzX/Cj7K//AD8Sfmv+FAFuiqn2V/8An4k/Nf8ACj7K/wDz8Sfmv+FAFuiqn2V/+fiT81/wo+yv/wA/En5r/hQBboqp9lf/AJ+JPzX/AAo+yv8A8/En5r/hQBboqp9lf/n4k/Nf8KPsr/8APxJ+a/4UAW6KqfZX/wCfiT81/wAKPsr/APPxJ+a/4UAW6KqfZX/5+JPzX/Cj7K//AD8Sfmv+FAFuiqn2V/8An4k/Nf8ACj7K/wDz8Sfmv+FAFuiqn2V/+fiT81/wo+yv/wA/En5r/hQBboqp9lf/AJ+JPzX/AAo+yv8A8/En5r/hQBboqp9lf/n4k/Nf8KPsr/8APxJ+a/4UAW6KqfZX/wCfiT81/wAKPsr/APPxJ+a/4UAW6KqfZX/5+JPzX/Cj7K//AD8Sfmv+FAFuiqn2V/8An4k/Nf8ACj7K/wDz8Sfmv+FAFuiqn2V/+fiT81/wo+yv/wA/En5r/hQBboqp9lf/AJ+JPzX/AAo+yv8A8/En5r/hQBboqp9lf/n4k/Nf8KPsr/8APxJ+a/4UAW6KqfZX/wCfiT81/wAKPsr/APPxJ+a/4UAW6KqfZX/5+JPzX/Cj7K//AD8Sfmv+FAFuiqn2V/8An4k/Nf8ACj7K/wDz8Sfmv+FAFuiqn2V/+fiT81/wo+yv/wA/En5r/hQBboqp9lf/AJ+JPzX/AAo+yv8A8/En5r/hQBboqp9lf/n4k/Nf8KPsr/8APxJ+a/4UAW6KqfZX/wCfiT81/wAKPsr/APPxJ+a/4UAW6KqfZX/5+JPzX/Cj7K//AD8Sfmv+FAFuiqn2V/8An4k/Nf8ACj7K/wDz8Sfmv+FAFuiqn2V/+fiT81/wo+yv/wA/En5r/hQBboqp9lf/AJ+JPzX/AAo+yv8A8/En5r/hQBboqp9lf/n4k/Nf8KPsr/8APxJ+a/4UAW6KqfZX/wCfiT81/wAKPsr/APPxJ+a/4UAW6KqfZX/5+JPzX/Cj7K//AD8Sfmv+FAFuiqn2V/8An4k/Nf8ACj7K/wDz8Sfmv+FAFuiqn2V/+fiT81/wo+yv/wA/En5r/hQBbrkPHWpeI9I8KahqPhKyGo6tCgMEDAkMSwBOAQSQuSADziuk+yv/AM/En5r/AIUx4fLQySXLqqgkklQAB3JI6UNab2Ma0HUpygna/XsUvD11ql7oVhd63bi01CaFHnhByEkIyyjk9D78dK265r+2tA/6DsP/AH/io/trQP8AoOw/9/4qEvM0hFxiot3sdLRWDa6hpd7L5FlqyXEuCdkcsbnHc4HOBWn9lf8A5+JPzX/Cgot0VU+yv/z8Sfmv+FH2V/8An4k/Nf8ACgC3RVT7K/8Az8Sfmv8AhR9lf/n4k/Nf8KALdFVPsr/8/En5r/hR9lf/AJ+JPzX/AAoAt0VU+yv/AM/En5r/AIUfZX/5+JPzX/CgC3RVT7K//PxJ+a/4UfZX/wCfiT81/wAKALdFVPsr/wDPxJ+a/wCFH2V/+fiT81/woAt0VU+yv/z8Sfmv+FH2V/8An4k/Nf8ACgC3RVT7K/8Az8Sfmv8AhR9lf/n4k/Nf8KALdFVPsr/8/En5r/hR9lf/AJ+JPzX/AAoAt0VU+yv/AM/En5r/AIUfZX/5+JPzX/CgC3RVT7K//PxJ+a/4UfZX/wCfiT81/wAKALdFVPsr/wDPxJ+a/wCFH2V/+fiT81/woAt0VU+yv/z8Sfmv+FH2V/8An4k/Nf8ACgC3RVT7K/8Az8Sfmv8AhR9lf/n4k/Nf8KALdFVPsr/8/En5r/hR9lf/AJ+JPzX/AAoAt1k6Z/rtQ/6+D/6AlW/sr/8APxJ+a/4VR0lSr3wJLH7QeT1+4npVdwNmiiipAKKKKAP/0f38oqHzR60eaPWgCaslP+Q5N/17x/8Aob1oeZWYjj+25ef+XeP/ANDemgNmimBv/wBdP60gCiiigAoory74maf4xm05dX8OeNY/BtlpcU899LLp8V6jxIoYuTK6+WECsSRnIPtQB6jRXhn7O+ueP/FPwu0/xV8RLsXl7rEs11Zt9mW0k/s6Rz9kMsSEqsjxASMATjcBkkZr3OgAooooAKKK+Of2s/2g7j9nq/8Ahdrd9qtvo/hjWPEL2muzzxCT/QI7G4nIQ8srl4127RuJwo64IB9jUV8P/C/45/FDUvh14h/aX+JGl3Y8GayIJfCvhXRrD+0NXNhIypBcTmHczz3RYP5YIjhQ5ZupDrn9ur4eaL4K8Z+KfF3hbxD4f1PwBe6VZaxol1bQtqMR1l1WzkjWGeSORJA2flcsMEbc4BAPt6ivgnVf2r/+Ee8Z6p4l8XWPiHw5pOieAr3xPc+Fr7TbNLkR2mpG2FybhbhnWaRQNsBOwIQzMHyo7vwL+2J4K8ZeIL/w5e+FPE3hy6i0F/E9gupadh9V0qIqHls44JJZHcFlAiZVkO4YXnFAH13RXwXrH7ZsOteEPiHpWl+Fdd8B+ONB8G6l4r0i38RWUMRurS2iYR3Cxxyy42y7Q8UoRwDyOuOK+Ef7UfxL/aEuNH1L4YTwz+FPAOi2l94z1GCCKW41fWXslnfSNMichY8NnzZjgBiEQjG4gH6U0V8s6J+1v8NfElt8LbnQbbUL4/FaxvtRsY4YVkktLXTYPOunulViQY2xFtjDlpDtUHrXO+Gf2zfCGta/P4c8ReDfE3g67m0a/wBe0tdasorZtTsdOXfOYYxM0kcgXDCOZY2KnPFAH2RRXxd8NP23fh78Rde8MaVc+GfEPhSx8a6ZcanomqazaR29jfx2UIuLpI5ElkYGKPLZZVVlBZSQVJb4W/bN8L/ECZLPQPCniPSbHxBZajceG9d1DTgml6r9gheRmidXd4wyqXj85I/MUZXqAQD7Tor87/2af21j8RfDnww8P/Ebw/rem6/4/wBNf7Jr02nx2+kajqVrC01zFblZCwIVWKFo1R9p2kjBO14A/avurT4HeA/FjaD4r+KuqeJrS/vHutO0a2tHW3sriSN5boCdbSAgAKiLMXcDIXJIoA+9qK+K7z9uH4eXEXgo+BvDHiLxrdfEDRLnXNKtdJs43meG0kWKaOUSyxiJ0YtuJO3KkBixUMeE/wBpnQPip8RPg3d+CNa1Gy0Px/pviG4OlzadBiWXSjHHIl1O8nm28ttLuULGGVznJAAJAPtSiiigAooooAKKKKACiiigAooooAKKKKACiiigAooooAKKKKACiiigAooooAKKKKACiiigAooooAKKKKACiiigAooooAKKKKACiiigAooooAKKKKACiiigAooooAKKKKACiiigAooooAK+Gv8Ago9qN/pn7HPjybTriS1kl/s6FnicoxilvoEkTIOcMpKsO4JB4NfctfA//BTeQxfsW+O3HaTSv/Tjb1MvhZtT1mj+W+zs455UXYCMgEEgZz2yemfXtX6xRfsEfDXXvDGmeCtL8SXGjfE24tJ7yS31WKOC1uTChJS2jH7wxnGRKpcFQSR1A/KLS57q0jt75oSBK2Yiy/KxRgMgkYOCADjODwfSv0ou/j94sk/ah+EOu+IoIbS80mfSobuWKV5YpoL6NIZECuiNFtjlYMhLYbPzEAV85iHUc0oOx97QpQ9lKUkfLH7KJ1Hw1+1b8MorOZ7S6TxNYWkrRMVJR7lYZoyR1VlLKQeCDzX9gVfzHX3wgn+D3/BRTwp4R3mW1/4S7S761cjBNvdXayRg46kAkE98Zr+nGvaw8uaF+58jjVadgooorrPKCiiigAorx742eONd8D+D7eXwokL6/r2pWGjacblS0EdzqEywiWRVILLGpZyoI3bcZwc1z3w58S+P9I+JOtfCX4iarB4ing0y21nT9TitVsnkgmlkt5oZoUZkDRyICrL1VgCMjJAPoKivib9oH43+IPAPju78PSeMtO8AadZaENUsJr6yF42sXgkkR7ZcuoVYwqAqg81jICpwMU74j/H3xHpkHw/8O3Gox+BNZ8U6OdY1GT+z5NWuoCiRD7JaWcYZpJGlkYszBgiIxIJ5AB9r0V8UeIPjd4y034I+EvGEviTRoY9b1dNPvvFFtA8tjaWLNKEu2tZSpjldkjikjkJWGRzuyFwIdM+PHjp/gF448f6be2XiV/DWpSWWn67HbFLS8sUeFZr9raNiWFsJJd4jYLJ5RK8GgD7dor4u+Gnxs8Xa3p/xI/4R7W7P4p23hPTIr3TtUsrdbNLm/lhmkbT3EbMjMuyNgyYIEm1vmGarfs//ABw1/wAe+OrPw9H4y0/4gWF9oR1S/lsbIWZ0a78yNEtmw7bll3SAK481TESxwcUAfbVFFFABRRRQAUUUUAFFFFABRXlfxq+IZ+FPwv1/x5HHFLPpsSCFbh9kJnnkWGIytkERh3Bcg5Cgkc15H8BPiX4k8X+KtT0S/wDGun+MbOCxiumxpk+jX9vNI5AMVvMoE9lIvMcwOQwwS2QQAfWFFFFABRRRQAUUV4d46+IWtWHi3SPD3hcRm3t7+xi1ed13BBeyBI4E7CRlJdj1VQv94UAe40V4344+KkWgweIbTRdOvL640O1d7i7hiV7a0maIyRCTcwZiAVZgittU5OBXpXh68uNQ0DTNQuiDNc20MrkDALugY4H1JoA2qydM/wBdqH/Xwf8A0BK1qydM/wBdqH/Xwf8A0BKYGtRRRSAKKKKAP//S/dH+0h/eo/tJa8H/ALLsP+eR/wC+2/xrNsZPDmp3N9Z6dPHcz6bKILpI5SWglKLIEcA8MVZWwexB710eyI5l2PotdRB71VhvQdal/wCveP8A9DavEP7LsevlH/vtv8aBplir+asZDkAZDtnAJIGc9ATR7IOZdj6QjnDYq6j5ryLwZqdwftenzyNKtsyeWWJLBXGcEnJIBBwTzg47V6hby7gKwasWjT60U1TkU6kAV5J8Y/AWs/E7wza+CbS8istG1G9t/wC2ixYSz6ZE3mS20O0cGcqsbEkARlupIFet0UAQRRRW8SQQoI441CqqjAUDgAAcADoMVPRRQAUUUUAFfMf7QvwEPxx8QfC66vFsLnR/BPiNdZ1C0v0MqXUCW0sQjRNrKzCR1bD4XAOT2r6cooA/ODWf2P8A4s6X8M/HXwP+HPi+zs/AV/qVpqnhuzuZbuKWyi+0LPfaNcSW22T+z5iGCNFIJEDFSGByPM9G/YE+I9voHxFszL4V8Nv44vvCF5b6foqXi2Nkvh678+4VnmVpZJJVAIkPLOSWCjFfrXRQB8O/tCfsv+L/AIv+NfGvibRNWsbO38TfDi78GQpcebvjvbi++1LM+xGHkheDjLZ7Y5p/xM/Zi8e+NNe0jWfDniiHw9Ppvw/1Xwkl3D5ouYb+/wDs5juYtoGEXyTkhlcZG3nkfb9FAH5JeB/2Cfibo+qeJtYvR4R8PPrfgDWfB6xaMdQlaa91Dy/Lv7u4uw0spYqd4JygwFDZJr374e/sma78FvFfw48Z/CC70zRprDRbHQPGunBZIrHWYLWEBbyERoSLyKXcySOoLqxVyOc/d9FAH55fCz9ivxF8O/HXxQ8QxeLFt7DWtO1PSvBQtVbzvDttrNxLe3ZAIVd63UitHtY/KmCRnA8b+Gv7BHxS8N+LdI8Ta3J4T0+XS/DmuaHcXGmNqM99qtzqdp9nS+vbi7DMzFyWZAcIC20tuAX9caKAPgqP9kbxDeeG/wBn3wvreq2cln8K9F1DSNa8oyhrtb/R/wCzCbQlBjDEtlwpxjvxVr4SfBT9qLwToWifCnxF4w8PP8PfCWlXek2n2K0m/tLVoDAbexF6ZgY7fyFKsxgLF2XBOCa+66KAPhbwv+y14w0LwV+zl4ZudWsJJ/g1c+dqLoZdl0PsE9pi3ygOd0oPzheAe/B8Cb9hD4t2fgj4YeFJNS8N+K7Twdo9/pd5pOttqB0hLq7vZLlNSghtynnzJG/lGOdQpA4IJyP1mooA+AP2dP2SfGnwa1v4ValrmsaffR+AfCeseH7oW3mgzT6jqMd5HJEGRR5aopVtxB3YwCORD8GP2RvG3w28V/CfxBq2s6ddQ+AD40+1rD52+b/hJbw3Nv5W5FH7tTiTdjn7uRzX6C0UAFFFFABRRRQAUUUUAFFFFABRRRQAUUUUAFFFFABRRRQAUUUUAFFFFABRRRQAUUUUAFFFFABRRRQAUUUUAFFFFABRRRQAUUUUAFFFFABRRRQAUUUUAFFFFABRRRQAUUUUAFFFFABRRRQAV8Df8FNoJp/2LPH3kxtIY20uRtoJwiahblmOOgABJPQDmvvmuQ8dT3Fv4S1N7fRB4jZoih09grLcI5CsjKwYMu0kkEHI4wamVrO4nVVFOrLZan87fiKG30DwD+zkdHsorK/svCb6hHcTWsdxFctd3DiRJFZWDAAZIZWGH4wTk4vxs1a78dPb/Ffxldxy634dFvN5kKJDEUtpA4jWNFQdiAcZJIzkdP6KdM8EeDdY0TRZtY8H6day2dokUNrLaQP9ijYAmCP5MIoIA2qAOOnFTXHwr+GN5bva3fhDR54X+9HJp9uyHnPIKYPPtXzEsrquopxnZH79lHHeT0MrWGr4DnqWa5tOu3S+h+V/x31L4f8Aj39qn9nH4g+FJ0u9T1u4sXlWMZl+zRXMcsLSIPmUruk5IHAOeBX7HVytt4J8GWWqwa7aaBYQalbRCCK6jtYVnjhUbRGsgUMqAcBQcAcYrqq+goUnTgotn4biKqqT5oqwUUUV0nIFFFFAHlnxe+H958RfCA0nR79dL1nTry01TTLqRDJHFe2EyzQmRAQWjYqVcA52sSOcV57ongD4xRat4p+Jmt3+if8ACc6lpkGlaVbwrcvpVnBbu82ZWbZNI0sshZiAu0KoGcEn6VooA+VfGXwi+I8njvXvG/hP/hHdWbxZpVppt7BrsM7raG1WQZtjGHLQyeaWeFguWAO/k4pxfATxl4Gt/h7rXw11Wx1LxH4H0WTQZTrSSLBe2cojYsHh3yQyJJGCuAwKkqexr62ooA+Nx+zp4x0/wv4au7HVNM1HxXoviC/8S3UF7BINHurvUxKJo1jQtJGsPm5gkwzBl3FSWOEn/Zx8W614K8ZW2sanpdlr3izWrHXPsdpbyPosUunGEpBJG5WSVJ/IBuHwpYnIXjB+yaKAPkFvgD418ZP481PxxqGmeHr7xhoC+H0i8PxymCONGkYXM7TCNpZMyFQu1QseV3HORteBfhF4/h+IPhvxr42Hh/S4/CWm3OnWsHh+GZDeC6Eak3DShQkUflho4VDAMSd3HP1JRQAUUUUAFFFFABRRRQAUUUUAeZ/F74c23xX+HOteArm5+xnU408qcoJRFPDIs0LshIDqJEUsuRuXIyM5rgvA3w8+Jdz8TF+KXxXu9JW+07SX0eytdFWbymjnmSaaeaScBixaNQkYBVBk7iTmvomigAooooAKKKKACvBNf+CMV43m6Hr2pWpuNWj1O4Rrn5N3mB5GjAjJEgAAjJJC4A6Cve6KAPC9f8AeOd/imw8K39imm+LIyZmvFkM9vM0At3KBBtcOqqfmI2nJAIwK9d0Owk0rRNP0yVg72dvFCxXoTGgUkZ5wSOK16KACsnTP9dqH/Xwf/QErWrJ0z/Xah/18H/0BKYGtRRRSAKKKKAP/0/qP4ReKPEup6B40m1HVru6ktNNuJIWluJHMTrcXyhkLMdpARQCOcKB2FO8W+JPEVn8EPGmsWmqXUF/A+n+XcJO6zJvtLRm2uDuG4sxODySfU1g/BT/kXPHn/YKuv/SrUKk8bf8AJv3jn/f0z/0isq9A5z0HUvEGvR+GtbuI9SuVli8G2N0jiZwy3DmbdMDnIkOBlhycDnivWfDV9ez+NPFFrPcSSQ28WlmJGclUMkLF9oJwNx5OOp614fqv/Iqa/wD9iLp//oU9ezeFP+R78Xf9ctJ/9ENQB7J4S/5Cmpf9sf8A0E17BafdH4V4/wCEv+QpqX/bH/0E17BafdH4VxT+Jm62NlP6VJUaf0qSoGFFFFABRRRQAUUUUAFFFFABRRRQAUUUUAFFFFABRRRQAUUUUAFFFFABRRRQAUUUUAFFFFABRRRQAUUUUAFFFFABRRRQAUUUUAFFFFABRRRQAUUUUAFFFFABRRRQAUUUUAFFFFABRRRQAUUUUAFFFFABRRRQAUUUUAFFFFABRRRQAUUUUAFFFFABRRRQAUUUUAFFFFABRRRQAUUUUAFFFFABRRRQAUUUUAFFFFABRRRQAUUUUAFFFFABRRRQAUUUUAFFFFABRRRQAUUUUAFFFFABRRRQAUUUUAFFFFABWTpn+u1D/r4P/oCVrVk6Z/rtQ/6+D/6AlMDWooopAFFFFAH/2Q==)"
   ]
  }
 ],
 "metadata": {
  "accelerator": "GPU",
  "colab": {
   "collapsed_sections": [],
   "name": "bert_kag.ipynb",
   "provenance": []
  },
  "kernelspec": {
   "display_name": "Python 3",
   "language": "python",
   "name": "python3"
  },
  "language_info": {
   "codemirror_mode": {
    "name": "ipython",
    "version": 3
   },
   "file_extension": ".py",
   "mimetype": "text/x-python",
   "name": "python",
   "nbconvert_exporter": "python",
   "pygments_lexer": "ipython3",
   "version": "3.7.3"
  }
 },
 "nbformat": 4,
 "nbformat_minor": 1
}
