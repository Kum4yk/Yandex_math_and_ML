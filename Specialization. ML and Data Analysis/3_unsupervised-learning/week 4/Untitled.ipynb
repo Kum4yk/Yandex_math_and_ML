{
 "cells": [
  {
   "cell_type": "markdown",
   "metadata": {},
   "source": [
    "- Тематическая модель позволяет находить биграммы в документах.  -\n",
    "\n",
    "\n",
    "- Тематическая модель определяет, какие темы описывают документ.  +\n",
    "\n",
    "\n",
    "- Тематическая модель создает тематические аннотации к документам в **виде связного текста.** -\n",
    "\n",
    "\n",
    "- Тематическая модель описывает тему как распределение над множеством терминов. + "
   ]
  },
  {
   "cell_type": "markdown",
   "metadata": {},
   "source": [
    "|+ + + +\n",
    "\n",
    "\n",
    "|+ - - +\n"
   ]
  },
  {
   "cell_type": "markdown",
   "metadata": {},
   "source": [
    "- Каждое слово в словаре связано с одной темой.\n",
    "---"
   ]
  },
  {
   "cell_type": "markdown",
   "metadata": {},
   "source": [
    "- Чтобы все часто употребимые слова сконцентрировались в фоновых темах и не появлялись в предметных темах.\n",
    "---"
   ]
  },
  {
   "cell_type": "markdown",
   "metadata": {},
   "source": [
    "- Модальности помогают учесть иные признаки документа, кроме текстового описания.\n",
    "\n",
    "\n",
    "- Для каждой модальности вводится отдельный словарь.\n",
    "---"
   ]
  }
 ],
 "metadata": {
  "kernelspec": {
   "display_name": "Python 3",
   "language": "python",
   "name": "python3"
  },
  "language_info": {
   "codemirror_mode": {
    "name": "ipython",
    "version": 3
   },
   "file_extension": ".py",
   "mimetype": "text/x-python",
   "name": "python",
   "nbconvert_exporter": "python",
   "pygments_lexer": "ipython3",
   "version": "3.7.3"
  }
 },
 "nbformat": 4,
 "nbformat_minor": 2
}
