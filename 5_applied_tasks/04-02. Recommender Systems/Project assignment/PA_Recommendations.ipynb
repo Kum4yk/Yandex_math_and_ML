{
 "cells": [
  {
   "cell_type": "markdown",
   "metadata": {},
   "source": [
    "# Задание по программированию: Рекомендательные системы"
   ]
  },
  {
   "cell_type": "markdown",
   "metadata": {},
   "source": [
    "## Описание задачи\n",
    "\n",
    "Небольшой интернет-магазин попросил вас добавить ранжирование товаров в блок \"Смотрели ранее\" - в нем теперь надо показывать не последние просмотренные пользователем товары, а те товары из просмотренных, которые он наиболее вероятно купит. Качество вашего решения будет оцениваться по количеству покупок в сравнении с прошлым решением в ходе А/В теста, т.к. по доходу от продаж статзначимость будет достигаться дольше из-за разброса цен. Таким образом, ничего заранее не зная про корреляцию оффлайновых и онлайновых метрик качества, в начале проекта вы можете лишь постараться оптимизировать recall@k и precision@k.\n",
    "\n",
    "Это задание посвящено построению простых бейзлайнов для этой задачи: ранжирование просмотренных товаров по частоте просмотров и по частоте покупок. Эти бейзлайны, с одной стороны, могут помочь вам грубо оценить возможный эффект от ранжирования товаров в блоке - например, чтобы вписать какие-то числа в коммерческое предложение заказчику, а с другой стороны, могут оказаться самым хорошим вариантом, если данных очень мало (недостаточно для обучения даже простых моделей).\n",
    "\n",
    "Входные данные\n",
    "\n",
    "Вам дается две выборки с пользовательскими сессиями - id-шниками просмотренных и id-шниками купленных товаров. Одна выборка будет использоваться для обучения (оценки популярностей товаров), а другая - для теста.\n",
    "\n",
    "В файлах записаны сессии по одной в каждой строке. Формат сессии: id просмотренных товаров через , затем идёт ; после чего следуют id купленных товаров (если такие имеются), разделённые запятой. Например, 1,2,3,4; или 1,2,3,4;5,6.\n",
    "\n",
    "Гарантируется, что среди id купленных товаров все различные."
   ]
  },
  {
   "cell_type": "code",
   "execution_count": 1,
   "metadata": {
    "ExecuteTime": {
     "end_time": "2018-01-12T07:55:15.983931Z",
     "start_time": "2018-01-12T07:55:13.832218Z"
    }
   },
   "outputs": [],
   "source": [
    "import pandas as pd\n",
    "import numpy as np"
   ]
  },
  {
   "cell_type": "code",
   "execution_count": 10,
   "metadata": {
    "ExecuteTime": {
     "end_time": "2018-01-12T11:16:39.681101Z",
     "start_time": "2018-01-12T11:16:39.627987Z"
    }
   },
   "outputs": [],
   "source": [
    "train = pd.read_csv('coursera_sessions_train.txt', sep=';', header=None)\n",
    "train.columns = ['Seen', 'Bought']"
   ]
  },
  {
   "cell_type": "code",
   "execution_count": 11,
   "metadata": {
    "ExecuteTime": {
     "end_time": "2018-01-12T14:18:30.657805Z",
     "start_time": "2018-01-12T14:18:30.606353Z"
    }
   },
   "outputs": [],
   "source": [
    "test = pd.read_csv('coursera_sessions_test.txt', delimiter=';', header=None)\n",
    "test.columns = ['Seen', 'Bought']"
   ]
  },
  {
   "cell_type": "code",
   "execution_count": 4,
   "metadata": {
    "ExecuteTime": {
     "end_time": "2018-01-12T14:18:39.165644Z",
     "start_time": "2018-01-12T14:18:39.148976Z"
    },
    "collapsed": true
   },
   "outputs": [
    {
     "data": {
      "text/html": [
       "<div>\n",
       "<style scoped>\n",
       "    .dataframe tbody tr th:only-of-type {\n",
       "        vertical-align: middle;\n",
       "    }\n",
       "\n",
       "    .dataframe tbody tr th {\n",
       "        vertical-align: top;\n",
       "    }\n",
       "\n",
       "    .dataframe thead th {\n",
       "        text-align: right;\n",
       "    }\n",
       "</style>\n",
       "<table border=\"1\" class=\"dataframe\">\n",
       "  <thead>\n",
       "    <tr style=\"text-align: right;\">\n",
       "      <th></th>\n",
       "      <th>Seen</th>\n",
       "      <th>Bought</th>\n",
       "    </tr>\n",
       "  </thead>\n",
       "  <tbody>\n",
       "    <tr>\n",
       "      <th>0</th>\n",
       "      <td>6,7,8</td>\n",
       "      <td>NaN</td>\n",
       "    </tr>\n",
       "    <tr>\n",
       "      <th>1</th>\n",
       "      <td>13,14,15</td>\n",
       "      <td>NaN</td>\n",
       "    </tr>\n",
       "    <tr>\n",
       "      <th>2</th>\n",
       "      <td>22,23</td>\n",
       "      <td>NaN</td>\n",
       "    </tr>\n",
       "    <tr>\n",
       "      <th>3</th>\n",
       "      <td>28,29,30,31,32,33</td>\n",
       "      <td>NaN</td>\n",
       "    </tr>\n",
       "    <tr>\n",
       "      <th>4</th>\n",
       "      <td>40,41</td>\n",
       "      <td>NaN</td>\n",
       "    </tr>\n",
       "  </tbody>\n",
       "</table>\n",
       "</div>"
      ],
      "text/plain": [
       "                Seen Bought\n",
       "0              6,7,8    NaN\n",
       "1           13,14,15    NaN\n",
       "2              22,23    NaN\n",
       "3  28,29,30,31,32,33    NaN\n",
       "4              40,41    NaN"
      ]
     },
     "execution_count": 4,
     "metadata": {},
     "output_type": "execute_result"
    }
   ],
   "source": [
    "test.head()"
   ]
  },
  {
   "cell_type": "code",
   "execution_count": 5,
   "metadata": {
    "ExecuteTime": {
     "end_time": "2018-01-12T11:17:08.593743Z",
     "start_time": "2018-01-12T11:17:08.572316Z"
    },
    "collapsed": true
   },
   "outputs": [
    {
     "data": {
      "text/html": [
       "<div>\n",
       "<style scoped>\n",
       "    .dataframe tbody tr th:only-of-type {\n",
       "        vertical-align: middle;\n",
       "    }\n",
       "\n",
       "    .dataframe tbody tr th {\n",
       "        vertical-align: top;\n",
       "    }\n",
       "\n",
       "    .dataframe thead th {\n",
       "        text-align: right;\n",
       "    }\n",
       "</style>\n",
       "<table border=\"1\" class=\"dataframe\">\n",
       "  <thead>\n",
       "    <tr style=\"text-align: right;\">\n",
       "      <th></th>\n",
       "      <th>Seen</th>\n",
       "      <th>Bought</th>\n",
       "    </tr>\n",
       "  </thead>\n",
       "  <tbody>\n",
       "    <tr>\n",
       "      <th>0</th>\n",
       "      <td>0,1,2,3,4,5</td>\n",
       "      <td>NaN</td>\n",
       "    </tr>\n",
       "    <tr>\n",
       "      <th>1</th>\n",
       "      <td>9,10,11,9,11,12,9,11</td>\n",
       "      <td>NaN</td>\n",
       "    </tr>\n",
       "    <tr>\n",
       "      <th>2</th>\n",
       "      <td>16,17,18,19,20,21</td>\n",
       "      <td>NaN</td>\n",
       "    </tr>\n",
       "    <tr>\n",
       "      <th>3</th>\n",
       "      <td>24,25,26,27,24</td>\n",
       "      <td>NaN</td>\n",
       "    </tr>\n",
       "    <tr>\n",
       "      <th>4</th>\n",
       "      <td>34,35,36,34,37,35,36,37,38,39,38,39</td>\n",
       "      <td>NaN</td>\n",
       "    </tr>\n",
       "  </tbody>\n",
       "</table>\n",
       "</div>"
      ],
      "text/plain": [
       "                                  Seen Bought\n",
       "0                          0,1,2,3,4,5    NaN\n",
       "1                 9,10,11,9,11,12,9,11    NaN\n",
       "2                    16,17,18,19,20,21    NaN\n",
       "3                       24,25,26,27,24    NaN\n",
       "4  34,35,36,34,37,35,36,37,38,39,38,39    NaN"
      ]
     },
     "execution_count": 5,
     "metadata": {},
     "output_type": "execute_result"
    }
   ],
   "source": [
    "train.head()"
   ]
  },
  {
   "cell_type": "markdown",
   "metadata": {},
   "source": [
    "\n",
    "Важно:\n",
    "\n",
    "Сессии, в которых пользователь ничего не купил, исключаем из оценки качества.\n",
    "Если товар не встречался в обучающей выборке, его популярность равна 0.\n",
    "Рекомендуем разные товары. И их число должно быть не больше, чем количество различных просмотренных пользователем товаров.\n",
    "Рекомендаций всегда не больше, чем минимум из двух чисел: количество просмотренных пользователем товаров и k в recall@k / precision@k."
   ]
  },
  {
   "cell_type": "code",
   "execution_count": 12,
   "metadata": {
    "ExecuteTime": {
     "end_time": "2018-01-12T11:17:03.695294Z",
     "start_time": "2018-01-12T11:17:03.671560Z"
    }
   },
   "outputs": [],
   "source": [
    "train.dropna(inplace=True)"
   ]
  },
  {
   "cell_type": "markdown",
   "metadata": {},
   "source": [
    "## Задание\n",
    "\n",
    "1. На обучении постройте частоты появления id в просмотренных и в купленных (id может несколько раз появляться в просмотренных, все появления надо учитывать)\n",
    "2. Реализуйте два алгоритма рекомендаций:\n",
    "    - сортировка просмотренных id по популярности (частота появления в просмотренных),\n",
    "    - сортировка просмотренных id по покупаемости (частота появления в покупках).\n",
    "3. Для данных алгоритмов выпишите через пробел AverageRecall@1, AveragePrecision@1, AverageRecall@5, AveragePrecision@5 на обучающей и тестовых выборках, округляя до 2 знака после запятой. Это будут ваши ответы в этом задании. Посмотрите, как они соотносятся друг с другом. Где качество получилось выше? Значимо ли это различие? Обратите внимание на различие качества на обучающей и тестовой выборке в случае рекомендаций по частотам покупки.\n",
    "\n",
    "Если частота одинаковая, то сортировать нужно по возрастанию момента просмотра (чем раньше появился в просмотренных, тем больше приоритет)"
   ]
  },
  {
   "cell_type": "code",
   "execution_count": 6,
   "metadata": {
    "ExecuteTime": {
     "end_time": "2018-01-12T14:43:55.619190Z",
     "start_time": "2018-01-12T14:43:55.571456Z"
    }
   },
   "outputs": [],
   "source": [
    "seen_frequences = pd.Series(','.join(train.Seen.values).split(',')).value_counts()\n",
    "bought_frequences = pd.Series(','.join(train.Bought.dropna().values).split(',')).value_counts()"
   ]
  },
  {
   "cell_type": "code",
   "execution_count": 13,
   "metadata": {
    "ExecuteTime": {
     "end_time": "2018-01-12T13:00:05.459631Z",
     "start_time": "2018-01-12T13:00:02.907669Z"
    }
   },
   "outputs": [
    {
     "data": {
      "text/html": [
       "<div>\n",
       "<style scoped>\n",
       "    .dataframe tbody tr th:only-of-type {\n",
       "        vertical-align: middle;\n",
       "    }\n",
       "\n",
       "    .dataframe tbody tr th {\n",
       "        vertical-align: top;\n",
       "    }\n",
       "\n",
       "    .dataframe thead th {\n",
       "        text-align: right;\n",
       "    }\n",
       "</style>\n",
       "<table border=\"1\" class=\"dataframe\">\n",
       "  <thead>\n",
       "    <tr style=\"text-align: right;\">\n",
       "      <th></th>\n",
       "      <th>Seen</th>\n",
       "      <th>Bought</th>\n",
       "      <th>seen_arr</th>\n",
       "    </tr>\n",
       "  </thead>\n",
       "  <tbody>\n",
       "    <tr>\n",
       "      <th>7</th>\n",
       "      <td>59,60,61,62,60,63,64,65,66,61,67,68,67</td>\n",
       "      <td>67,60,63</td>\n",
       "      <td>[63, 64, 68, 67, 66, 65, 61, 60, 62, 59]</td>\n",
       "    </tr>\n",
       "    <tr>\n",
       "      <th>10</th>\n",
       "      <td>84,85,86,87,88,89,84,90,91,92,93,86</td>\n",
       "      <td>86</td>\n",
       "      <td>[85, 93, 89, 90, 92, 84, 86, 87, 91, 88]</td>\n",
       "    </tr>\n",
       "    <tr>\n",
       "      <th>19</th>\n",
       "      <td>138,198,199,127</td>\n",
       "      <td>199</td>\n",
       "      <td>[127, 138, 198, 199]</td>\n",
       "    </tr>\n",
       "    <tr>\n",
       "      <th>30</th>\n",
       "      <td>303,304,305,306,307,308,309,310,311,312</td>\n",
       "      <td>303</td>\n",
       "      <td>[303, 306, 310, 309, 307, 304, 312, 311, 308, ...</td>\n",
       "    </tr>\n",
       "    <tr>\n",
       "      <th>33</th>\n",
       "      <td>352,353,352</td>\n",
       "      <td>352</td>\n",
       "      <td>[352, 353]</td>\n",
       "    </tr>\n",
       "  </tbody>\n",
       "</table>\n",
       "</div>"
      ],
      "text/plain": [
       "                                       Seen    Bought  \\\n",
       "7    59,60,61,62,60,63,64,65,66,61,67,68,67  67,60,63   \n",
       "10      84,85,86,87,88,89,84,90,91,92,93,86        86   \n",
       "19                          138,198,199,127       199   \n",
       "30  303,304,305,306,307,308,309,310,311,312       303   \n",
       "33                              352,353,352       352   \n",
       "\n",
       "                                             seen_arr  \n",
       "7            [63, 64, 68, 67, 66, 65, 61, 60, 62, 59]  \n",
       "10           [85, 93, 89, 90, 92, 84, 86, 87, 91, 88]  \n",
       "19                               [127, 138, 198, 199]  \n",
       "30  [303, 306, 310, 309, 307, 304, 312, 311, 308, ...  \n",
       "33                                         [352, 353]  "
      ]
     },
     "execution_count": 13,
     "metadata": {},
     "output_type": "execute_result"
    }
   ],
   "source": [
    "train['seen_arr'] = train.apply(lambda x: list(seen_frequences[pd.unique(x.Seen.split(','))].sort_values(ascending=False, kind='mergesort').index), axis=1)\n",
    "train.head()"
   ]
  },
  {
   "cell_type": "code",
   "execution_count": 14,
   "metadata": {
    "ExecuteTime": {
     "end_time": "2018-01-12T14:08:08.305306Z",
     "start_time": "2018-01-12T14:07:51.876813Z"
    },
    "collapsed": true
   },
   "outputs": [
    {
     "data": {
      "text/html": [
       "<div>\n",
       "<style scoped>\n",
       "    .dataframe tbody tr th:only-of-type {\n",
       "        vertical-align: middle;\n",
       "    }\n",
       "\n",
       "    .dataframe tbody tr th {\n",
       "        vertical-align: top;\n",
       "    }\n",
       "\n",
       "    .dataframe thead th {\n",
       "        text-align: right;\n",
       "    }\n",
       "</style>\n",
       "<table border=\"1\" class=\"dataframe\">\n",
       "  <thead>\n",
       "    <tr style=\"text-align: right;\">\n",
       "      <th></th>\n",
       "      <th>Seen</th>\n",
       "      <th>Bought</th>\n",
       "      <th>seen_arr</th>\n",
       "      <th>Recall_1</th>\n",
       "      <th>Precision_1</th>\n",
       "      <th>Recall_5</th>\n",
       "      <th>Precision_5</th>\n",
       "    </tr>\n",
       "  </thead>\n",
       "  <tbody>\n",
       "    <tr>\n",
       "      <th>7</th>\n",
       "      <td>59,60,61,62,60,63,64,65,66,61,67,68,67</td>\n",
       "      <td>67,60,63</td>\n",
       "      <td>[63, 64, 68, 67, 66, 65, 61, 60, 62, 59]</td>\n",
       "      <td>0.333333</td>\n",
       "      <td>1.0</td>\n",
       "      <td>0.666667</td>\n",
       "      <td>0.4</td>\n",
       "    </tr>\n",
       "    <tr>\n",
       "      <th>10</th>\n",
       "      <td>84,85,86,87,88,89,84,90,91,92,93,86</td>\n",
       "      <td>86</td>\n",
       "      <td>[85, 93, 89, 90, 92, 84, 86, 87, 91, 88]</td>\n",
       "      <td>0.000000</td>\n",
       "      <td>0.0</td>\n",
       "      <td>0.000000</td>\n",
       "      <td>0.0</td>\n",
       "    </tr>\n",
       "    <tr>\n",
       "      <th>19</th>\n",
       "      <td>138,198,199,127</td>\n",
       "      <td>199</td>\n",
       "      <td>[127, 138, 198, 199]</td>\n",
       "      <td>0.000000</td>\n",
       "      <td>0.0</td>\n",
       "      <td>1.000000</td>\n",
       "      <td>0.2</td>\n",
       "    </tr>\n",
       "    <tr>\n",
       "      <th>30</th>\n",
       "      <td>303,304,305,306,307,308,309,310,311,312</td>\n",
       "      <td>303</td>\n",
       "      <td>[303, 306, 310, 309, 307, 304, 312, 311, 308, ...</td>\n",
       "      <td>1.000000</td>\n",
       "      <td>1.0</td>\n",
       "      <td>1.000000</td>\n",
       "      <td>0.2</td>\n",
       "    </tr>\n",
       "    <tr>\n",
       "      <th>33</th>\n",
       "      <td>352,353,352</td>\n",
       "      <td>352</td>\n",
       "      <td>[352, 353]</td>\n",
       "      <td>1.000000</td>\n",
       "      <td>1.0</td>\n",
       "      <td>1.000000</td>\n",
       "      <td>0.2</td>\n",
       "    </tr>\n",
       "  </tbody>\n",
       "</table>\n",
       "</div>"
      ],
      "text/plain": [
       "                                       Seen    Bought  \\\n",
       "7    59,60,61,62,60,63,64,65,66,61,67,68,67  67,60,63   \n",
       "10      84,85,86,87,88,89,84,90,91,92,93,86        86   \n",
       "19                          138,198,199,127       199   \n",
       "30  303,304,305,306,307,308,309,310,311,312       303   \n",
       "33                              352,353,352       352   \n",
       "\n",
       "                                             seen_arr  Recall_1  Precision_1  \\\n",
       "7            [63, 64, 68, 67, 66, 65, 61, 60, 62, 59]  0.333333          1.0   \n",
       "10           [85, 93, 89, 90, 92, 84, 86, 87, 91, 88]  0.000000          0.0   \n",
       "19                               [127, 138, 198, 199]  0.000000          0.0   \n",
       "30  [303, 306, 310, 309, 307, 304, 312, 311, 308, ...  1.000000          1.0   \n",
       "33                                         [352, 353]  1.000000          1.0   \n",
       "\n",
       "    Recall_5  Precision_5  \n",
       "7   0.666667          0.4  \n",
       "10  0.000000          0.0  \n",
       "19  1.000000          0.2  \n",
       "30  1.000000          0.2  \n",
       "33  1.000000          0.2  "
      ]
     },
     "execution_count": 14,
     "metadata": {},
     "output_type": "execute_result"
    }
   ],
   "source": [
    "train['Recall_1'] = train.apply(lambda x: len(seen_frequences[pd.unique(x.Seen.split(','))].sort_values(ascending=False, kind='mergesort')[:1].reindex(x.Bought.split(',')).dropna())/len(x.Bought.split(',')), axis=1)\n",
    "train['Precision_1'] = train.apply(lambda x: len(seen_frequences[pd.unique(x.Seen.split(','))].sort_values(ascending=False, kind='mergesort')[:1].reindex(x.Bought.split(',')).dropna())/1, axis=1)\n",
    "train['Recall_5'] = train.apply(lambda x: len(seen_frequences[pd.unique(x.Seen.split(','))].sort_values(ascending=False, kind='mergesort')[:5].reindex(x.Bought.split(',')).dropna())/len(x.Bought.split(',')), axis=1)\n",
    "train['Precision_5'] = train.apply(lambda x: len(seen_frequences[pd.unique(x.Seen.split(','))].sort_values(ascending=False, kind='mergesort')[:5].reindex(x.Bought.split(',')).dropna())/5, axis=1)\n",
    "train.head()"
   ]
  },
  {
   "cell_type": "code",
   "execution_count": 15,
   "metadata": {
    "ExecuteTime": {
     "end_time": "2018-01-12T15:12:36.159863Z",
     "start_time": "2018-01-12T15:12:33.177583Z"
    }
   },
   "outputs": [],
   "source": [
    "train['bought_arr'] = train.apply(lambda x: list(bought_frequences[pd.unique(x.Seen.split(','))].fillna(0).sort_values(ascending=False, kind='mergesort').index), axis=1)"
   ]
  },
  {
   "cell_type": "code",
   "execution_count": 16,
   "metadata": {
    "ExecuteTime": {
     "end_time": "2018-01-12T15:46:18.181551Z",
     "start_time": "2018-01-12T15:46:18.068042Z"
    },
    "collapsed": true
   },
   "outputs": [
    {
     "data": {
      "text/html": [
       "<div>\n",
       "<style scoped>\n",
       "    .dataframe tbody tr th:only-of-type {\n",
       "        vertical-align: middle;\n",
       "    }\n",
       "\n",
       "    .dataframe tbody tr th {\n",
       "        vertical-align: top;\n",
       "    }\n",
       "\n",
       "    .dataframe thead th {\n",
       "        text-align: right;\n",
       "    }\n",
       "</style>\n",
       "<table border=\"1\" class=\"dataframe\">\n",
       "  <thead>\n",
       "    <tr style=\"text-align: right;\">\n",
       "      <th></th>\n",
       "      <th>Seen</th>\n",
       "      <th>Bought</th>\n",
       "      <th>seen_arr</th>\n",
       "      <th>Recall_1</th>\n",
       "      <th>Recall_5</th>\n",
       "      <th>bought_arr</th>\n",
       "    </tr>\n",
       "  </thead>\n",
       "  <tbody>\n",
       "    <tr>\n",
       "      <th>7</th>\n",
       "      <td>59,60,61,62,60,63,64,65,66,61,67,68,67</td>\n",
       "      <td>67,60,63</td>\n",
       "      <td>[63, 64, 68, 67, 66, 65, 61, 60, 62, 59]</td>\n",
       "      <td>0.333333</td>\n",
       "      <td>0.666667</td>\n",
       "      <td>[67, 63, 60, 68, 66, 65, 64, 62, 61, 59]</td>\n",
       "    </tr>\n",
       "    <tr>\n",
       "      <th>10</th>\n",
       "      <td>84,85,86,87,88,89,84,90,91,92,93,86</td>\n",
       "      <td>86</td>\n",
       "      <td>[85, 93, 89, 90, 92, 84, 86, 87, 91, 88]</td>\n",
       "      <td>0.000000</td>\n",
       "      <td>0.000000</td>\n",
       "      <td>[86, 93, 85, 92, 91, 90, 89, 88, 87, 84]</td>\n",
       "    </tr>\n",
       "    <tr>\n",
       "      <th>19</th>\n",
       "      <td>138,198,199,127</td>\n",
       "      <td>199</td>\n",
       "      <td>[127, 138, 198, 199]</td>\n",
       "      <td>0.000000</td>\n",
       "      <td>1.000000</td>\n",
       "      <td>[127, 199, 138, 198]</td>\n",
       "    </tr>\n",
       "    <tr>\n",
       "      <th>30</th>\n",
       "      <td>303,304,305,306,307,308,309,310,311,312</td>\n",
       "      <td>303</td>\n",
       "      <td>[303, 306, 310, 309, 307, 304, 312, 311, 308, ...</td>\n",
       "      <td>1.000000</td>\n",
       "      <td>1.000000</td>\n",
       "      <td>[303, 312, 311, 310, 309, 308, 307, 306, 305, ...</td>\n",
       "    </tr>\n",
       "    <tr>\n",
       "      <th>33</th>\n",
       "      <td>352,353,352</td>\n",
       "      <td>352</td>\n",
       "      <td>[352, 353]</td>\n",
       "      <td>1.000000</td>\n",
       "      <td>1.000000</td>\n",
       "      <td>[352, 353]</td>\n",
       "    </tr>\n",
       "  </tbody>\n",
       "</table>\n",
       "</div>"
      ],
      "text/plain": [
       "                                       Seen    Bought  \\\n",
       "7    59,60,61,62,60,63,64,65,66,61,67,68,67  67,60,63   \n",
       "10      84,85,86,87,88,89,84,90,91,92,93,86        86   \n",
       "19                          138,198,199,127       199   \n",
       "30  303,304,305,306,307,308,309,310,311,312       303   \n",
       "33                              352,353,352       352   \n",
       "\n",
       "                                             seen_arr  Recall_1  Recall_5  \\\n",
       "7            [63, 64, 68, 67, 66, 65, 61, 60, 62, 59]  0.333333  0.666667   \n",
       "10           [85, 93, 89, 90, 92, 84, 86, 87, 91, 88]  0.000000  0.000000   \n",
       "19                               [127, 138, 198, 199]  0.000000  1.000000   \n",
       "30  [303, 306, 310, 309, 307, 304, 312, 311, 308, ...  1.000000  1.000000   \n",
       "33                                         [352, 353]  1.000000  1.000000   \n",
       "\n",
       "                                           bought_arr  \n",
       "7            [67, 63, 60, 68, 66, 65, 64, 62, 61, 59]  \n",
       "10           [86, 93, 85, 92, 91, 90, 89, 88, 87, 84]  \n",
       "19                               [127, 199, 138, 198]  \n",
       "30  [303, 312, 311, 310, 309, 308, 307, 306, 305, ...  \n",
       "33                                         [352, 353]  "
      ]
     },
     "execution_count": 16,
     "metadata": {},
     "output_type": "execute_result"
    }
   ],
   "source": [
    "train.drop(['Precision_5', 'Precision_1'], axis=1).head()"
   ]
  },
  {
   "cell_type": "code",
   "execution_count": 17,
   "metadata": {
    "ExecuteTime": {
     "end_time": "2018-01-12T17:01:34.573637Z",
     "start_time": "2018-01-12T17:01:06.427805Z"
    },
    "collapsed": true
   },
   "outputs": [
    {
     "data": {
      "text/html": [
       "<div>\n",
       "<style scoped>\n",
       "    .dataframe tbody tr th:only-of-type {\n",
       "        vertical-align: middle;\n",
       "    }\n",
       "\n",
       "    .dataframe tbody tr th {\n",
       "        vertical-align: top;\n",
       "    }\n",
       "\n",
       "    .dataframe thead th {\n",
       "        text-align: right;\n",
       "    }\n",
       "</style>\n",
       "<table border=\"1\" class=\"dataframe\">\n",
       "  <thead>\n",
       "    <tr style=\"text-align: right;\">\n",
       "      <th></th>\n",
       "      <th>Seen</th>\n",
       "      <th>Bought</th>\n",
       "      <th>seen_arr</th>\n",
       "      <th>Recall_1</th>\n",
       "      <th>Precision_1</th>\n",
       "      <th>Recall_5</th>\n",
       "      <th>Precision_5</th>\n",
       "      <th>bought_arr</th>\n",
       "      <th>b_Recall_1</th>\n",
       "      <th>b_Precision_1</th>\n",
       "      <th>b_Recall_5</th>\n",
       "      <th>b_Precision_5</th>\n",
       "    </tr>\n",
       "  </thead>\n",
       "  <tbody>\n",
       "    <tr>\n",
       "      <th>7</th>\n",
       "      <td>59,60,61,62,60,63,64,65,66,61,67,68,67</td>\n",
       "      <td>67,60,63</td>\n",
       "      <td>[63, 64, 68, 67, 66, 65, 61, 60, 62, 59]</td>\n",
       "      <td>0.333333</td>\n",
       "      <td>1.0</td>\n",
       "      <td>0.666667</td>\n",
       "      <td>0.4</td>\n",
       "      <td>[67, 63, 60, 68, 66, 65, 64, 62, 61, 59]</td>\n",
       "      <td>0.333333</td>\n",
       "      <td>1.0</td>\n",
       "      <td>1.0</td>\n",
       "      <td>0.6</td>\n",
       "    </tr>\n",
       "    <tr>\n",
       "      <th>10</th>\n",
       "      <td>84,85,86,87,88,89,84,90,91,92,93,86</td>\n",
       "      <td>86</td>\n",
       "      <td>[85, 93, 89, 90, 92, 84, 86, 87, 91, 88]</td>\n",
       "      <td>0.000000</td>\n",
       "      <td>0.0</td>\n",
       "      <td>0.000000</td>\n",
       "      <td>0.0</td>\n",
       "      <td>[86, 93, 85, 92, 91, 90, 89, 88, 87, 84]</td>\n",
       "      <td>1.000000</td>\n",
       "      <td>1.0</td>\n",
       "      <td>1.0</td>\n",
       "      <td>0.2</td>\n",
       "    </tr>\n",
       "    <tr>\n",
       "      <th>19</th>\n",
       "      <td>138,198,199,127</td>\n",
       "      <td>199</td>\n",
       "      <td>[127, 138, 198, 199]</td>\n",
       "      <td>0.000000</td>\n",
       "      <td>0.0</td>\n",
       "      <td>1.000000</td>\n",
       "      <td>0.2</td>\n",
       "      <td>[127, 199, 138, 198]</td>\n",
       "      <td>0.000000</td>\n",
       "      <td>0.0</td>\n",
       "      <td>1.0</td>\n",
       "      <td>0.2</td>\n",
       "    </tr>\n",
       "    <tr>\n",
       "      <th>30</th>\n",
       "      <td>303,304,305,306,307,308,309,310,311,312</td>\n",
       "      <td>303</td>\n",
       "      <td>[303, 306, 310, 309, 307, 304, 312, 311, 308, ...</td>\n",
       "      <td>1.000000</td>\n",
       "      <td>1.0</td>\n",
       "      <td>1.000000</td>\n",
       "      <td>0.2</td>\n",
       "      <td>[303, 312, 311, 310, 309, 308, 307, 306, 305, ...</td>\n",
       "      <td>1.000000</td>\n",
       "      <td>1.0</td>\n",
       "      <td>1.0</td>\n",
       "      <td>0.2</td>\n",
       "    </tr>\n",
       "    <tr>\n",
       "      <th>33</th>\n",
       "      <td>352,353,352</td>\n",
       "      <td>352</td>\n",
       "      <td>[352, 353]</td>\n",
       "      <td>1.000000</td>\n",
       "      <td>1.0</td>\n",
       "      <td>1.000000</td>\n",
       "      <td>0.2</td>\n",
       "      <td>[352, 353]</td>\n",
       "      <td>1.000000</td>\n",
       "      <td>1.0</td>\n",
       "      <td>1.0</td>\n",
       "      <td>0.2</td>\n",
       "    </tr>\n",
       "  </tbody>\n",
       "</table>\n",
       "</div>"
      ],
      "text/plain": [
       "                                       Seen    Bought  \\\n",
       "7    59,60,61,62,60,63,64,65,66,61,67,68,67  67,60,63   \n",
       "10      84,85,86,87,88,89,84,90,91,92,93,86        86   \n",
       "19                          138,198,199,127       199   \n",
       "30  303,304,305,306,307,308,309,310,311,312       303   \n",
       "33                              352,353,352       352   \n",
       "\n",
       "                                             seen_arr  Recall_1  Precision_1  \\\n",
       "7            [63, 64, 68, 67, 66, 65, 61, 60, 62, 59]  0.333333          1.0   \n",
       "10           [85, 93, 89, 90, 92, 84, 86, 87, 91, 88]  0.000000          0.0   \n",
       "19                               [127, 138, 198, 199]  0.000000          0.0   \n",
       "30  [303, 306, 310, 309, 307, 304, 312, 311, 308, ...  1.000000          1.0   \n",
       "33                                         [352, 353]  1.000000          1.0   \n",
       "\n",
       "    Recall_5  Precision_5                                         bought_arr  \\\n",
       "7   0.666667          0.4           [67, 63, 60, 68, 66, 65, 64, 62, 61, 59]   \n",
       "10  0.000000          0.0           [86, 93, 85, 92, 91, 90, 89, 88, 87, 84]   \n",
       "19  1.000000          0.2                               [127, 199, 138, 198]   \n",
       "30  1.000000          0.2  [303, 312, 311, 310, 309, 308, 307, 306, 305, ...   \n",
       "33  1.000000          0.2                                         [352, 353]   \n",
       "\n",
       "    b_Recall_1  b_Precision_1  b_Recall_5  b_Precision_5  \n",
       "7     0.333333            1.0         1.0            0.6  \n",
       "10    1.000000            1.0         1.0            0.2  \n",
       "19    0.000000            0.0         1.0            0.2  \n",
       "30    1.000000            1.0         1.0            0.2  \n",
       "33    1.000000            1.0         1.0            0.2  "
      ]
     },
     "execution_count": 17,
     "metadata": {},
     "output_type": "execute_result"
    }
   ],
   "source": [
    "train['b_Recall_1'] = train.apply(lambda x: len(pd.DataFrame(bought_frequences[pd.unique(x.Seen.split(','))].fillna(0)).sort_values(by=0, ascending=False, kind='mergesort')[:1].reindex(x.Bought.split(',')).dropna())/len(x.Bought.split(',')), axis=1)\n",
    "train['b_Precision_1'] = train.apply(lambda x: len(pd.DataFrame(bought_frequences[pd.unique(x.Seen.split(','))].fillna(0)).sort_values(by=0, ascending=False, kind='mergesort')[:1].reindex(x.Bought.split(',')).dropna())/1, axis=1)\n",
    "train['b_Recall_5'] = train.apply(lambda x: len(pd.DataFrame(bought_frequences[pd.unique(x.Seen.split(','))].fillna(0)).sort_values(by=0, ascending=False, kind='mergesort')[:5].reindex(x.Bought.split(',')).dropna())/len(x.Bought.split(',')), axis=1)\n",
    "train['b_Precision_5'] = train.apply(lambda x: len(pd.DataFrame(bought_frequences[pd.unique(x.Seen.split(','))].fillna(0)).sort_values(by=0, ascending=False, kind='mergesort')[:5].reindex(x.Bought.split(',')).dropna())/5, axis=1)\n",
    "train.head()"
   ]
  },
  {
   "cell_type": "code",
   "execution_count": 274,
   "metadata": {
    "ExecuteTime": {
     "end_time": "2018-01-12T17:01:40.016632Z",
     "start_time": "2018-01-12T17:01:39.981040Z"
    }
   },
   "outputs": [
    {
     "data": {
      "text/html": [
       "<div>\n",
       "<style scoped>\n",
       "    .dataframe tbody tr th:only-of-type {\n",
       "        vertical-align: middle;\n",
       "    }\n",
       "\n",
       "    .dataframe tbody tr th {\n",
       "        vertical-align: top;\n",
       "    }\n",
       "\n",
       "    .dataframe thead th {\n",
       "        text-align: right;\n",
       "    }\n",
       "</style>\n",
       "<table border=\"1\" class=\"dataframe\">\n",
       "  <thead>\n",
       "    <tr style=\"text-align: right;\">\n",
       "      <th></th>\n",
       "      <th>Precision_5</th>\n",
       "      <th>Precision_1</th>\n",
       "      <th>Recall_5</th>\n",
       "      <th>Recall_1</th>\n",
       "      <th>b_Recall_1</th>\n",
       "      <th>b_Precision_1</th>\n",
       "      <th>b_Recall_5</th>\n",
       "      <th>b_Precision_5</th>\n",
       "    </tr>\n",
       "  </thead>\n",
       "  <tbody>\n",
       "    <tr>\n",
       "      <th>count</th>\n",
       "      <td>3608.000000</td>\n",
       "      <td>3608.000000</td>\n",
       "      <td>3608.000000</td>\n",
       "      <td>3608.000000</td>\n",
       "      <td>3608.000000</td>\n",
       "      <td>3608.000000</td>\n",
       "      <td>3608.000000</td>\n",
       "      <td>3608.00000</td>\n",
       "    </tr>\n",
       "    <tr>\n",
       "      <th>mean</th>\n",
       "      <td>0.212084</td>\n",
       "      <td>0.504989</td>\n",
       "      <td>0.823229</td>\n",
       "      <td>0.436872</td>\n",
       "      <td>0.688449</td>\n",
       "      <td>0.803769</td>\n",
       "      <td>0.926307</td>\n",
       "      <td>0.25255</td>\n",
       "    </tr>\n",
       "    <tr>\n",
       "      <th>std</th>\n",
       "      <td>0.115494</td>\n",
       "      <td>0.500044</td>\n",
       "      <td>0.339979</td>\n",
       "      <td>0.469362</td>\n",
       "      <td>0.413695</td>\n",
       "      <td>0.397200</td>\n",
       "      <td>0.214355</td>\n",
       "      <td>0.13734</td>\n",
       "    </tr>\n",
       "    <tr>\n",
       "      <th>min</th>\n",
       "      <td>0.000000</td>\n",
       "      <td>0.000000</td>\n",
       "      <td>0.000000</td>\n",
       "      <td>0.000000</td>\n",
       "      <td>0.000000</td>\n",
       "      <td>0.000000</td>\n",
       "      <td>0.000000</td>\n",
       "      <td>0.00000</td>\n",
       "    </tr>\n",
       "    <tr>\n",
       "      <th>25%</th>\n",
       "      <td>0.200000</td>\n",
       "      <td>0.000000</td>\n",
       "      <td>1.000000</td>\n",
       "      <td>0.000000</td>\n",
       "      <td>0.333333</td>\n",
       "      <td>1.000000</td>\n",
       "      <td>1.000000</td>\n",
       "      <td>0.20000</td>\n",
       "    </tr>\n",
       "    <tr>\n",
       "      <th>50%</th>\n",
       "      <td>0.200000</td>\n",
       "      <td>1.000000</td>\n",
       "      <td>1.000000</td>\n",
       "      <td>0.154762</td>\n",
       "      <td>1.000000</td>\n",
       "      <td>1.000000</td>\n",
       "      <td>1.000000</td>\n",
       "      <td>0.20000</td>\n",
       "    </tr>\n",
       "    <tr>\n",
       "      <th>75%</th>\n",
       "      <td>0.200000</td>\n",
       "      <td>1.000000</td>\n",
       "      <td>1.000000</td>\n",
       "      <td>1.000000</td>\n",
       "      <td>1.000000</td>\n",
       "      <td>1.000000</td>\n",
       "      <td>1.000000</td>\n",
       "      <td>0.20000</td>\n",
       "    </tr>\n",
       "    <tr>\n",
       "      <th>max</th>\n",
       "      <td>1.000000</td>\n",
       "      <td>1.000000</td>\n",
       "      <td>1.000000</td>\n",
       "      <td>1.000000</td>\n",
       "      <td>1.000000</td>\n",
       "      <td>1.000000</td>\n",
       "      <td>1.000000</td>\n",
       "      <td>1.00000</td>\n",
       "    </tr>\n",
       "  </tbody>\n",
       "</table>\n",
       "</div>"
      ],
      "text/plain": [
       "       Precision_5  Precision_1     Recall_5     Recall_1   b_Recall_1  \\\n",
       "count  3608.000000  3608.000000  3608.000000  3608.000000  3608.000000   \n",
       "mean      0.212084     0.504989     0.823229     0.436872     0.688449   \n",
       "std       0.115494     0.500044     0.339979     0.469362     0.413695   \n",
       "min       0.000000     0.000000     0.000000     0.000000     0.000000   \n",
       "25%       0.200000     0.000000     1.000000     0.000000     0.333333   \n",
       "50%       0.200000     1.000000     1.000000     0.154762     1.000000   \n",
       "75%       0.200000     1.000000     1.000000     1.000000     1.000000   \n",
       "max       1.000000     1.000000     1.000000     1.000000     1.000000   \n",
       "\n",
       "       b_Precision_1   b_Recall_5  b_Precision_5  \n",
       "count    3608.000000  3608.000000     3608.00000  \n",
       "mean        0.803769     0.926307        0.25255  \n",
       "std         0.397200     0.214355        0.13734  \n",
       "min         0.000000     0.000000        0.00000  \n",
       "25%         1.000000     1.000000        0.20000  \n",
       "50%         1.000000     1.000000        0.20000  \n",
       "75%         1.000000     1.000000        0.20000  \n",
       "max         1.000000     1.000000        1.00000  "
      ]
     },
     "execution_count": 274,
     "metadata": {},
     "output_type": "execute_result"
    }
   ],
   "source": [
    "train.describe()"
   ]
  },
  {
   "cell_type": "code",
   "execution_count": 18,
   "metadata": {
    "ExecuteTime": {
     "end_time": "2018-01-12T14:19:54.758898Z",
     "start_time": "2018-01-12T14:19:54.727722Z"
    }
   },
   "outputs": [],
   "source": [
    "test.dropna(inplace=True)"
   ]
  },
  {
   "cell_type": "code",
   "execution_count": 20,
   "metadata": {
    "ExecuteTime": {
     "end_time": "2018-01-12T14:48:12.196772Z",
     "start_time": "2018-01-12T14:47:53.156225Z"
    },
    "collapsed": true
   },
   "outputs": [
    {
     "data": {
      "text/html": [
       "<div>\n",
       "<style scoped>\n",
       "    .dataframe tbody tr th:only-of-type {\n",
       "        vertical-align: middle;\n",
       "    }\n",
       "\n",
       "    .dataframe tbody tr th {\n",
       "        vertical-align: top;\n",
       "    }\n",
       "\n",
       "    .dataframe thead th {\n",
       "        text-align: right;\n",
       "    }\n",
       "</style>\n",
       "<table border=\"1\" class=\"dataframe\">\n",
       "  <thead>\n",
       "    <tr style=\"text-align: right;\">\n",
       "      <th></th>\n",
       "      <th>Seen</th>\n",
       "      <th>Bought</th>\n",
       "      <th>Recall_1</th>\n",
       "      <th>Precision_1</th>\n",
       "      <th>Recall_5</th>\n",
       "      <th>Precision_5</th>\n",
       "    </tr>\n",
       "  </thead>\n",
       "  <tbody>\n",
       "    <tr>\n",
       "      <th>7</th>\n",
       "      <td>63,68,69,70,66,61,59,61,66,68</td>\n",
       "      <td>66,63</td>\n",
       "      <td>0.5</td>\n",
       "      <td>1.0</td>\n",
       "      <td>1.0</td>\n",
       "      <td>0.4</td>\n",
       "    </tr>\n",
       "    <tr>\n",
       "      <th>14</th>\n",
       "      <td>158,159,160,159,161,162</td>\n",
       "      <td>162</td>\n",
       "      <td>0.0</td>\n",
       "      <td>0.0</td>\n",
       "      <td>1.0</td>\n",
       "      <td>0.2</td>\n",
       "    </tr>\n",
       "    <tr>\n",
       "      <th>19</th>\n",
       "      <td>200,201,202,203,204</td>\n",
       "      <td>201,205</td>\n",
       "      <td>0.0</td>\n",
       "      <td>0.0</td>\n",
       "      <td>0.5</td>\n",
       "      <td>0.2</td>\n",
       "    </tr>\n",
       "    <tr>\n",
       "      <th>34</th>\n",
       "      <td>371,372,371</td>\n",
       "      <td>371,373</td>\n",
       "      <td>0.5</td>\n",
       "      <td>1.0</td>\n",
       "      <td>0.5</td>\n",
       "      <td>0.2</td>\n",
       "    </tr>\n",
       "    <tr>\n",
       "      <th>40</th>\n",
       "      <td>422</td>\n",
       "      <td>422</td>\n",
       "      <td>1.0</td>\n",
       "      <td>1.0</td>\n",
       "      <td>1.0</td>\n",
       "      <td>0.2</td>\n",
       "    </tr>\n",
       "  </tbody>\n",
       "</table>\n",
       "</div>"
      ],
      "text/plain": [
       "                             Seen   Bought  Recall_1  Precision_1  Recall_5  \\\n",
       "7   63,68,69,70,66,61,59,61,66,68    66,63       0.5          1.0       1.0   \n",
       "14        158,159,160,159,161,162      162       0.0          0.0       1.0   \n",
       "19            200,201,202,203,204  201,205       0.0          0.0       0.5   \n",
       "34                    371,372,371  371,373       0.5          1.0       0.5   \n",
       "40                            422      422       1.0          1.0       1.0   \n",
       "\n",
       "    Precision_5  \n",
       "7           0.4  \n",
       "14          0.2  \n",
       "19          0.2  \n",
       "34          0.2  \n",
       "40          0.2  "
      ]
     },
     "execution_count": 20,
     "metadata": {},
     "output_type": "execute_result"
    }
   ],
   "source": [
    "test['Recall_1'] = test.apply(lambda x: len(seen_frequences[pd.unique(x.Seen.split(','))].fillna(0).sort_values(ascending=False, kind='mergesort')[:1].reindex(x.Bought.split(',')).dropna())/len(x.Bought.split(',')), axis=1)\n",
    "test['Precision_1'] = test.apply(lambda x: len(seen_frequences[pd.unique(x.Seen.split(','))].fillna(0).sort_values(ascending=False, kind='mergesort')[:1].reindex(x.Bought.split(',')).dropna())/1, axis=1)\n",
    "test['Recall_5'] = test.apply(lambda x: len(seen_frequences[pd.unique(x.Seen.split(','))].fillna(0).sort_values(ascending=False, kind='mergesort')[:5].reindex(x.Bought.split(',')).dropna())/len(x.Bought.split(',')), axis=1)\n",
    "test['Precision_5'] = test.apply(lambda x: len(seen_frequences[pd.unique(x.Seen.split(','))].fillna(0).sort_values(ascending=False, kind='mergesort')[:5].reindex(x.Bought.split(',')).dropna())/5, axis=1)\n",
    "test.head()"
   ]
  },
  {
   "cell_type": "code",
   "execution_count": 21,
   "metadata": {
    "ExecuteTime": {
     "end_time": "2018-01-12T17:06:00.502894Z",
     "start_time": "2018-01-12T17:05:31.866183Z"
    }
   },
   "outputs": [
    {
     "data": {
      "text/html": [
       "<div>\n",
       "<style scoped>\n",
       "    .dataframe tbody tr th:only-of-type {\n",
       "        vertical-align: middle;\n",
       "    }\n",
       "\n",
       "    .dataframe tbody tr th {\n",
       "        vertical-align: top;\n",
       "    }\n",
       "\n",
       "    .dataframe thead th {\n",
       "        text-align: right;\n",
       "    }\n",
       "</style>\n",
       "<table border=\"1\" class=\"dataframe\">\n",
       "  <thead>\n",
       "    <tr style=\"text-align: right;\">\n",
       "      <th></th>\n",
       "      <th>Seen</th>\n",
       "      <th>Bought</th>\n",
       "      <th>Recall_1</th>\n",
       "      <th>Precision_1</th>\n",
       "      <th>Recall_5</th>\n",
       "      <th>Precision_5</th>\n",
       "      <th>b_Recall_1</th>\n",
       "      <th>b_Precision_1</th>\n",
       "      <th>b_Recall_5</th>\n",
       "      <th>b_Precision_5</th>\n",
       "    </tr>\n",
       "  </thead>\n",
       "  <tbody>\n",
       "    <tr>\n",
       "      <th>49943</th>\n",
       "      <td>2859,2854,88887,96997,4439,28645,99975,34601,1...</td>\n",
       "      <td>24907,102691,18496,4333</td>\n",
       "      <td>0.0</td>\n",
       "      <td>0.0</td>\n",
       "      <td>0.5</td>\n",
       "      <td>0.4</td>\n",
       "      <td>0.0</td>\n",
       "      <td>0.0</td>\n",
       "      <td>0.25</td>\n",
       "      <td>0.2</td>\n",
       "    </tr>\n",
       "    <tr>\n",
       "      <th>49944</th>\n",
       "      <td>77655,23249,1306,47450,26157,58205,47450,58205...</td>\n",
       "      <td>58205,3111,69482</td>\n",
       "      <td>0.0</td>\n",
       "      <td>0.0</td>\n",
       "      <td>0.0</td>\n",
       "      <td>0.0</td>\n",
       "      <td>0.0</td>\n",
       "      <td>0.0</td>\n",
       "      <td>0.00</td>\n",
       "      <td>0.0</td>\n",
       "    </tr>\n",
       "    <tr>\n",
       "      <th>49945</th>\n",
       "      <td>60538,44430,66252,44430,60538,66251</td>\n",
       "      <td>66252,44430</td>\n",
       "      <td>0.0</td>\n",
       "      <td>0.0</td>\n",
       "      <td>1.0</td>\n",
       "      <td>0.4</td>\n",
       "      <td>0.0</td>\n",
       "      <td>0.0</td>\n",
       "      <td>1.00</td>\n",
       "      <td>0.4</td>\n",
       "    </tr>\n",
       "    <tr>\n",
       "      <th>49946</th>\n",
       "      <td>49815,76363</td>\n",
       "      <td>49815</td>\n",
       "      <td>1.0</td>\n",
       "      <td>1.0</td>\n",
       "      <td>1.0</td>\n",
       "      <td>0.2</td>\n",
       "      <td>1.0</td>\n",
       "      <td>1.0</td>\n",
       "      <td>1.00</td>\n",
       "      <td>0.2</td>\n",
       "    </tr>\n",
       "    <tr>\n",
       "      <th>49985</th>\n",
       "      <td>21841,17711,21841,17711,21841,17711,21841,1771...</td>\n",
       "      <td>21841</td>\n",
       "      <td>0.0</td>\n",
       "      <td>0.0</td>\n",
       "      <td>1.0</td>\n",
       "      <td>0.2</td>\n",
       "      <td>1.0</td>\n",
       "      <td>1.0</td>\n",
       "      <td>1.00</td>\n",
       "      <td>0.2</td>\n",
       "    </tr>\n",
       "  </tbody>\n",
       "</table>\n",
       "</div>"
      ],
      "text/plain": [
       "                                                    Seen  \\\n",
       "49943  2859,2854,88887,96997,4439,28645,99975,34601,1...   \n",
       "49944  77655,23249,1306,47450,26157,58205,47450,58205...   \n",
       "49945                60538,44430,66252,44430,60538,66251   \n",
       "49946                                        49815,76363   \n",
       "49985  21841,17711,21841,17711,21841,17711,21841,1771...   \n",
       "\n",
       "                        Bought  Recall_1  Precision_1  Recall_5  Precision_5  \\\n",
       "49943  24907,102691,18496,4333       0.0          0.0       0.5          0.4   \n",
       "49944         58205,3111,69482       0.0          0.0       0.0          0.0   \n",
       "49945              66252,44430       0.0          0.0       1.0          0.4   \n",
       "49946                    49815       1.0          1.0       1.0          0.2   \n",
       "49985                    21841       0.0          0.0       1.0          0.2   \n",
       "\n",
       "       b_Recall_1  b_Precision_1  b_Recall_5  b_Precision_5  \n",
       "49943         0.0            0.0        0.25            0.2  \n",
       "49944         0.0            0.0        0.00            0.0  \n",
       "49945         0.0            0.0        1.00            0.4  \n",
       "49946         1.0            1.0        1.00            0.2  \n",
       "49985         1.0            1.0        1.00            0.2  "
      ]
     },
     "execution_count": 21,
     "metadata": {},
     "output_type": "execute_result"
    }
   ],
   "source": [
    "test['b_Recall_1'] = test.apply(lambda x: len(pd.DataFrame(bought_frequences[pd.unique(x.Seen.split(','))].fillna(0)).sort_values(by=0, ascending=False, kind='mergesort')[:1].reindex(x.Bought.split(',')).dropna())/len(x.Bought.split(',')), axis=1)\n",
    "test['b_Precision_1'] = test.apply(lambda x: len(pd.DataFrame(bought_frequences[pd.unique(x.Seen.split(','))].fillna(0)).sort_values(by=0, ascending=False, kind='mergesort')[:1].reindex(x.Bought.split(',')).dropna())/1, axis=1)\n",
    "test['b_Recall_5'] = test.apply(lambda x: len(pd.DataFrame(bought_frequences[pd.unique(x.Seen.split(','))].fillna(0)).sort_values(by=0, ascending=False, kind='mergesort')[:5].reindex(x.Bought.split(',')).dropna())/len(x.Bought.split(',')), axis=1)\n",
    "test['b_Precision_5'] = test.apply(lambda x: len(pd.DataFrame(bought_frequences[pd.unique(x.Seen.split(','))].fillna(0)).sort_values(by=0, ascending=False, kind='mergesort')[:5].reindex(x.Bought.split(',')).dropna())/5, axis=1)\n",
    "test.tail()"
   ]
  },
  {
   "cell_type": "code",
   "execution_count": 25,
   "metadata": {
    "ExecuteTime": {
     "end_time": "2018-01-12T17:06:22.904731Z",
     "start_time": "2018-01-12T17:06:22.860163Z"
    }
   },
   "outputs": [
    {
     "data": {
      "text/html": [
       "<div>\n",
       "<style scoped>\n",
       "    .dataframe tbody tr th:only-of-type {\n",
       "        vertical-align: middle;\n",
       "    }\n",
       "\n",
       "    .dataframe tbody tr th {\n",
       "        vertical-align: top;\n",
       "    }\n",
       "\n",
       "    .dataframe thead th {\n",
       "        text-align: right;\n",
       "    }\n",
       "</style>\n",
       "<table border=\"1\" class=\"dataframe\">\n",
       "  <thead>\n",
       "    <tr style=\"text-align: right;\">\n",
       "      <th></th>\n",
       "      <th>Recall_1</th>\n",
       "      <th>Precision_1</th>\n",
       "      <th>Recall_5</th>\n",
       "      <th>Precision_5</th>\n",
       "      <th>b_Recall_1</th>\n",
       "      <th>b_Precision_1</th>\n",
       "      <th>b_Recall_5</th>\n",
       "      <th>b_Precision_5</th>\n",
       "    </tr>\n",
       "  </thead>\n",
       "  <tbody>\n",
       "    <tr>\n",
       "      <th>count</th>\n",
       "      <td>3665.000000</td>\n",
       "      <td>3665.000000</td>\n",
       "      <td>3665.000000</td>\n",
       "      <td>3665.000000</td>\n",
       "      <td>3665.000000</td>\n",
       "      <td>3665.000000</td>\n",
       "      <td>3665.000000</td>\n",
       "      <td>3665.000000</td>\n",
       "    </tr>\n",
       "    <tr>\n",
       "      <th>mean</th>\n",
       "      <td>0.410250</td>\n",
       "      <td>0.473397</td>\n",
       "      <td>0.796578</td>\n",
       "      <td>0.203492</td>\n",
       "      <td>0.460620</td>\n",
       "      <td>0.527694</td>\n",
       "      <td>0.820187</td>\n",
       "      <td>0.210095</td>\n",
       "    </tr>\n",
       "    <tr>\n",
       "      <th>std</th>\n",
       "      <td>0.466512</td>\n",
       "      <td>0.499360</td>\n",
       "      <td>0.363913</td>\n",
       "      <td>0.116391</td>\n",
       "      <td>0.471753</td>\n",
       "      <td>0.499301</td>\n",
       "      <td>0.342072</td>\n",
       "      <td>0.113771</td>\n",
       "    </tr>\n",
       "    <tr>\n",
       "      <th>min</th>\n",
       "      <td>0.000000</td>\n",
       "      <td>0.000000</td>\n",
       "      <td>0.000000</td>\n",
       "      <td>0.000000</td>\n",
       "      <td>0.000000</td>\n",
       "      <td>0.000000</td>\n",
       "      <td>0.000000</td>\n",
       "      <td>0.000000</td>\n",
       "    </tr>\n",
       "    <tr>\n",
       "      <th>25%</th>\n",
       "      <td>0.000000</td>\n",
       "      <td>0.000000</td>\n",
       "      <td>0.666667</td>\n",
       "      <td>0.200000</td>\n",
       "      <td>0.000000</td>\n",
       "      <td>0.000000</td>\n",
       "      <td>1.000000</td>\n",
       "      <td>0.200000</td>\n",
       "    </tr>\n",
       "    <tr>\n",
       "      <th>50%</th>\n",
       "      <td>0.000000</td>\n",
       "      <td>0.000000</td>\n",
       "      <td>1.000000</td>\n",
       "      <td>0.200000</td>\n",
       "      <td>0.333333</td>\n",
       "      <td>1.000000</td>\n",
       "      <td>1.000000</td>\n",
       "      <td>0.200000</td>\n",
       "    </tr>\n",
       "    <tr>\n",
       "      <th>75%</th>\n",
       "      <td>1.000000</td>\n",
       "      <td>1.000000</td>\n",
       "      <td>1.000000</td>\n",
       "      <td>0.200000</td>\n",
       "      <td>1.000000</td>\n",
       "      <td>1.000000</td>\n",
       "      <td>1.000000</td>\n",
       "      <td>0.200000</td>\n",
       "    </tr>\n",
       "    <tr>\n",
       "      <th>max</th>\n",
       "      <td>1.000000</td>\n",
       "      <td>1.000000</td>\n",
       "      <td>1.000000</td>\n",
       "      <td>0.800000</td>\n",
       "      <td>1.000000</td>\n",
       "      <td>1.000000</td>\n",
       "      <td>1.000000</td>\n",
       "      <td>0.800000</td>\n",
       "    </tr>\n",
       "  </tbody>\n",
       "</table>\n",
       "</div>"
      ],
      "text/plain": [
       "          Recall_1  Precision_1     Recall_5  Precision_5   b_Recall_1  \\\n",
       "count  3665.000000  3665.000000  3665.000000  3665.000000  3665.000000   \n",
       "mean      0.410250     0.473397     0.796578     0.203492     0.460620   \n",
       "std       0.466512     0.499360     0.363913     0.116391     0.471753   \n",
       "min       0.000000     0.000000     0.000000     0.000000     0.000000   \n",
       "25%       0.000000     0.000000     0.666667     0.200000     0.000000   \n",
       "50%       0.000000     0.000000     1.000000     0.200000     0.333333   \n",
       "75%       1.000000     1.000000     1.000000     0.200000     1.000000   \n",
       "max       1.000000     1.000000     1.000000     0.800000     1.000000   \n",
       "\n",
       "       b_Precision_1   b_Recall_5  b_Precision_5  \n",
       "count    3665.000000  3665.000000    3665.000000  \n",
       "mean        0.527694     0.820187       0.210095  \n",
       "std         0.499301     0.342072       0.113771  \n",
       "min         0.000000     0.000000       0.000000  \n",
       "25%         0.000000     1.000000       0.200000  \n",
       "50%         1.000000     1.000000       0.200000  \n",
       "75%         1.000000     1.000000       0.200000  \n",
       "max         1.000000     1.000000       0.800000  "
      ]
     },
     "execution_count": 25,
     "metadata": {},
     "output_type": "execute_result"
    }
   ],
   "source": [
    "test.describe()"
   ]
  },
  {
   "cell_type": "code",
   "execution_count": 26,
   "metadata": {},
   "outputs": [],
   "source": [
    "r=test.describe()"
   ]
  },
  {
   "cell_type": "code",
   "execution_count": 67,
   "metadata": {},
   "outputs": [],
   "source": [
    "def write_to_submission_file(answer, out_file):\n",
    "    with open(out_file, 'w') as f:\n",
    "        if isinstance(answer, list):\n",
    "            f.write(' '.join(answer))\n",
    "        else:\n",
    "            f.write(str(answer))\n",
    "        \n",
    "    print('Overwriting {}'.format(out_file))"
   ]
  },
  {
   "cell_type": "markdown",
   "metadata": {},
   "source": [
    "Рекомендации по частоте просмотров товаров - качество на обучающей выборке:"
   ]
  },
  {
   "cell_type": "code",
   "execution_count": 63,
   "metadata": {},
   "outputs": [
    {
     "name": "stdout",
     "output_type": "stream",
     "text": [
      "Overwriting \"PA_answer1.txt\"\n",
      "Recall_1       0.436872\n",
      "Precision_1    0.504989\n",
      "Recall_5       0.823229\n",
      "Precision_5    0.212084\n",
      "dtype: float64\n"
     ]
    }
   ],
   "source": [
    "ans1 = train[['Recall_1','Precision_1','Recall_5', 'Precision_5']].mean()\n",
    "write_to_submission_file(list(map(lambda x: str(round(x,2)), list(ans1))), 'PA_answer1.txt')\n",
    "print(ans1)"
   ]
  },
  {
   "cell_type": "markdown",
   "metadata": {},
   "source": [
    "Рекомендации по частоте просмотров товаров - качество на тестовой выборке:"
   ]
  },
  {
   "cell_type": "code",
   "execution_count": 68,
   "metadata": {},
   "outputs": [
    {
     "name": "stdout",
     "output_type": "stream",
     "text": [
      "Overwriting PA_answer2.txt\n",
      "Recall_1       0.410250\n",
      "Precision_1    0.473397\n",
      "Recall_5       0.796578\n",
      "Precision_5    0.203492\n",
      "dtype: float64\n"
     ]
    }
   ],
   "source": [
    "ans2=test[['Recall_1','Precision_1','Recall_5', 'Precision_5']].mean()\n",
    "write_to_submission_file(list(map(lambda x: str(round(x,2)), list(ans2))), 'PA_answer2.txt')\n",
    "print(ans2)"
   ]
  },
  {
   "cell_type": "markdown",
   "metadata": {},
   "source": [
    "Рекомендации по частоте покупок товаров - качество на обучающей выборке:"
   ]
  },
  {
   "cell_type": "code",
   "execution_count": 69,
   "metadata": {},
   "outputs": [
    {
     "name": "stdout",
     "output_type": "stream",
     "text": [
      "Overwriting PA_answer3.txt\n",
      "b_Recall_1       0.688449\n",
      "b_Precision_1    0.803769\n",
      "b_Recall_5       0.926307\n",
      "b_Precision_5    0.252550\n",
      "dtype: float64\n"
     ]
    }
   ],
   "source": [
    "ans3=train[['b_Recall_1','b_Precision_1','b_Recall_5', 'b_Precision_5']].mean()\n",
    "write_to_submission_file(list(map(lambda x: str(round(x,2)), list(ans3))), 'PA_answer3.txt')\n",
    "print(ans3)"
   ]
  },
  {
   "cell_type": "markdown",
   "metadata": {},
   "source": [
    "Рекомендации по частоте покупок товаров - качество на тестовой выборке:"
   ]
  },
  {
   "cell_type": "code",
   "execution_count": 70,
   "metadata": {},
   "outputs": [
    {
     "name": "stdout",
     "output_type": "stream",
     "text": [
      "Overwriting PA_answer4.txt\n",
      "b_Recall_1       0.460620\n",
      "b_Precision_1    0.527694\n",
      "b_Recall_5       0.820187\n",
      "b_Precision_5    0.210095\n",
      "dtype: float64\n"
     ]
    }
   ],
   "source": [
    "ans4=test[['b_Recall_1','b_Precision_1','b_Recall_5', 'b_Precision_5']].mean()\n",
    "write_to_submission_file(list(map(lambda x: str(round(x,2)), list(ans4))), 'PA_answer4.txt')\n",
    "print(ans4)"
   ]
  }
 ],
 "metadata": {
  "kernelspec": {
   "display_name": "Python 3",
   "language": "python",
   "name": "python3"
  },
  "language_info": {
   "codemirror_mode": {
    "name": "ipython",
    "version": 3
   },
   "file_extension": ".py",
   "mimetype": "text/x-python",
   "name": "python",
   "nbconvert_exporter": "python",
   "pygments_lexer": "ipython3",
   "version": "3.6.3"
  },
  "toc": {
   "nav_menu": {},
   "number_sections": true,
   "sideBar": true,
   "skip_h1_title": false,
   "toc_cell": false,
   "toc_position": {
    "height": "541px",
    "left": "0px",
    "right": "1087px",
    "top": "110px",
    "width": "212px"
   },
   "toc_section_display": "block",
   "toc_window_display": true
  },
  "varInspector": {
   "cols": {
    "lenName": 16,
    "lenType": 16,
    "lenVar": 40
   },
   "kernels_config": {
    "python": {
     "delete_cmd_postfix": "",
     "delete_cmd_prefix": "del ",
     "library": "var_list.py",
     "varRefreshCmd": "print(var_dic_list())"
    },
    "r": {
     "delete_cmd_postfix": ") ",
     "delete_cmd_prefix": "rm(",
     "library": "var_list.r",
     "varRefreshCmd": "cat(var_dic_list()) "
    }
   },
   "position": {
    "height": "286px",
    "left": "929px",
    "right": "20px",
    "top": "120px",
    "width": "339px"
   },
   "types_to_exclude": [
    "module",
    "function",
    "builtin_function_or_method",
    "instance",
    "_Feature"
   ],
   "window_display": true
  }
 },
 "nbformat": 4,
 "nbformat_minor": 2
}
