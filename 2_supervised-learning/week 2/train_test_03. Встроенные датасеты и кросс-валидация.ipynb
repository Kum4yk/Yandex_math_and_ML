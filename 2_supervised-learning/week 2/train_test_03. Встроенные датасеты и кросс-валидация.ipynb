{
 "cells": [
  {
   "cell_type": "markdown",
   "metadata": {},
   "source": [
    "#### 1. Выберите верные утверждения про встроенные датасеты в библиотеке scikit-learn.\n",
    "\n",
    "\n",
    "- Функция, генерирующая датасет \"круги\", называется sklearn.make_circles()\n",
    "\n",
    "\n",
    "- Функция, генерирующая датасет \"круги\", называется sklearn.datasets.make_disks()\n",
    "\n",
    "\n",
    "- Модуль библиотеки sklearn, позволяющий генерировать датасеты называется sklearn.make_datasets\n",
    "\n",
    "\n",
    "- Модуль библиотеки sklearn, позволяющий генерировать датасеты называется sklearn.datasets  \n",
    "(+)"
   ]
  },
  {
   "cell_type": "markdown",
   "metadata": {},
   "source": [
    "#### 2. Какая функция из модуля cross_validation делает стратифицированное разбиение выборки по фолдам?\n",
    "\n",
    "\n",
    "- stratified_train_test_split()\n",
    "\n",
    "\n",
    "- ShuffleSplit()\n",
    "\n",
    "\n",
    "- StratifiedKFold()  \n",
    "(+)\n",
    "\n",
    "\n",
    "- KFold()\n",
    "\n"
   ]
  },
  {
   "cell_type": "markdown",
   "metadata": {},
   "source": [
    "#### 3. Какая функция из модуля cross_validation делает случайное стратифицированное разбиение выборки указанное количество раз?\n",
    "\n",
    "\n",
    "- stratified_train_test_split()\n",
    "\n",
    "\n",
    "- ShuffleSplit()\n",
    "\n",
    "\n",
    "- StratifiedShuffleSplit()  \n",
    "(+)\n",
    "\n"
   ]
  },
  {
   "cell_type": "markdown",
   "metadata": {},
   "source": [
    "#### 4. Что делает функция LeaveOneOut() из модуля cross_validation?\n",
    "\n",
    "\n",
    "- Выкидывает один объект из выборки.\n",
    "\n",
    "\n",
    "- Создает генератор, который выдает 2 массива индексов для выборки — в одном будет $N−1$ индексов, а в другом 1, где N — размер выборки, причем в объединении эти индексы дают все множество $\\{0, \\dots, N-1\\}$  \n",
    "(+)\n",
    "\n",
    "\n",
    "- Создает генератор, который выдает 2 массива индексов для выборки — в обоих будет по $\\frac{N}{2}$ индексов, где $N$ — размер выборки, причем в объединении эти индексы дают все множество $\\{0, \\dots, N-1\\}$\n",
    "\n"
   ]
  }
 ],
 "metadata": {
  "kernelspec": {
   "display_name": "Python 3",
   "language": "python",
   "name": "python3"
  },
  "language_info": {
   "codemirror_mode": {
    "name": "ipython",
    "version": 3
   },
   "file_extension": ".py",
   "mimetype": "text/x-python",
   "name": "python",
   "nbconvert_exporter": "python",
   "pygments_lexer": "ipython3",
   "version": "3.6.8"
  }
 },
 "nbformat": 4,
 "nbformat_minor": 2
}
