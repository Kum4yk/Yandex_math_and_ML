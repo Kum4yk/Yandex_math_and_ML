{
 "cells": [
  {
   "cell_type": "markdown",
   "metadata": {},
   "source": [
    "1. Выберите верное утверждение про подбор параметров по сетке с помощью GridSearchCV.\n",
    "\n",
    " - **Делает полный перебор по сетке параметров, поэтому хорошо использовать, только если объем выборки и размер сетки не слишком велики.**\n",
    "\n",
    "___\n",
    "\n",
    "2. Выберите верное утверждение про подбор параметров по сетке с помощью RandomizedGridCV.\n",
    "\n",
    " - **Делает случайный перебор по сетке параметров, поэтому можно использовать при любом размере сетки и выборки.**\n",
    "\n",
    "___\n",
    "\n",
    "3. Какой из перечисленных параметров нельзя передать в grid_search.GridSearchCV(...) для подбора параметров модели по сетке?\n",
    "\n",
    " - **best_estimator**\n",
    "\n"
   ]
  }
 ],
 "metadata": {
  "kernelspec": {
   "display_name": "Python 3",
   "language": "python",
   "name": "python3"
  },
  "language_info": {
   "codemirror_mode": {
    "name": "ipython",
    "version": 3
   },
   "file_extension": ".py",
   "mimetype": "text/x-python",
   "name": "python",
   "nbconvert_exporter": "python",
   "pygments_lexer": "ipython3",
   "version": "3.6.8"
  }
 },
 "nbformat": 4,
 "nbformat_minor": 2
}
