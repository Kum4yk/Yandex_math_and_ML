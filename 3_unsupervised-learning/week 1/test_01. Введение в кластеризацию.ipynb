{
 "cells": [
  {
   "cell_type": "markdown",
   "metadata": {},
   "source": [
    "**1. Какие задачи из перечисленных относятся к обучению на размеченных данных (supervised learning)?**\n",
    "\n",
    "\n",
    "- Классификация\n",
    "\n",
    "\n",
    "- Регрессия"
   ]
  },
  {
   "cell_type": "markdown",
   "metadata": {},
   "source": [
    "**2. В задаче кластеризации мы пытаемся:**\n",
    "\n",
    "\n",
    "- Сгруппировать похожие объекты (близкие в пространстве признаков) в кластеры, поместив при этом непохожие друг на друга объекты в разные кластеры.\n",
    "\n"
   ]
  },
  {
   "cell_type": "markdown",
   "metadata": {},
   "source": [
    "**3. В методе k средних на каждой итерации:**\n",
    "\n",
    "\n",
    "- Пересчитываются центры кластеров. +\n",
    "\n",
    "\n",
    "- Объекты выборки перераспределяются по кластерам в зависимости от расстояния до центра кластера. +"
   ]
  },
  {
   "cell_type": "markdown",
   "metadata": {},
   "source": [
    "**4. Какие из перечисленных алгоритмов (в изложенной в видеоуроках версии) нуждаются в задании количества кластеров?**\n",
    "\n",
    "\n",
    "- DBSCAN -\n",
    "\n",
    "\n",
    "- k-Means +\n",
    "\n",
    "\n",
    "- EM-алгоритм (в том виде, в котором был рассмотрен на лекции) +\n",
    "\n"
   ]
  }
 ],
 "metadata": {
  "kernelspec": {
   "display_name": "Python 3",
   "language": "python",
   "name": "python3"
  },
  "language_info": {
   "codemirror_mode": {
    "name": "ipython",
    "version": 3
   },
   "file_extension": ".py",
   "mimetype": "text/x-python",
   "name": "python",
   "nbconvert_exporter": "python",
   "pygments_lexer": "ipython3",
   "version": "3.6.8"
  }
 },
 "nbformat": 4,
 "nbformat_minor": 2
}
