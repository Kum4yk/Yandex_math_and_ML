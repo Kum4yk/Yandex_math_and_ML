{
 "cells": [
  {
   "cell_type": "markdown",
   "metadata": {},
   "source": [
    "**Корректность проверена на Python 3.6:**\n",
    "+ gensim 3.4.0"
   ]
  },
  {
   "cell_type": "markdown",
   "metadata": {},
   "source": [
    "# Пример использования библиотеки gensim для тематического моделирования"
   ]
  },
  {
   "cell_type": "markdown",
   "metadata": {},
   "source": [
    "Такая полезная теорема Байеса! :)\n",
    "\n",
    "![comic1](http://imgs.xkcd.com/comics/seashell.png)"
   ]
  },
  {
   "cell_type": "code",
   "execution_count": 2,
   "metadata": {},
   "outputs": [],
   "source": [
    "from gensim import corpora, models"
   ]
  },
  {
   "cell_type": "code",
   "execution_count": 3,
   "metadata": {},
   "outputs": [],
   "source": [
    "# Импортируем данные в формте UCI Bag of Words\n",
    "data = corpora.UciCorpus(\"docword.xkcd.txt\", \"vocab.xkcd.txt\")\n",
    "dictionary = data.create_dictionary()"
   ]
  },
  {
   "cell_type": "code",
   "execution_count": 4,
   "metadata": {},
   "outputs": [
    {
     "name": "stdout",
     "output_type": "stream",
     "text": [
      "CPU times: user 1min 15s, sys: 102 ms, total: 1min 15s\n",
      "Wall time: 36.7 s\n"
     ]
    }
   ],
   "source": [
    "# обучение модель\n",
    "%time ldamodel = models.ldamodel.LdaModel(data, id2word=dictionary, num_topics=5, passes=20, alpha=1.25, eta=1.25)"
   ]
  },
  {
   "cell_type": "code",
   "execution_count": 5,
   "metadata": {},
   "outputs": [],
   "source": [
    "# Сохранение модели\n",
    "ldamodel.save(\"ldamodel_xkcd\")"
   ]
  },
  {
   "cell_type": "code",
   "execution_count": 6,
   "metadata": {},
   "outputs": [],
   "source": [
    "# Загрузка модели\n",
    "ldamodel = models.ldamodel.LdaModel.load(\"ldamodel_xkcd\")"
   ]
  },
  {
   "cell_type": "code",
   "execution_count": 9,
   "metadata": {},
   "outputs": [
    {
     "name": "stdout",
     "output_type": "stream",
     "text": [
      "Topic 0 : 0.004*\"b'guy'\" + 0.002*\"b'wait'\" + 0.002*\"b'one'\" + 0.002*\"b'peter'\" + 0.001*\"b'within'\" + 0.001*\"b'sagal'\" + 0.001*\"b'part'\" + 0.001*\"b'relation'\" + 0.001*\"b'accurate'\" + 0.001*\"b'dont'\"\n",
      "Topic 1 : 0.002*\"b'goggles'\" + 0.001*\"b'nathan'\" + 0.001*\"b'wave'\" + 0.001*\"b'bean'\" + 0.001*\"b'jelly'\" + 0.001*\"b'link'\" + 0.001*\"b'list'\" + 0.001*\"b'acne'\" + 0.001*\"b'found'\" + 0.001*\"b'005'\"\n",
      "Topic 2 : 0.001*\"b'mark'\" + 0.001*\"b'gliese'\" + 0.001*\"b'bag'\" + 0.001*\"b'center'\" + 0.001*\"b'egg'\" + 0.001*\"b'planet'\" + 0.001*\"b'curie'\" + 0.001*\"b'marie'\" + 0.001*\"b'lake'\" + 0.001*\"b'zombie'\"\n",
      "Topic 3 : 0.002*\"b'map'\" + 0.002*\"b'line'\" + 0.001*\"b'island'\" + 0.001*\"b'paul'\" + 0.001*\"b'ron'\" + 0.001*\"b'dot'\" + 0.001*\"b'han'\" + 0.001*\"b'labeled'\" + 0.001*\"b'number'\" + 0.001*\"b'blogs'\"\n",
      "Topic 4 : 0.022*\"b'man'\" + 0.012*\"b'text'\" + 0.011*\"b'person'\" + 0.010*\"b'title'\" + 0.009*\"b'woman'\" + 0.007*\"b'guy'\" + 0.006*\"b'one'\" + 0.006*\"b'girl'\" + 0.005*\"b'just'\" + 0.005*\"b'two'\"\n"
     ]
    }
   ],
   "source": [
    "# выводим топы слов\n",
    "for t, top_words in ldamodel.print_topics(num_topics=10, num_words=10):\n",
    "    print(\"Topic\", t, \":\", top_words)"
   ]
  },
  {
   "cell_type": "code",
   "execution_count": 10,
   "metadata": {},
   "outputs": [
    {
     "name": "stdout",
     "output_type": "stream",
     "text": [
      "348.38679734688264\n"
     ]
    }
   ],
   "source": [
    "# Вычисляем логарифм перплексии и немного преобразуем, чтобы привести к общепринятому виду\n",
    "perplexity = ldamodel.log_perplexity(list(data))\n",
    "print(2**(-perplexity))"
   ]
  },
  {
   "cell_type": "code",
   "execution_count": 11,
   "metadata": {},
   "outputs": [
    {
     "data": {
      "text/plain": [
       "348.3867941372835"
      ]
     },
     "execution_count": 11,
     "metadata": {},
     "output_type": "execute_result"
    }
   ],
   "source": [
    "perp = ldamodel.bound(data)\n",
    "2**(-perp/float(87409))"
   ]
  },
  {
   "cell_type": "code",
   "execution_count": null,
   "metadata": {},
   "outputs": [],
   "source": [
    "# Добавление в модель новых документов, содержащихся в новом корупсе data2\n",
    "ldamodel.update(data2, passes=10)"
   ]
  },
  {
   "cell_type": "code",
   "execution_count": 14,
   "metadata": {},
   "outputs": [
    {
     "data": {
      "text/plain": [
       "[(0, 0.055764973),\n",
       " (1, 0.056286175),\n",
       " (2, 0.056032903),\n",
       " (3, 0.05806509),\n",
       " (4, 0.77385086)]"
      ]
     },
     "execution_count": 14,
     "metadata": {},
     "output_type": "execute_result"
    }
   ],
   "source": [
    "# Получение распределения тем для конкретного документа\n",
    "doc = list(data)[0]\n",
    "ldamodel.get_document_topics(doc)"
   ]
  },
  {
   "cell_type": "markdown",
   "metadata": {},
   "source": [
    "Эти люди не знают про тематические модели:\n",
    "\n",
    "![comic2](http://imgs.xkcd.com/comics/the_problem_with_wikipedia.png) | ![comic3](http://imgs.xkcd.com/comics/mystery_news.png)"
   ]
  }
 ],
 "metadata": {
  "kernelspec": {
   "display_name": "Python 3",
   "language": "python",
   "name": "python3"
  },
  "language_info": {
   "codemirror_mode": {
    "name": "ipython",
    "version": 3
   },
   "file_extension": ".py",
   "mimetype": "text/x-python",
   "name": "python",
   "nbconvert_exporter": "python",
   "pygments_lexer": "ipython3",
   "version": "3.6.8"
  }
 },
 "nbformat": 4,
 "nbformat_minor": 1
}
